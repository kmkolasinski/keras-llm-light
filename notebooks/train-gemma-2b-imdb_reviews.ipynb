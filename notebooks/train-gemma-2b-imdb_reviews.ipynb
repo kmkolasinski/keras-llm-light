{
 "cells": [
  {
   "cell_type": "code",
   "execution_count": 1,
   "metadata": {},
   "outputs": [
    {
     "name": "stdout",
     "output_type": "stream",
     "text": [
      "The autoreload extension is already loaded. To reload it, use:\n",
      "  %reload_ext autoreload\n"
     ]
    }
   ],
   "source": [
    "%load_ext autoreload\n",
    "%autoreload 2"
   ]
  },
  {
   "cell_type": "code",
   "execution_count": 2,
   "metadata": {},
   "outputs": [
    {
     "name": "stderr",
     "output_type": "stream",
     "text": [
      "2024-06-09 16:55:25.185321: I tensorflow/core/util/port.cc:113] oneDNN custom operations are on. You may see slightly different numerical results due to floating-point round-off errors from different computation orders. To turn them off, set the environment variable `TF_ENABLE_ONEDNN_OPTS=0`.\n",
      "2024-06-09 16:55:25.218293: I tensorflow/core/platform/cpu_feature_guard.cc:210] This TensorFlow binary is optimized to use available CPU instructions in performance-critical operations.\n",
      "To enable the following instructions: AVX2 AVX512F AVX512_VNNI FMA, in other operations, rebuild TensorFlow with the appropriate compiler flags.\n",
      "2024-06-09 16:55:25.886777: W tensorflow/compiler/tf2tensorrt/utils/py_utils.cc:38] TF-TRT Warning: Could not find TensorRT\n"
     ]
    }
   ],
   "source": [
    "import tensorflow_datasets as tfds\n",
    "import tensorflow as tf\n",
    "import numpy as np\n",
    "import keras"
   ]
  },
  {
   "cell_type": "code",
   "execution_count": 3,
   "metadata": {},
   "outputs": [
    {
     "data": {
      "text/plain": [
       "('2.16.1', '3.3.3')"
      ]
     },
     "execution_count": 3,
     "metadata": {},
     "output_type": "execute_result"
    }
   ],
   "source": [
    "tf.__version__, keras.__version__"
   ]
  },
  {
   "cell_type": "code",
   "execution_count": 4,
   "metadata": {},
   "outputs": [],
   "source": [
    "# This is required to download Gemma model\n",
    "# import kagglehub\n",
    "# kagglehub.login()"
   ]
  },
  {
   "cell_type": "markdown",
   "metadata": {},
   "source": [
    "# Build model"
   ]
  },
  {
   "cell_type": "code",
   "execution_count": 5,
   "metadata": {},
   "outputs": [
    {
     "name": "stderr",
     "output_type": "stream",
     "text": [
      "2024-06-09 16:55:27.834099: I external/local_xla/xla/stream_executor/cuda/cuda_executor.cc:998] successful NUMA node read from SysFS had negative value (-1), but there must be at least one NUMA node, so returning NUMA node zero. See more at https://github.com/torvalds/linux/blob/v6.0/Documentation/ABI/testing/sysfs-bus-pci#L344-L355\n",
      "2024-06-09 16:55:27.860894: I external/local_xla/xla/stream_executor/cuda/cuda_executor.cc:998] successful NUMA node read from SysFS had negative value (-1), but there must be at least one NUMA node, so returning NUMA node zero. See more at https://github.com/torvalds/linux/blob/v6.0/Documentation/ABI/testing/sysfs-bus-pci#L344-L355\n",
      "2024-06-09 16:55:27.861060: I external/local_xla/xla/stream_executor/cuda/cuda_executor.cc:998] successful NUMA node read from SysFS had negative value (-1), but there must be at least one NUMA node, so returning NUMA node zero. See more at https://github.com/torvalds/linux/blob/v6.0/Documentation/ABI/testing/sysfs-bus-pci#L344-L355\n",
      "2024-06-09 16:55:27.862110: I external/local_xla/xla/stream_executor/cuda/cuda_executor.cc:998] successful NUMA node read from SysFS had negative value (-1), but there must be at least one NUMA node, so returning NUMA node zero. See more at https://github.com/torvalds/linux/blob/v6.0/Documentation/ABI/testing/sysfs-bus-pci#L344-L355\n",
      "2024-06-09 16:55:27.862243: I external/local_xla/xla/stream_executor/cuda/cuda_executor.cc:998] successful NUMA node read from SysFS had negative value (-1), but there must be at least one NUMA node, so returning NUMA node zero. See more at https://github.com/torvalds/linux/blob/v6.0/Documentation/ABI/testing/sysfs-bus-pci#L344-L355\n",
      "2024-06-09 16:55:27.862323: I external/local_xla/xla/stream_executor/cuda/cuda_executor.cc:998] successful NUMA node read from SysFS had negative value (-1), but there must be at least one NUMA node, so returning NUMA node zero. See more at https://github.com/torvalds/linux/blob/v6.0/Documentation/ABI/testing/sysfs-bus-pci#L344-L355\n",
      "2024-06-09 16:55:27.911822: I external/local_xla/xla/stream_executor/cuda/cuda_executor.cc:998] successful NUMA node read from SysFS had negative value (-1), but there must be at least one NUMA node, so returning NUMA node zero. See more at https://github.com/torvalds/linux/blob/v6.0/Documentation/ABI/testing/sysfs-bus-pci#L344-L355\n",
      "2024-06-09 16:55:27.911967: I external/local_xla/xla/stream_executor/cuda/cuda_executor.cc:998] successful NUMA node read from SysFS had negative value (-1), but there must be at least one NUMA node, so returning NUMA node zero. See more at https://github.com/torvalds/linux/blob/v6.0/Documentation/ABI/testing/sysfs-bus-pci#L344-L355\n",
      "2024-06-09 16:55:27.912032: W tensorflow/core/common_runtime/gpu/gpu_bfc_allocator.cc:47] Overriding orig_value setting because the TF_FORCE_GPU_ALLOW_GROWTH environment variable is set. Original config value was 0.\n",
      "2024-06-09 16:55:27.912059: I external/local_xla/xla/stream_executor/cuda/cuda_executor.cc:998] successful NUMA node read from SysFS had negative value (-1), but there must be at least one NUMA node, so returning NUMA node zero. See more at https://github.com/torvalds/linux/blob/v6.0/Documentation/ABI/testing/sysfs-bus-pci#L344-L355\n",
      "2024-06-09 16:55:27.912135: I tensorflow/core/common_runtime/gpu/gpu_device.cc:1928] Created device /job:localhost/replica:0/task:0/device:GPU:0 with 5482 MB memory:  -> device: 0, name: NVIDIA RTX A4000 Laptop GPU, pci bus id: 0000:01:00.0, compute capability: 8.6\n"
     ]
    },
    {
     "name": "stdout",
     "output_type": "stream",
     "text": [
      "Building Gemma 2B model on CPU ...\n"
     ]
    },
    {
     "name": "stderr",
     "output_type": "stream",
     "text": [
      "normalizer.cc(51) LOG(INFO) precompiled_charsmap is empty. use identity normalization.\n"
     ]
    },
    {
     "data": {
      "text/html": [
       "<pre style=\"white-space:pre;overflow-x:auto;line-height:normal;font-family:Menlo,'DejaVu Sans Mono',consolas,'Courier New',monospace\"><span style=\"font-weight: bold\">Preprocessor: \"gemma_causal_lm_preprocessor\"</span>\n",
       "</pre>\n"
      ],
      "text/plain": [
       "\u001b[1mPreprocessor: \"gemma_causal_lm_preprocessor\"\u001b[0m\n"
      ]
     },
     "metadata": {},
     "output_type": "display_data"
    },
    {
     "data": {
      "text/html": [
       "<pre style=\"white-space:pre;overflow-x:auto;line-height:normal;font-family:Menlo,'DejaVu Sans Mono',consolas,'Courier New',monospace\">┏━━━━━━━━━━━━━━━━━━━━━━━━━━━━━━━━━━━━━━━━━━━━━━━━━━━━┳━━━━━━━━━━━━━━━━━━━━━━━━━━━━━━━━━━━━━━━━━━━━━━━━━━━━━┓\n",
       "┃<span style=\"font-weight: bold\"> Tokenizer (type)                                   </span>┃<span style=\"font-weight: bold\">                                             Vocab # </span>┃\n",
       "┡━━━━━━━━━━━━━━━━━━━━━━━━━━━━━━━━━━━━━━━━━━━━━━━━━━━━╇━━━━━━━━━━━━━━━━━━━━━━━━━━━━━━━━━━━━━━━━━━━━━━━━━━━━━┩\n",
       "│ gemma_tokenizer (<span style=\"color: #0087ff; text-decoration-color: #0087ff\">GemmaTokenizer</span>)                   │                                             <span style=\"color: #00af00; text-decoration-color: #00af00\">256,000</span> │\n",
       "└────────────────────────────────────────────────────┴─────────────────────────────────────────────────────┘\n",
       "</pre>\n"
      ],
      "text/plain": [
       "┏━━━━━━━━━━━━━━━━━━━━━━━━━━━━━━━━━━━━━━━━━━━━━━━━━━━━┳━━━━━━━━━━━━━━━━━━━━━━━━━━━━━━━━━━━━━━━━━━━━━━━━━━━━━┓\n",
       "┃\u001b[1m \u001b[0m\u001b[1mTokenizer (type)                                  \u001b[0m\u001b[1m \u001b[0m┃\u001b[1m \u001b[0m\u001b[1m                                            Vocab #\u001b[0m\u001b[1m \u001b[0m┃\n",
       "┡━━━━━━━━━━━━━━━━━━━━━━━━━━━━━━━━━━━━━━━━━━━━━━━━━━━━╇━━━━━━━━━━━━━━━━━━━━━━━━━━━━━━━━━━━━━━━━━━━━━━━━━━━━━┩\n",
       "│ gemma_tokenizer (\u001b[38;5;33mGemmaTokenizer\u001b[0m)                   │                                             \u001b[38;5;34m256,000\u001b[0m │\n",
       "└────────────────────────────────────────────────────┴─────────────────────────────────────────────────────┘\n"
      ]
     },
     "metadata": {},
     "output_type": "display_data"
    },
    {
     "data": {
      "text/html": [
       "<pre style=\"white-space:pre;overflow-x:auto;line-height:normal;font-family:Menlo,'DejaVu Sans Mono',consolas,'Courier New',monospace\"><span style=\"font-weight: bold\">Model: \"gemma_causal_lm\"</span>\n",
       "</pre>\n"
      ],
      "text/plain": [
       "\u001b[1mModel: \"gemma_causal_lm\"\u001b[0m\n"
      ]
     },
     "metadata": {},
     "output_type": "display_data"
    },
    {
     "data": {
      "text/html": [
       "<pre style=\"white-space:pre;overflow-x:auto;line-height:normal;font-family:Menlo,'DejaVu Sans Mono',consolas,'Courier New',monospace\">┏━━━━━━━━━━━━━━━━━━━━━━━━━━━━━━━┳━━━━━━━━━━━━━━━━━━━━━━━━━━━┳━━━━━━━━━━━━━━━━━┳━━━━━━━━━━━━━━━━━━━━━━━━━━━━┓\n",
       "┃<span style=\"font-weight: bold\"> Layer (type)                  </span>┃<span style=\"font-weight: bold\"> Output Shape              </span>┃<span style=\"font-weight: bold\">         Param # </span>┃<span style=\"font-weight: bold\"> Connected to               </span>┃\n",
       "┡━━━━━━━━━━━━━━━━━━━━━━━━━━━━━━━╇━━━━━━━━━━━━━━━━━━━━━━━━━━━╇━━━━━━━━━━━━━━━━━╇━━━━━━━━━━━━━━━━━━━━━━━━━━━━┩\n",
       "│ padding_mask (<span style=\"color: #0087ff; text-decoration-color: #0087ff\">InputLayer</span>)     │ (<span style=\"color: #00d7ff; text-decoration-color: #00d7ff\">None</span>, <span style=\"color: #00d7ff; text-decoration-color: #00d7ff\">None</span>)              │               <span style=\"color: #00af00; text-decoration-color: #00af00\">0</span> │ -                          │\n",
       "├───────────────────────────────┼───────────────────────────┼─────────────────┼────────────────────────────┤\n",
       "│ token_ids (<span style=\"color: #0087ff; text-decoration-color: #0087ff\">InputLayer</span>)        │ (<span style=\"color: #00d7ff; text-decoration-color: #00d7ff\">None</span>, <span style=\"color: #00d7ff; text-decoration-color: #00d7ff\">None</span>)              │               <span style=\"color: #00af00; text-decoration-color: #00af00\">0</span> │ -                          │\n",
       "├───────────────────────────────┼───────────────────────────┼─────────────────┼────────────────────────────┤\n",
       "│ gemma_backbone                │ (<span style=\"color: #00d7ff; text-decoration-color: #00d7ff\">None</span>, <span style=\"color: #00d7ff; text-decoration-color: #00d7ff\">None</span>, <span style=\"color: #00af00; text-decoration-color: #00af00\">2048</span>)        │   <span style=\"color: #00af00; text-decoration-color: #00af00\">2,506,172,416</span> │ padding_mask[<span style=\"color: #00af00; text-decoration-color: #00af00\">0</span>][<span style=\"color: #00af00; text-decoration-color: #00af00\">0</span>],        │\n",
       "│ (<span style=\"color: #0087ff; text-decoration-color: #0087ff\">GemmaBackbone</span>)               │                           │                 │ token_ids[<span style=\"color: #00af00; text-decoration-color: #00af00\">0</span>][<span style=\"color: #00af00; text-decoration-color: #00af00\">0</span>]            │\n",
       "├───────────────────────────────┼───────────────────────────┼─────────────────┼────────────────────────────┤\n",
       "│ token_embedding               │ (<span style=\"color: #00d7ff; text-decoration-color: #00d7ff\">None</span>, <span style=\"color: #00d7ff; text-decoration-color: #00d7ff\">None</span>, <span style=\"color: #00af00; text-decoration-color: #00af00\">256000</span>)      │     <span style=\"color: #00af00; text-decoration-color: #00af00\">524,288,000</span> │ gemma_backbone[<span style=\"color: #00af00; text-decoration-color: #00af00\">0</span>][<span style=\"color: #00af00; text-decoration-color: #00af00\">0</span>]       │\n",
       "│ (<span style=\"color: #0087ff; text-decoration-color: #0087ff\">ReversibleEmbedding</span>)         │                           │                 │                            │\n",
       "└───────────────────────────────┴───────────────────────────┴─────────────────┴────────────────────────────┘\n",
       "</pre>\n"
      ],
      "text/plain": [
       "┏━━━━━━━━━━━━━━━━━━━━━━━━━━━━━━━┳━━━━━━━━━━━━━━━━━━━━━━━━━━━┳━━━━━━━━━━━━━━━━━┳━━━━━━━━━━━━━━━━━━━━━━━━━━━━┓\n",
       "┃\u001b[1m \u001b[0m\u001b[1mLayer (type)                 \u001b[0m\u001b[1m \u001b[0m┃\u001b[1m \u001b[0m\u001b[1mOutput Shape             \u001b[0m\u001b[1m \u001b[0m┃\u001b[1m \u001b[0m\u001b[1m        Param #\u001b[0m\u001b[1m \u001b[0m┃\u001b[1m \u001b[0m\u001b[1mConnected to              \u001b[0m\u001b[1m \u001b[0m┃\n",
       "┡━━━━━━━━━━━━━━━━━━━━━━━━━━━━━━━╇━━━━━━━━━━━━━━━━━━━━━━━━━━━╇━━━━━━━━━━━━━━━━━╇━━━━━━━━━━━━━━━━━━━━━━━━━━━━┩\n",
       "│ padding_mask (\u001b[38;5;33mInputLayer\u001b[0m)     │ (\u001b[38;5;45mNone\u001b[0m, \u001b[38;5;45mNone\u001b[0m)              │               \u001b[38;5;34m0\u001b[0m │ -                          │\n",
       "├───────────────────────────────┼───────────────────────────┼─────────────────┼────────────────────────────┤\n",
       "│ token_ids (\u001b[38;5;33mInputLayer\u001b[0m)        │ (\u001b[38;5;45mNone\u001b[0m, \u001b[38;5;45mNone\u001b[0m)              │               \u001b[38;5;34m0\u001b[0m │ -                          │\n",
       "├───────────────────────────────┼───────────────────────────┼─────────────────┼────────────────────────────┤\n",
       "│ gemma_backbone                │ (\u001b[38;5;45mNone\u001b[0m, \u001b[38;5;45mNone\u001b[0m, \u001b[38;5;34m2048\u001b[0m)        │   \u001b[38;5;34m2,506,172,416\u001b[0m │ padding_mask[\u001b[38;5;34m0\u001b[0m][\u001b[38;5;34m0\u001b[0m],        │\n",
       "│ (\u001b[38;5;33mGemmaBackbone\u001b[0m)               │                           │                 │ token_ids[\u001b[38;5;34m0\u001b[0m][\u001b[38;5;34m0\u001b[0m]            │\n",
       "├───────────────────────────────┼───────────────────────────┼─────────────────┼────────────────────────────┤\n",
       "│ token_embedding               │ (\u001b[38;5;45mNone\u001b[0m, \u001b[38;5;45mNone\u001b[0m, \u001b[38;5;34m256000\u001b[0m)      │     \u001b[38;5;34m524,288,000\u001b[0m │ gemma_backbone[\u001b[38;5;34m0\u001b[0m][\u001b[38;5;34m0\u001b[0m]       │\n",
       "│ (\u001b[38;5;33mReversibleEmbedding\u001b[0m)         │                           │                 │                            │\n",
       "└───────────────────────────────┴───────────────────────────┴─────────────────┴────────────────────────────┘\n"
      ]
     },
     "metadata": {},
     "output_type": "display_data"
    },
    {
     "data": {
      "text/html": [
       "<pre style=\"white-space:pre;overflow-x:auto;line-height:normal;font-family:Menlo,'DejaVu Sans Mono',consolas,'Courier New',monospace\"><span style=\"font-weight: bold\"> Total params: </span><span style=\"color: #00af00; text-decoration-color: #00af00\">2,506,172,416</span> (9.34 GB)\n",
       "</pre>\n"
      ],
      "text/plain": [
       "\u001b[1m Total params: \u001b[0m\u001b[38;5;34m2,506,172,416\u001b[0m (9.34 GB)\n"
      ]
     },
     "metadata": {},
     "output_type": "display_data"
    },
    {
     "data": {
      "text/html": [
       "<pre style=\"white-space:pre;overflow-x:auto;line-height:normal;font-family:Menlo,'DejaVu Sans Mono',consolas,'Courier New',monospace\"><span style=\"font-weight: bold\"> Trainable params: </span><span style=\"color: #00af00; text-decoration-color: #00af00\">2,506,172,416</span> (9.34 GB)\n",
       "</pre>\n"
      ],
      "text/plain": [
       "\u001b[1m Trainable params: \u001b[0m\u001b[38;5;34m2,506,172,416\u001b[0m (9.34 GB)\n"
      ]
     },
     "metadata": {},
     "output_type": "display_data"
    },
    {
     "data": {
      "text/html": [
       "<pre style=\"white-space:pre;overflow-x:auto;line-height:normal;font-family:Menlo,'DejaVu Sans Mono',consolas,'Courier New',monospace\"><span style=\"font-weight: bold\"> Non-trainable params: </span><span style=\"color: #00af00; text-decoration-color: #00af00\">0</span> (0.00 B)\n",
       "</pre>\n"
      ],
      "text/plain": [
       "\u001b[1m Non-trainable params: \u001b[0m\u001b[38;5;34m0\u001b[0m (0.00 B)\n"
      ]
     },
     "metadata": {},
     "output_type": "display_data"
    },
    {
     "name": "stderr",
     "output_type": "stream",
     "text": [
      "2024-06-09 16:55:40.114445: E tensorflow/core/util/util.cc:131] oneDNN supports DT_HALF only on platforms with AVX-512. Falling back to the default Eigen-based implementation if present.\n"
     ]
    },
    {
     "name": "stdout",
     "output_type": "stream",
     "text": [
      "Single block trainable weights:\n",
      "- decoder_block/attention/query/lora_A/kernel [2048, 4]\n",
      "- decoder_block/attention/query/lora_B/kernel [8, 4, 256]\n",
      "- decoder_block/attention/value/lora_A/kernel [2048, 4]\n",
      "- decoder_block/attention/value/lora_B/kernel [1, 4, 256]\n",
      "Collecting transformer block weights ...\n"
     ]
    },
    {
     "name": "stderr",
     "output_type": "stream",
     "text": [
      "Preparing/Quantizing weights: 100%|██████████| 18/18 [00:33<00:00,  1.86s/it]\n"
     ]
    },
    {
     "data": {
      "text/html": [
       "<pre style=\"white-space:pre;overflow-x:auto;line-height:normal;font-family:Menlo,'DejaVu Sans Mono',consolas,'Courier New',monospace\"><span style=\"font-style: italic\">                                        Block Memory Usage (Num blocks 18)                                         </span>\n",
       "┏━━━━━━━━━━━━━━━━━━━━━━━━━━━━━━━━━━━━━━━━━━━━━━━━━┳━━━━━━━━━━━━━┳━━━━━━━━━┳━━━━━━━━━━━━━┳━━━━━━━━━━━━━┳━━━━━━━━━━━┓\n",
       "┃<span style=\"font-weight: bold\">                                                 </span>┃<span style=\"font-weight: bold\">             </span>┃<span style=\"font-weight: bold\">         </span>┃<span style=\"font-weight: bold\">   Mem Usage </span>┃<span style=\"font-weight: bold\">    FP32 Mem </span>┃<span style=\"font-weight: bold\">           </span>┃\n",
       "┃<span style=\"font-weight: bold\">                                          Tensor </span>┃<span style=\"font-weight: bold\">       Shape </span>┃<span style=\"font-weight: bold\">   dtype </span>┃<span style=\"font-weight: bold\">        [MB] </span>┃<span style=\"font-weight: bold\">  Usage [MB] </span>┃<span style=\"font-weight: bold\"> Trainable </span>┃\n",
       "┡━━━━━━━━━━━━━━━━━━━━━━━━━━━━━━━━━━━━━━━━━━━━━━━━━╇━━━━━━━━━━━━━╇━━━━━━━━━╇━━━━━━━━━━━━━╇━━━━━━━━━━━━━╇━━━━━━━━━━━┩\n",
       "│<span style=\"color: #008080; text-decoration-color: #008080\">          decoder_block/pre_attention_norm/scale </span>│<span style=\"color: #800080; text-decoration-color: #800080\">      [2048] </span>│<span style=\"color: #008000; text-decoration-color: #008000\"> float16 </span>│<span style=\"color: #008000; text-decoration-color: #008000\">       0.004 </span>│<span style=\"color: #008000; text-decoration-color: #008000\">       0.008 </span>│<span style=\"color: #008000; text-decoration-color: #008000\">     False </span>│\n",
       "│<span style=\"color: #008080; text-decoration-color: #008080\">            decoder_block/attention/query/kernel </span>│<span style=\"color: #800080; text-decoration-color: #800080\">   [8, 2048, </span>│<span style=\"color: #008000; text-decoration-color: #008000\"> float16 </span>│<span style=\"color: #008000; text-decoration-color: #008000\">       8.000 </span>│<span style=\"color: #008000; text-decoration-color: #008000\">      16.000 </span>│<span style=\"color: #008000; text-decoration-color: #008000\">     False </span>│\n",
       "│<span style=\"color: #008080; text-decoration-color: #008080\">                                                 </span>│<span style=\"color: #800080; text-decoration-color: #800080\">        256] </span>│<span style=\"color: #008000; text-decoration-color: #008000\">         </span>│<span style=\"color: #008000; text-decoration-color: #008000\">             </span>│<span style=\"color: #008000; text-decoration-color: #008000\">             </span>│<span style=\"color: #008000; text-decoration-color: #008000\">           </span>│\n",
       "│<span style=\"color: #008080; text-decoration-color: #008080\">              decoder_block/attention/key/kernel </span>│<span style=\"color: #800080; text-decoration-color: #800080\">   [1, 2048, </span>│<span style=\"color: #008000; text-decoration-color: #008000\"> float16 </span>│<span style=\"color: #008000; text-decoration-color: #008000\">       1.000 </span>│<span style=\"color: #008000; text-decoration-color: #008000\">       2.000 </span>│<span style=\"color: #008000; text-decoration-color: #008000\">     False </span>│\n",
       "│<span style=\"color: #008080; text-decoration-color: #008080\">                                                 </span>│<span style=\"color: #800080; text-decoration-color: #800080\">        256] </span>│<span style=\"color: #008000; text-decoration-color: #008000\">         </span>│<span style=\"color: #008000; text-decoration-color: #008000\">             </span>│<span style=\"color: #008000; text-decoration-color: #008000\">             </span>│<span style=\"color: #008000; text-decoration-color: #008000\">           </span>│\n",
       "│<span style=\"color: #008080; text-decoration-color: #008080\">            decoder_block/attention/value/kernel </span>│<span style=\"color: #800080; text-decoration-color: #800080\">   [1, 2048, </span>│<span style=\"color: #008000; text-decoration-color: #008000\"> float16 </span>│<span style=\"color: #008000; text-decoration-color: #008000\">       1.000 </span>│<span style=\"color: #008000; text-decoration-color: #008000\">       2.000 </span>│<span style=\"color: #008000; text-decoration-color: #008000\">     False </span>│\n",
       "│<span style=\"color: #008080; text-decoration-color: #008080\">                                                 </span>│<span style=\"color: #800080; text-decoration-color: #800080\">        256] </span>│<span style=\"color: #008000; text-decoration-color: #008000\">         </span>│<span style=\"color: #008000; text-decoration-color: #008000\">             </span>│<span style=\"color: #008000; text-decoration-color: #008000\">             </span>│<span style=\"color: #008000; text-decoration-color: #008000\">           </span>│\n",
       "│<span style=\"color: #008080; text-decoration-color: #008080\"> decoder_block/attention/attention_output/kernel </span>│<span style=\"color: #800080; text-decoration-color: #800080\">    [8, 256, </span>│<span style=\"color: #008000; text-decoration-color: #008000\"> float16 </span>│<span style=\"color: #008000; text-decoration-color: #008000\">       8.000 </span>│<span style=\"color: #008000; text-decoration-color: #008000\">      16.000 </span>│<span style=\"color: #008000; text-decoration-color: #008000\">     False </span>│\n",
       "│<span style=\"color: #008080; text-decoration-color: #008080\">                                                 </span>│<span style=\"color: #800080; text-decoration-color: #800080\">       2048] </span>│<span style=\"color: #008000; text-decoration-color: #008000\">         </span>│<span style=\"color: #008000; text-decoration-color: #008000\">             </span>│<span style=\"color: #008000; text-decoration-color: #008000\">             </span>│<span style=\"color: #008000; text-decoration-color: #008000\">           </span>│\n",
       "│<span style=\"color: #008080; text-decoration-color: #008080\">     decoder_block/attention/query/lora_A/kernel </span>│<span style=\"color: #800080; text-decoration-color: #800080\">   [2048, 4] </span>│<span style=\"color: #008000; text-decoration-color: #008000\"> float32 </span>│<span style=\"color: #008000; text-decoration-color: #008000\">       0.031 </span>│<span style=\"color: #008000; text-decoration-color: #008000\">       0.031 </span>│<span style=\"color: #008000; text-decoration-color: #008000\">      True </span>│\n",
       "│<span style=\"color: #008080; text-decoration-color: #008080\">     decoder_block/attention/query/lora_B/kernel </span>│<span style=\"color: #800080; text-decoration-color: #800080\"> [8, 4, 256] </span>│<span style=\"color: #008000; text-decoration-color: #008000\"> float32 </span>│<span style=\"color: #008000; text-decoration-color: #008000\">       0.031 </span>│<span style=\"color: #008000; text-decoration-color: #008000\">       0.031 </span>│<span style=\"color: #008000; text-decoration-color: #008000\">      True </span>│\n",
       "│<span style=\"color: #008080; text-decoration-color: #008080\">     decoder_block/attention/value/lora_A/kernel </span>│<span style=\"color: #800080; text-decoration-color: #800080\">   [2048, 4] </span>│<span style=\"color: #008000; text-decoration-color: #008000\"> float32 </span>│<span style=\"color: #008000; text-decoration-color: #008000\">       0.031 </span>│<span style=\"color: #008000; text-decoration-color: #008000\">       0.031 </span>│<span style=\"color: #008000; text-decoration-color: #008000\">      True </span>│\n",
       "│<span style=\"color: #008080; text-decoration-color: #008080\">     decoder_block/attention/value/lora_B/kernel </span>│<span style=\"color: #800080; text-decoration-color: #800080\"> [1, 4, 256] </span>│<span style=\"color: #008000; text-decoration-color: #008000\"> float32 </span>│<span style=\"color: #008000; text-decoration-color: #008000\">       0.004 </span>│<span style=\"color: #008000; text-decoration-color: #008000\">       0.004 </span>│<span style=\"color: #008000; text-decoration-color: #008000\">      True </span>│\n",
       "│<span style=\"color: #008080; text-decoration-color: #008080\">                decoder_block/pre_ffw_norm/scale </span>│<span style=\"color: #800080; text-decoration-color: #800080\">      [2048] </span>│<span style=\"color: #008000; text-decoration-color: #008000\">   uint8 </span>│<span style=\"color: #008000; text-decoration-color: #008000\">       0.002 </span>│<span style=\"color: #008000; text-decoration-color: #008000\">       0.008 </span>│<span style=\"color: #008000; text-decoration-color: #008000\">     False </span>│\n",
       "│<span style=\"color: #008080; text-decoration-color: #008080\">                 decoder_block/ffw_gating/kernel </span>│<span style=\"color: #800080; text-decoration-color: #800080\">      [2048, </span>│<span style=\"color: #008000; text-decoration-color: #008000\">   uint8 </span>│<span style=\"color: #008000; text-decoration-color: #008000\">      33.130 </span>│<span style=\"color: #008000; text-decoration-color: #008000\">     128.000 </span>│<span style=\"color: #008000; text-decoration-color: #008000\">     False </span>│\n",
       "│<span style=\"color: #008080; text-decoration-color: #008080\">                                                 </span>│<span style=\"color: #800080; text-decoration-color: #800080\">      16384] </span>│<span style=\"color: #008000; text-decoration-color: #008000\">         </span>│<span style=\"color: #008000; text-decoration-color: #008000\">             </span>│<span style=\"color: #008000; text-decoration-color: #008000\">             </span>│<span style=\"color: #008000; text-decoration-color: #008000\">           </span>│\n",
       "│<span style=\"color: #008080; text-decoration-color: #008080\">               decoder_block/ffw_gating_2/kernel </span>│<span style=\"color: #800080; text-decoration-color: #800080\">      [2048, </span>│<span style=\"color: #008000; text-decoration-color: #008000\">   uint8 </span>│<span style=\"color: #008000; text-decoration-color: #008000\">      33.131 </span>│<span style=\"color: #008000; text-decoration-color: #008000\">     128.000 </span>│<span style=\"color: #008000; text-decoration-color: #008000\">     False </span>│\n",
       "│<span style=\"color: #008080; text-decoration-color: #008080\">                                                 </span>│<span style=\"color: #800080; text-decoration-color: #800080\">      16384] </span>│<span style=\"color: #008000; text-decoration-color: #008000\">         </span>│<span style=\"color: #008000; text-decoration-color: #008000\">             </span>│<span style=\"color: #008000; text-decoration-color: #008000\">             </span>│<span style=\"color: #008000; text-decoration-color: #008000\">           </span>│\n",
       "│<span style=\"color: #008080; text-decoration-color: #008080\">                 decoder_block/ffw_linear/kernel </span>│<span style=\"color: #800080; text-decoration-color: #800080\">     [16384, </span>│<span style=\"color: #008000; text-decoration-color: #008000\">   uint8 </span>│<span style=\"color: #008000; text-decoration-color: #008000\">      33.138 </span>│<span style=\"color: #008000; text-decoration-color: #008000\">     128.000 </span>│<span style=\"color: #008000; text-decoration-color: #008000\">     False </span>│\n",
       "│<span style=\"color: #008080; text-decoration-color: #008080\">                                                 </span>│<span style=\"color: #800080; text-decoration-color: #800080\">       2048] </span>│<span style=\"color: #008000; text-decoration-color: #008000\">         </span>│<span style=\"color: #008000; text-decoration-color: #008000\">             </span>│<span style=\"color: #008000; text-decoration-color: #008000\">             </span>│<span style=\"color: #008000; text-decoration-color: #008000\">           </span>│\n",
       "└─────────────────────────────────────────────────┴─────────────┴─────────┴─────────────┴─────────────┴───────────┘\n",
       "</pre>\n"
      ],
      "text/plain": [
       "\u001b[3m                                        Block Memory Usage (Num blocks 18)                                         \u001b[0m\n",
       "┏━━━━━━━━━━━━━━━━━━━━━━━━━━━━━━━━━━━━━━━━━━━━━━━━━┳━━━━━━━━━━━━━┳━━━━━━━━━┳━━━━━━━━━━━━━┳━━━━━━━━━━━━━┳━━━━━━━━━━━┓\n",
       "┃\u001b[1m                                                 \u001b[0m┃\u001b[1m             \u001b[0m┃\u001b[1m         \u001b[0m┃\u001b[1m \u001b[0m\u001b[1m  Mem Usage\u001b[0m\u001b[1m \u001b[0m┃\u001b[1m \u001b[0m\u001b[1m   FP32 Mem\u001b[0m\u001b[1m \u001b[0m┃\u001b[1m           \u001b[0m┃\n",
       "┃\u001b[1m \u001b[0m\u001b[1m                                         Tensor\u001b[0m\u001b[1m \u001b[0m┃\u001b[1m \u001b[0m\u001b[1m      Shape\u001b[0m\u001b[1m \u001b[0m┃\u001b[1m \u001b[0m\u001b[1m  dtype\u001b[0m\u001b[1m \u001b[0m┃\u001b[1m \u001b[0m\u001b[1m       [MB]\u001b[0m\u001b[1m \u001b[0m┃\u001b[1m \u001b[0m\u001b[1m Usage [MB]\u001b[0m\u001b[1m \u001b[0m┃\u001b[1m \u001b[0m\u001b[1mTrainable\u001b[0m\u001b[1m \u001b[0m┃\n",
       "┡━━━━━━━━━━━━━━━━━━━━━━━━━━━━━━━━━━━━━━━━━━━━━━━━━╇━━━━━━━━━━━━━╇━━━━━━━━━╇━━━━━━━━━━━━━╇━━━━━━━━━━━━━╇━━━━━━━━━━━┩\n",
       "│\u001b[36m \u001b[0m\u001b[36m         decoder_block/pre_attention_norm/scale\u001b[0m\u001b[36m \u001b[0m│\u001b[35m \u001b[0m\u001b[35m     [2048]\u001b[0m\u001b[35m \u001b[0m│\u001b[32m \u001b[0m\u001b[32mfloat16\u001b[0m\u001b[32m \u001b[0m│\u001b[32m \u001b[0m\u001b[32m      0.004\u001b[0m\u001b[32m \u001b[0m│\u001b[32m \u001b[0m\u001b[32m      0.008\u001b[0m\u001b[32m \u001b[0m│\u001b[32m \u001b[0m\u001b[32m    False\u001b[0m\u001b[32m \u001b[0m│\n",
       "│\u001b[36m \u001b[0m\u001b[36m           decoder_block/attention/query/kernel\u001b[0m\u001b[36m \u001b[0m│\u001b[35m \u001b[0m\u001b[35m  [8, 2048,\u001b[0m\u001b[35m \u001b[0m│\u001b[32m \u001b[0m\u001b[32mfloat16\u001b[0m\u001b[32m \u001b[0m│\u001b[32m \u001b[0m\u001b[32m      8.000\u001b[0m\u001b[32m \u001b[0m│\u001b[32m \u001b[0m\u001b[32m     16.000\u001b[0m\u001b[32m \u001b[0m│\u001b[32m \u001b[0m\u001b[32m    False\u001b[0m\u001b[32m \u001b[0m│\n",
       "│\u001b[36m                                                 \u001b[0m│\u001b[35m \u001b[0m\u001b[35m       256]\u001b[0m\u001b[35m \u001b[0m│\u001b[32m         \u001b[0m│\u001b[32m             \u001b[0m│\u001b[32m             \u001b[0m│\u001b[32m           \u001b[0m│\n",
       "│\u001b[36m \u001b[0m\u001b[36m             decoder_block/attention/key/kernel\u001b[0m\u001b[36m \u001b[0m│\u001b[35m \u001b[0m\u001b[35m  [1, 2048,\u001b[0m\u001b[35m \u001b[0m│\u001b[32m \u001b[0m\u001b[32mfloat16\u001b[0m\u001b[32m \u001b[0m│\u001b[32m \u001b[0m\u001b[32m      1.000\u001b[0m\u001b[32m \u001b[0m│\u001b[32m \u001b[0m\u001b[32m      2.000\u001b[0m\u001b[32m \u001b[0m│\u001b[32m \u001b[0m\u001b[32m    False\u001b[0m\u001b[32m \u001b[0m│\n",
       "│\u001b[36m                                                 \u001b[0m│\u001b[35m \u001b[0m\u001b[35m       256]\u001b[0m\u001b[35m \u001b[0m│\u001b[32m         \u001b[0m│\u001b[32m             \u001b[0m│\u001b[32m             \u001b[0m│\u001b[32m           \u001b[0m│\n",
       "│\u001b[36m \u001b[0m\u001b[36m           decoder_block/attention/value/kernel\u001b[0m\u001b[36m \u001b[0m│\u001b[35m \u001b[0m\u001b[35m  [1, 2048,\u001b[0m\u001b[35m \u001b[0m│\u001b[32m \u001b[0m\u001b[32mfloat16\u001b[0m\u001b[32m \u001b[0m│\u001b[32m \u001b[0m\u001b[32m      1.000\u001b[0m\u001b[32m \u001b[0m│\u001b[32m \u001b[0m\u001b[32m      2.000\u001b[0m\u001b[32m \u001b[0m│\u001b[32m \u001b[0m\u001b[32m    False\u001b[0m\u001b[32m \u001b[0m│\n",
       "│\u001b[36m                                                 \u001b[0m│\u001b[35m \u001b[0m\u001b[35m       256]\u001b[0m\u001b[35m \u001b[0m│\u001b[32m         \u001b[0m│\u001b[32m             \u001b[0m│\u001b[32m             \u001b[0m│\u001b[32m           \u001b[0m│\n",
       "│\u001b[36m \u001b[0m\u001b[36mdecoder_block/attention/attention_output/kernel\u001b[0m\u001b[36m \u001b[0m│\u001b[35m \u001b[0m\u001b[35m   [8, 256,\u001b[0m\u001b[35m \u001b[0m│\u001b[32m \u001b[0m\u001b[32mfloat16\u001b[0m\u001b[32m \u001b[0m│\u001b[32m \u001b[0m\u001b[32m      8.000\u001b[0m\u001b[32m \u001b[0m│\u001b[32m \u001b[0m\u001b[32m     16.000\u001b[0m\u001b[32m \u001b[0m│\u001b[32m \u001b[0m\u001b[32m    False\u001b[0m\u001b[32m \u001b[0m│\n",
       "│\u001b[36m                                                 \u001b[0m│\u001b[35m \u001b[0m\u001b[35m      2048]\u001b[0m\u001b[35m \u001b[0m│\u001b[32m         \u001b[0m│\u001b[32m             \u001b[0m│\u001b[32m             \u001b[0m│\u001b[32m           \u001b[0m│\n",
       "│\u001b[36m \u001b[0m\u001b[36m    decoder_block/attention/query/lora_A/kernel\u001b[0m\u001b[36m \u001b[0m│\u001b[35m \u001b[0m\u001b[35m  [2048, 4]\u001b[0m\u001b[35m \u001b[0m│\u001b[32m \u001b[0m\u001b[32mfloat32\u001b[0m\u001b[32m \u001b[0m│\u001b[32m \u001b[0m\u001b[32m      0.031\u001b[0m\u001b[32m \u001b[0m│\u001b[32m \u001b[0m\u001b[32m      0.031\u001b[0m\u001b[32m \u001b[0m│\u001b[32m \u001b[0m\u001b[32m     True\u001b[0m\u001b[32m \u001b[0m│\n",
       "│\u001b[36m \u001b[0m\u001b[36m    decoder_block/attention/query/lora_B/kernel\u001b[0m\u001b[36m \u001b[0m│\u001b[35m \u001b[0m\u001b[35m[8, 4, 256]\u001b[0m\u001b[35m \u001b[0m│\u001b[32m \u001b[0m\u001b[32mfloat32\u001b[0m\u001b[32m \u001b[0m│\u001b[32m \u001b[0m\u001b[32m      0.031\u001b[0m\u001b[32m \u001b[0m│\u001b[32m \u001b[0m\u001b[32m      0.031\u001b[0m\u001b[32m \u001b[0m│\u001b[32m \u001b[0m\u001b[32m     True\u001b[0m\u001b[32m \u001b[0m│\n",
       "│\u001b[36m \u001b[0m\u001b[36m    decoder_block/attention/value/lora_A/kernel\u001b[0m\u001b[36m \u001b[0m│\u001b[35m \u001b[0m\u001b[35m  [2048, 4]\u001b[0m\u001b[35m \u001b[0m│\u001b[32m \u001b[0m\u001b[32mfloat32\u001b[0m\u001b[32m \u001b[0m│\u001b[32m \u001b[0m\u001b[32m      0.031\u001b[0m\u001b[32m \u001b[0m│\u001b[32m \u001b[0m\u001b[32m      0.031\u001b[0m\u001b[32m \u001b[0m│\u001b[32m \u001b[0m\u001b[32m     True\u001b[0m\u001b[32m \u001b[0m│\n",
       "│\u001b[36m \u001b[0m\u001b[36m    decoder_block/attention/value/lora_B/kernel\u001b[0m\u001b[36m \u001b[0m│\u001b[35m \u001b[0m\u001b[35m[1, 4, 256]\u001b[0m\u001b[35m \u001b[0m│\u001b[32m \u001b[0m\u001b[32mfloat32\u001b[0m\u001b[32m \u001b[0m│\u001b[32m \u001b[0m\u001b[32m      0.004\u001b[0m\u001b[32m \u001b[0m│\u001b[32m \u001b[0m\u001b[32m      0.004\u001b[0m\u001b[32m \u001b[0m│\u001b[32m \u001b[0m\u001b[32m     True\u001b[0m\u001b[32m \u001b[0m│\n",
       "│\u001b[36m \u001b[0m\u001b[36m               decoder_block/pre_ffw_norm/scale\u001b[0m\u001b[36m \u001b[0m│\u001b[35m \u001b[0m\u001b[35m     [2048]\u001b[0m\u001b[35m \u001b[0m│\u001b[32m \u001b[0m\u001b[32m  uint8\u001b[0m\u001b[32m \u001b[0m│\u001b[32m \u001b[0m\u001b[32m      0.002\u001b[0m\u001b[32m \u001b[0m│\u001b[32m \u001b[0m\u001b[32m      0.008\u001b[0m\u001b[32m \u001b[0m│\u001b[32m \u001b[0m\u001b[32m    False\u001b[0m\u001b[32m \u001b[0m│\n",
       "│\u001b[36m \u001b[0m\u001b[36m                decoder_block/ffw_gating/kernel\u001b[0m\u001b[36m \u001b[0m│\u001b[35m \u001b[0m\u001b[35m     [2048,\u001b[0m\u001b[35m \u001b[0m│\u001b[32m \u001b[0m\u001b[32m  uint8\u001b[0m\u001b[32m \u001b[0m│\u001b[32m \u001b[0m\u001b[32m     33.130\u001b[0m\u001b[32m \u001b[0m│\u001b[32m \u001b[0m\u001b[32m    128.000\u001b[0m\u001b[32m \u001b[0m│\u001b[32m \u001b[0m\u001b[32m    False\u001b[0m\u001b[32m \u001b[0m│\n",
       "│\u001b[36m                                                 \u001b[0m│\u001b[35m \u001b[0m\u001b[35m     16384]\u001b[0m\u001b[35m \u001b[0m│\u001b[32m         \u001b[0m│\u001b[32m             \u001b[0m│\u001b[32m             \u001b[0m│\u001b[32m           \u001b[0m│\n",
       "│\u001b[36m \u001b[0m\u001b[36m              decoder_block/ffw_gating_2/kernel\u001b[0m\u001b[36m \u001b[0m│\u001b[35m \u001b[0m\u001b[35m     [2048,\u001b[0m\u001b[35m \u001b[0m│\u001b[32m \u001b[0m\u001b[32m  uint8\u001b[0m\u001b[32m \u001b[0m│\u001b[32m \u001b[0m\u001b[32m     33.131\u001b[0m\u001b[32m \u001b[0m│\u001b[32m \u001b[0m\u001b[32m    128.000\u001b[0m\u001b[32m \u001b[0m│\u001b[32m \u001b[0m\u001b[32m    False\u001b[0m\u001b[32m \u001b[0m│\n",
       "│\u001b[36m                                                 \u001b[0m│\u001b[35m \u001b[0m\u001b[35m     16384]\u001b[0m\u001b[35m \u001b[0m│\u001b[32m         \u001b[0m│\u001b[32m             \u001b[0m│\u001b[32m             \u001b[0m│\u001b[32m           \u001b[0m│\n",
       "│\u001b[36m \u001b[0m\u001b[36m                decoder_block/ffw_linear/kernel\u001b[0m\u001b[36m \u001b[0m│\u001b[35m \u001b[0m\u001b[35m    [16384,\u001b[0m\u001b[35m \u001b[0m│\u001b[32m \u001b[0m\u001b[32m  uint8\u001b[0m\u001b[32m \u001b[0m│\u001b[32m \u001b[0m\u001b[32m     33.138\u001b[0m\u001b[32m \u001b[0m│\u001b[32m \u001b[0m\u001b[32m    128.000\u001b[0m\u001b[32m \u001b[0m│\u001b[32m \u001b[0m\u001b[32m    False\u001b[0m\u001b[32m \u001b[0m│\n",
       "│\u001b[36m                                                 \u001b[0m│\u001b[35m \u001b[0m\u001b[35m      2048]\u001b[0m\u001b[35m \u001b[0m│\u001b[32m         \u001b[0m│\u001b[32m             \u001b[0m│\u001b[32m             \u001b[0m│\u001b[32m           \u001b[0m│\n",
       "└─────────────────────────────────────────────────┴─────────────┴─────────┴─────────────┴─────────────┴───────────┘\n"
      ]
     },
     "metadata": {},
     "output_type": "display_data"
    }
   ],
   "source": [
    "from keras_llm_light.models import gemma\n",
    "\n",
    "LORA_RANK = 4\n",
    "LORA_APLHA = 32.0\n",
    "MAX_SEQ_LENGTH = 512\n",
    "\n",
    "optimizer = keras.optimizers.Adam(learning_rate=0.0001)\n",
    "\n",
    "trainer, llm = gemma.build_gemma_llm(\n",
    "    lora_rank=LORA_RANK,\n",
    "    lora_alpha=LORA_APLHA,\n",
    "    max_sequence_len=MAX_SEQ_LENGTH,\n",
    "    optimizer=optimizer,\n",
    ")"
   ]
  },
  {
   "cell_type": "markdown",
   "metadata": {},
   "source": [
    "# Train model"
   ]
  },
  {
   "cell_type": "code",
   "execution_count": 6,
   "metadata": {},
   "outputs": [
    {
     "name": "stderr",
     "output_type": "stream",
     "text": [
      "2024-06-09 16:56:17.146952: W tensorflow/core/kernels/data/cache_dataset_ops.cc:858] The calling iterator did not fully read the dataset being cached. In order to avoid unexpected truncation of the dataset, the partially cached contents of the dataset  will be discarded. This can happen if you have an input pipeline similar to `dataset.cache().take(k).repeat()`. You should use `dataset.take(k).cache().repeat()` instead.\n"
     ]
    },
    {
     "data": {
      "text/plain": [
       "{'label': <tf.Tensor: shape=(), dtype=int64, numpy=0>,\n",
       " 'text': <tf.Tensor: shape=(), dtype=string, numpy=b\"This was an absolutely terrible movie. Don't be lured in by Christopher Walken or Michael Ironside. Both are great actors, but this must simply be their worst role in history. Even their great acting could not redeem this movie's ridiculous storyline. This movie is an early nineties US propaganda piece. The most pathetic scenes were those when the Columbian rebels were making their cases for revolutions. Maria Conchita Alonso appeared phony, and her pseudo-love affair with Walken was nothing but a pathetic emotional plug in a movie that was devoid of any real meaning. I am disappointed that there are movies like this, ruining actor's like Christopher Walken's good name. I could barely sit through it.\">}"
      ]
     },
     "execution_count": 6,
     "metadata": {},
     "output_type": "execute_result"
    }
   ],
   "source": [
    "ds = tfds.load(\"imdb_reviews\", split=\"train\")\n",
    "\n",
    "for document in ds:\n",
    "    break\n",
    "\n",
    "document"
   ]
  },
  {
   "cell_type": "code",
   "execution_count": 7,
   "metadata": {},
   "outputs": [],
   "source": [
    "SEPARATOR  = \"Sentiment: \"\n",
    "LABEL_TO_SENTIMENT = tf.constant([\"Negative\", \"Positive\"])\n",
    "\n",
    "def prepare_text(document):\n",
    "    text = document['text']\n",
    "    sentiment = LABEL_TO_SENTIMENT[document['label']]\n",
    "    return text + f\"\\n{SEPARATOR}\" + sentiment"
   ]
  },
  {
   "cell_type": "code",
   "execution_count": 8,
   "metadata": {},
   "outputs": [],
   "source": [
    "BATCH_SIZE = 1\n",
    "\n",
    "train_ds = (\n",
    "    ds.map(prepare_text)\n",
    "    .repeat(-1)\n",
    "    .shuffle(2000)\n",
    "    .batch(BATCH_SIZE)\n",
    "    .prefetch(tf.data.AUTOTUNE)\n",
    ")"
   ]
  },
  {
   "cell_type": "code",
   "execution_count": 9,
   "metadata": {},
   "outputs": [],
   "source": [
    "train_ds_processed = train_ds.map(llm.preprocessor)\n",
    "train_ds_processed_iter = iter(train_ds_processed)"
   ]
  },
  {
   "cell_type": "code",
   "execution_count": 10,
   "metadata": {},
   "outputs": [
    {
     "name": "stdout",
     "output_type": "stream",
     "text": [
      "Every Sunday, a trio of buds get together at a NYC diner to boast about their sexual conquests of the night before. Sometimes they're joined by a newlywed ex-comrade and hoochie hunter who hangs on them like a puling barnacle. They're unabashed horn dogs/corn dogs and Mia, who witnesses them on the prowl, decides that they need to be taught a lesson, dammit. Ergo, she'll date and dump - why not? All three of them! <br /><br />Gasp. What a wild idea. What a radical, naughty gal. Women now have the right to date and sleep around as much as they want to. As much as men do, even! <br /><br />There is one solitary laughable element in \"Whipped\" - namely the fact that not once, during the amigo's detailed discussions of their bodily functions and the tantric talents of the bed partners they trash, do the other customers in the diner turn around and say, \"Dude, we're trying to EAT here.\" Indeed, a heh-heh gag has an older lady eagerly weigh in on the useful sexual properties of certain beverages. A big fat Kermit the Frog \"Sheesh\" to that.<br /><br />It's truly unfortunate that a buddy movie with a great setting, a smart, cute heroine and three possible pairings had to have such a cop-out ending.<br /><br />P.S. - 30 \"whip-oosh\" sound effects to the screenwriter for use of the phrase \"You go, girl\". It was tired in 2000, and it's tired now.<br /><br />Save your time and watch some \"Sex and the City\" reruns...\n",
      "Sentiment: \n",
      "Negative\n"
     ]
    },
    {
     "name": "stderr",
     "output_type": "stream",
     "text": [
      "2024-06-09 16:56:17.595487: W tensorflow/core/kernels/data/cache_dataset_ops.cc:858] The calling iterator did not fully read the dataset being cached. In order to avoid unexpected truncation of the dataset, the partially cached contents of the dataset  will be discarded. This can happen if you have an input pipeline similar to `dataset.cache().take(k).repeat()`. You should use `dataset.take(k).cache().repeat()` instead.\n"
     ]
    }
   ],
   "source": [
    "for sample in train_ds:\n",
    "    break\n",
    "\n",
    "parts = sample[0].numpy().decode(\"utf-8\").split(SEPARATOR)\n",
    "query = parts[0] + SEPARATOR\n",
    "print(query)\n",
    "print(parts[1])"
   ]
  },
  {
   "cell_type": "code",
   "execution_count": 11,
   "metadata": {},
   "outputs": [
    {
     "name": "stderr",
     "output_type": "stream",
     "text": [
      "Generating text:   0%|          | 0/512 [00:00<?, ?it/s]"
     ]
    },
    {
     "name": "stdout",
     "output_type": "stream",
     "text": [
      "Tracing assign_block_weights\n"
     ]
    },
    {
     "name": "stderr",
     "output_type": "stream",
     "text": [
      "WARNING: All log messages before absl::InitializeLog() is called are written to STDERR\n",
      "I0000 00:00:1717944978.170949   91880 service.cc:145] XLA service 0x29b02290 initialized for platform CUDA (this does not guarantee that XLA will be used). Devices:\n",
      "I0000 00:00:1717944978.170972   91880 service.cc:153]   StreamExecutor device (0): NVIDIA RTX A4000 Laptop GPU, Compute Capability 8.6\n",
      "2024-06-09 16:56:18.182332: I external/local_xla/xla/stream_executor/cuda/cuda_dnn.cc:465] Loaded cuDNN version 8905\n",
      "I0000 00:00:1717944978.266730   91880 device_compiler.h:188] Compiled cluster using XLA!  This line is logged at most once for the lifetime of the process.\n"
     ]
    },
    {
     "name": "stdout",
     "output_type": "stream",
     "text": [
      "Tracing block_forward\n"
     ]
    },
    {
     "name": "stderr",
     "output_type": "stream",
     "text": [
      "2024-06-09 16:56:18.407171: I tensorflow/compiler/mlir/tensorflow/utils/dump_mlir_util.cc:268] disabling MLIR crash reproducer, set env var `MLIR_CRASH_REPRODUCER_DIRECTORY` to enable.\n",
      "WARNING: All log messages before absl::InitializeLog() is called are written to STDERR\n",
      "I0000 00:00:1717944979.443108   92443 asm_compiler.cc:369] ptxas warning : Registers are spilled to local memory in function 'triton_gemm_dot_7', 16 bytes spill stores, 16 bytes spill loads\n",
      "\n",
      "I0000 00:00:1717944980.137808   92447 asm_compiler.cc:369] ptxas warning : Registers are spilled to local memory in function 'triton_gemm_dot_10', 4 bytes spill stores, 4 bytes spill loads\n",
      "\n",
      "I0000 00:00:1717944980.801797   92439 asm_compiler.cc:369] ptxas warning : Registers are spilled to local memory in function 'triton_gemm_dot_8', 24 bytes spill stores, 24 bytes spill loads\n",
      "\n"
     ]
    },
    {
     "name": "stdout",
     "output_type": "stream",
     "text": [
      "Tracing assign_block_weights\n",
      "Tracing assign_block_weights\n",
      "Tracing assign_block_weights\n",
      "Tracing assign_block_weights\n",
      "WARNING:tensorflow:5 out of the last 5 calls to <function ModelBlock.assign_block_weights at 0x7150841ce0c0> triggered tf.function retracing. Tracing is expensive and the excessive number of tracings could be due to (1) creating @tf.function repeatedly in a loop, (2) passing tensors with different shapes, (3) passing Python objects instead of tensors. For (1), please define your @tf.function outside of the loop. For (2), @tf.function has reduce_retracing=True option that can avoid unnecessary retracing. For (3), please refer to https://www.tensorflow.org/guide/function#controlling_retracing and https://www.tensorflow.org/api_docs/python/tf/function for  more details.\n"
     ]
    },
    {
     "name": "stderr",
     "output_type": "stream",
     "text": [
      "WARNING:tensorflow:5 out of the last 5 calls to <function ModelBlock.assign_block_weights at 0x7150841ce0c0> triggered tf.function retracing. Tracing is expensive and the excessive number of tracings could be due to (1) creating @tf.function repeatedly in a loop, (2) passing tensors with different shapes, (3) passing Python objects instead of tensors. For (1), please define your @tf.function outside of the loop. For (2), @tf.function has reduce_retracing=True option that can avoid unnecessary retracing. For (3), please refer to https://www.tensorflow.org/guide/function#controlling_retracing and https://www.tensorflow.org/api_docs/python/tf/function for  more details.\n"
     ]
    },
    {
     "name": "stdout",
     "output_type": "stream",
     "text": [
      "Tracing assign_block_weights\n",
      "WARNING:tensorflow:6 out of the last 6 calls to <function ModelBlock.assign_block_weights at 0x7150841ce0c0> triggered tf.function retracing. Tracing is expensive and the excessive number of tracings could be due to (1) creating @tf.function repeatedly in a loop, (2) passing tensors with different shapes, (3) passing Python objects instead of tensors. For (1), please define your @tf.function outside of the loop. For (2), @tf.function has reduce_retracing=True option that can avoid unnecessary retracing. For (3), please refer to https://www.tensorflow.org/guide/function#controlling_retracing and https://www.tensorflow.org/api_docs/python/tf/function for  more details.\n"
     ]
    },
    {
     "name": "stderr",
     "output_type": "stream",
     "text": [
      "WARNING:tensorflow:6 out of the last 6 calls to <function ModelBlock.assign_block_weights at 0x7150841ce0c0> triggered tf.function retracing. Tracing is expensive and the excessive number of tracings could be due to (1) creating @tf.function repeatedly in a loop, (2) passing tensors with different shapes, (3) passing Python objects instead of tensors. For (1), please define your @tf.function outside of the loop. For (2), @tf.function has reduce_retracing=True option that can avoid unnecessary retracing. For (3), please refer to https://www.tensorflow.org/guide/function#controlling_retracing and https://www.tensorflow.org/api_docs/python/tf/function for  more details.\n"
     ]
    },
    {
     "name": "stdout",
     "output_type": "stream",
     "text": [
      "Tracing assign_block_weights\n",
      "Tracing assign_block_weights\n",
      "Tracing assign_block_weights\n",
      "Tracing assign_block_weights\n",
      "Tracing assign_block_weights\n",
      "Tracing assign_block_weights\n",
      "Tracing assign_block_weights\n",
      "Tracing assign_block_weights\n",
      "Tracing assign_block_weights\n",
      "Tracing assign_block_weights\n",
      "Tracing assign_block_weights\n",
      "Tracing assign_block_weights\n"
     ]
    },
    {
     "name": "stderr",
     "output_type": "stream",
     "text": [
      "Generating text: 100%|█████████▉| 511/512 [00:29<00:00, 17.15it/s]"
     ]
    },
    {
     "name": "stdout",
     "output_type": "stream",
     "text": [
      "Every Sunday, a trio of buds get together at a NYC diner to boast about their sexual conquests of the night before. Sometimes they're joined by a newlywed ex-comrade and hoochie hunter who hangs on them like a puling barnacle. They're unabashed horn dogs/corn dogs and Mia, who witnesses them on the prowl, decides that they need to be taught a lesson, dammit. Ergo, she'll date and dump - why not? All three of them! <br /><br />Gasp. What a wild idea. What a radical, naughty gal. Women now have the right to date and sleep around as much as they want to. As much as men do, even! <br /><br />There is one solitary laughable element in \"Whipped\" - namely the fact that not once, during the amigo's detailed discussions of their bodily functions and the tantric talents of the bed partners they trash, do the other customers in the diner turn around and say, \"Dude, we're trying to EAT here.\" Indeed, a heh-heh gag has an older lady eagerly weigh in on the useful sexual properties of certain beverages. A big fat Kermit the Frog \"Sheesh\" to that.<br /><br />It's truly unfortunate that a buddy movie with a great setting, a smart, cute heroine and three possible pairings had to have such a cop-out ending.<br /><br />P.S. - 30 \"whip-oosh\" sound effects to the screenwriter for use of the phrase \"You go, girl\". It was tired in 2000, and it's tired now.<br /><br />Save your time and watch some \"Sex and the City\" reruns...\n",
      "Sentiment: 10/10<br />Sex: 10/10<br />Comedy: 10/10<br />Romance: 10/10<br />Action: 10/10<br />Overall: 10/10<br /><br />I'm not sure if I've ever seen a movie that was so perfect in every way. It's a buddy movie, a romantic comedy, a sex comedy, a comedy of manners, a comedy of errors, a comedy of sex, a comedy of love, a comedy of friendship, a comedy of life, a comedy of death, a comedy of everything, a comedy of everything\n"
     ]
    },
    {
     "name": "stderr",
     "output_type": "stream",
     "text": [
      "\n"
     ]
    }
   ],
   "source": [
    "response_text = llm.generate(query, max_length=MAX_SEQ_LENGTH)\n",
    "print(query + response_text.numpy().decode(\"utf-8\"))"
   ]
  },
  {
   "cell_type": "code",
   "execution_count": 12,
   "metadata": {},
   "outputs": [
    {
     "name": "stderr",
     "output_type": "stream",
     "text": [
      "1321it [09:08,  2.10it/s]"
     ]
    },
    {
     "name": "stdout",
     "output_type": "stream",
     "text": [
      "0 1320 1.1018922 0.2178302\n"
     ]
    },
    {
     "name": "stderr",
     "output_type": "stream",
     "text": [
      "1331it [09:12,  2.04it/s]"
     ]
    },
    {
     "name": "stdout",
     "output_type": "stream",
     "text": [
      "0 1330 0.9804423 0.2176463\n"
     ]
    },
    {
     "name": "stderr",
     "output_type": "stream",
     "text": [
      "1341it [09:17,  2.11it/s]"
     ]
    },
    {
     "name": "stdout",
     "output_type": "stream",
     "text": [
      "0 1340 1.753069 0.21806315\n"
     ]
    },
    {
     "name": "stderr",
     "output_type": "stream",
     "text": [
      "1351it [09:22,  2.09it/s]"
     ]
    },
    {
     "name": "stdout",
     "output_type": "stream",
     "text": [
      "0 1350 0.7081214 0.21822947\n"
     ]
    },
    {
     "name": "stderr",
     "output_type": "stream",
     "text": [
      "1361it [09:27,  2.09it/s]"
     ]
    },
    {
     "name": "stdout",
     "output_type": "stream",
     "text": [
      "0 1360 2.3553946 0.21842992\n"
     ]
    },
    {
     "name": "stderr",
     "output_type": "stream",
     "text": [
      "1371it [09:31,  2.08it/s]"
     ]
    },
    {
     "name": "stdout",
     "output_type": "stream",
     "text": [
      "0 1370 2.4506693 0.21871509\n"
     ]
    },
    {
     "name": "stderr",
     "output_type": "stream",
     "text": [
      "1381it [09:36,  2.11it/s]"
     ]
    },
    {
     "name": "stdout",
     "output_type": "stream",
     "text": [
      "0 1380 2.6113372 0.21896218\n"
     ]
    },
    {
     "name": "stderr",
     "output_type": "stream",
     "text": [
      "1391it [09:41,  2.13it/s]"
     ]
    },
    {
     "name": "stdout",
     "output_type": "stream",
     "text": [
      "0 1390 1.8060169 0.2188778\n"
     ]
    },
    {
     "name": "stderr",
     "output_type": "stream",
     "text": [
      "1401it [09:46,  2.11it/s]"
     ]
    },
    {
     "name": "stdout",
     "output_type": "stream",
     "text": [
      "0 1400 1.119721 0.21857572\n"
     ]
    },
    {
     "name": "stderr",
     "output_type": "stream",
     "text": [
      "1411it [09:50,  2.08it/s]"
     ]
    },
    {
     "name": "stdout",
     "output_type": "stream",
     "text": [
      "0 1410 1.1395746 0.2185465\n"
     ]
    },
    {
     "name": "stderr",
     "output_type": "stream",
     "text": [
      "1421it [09:55,  2.08it/s]"
     ]
    },
    {
     "name": "stdout",
     "output_type": "stream",
     "text": [
      "0 1420 1.1850827 0.218772\n"
     ]
    },
    {
     "name": "stderr",
     "output_type": "stream",
     "text": [
      "1431it [10:00,  2.13it/s]"
     ]
    },
    {
     "name": "stdout",
     "output_type": "stream",
     "text": [
      "0 1430 2.1346867 0.21892336\n"
     ]
    },
    {
     "name": "stderr",
     "output_type": "stream",
     "text": [
      "1441it [10:05,  2.14it/s]"
     ]
    },
    {
     "name": "stdout",
     "output_type": "stream",
     "text": [
      "0 1440 1.7871951 0.21890184\n"
     ]
    },
    {
     "name": "stderr",
     "output_type": "stream",
     "text": [
      "1451it [10:10,  2.09it/s]"
     ]
    },
    {
     "name": "stdout",
     "output_type": "stream",
     "text": [
      "0 1450 3.0114393 0.21881597\n"
     ]
    },
    {
     "name": "stderr",
     "output_type": "stream",
     "text": [
      "1461it [10:14,  2.05it/s]"
     ]
    },
    {
     "name": "stdout",
     "output_type": "stream",
     "text": [
      "0 1460 1.5781641 0.21882087\n"
     ]
    },
    {
     "name": "stderr",
     "output_type": "stream",
     "text": [
      "1471it [10:19,  2.10it/s]"
     ]
    },
    {
     "name": "stdout",
     "output_type": "stream",
     "text": [
      "0 1470 1.9934244 0.21902224\n"
     ]
    },
    {
     "name": "stderr",
     "output_type": "stream",
     "text": [
      "1481it [10:24,  2.14it/s]"
     ]
    },
    {
     "name": "stdout",
     "output_type": "stream",
     "text": [
      "0 1480 2.0115695 0.21869065\n"
     ]
    },
    {
     "name": "stderr",
     "output_type": "stream",
     "text": [
      "1491it [10:29,  2.15it/s]"
     ]
    },
    {
     "name": "stdout",
     "output_type": "stream",
     "text": [
      "0 1490 2.6621306 0.21899696\n"
     ]
    },
    {
     "name": "stderr",
     "output_type": "stream",
     "text": [
      "1501it [10:33,  2.14it/s]"
     ]
    },
    {
     "name": "stdout",
     "output_type": "stream",
     "text": [
      "0 1500 1.1542345 0.21890098\n"
     ]
    },
    {
     "name": "stderr",
     "output_type": "stream",
     "text": [
      "1511it [10:38,  2.11it/s]"
     ]
    },
    {
     "name": "stdout",
     "output_type": "stream",
     "text": [
      "0 1510 3.0048428 0.21915077\n"
     ]
    },
    {
     "name": "stderr",
     "output_type": "stream",
     "text": [
      "1521it [10:43,  2.10it/s]"
     ]
    },
    {
     "name": "stdout",
     "output_type": "stream",
     "text": [
      "0 1520 2.6764784 0.2191231\n"
     ]
    },
    {
     "name": "stderr",
     "output_type": "stream",
     "text": [
      "1531it [10:47,  2.11it/s]"
     ]
    },
    {
     "name": "stdout",
     "output_type": "stream",
     "text": [
      "0 1530 0.9458314 0.21908174\n"
     ]
    },
    {
     "name": "stderr",
     "output_type": "stream",
     "text": [
      "1541it [10:52,  2.15it/s]"
     ]
    },
    {
     "name": "stdout",
     "output_type": "stream",
     "text": [
      "0 1540 0.9133131 0.2187145\n"
     ]
    },
    {
     "name": "stderr",
     "output_type": "stream",
     "text": [
      "1551it [10:57,  2.12it/s]"
     ]
    },
    {
     "name": "stdout",
     "output_type": "stream",
     "text": [
      "0 1550 2.5780973 0.21930416\n"
     ]
    },
    {
     "name": "stderr",
     "output_type": "stream",
     "text": [
      "1561it [11:02,  2.11it/s]"
     ]
    },
    {
     "name": "stdout",
     "output_type": "stream",
     "text": [
      "0 1560 1.8409793 0.21926433\n"
     ]
    },
    {
     "name": "stderr",
     "output_type": "stream",
     "text": [
      "1571it [11:06,  2.10it/s]"
     ]
    },
    {
     "name": "stdout",
     "output_type": "stream",
     "text": [
      "0 1570 1.4521037 0.21914169\n"
     ]
    },
    {
     "name": "stderr",
     "output_type": "stream",
     "text": [
      "1581it [11:11,  2.12it/s]"
     ]
    },
    {
     "name": "stdout",
     "output_type": "stream",
     "text": [
      "0 1580 1.4377015 0.21968904\n"
     ]
    },
    {
     "name": "stderr",
     "output_type": "stream",
     "text": [
      "1591it [11:16,  2.09it/s]"
     ]
    },
    {
     "name": "stdout",
     "output_type": "stream",
     "text": [
      "0 1590 2.0844917 0.2195579\n"
     ]
    },
    {
     "name": "stderr",
     "output_type": "stream",
     "text": [
      "1601it [11:20,  2.18it/s]"
     ]
    },
    {
     "name": "stdout",
     "output_type": "stream",
     "text": [
      "0 1600 3.196047 0.21966875\n"
     ]
    },
    {
     "name": "stderr",
     "output_type": "stream",
     "text": [
      "1611it [11:25,  2.16it/s]"
     ]
    },
    {
     "name": "stdout",
     "output_type": "stream",
     "text": [
      "0 1610 1.5418758 0.21948542\n"
     ]
    },
    {
     "name": "stderr",
     "output_type": "stream",
     "text": [
      "1621it [11:30,  2.13it/s]"
     ]
    },
    {
     "name": "stdout",
     "output_type": "stream",
     "text": [
      "0 1620 1.1616918 0.21945739\n"
     ]
    },
    {
     "name": "stderr",
     "output_type": "stream",
     "text": [
      "1631it [11:34,  2.24it/s]"
     ]
    },
    {
     "name": "stdout",
     "output_type": "stream",
     "text": [
      "0 1630 1.0373461 0.21938477\n"
     ]
    },
    {
     "name": "stderr",
     "output_type": "stream",
     "text": [
      "1641it [11:39,  2.24it/s]"
     ]
    },
    {
     "name": "stdout",
     "output_type": "stream",
     "text": [
      "0 1640 0.7644794 0.21931544\n"
     ]
    },
    {
     "name": "stderr",
     "output_type": "stream",
     "text": [
      "1651it [11:43,  2.21it/s]"
     ]
    },
    {
     "name": "stdout",
     "output_type": "stream",
     "text": [
      "0 1650 1.0772117 0.21941732\n"
     ]
    },
    {
     "name": "stderr",
     "output_type": "stream",
     "text": [
      "1661it [11:48,  2.25it/s]"
     ]
    },
    {
     "name": "stdout",
     "output_type": "stream",
     "text": [
      "0 1660 1.0950825 0.21979317\n"
     ]
    },
    {
     "name": "stderr",
     "output_type": "stream",
     "text": [
      "1671it [11:52,  2.13it/s]"
     ]
    },
    {
     "name": "stdout",
     "output_type": "stream",
     "text": [
      "0 1670 0.50556403 0.21944088\n"
     ]
    },
    {
     "name": "stderr",
     "output_type": "stream",
     "text": [
      "1681it [11:57,  2.08it/s]"
     ]
    },
    {
     "name": "stdout",
     "output_type": "stream",
     "text": [
      "0 1680 1.4318831 0.21918693\n"
     ]
    },
    {
     "name": "stderr",
     "output_type": "stream",
     "text": [
      "1691it [12:02,  2.18it/s]"
     ]
    },
    {
     "name": "stdout",
     "output_type": "stream",
     "text": [
      "0 1690 3.285428 0.21902493\n"
     ]
    },
    {
     "name": "stderr",
     "output_type": "stream",
     "text": [
      "1701it [12:06,  2.23it/s]"
     ]
    },
    {
     "name": "stdout",
     "output_type": "stream",
     "text": [
      "0 1700 2.5790572 0.21895383\n"
     ]
    },
    {
     "name": "stderr",
     "output_type": "stream",
     "text": [
      "1711it [12:11,  2.30it/s]"
     ]
    },
    {
     "name": "stdout",
     "output_type": "stream",
     "text": [
      "0 1710 0.9659467 0.21899089\n"
     ]
    },
    {
     "name": "stderr",
     "output_type": "stream",
     "text": [
      "1721it [12:15,  2.29it/s]"
     ]
    },
    {
     "name": "stdout",
     "output_type": "stream",
     "text": [
      "0 1720 1.112963 0.21904853\n"
     ]
    },
    {
     "name": "stderr",
     "output_type": "stream",
     "text": [
      "1731it [12:19,  2.24it/s]"
     ]
    },
    {
     "name": "stdout",
     "output_type": "stream",
     "text": [
      "0 1730 1.5794291 0.21898136\n"
     ]
    },
    {
     "name": "stderr",
     "output_type": "stream",
     "text": [
      "1741it [12:24,  2.21it/s]"
     ]
    },
    {
     "name": "stdout",
     "output_type": "stream",
     "text": [
      "0 1740 1.2265005 0.21863219\n"
     ]
    },
    {
     "name": "stderr",
     "output_type": "stream",
     "text": [
      "1751it [12:28,  2.34it/s]"
     ]
    },
    {
     "name": "stdout",
     "output_type": "stream",
     "text": [
      "0 1750 2.7842526 0.21881413\n"
     ]
    },
    {
     "name": "stderr",
     "output_type": "stream",
     "text": [
      "1761it [12:32,  2.38it/s]"
     ]
    },
    {
     "name": "stdout",
     "output_type": "stream",
     "text": [
      "0 1760 0.3428393 0.21874002\n"
     ]
    },
    {
     "name": "stderr",
     "output_type": "stream",
     "text": [
      "1771it [12:37,  2.29it/s]"
     ]
    },
    {
     "name": "stdout",
     "output_type": "stream",
     "text": [
      "0 1770 2.0945177 0.21856526\n"
     ]
    },
    {
     "name": "stderr",
     "output_type": "stream",
     "text": [
      "1781it [12:41,  2.18it/s]"
     ]
    },
    {
     "name": "stdout",
     "output_type": "stream",
     "text": [
      "0 1780 0.83213127 0.21887504\n"
     ]
    },
    {
     "name": "stderr",
     "output_type": "stream",
     "text": [
      "1791it [12:46,  2.24it/s]"
     ]
    },
    {
     "name": "stdout",
     "output_type": "stream",
     "text": [
      "0 1790 1.3730164 0.21899867\n"
     ]
    },
    {
     "name": "stderr",
     "output_type": "stream",
     "text": [
      "1801it [12:50,  2.24it/s]"
     ]
    },
    {
     "name": "stdout",
     "output_type": "stream",
     "text": [
      "0 1800 1.5594542 0.21897236\n"
     ]
    },
    {
     "name": "stderr",
     "output_type": "stream",
     "text": [
      "1811it [12:55,  2.25it/s]"
     ]
    },
    {
     "name": "stdout",
     "output_type": "stream",
     "text": [
      "0 1810 1.6858964 0.21864538\n"
     ]
    },
    {
     "name": "stderr",
     "output_type": "stream",
     "text": [
      "1821it [12:59,  2.23it/s]"
     ]
    },
    {
     "name": "stdout",
     "output_type": "stream",
     "text": [
      "0 1820 1.354696 0.21873283\n"
     ]
    },
    {
     "name": "stderr",
     "output_type": "stream",
     "text": [
      "1831it [13:04,  2.28it/s]"
     ]
    },
    {
     "name": "stdout",
     "output_type": "stream",
     "text": [
      "0 1830 1.8750117 0.21858251\n"
     ]
    },
    {
     "name": "stderr",
     "output_type": "stream",
     "text": [
      "1841it [13:08,  2.25it/s]"
     ]
    },
    {
     "name": "stdout",
     "output_type": "stream",
     "text": [
      "0 1840 3.482183 0.21834892\n"
     ]
    },
    {
     "name": "stderr",
     "output_type": "stream",
     "text": [
      "1851it [13:12,  2.27it/s]"
     ]
    },
    {
     "name": "stdout",
     "output_type": "stream",
     "text": [
      "0 1850 1.1829743 0.21853894\n"
     ]
    },
    {
     "name": "stderr",
     "output_type": "stream",
     "text": [
      "1861it [13:17,  2.27it/s]"
     ]
    },
    {
     "name": "stdout",
     "output_type": "stream",
     "text": [
      "0 1860 2.3762245 0.21825981\n"
     ]
    },
    {
     "name": "stderr",
     "output_type": "stream",
     "text": [
      "1871it [13:21,  2.20it/s]"
     ]
    },
    {
     "name": "stdout",
     "output_type": "stream",
     "text": [
      "0 1870 1.9437608 0.21810897\n"
     ]
    },
    {
     "name": "stderr",
     "output_type": "stream",
     "text": [
      "1881it [13:26,  2.21it/s]"
     ]
    },
    {
     "name": "stdout",
     "output_type": "stream",
     "text": [
      "0 1880 3.356947 0.21827334\n"
     ]
    },
    {
     "name": "stderr",
     "output_type": "stream",
     "text": [
      "1891it [13:30,  2.22it/s]"
     ]
    },
    {
     "name": "stdout",
     "output_type": "stream",
     "text": [
      "0 1890 0.96271986 0.21828103\n"
     ]
    },
    {
     "name": "stderr",
     "output_type": "stream",
     "text": [
      "1901it [13:35,  2.23it/s]"
     ]
    },
    {
     "name": "stdout",
     "output_type": "stream",
     "text": [
      "0 1900 2.3056252 0.21861538\n"
     ]
    },
    {
     "name": "stderr",
     "output_type": "stream",
     "text": [
      "1911it [13:39,  2.26it/s]"
     ]
    },
    {
     "name": "stdout",
     "output_type": "stream",
     "text": [
      "0 1910 0.9130092 0.21854761\n"
     ]
    },
    {
     "name": "stderr",
     "output_type": "stream",
     "text": [
      "1921it [13:43,  2.28it/s]"
     ]
    },
    {
     "name": "stdout",
     "output_type": "stream",
     "text": [
      "0 1920 3.4147093 0.21850342\n"
     ]
    },
    {
     "name": "stderr",
     "output_type": "stream",
     "text": [
      "1931it [13:48,  2.31it/s]"
     ]
    },
    {
     "name": "stdout",
     "output_type": "stream",
     "text": [
      "0 1930 1.2302482 0.21858309\n"
     ]
    },
    {
     "name": "stderr",
     "output_type": "stream",
     "text": [
      "1941it [13:52,  2.34it/s]"
     ]
    },
    {
     "name": "stdout",
     "output_type": "stream",
     "text": [
      "0 1940 1.8720803 0.21866548\n"
     ]
    },
    {
     "name": "stderr",
     "output_type": "stream",
     "text": [
      "1951it [13:57,  2.34it/s]"
     ]
    },
    {
     "name": "stdout",
     "output_type": "stream",
     "text": [
      "0 1950 3.1462994 0.21890669\n"
     ]
    },
    {
     "name": "stderr",
     "output_type": "stream",
     "text": [
      "1961it [14:01,  2.30it/s]"
     ]
    },
    {
     "name": "stdout",
     "output_type": "stream",
     "text": [
      "0 1960 1.1965506 0.21871912\n"
     ]
    },
    {
     "name": "stderr",
     "output_type": "stream",
     "text": [
      "1971it [14:05,  2.21it/s]"
     ]
    },
    {
     "name": "stdout",
     "output_type": "stream",
     "text": [
      "0 1970 2.8613057 0.21880302\n"
     ]
    },
    {
     "name": "stderr",
     "output_type": "stream",
     "text": [
      "1981it [14:10,  2.27it/s]"
     ]
    },
    {
     "name": "stdout",
     "output_type": "stream",
     "text": [
      "0 1980 1.5135703 0.21875297\n"
     ]
    },
    {
     "name": "stderr",
     "output_type": "stream",
     "text": [
      "1991it [14:14,  2.31it/s]"
     ]
    },
    {
     "name": "stdout",
     "output_type": "stream",
     "text": [
      "0 1990 1.371501 0.21844095\n"
     ]
    },
    {
     "name": "stderr",
     "output_type": "stream",
     "text": [
      "2000it [14:18,  2.33it/s]"
     ]
    },
    {
     "name": "stdout",
     "output_type": "stream",
     "text": [
      "0 1.9085727 0.21840914\n"
     ]
    },
    {
     "name": "stderr",
     "output_type": "stream",
     "text": [
      "\n",
      "2024-06-09 17:11:06.011708: W tensorflow/core/kernels/data/cache_dataset_ops.cc:858] The calling iterator did not fully read the dataset being cached. In order to avoid unexpected truncation of the dataset, the partially cached contents of the dataset  will be discarded. This can happen if you have an input pipeline similar to `dataset.cache().take(k).repeat()`. You should use `dataset.take(k).cache().repeat()` instead.\n"
     ]
    }
   ],
   "source": [
    "metrics = trainer.fit(llm, train_ds_processed, epochs=1, steps_per_epoch=2000)"
   ]
  },
  {
   "cell_type": "code",
   "execution_count": 13,
   "metadata": {},
   "outputs": [
    {
     "data": {
      "text/plain": [
       "[<matplotlib.lines.Line2D at 0x71500077a2d0>]"
      ]
     },
     "execution_count": 13,
     "metadata": {},
     "output_type": "execute_result"
    },
    {
     "data": {
      "image/png": "[encoded data removed]",
      "text/plain": [
       "<Figure size 1000x500 with 2 Axes>"
      ]
     },
     "metadata": {},
     "output_type": "display_data"
    }
   ],
   "source": [
    "import pandas as pd\n",
    "import matplotlib.pyplot as plt\n",
    "metrics_df = pd.DataFrame(metrics)\n",
    "plt.figure(figsize=(10, 5))\n",
    "plt.subplot(121)\n",
    "plt.plot(metrics_df[\"loss\"], label=\"loss\")\n",
    "plt.subplot(122) \n",
    "plt.plot(metrics_df[\"accuracy\"], label=\"accuracy\")"
   ]
  },
  {
   "cell_type": "markdown",
   "metadata": {},
   "source": [
    "# Evaluate model"
   ]
  },
  {
   "cell_type": "code",
   "execution_count": 14,
   "metadata": {},
   "outputs": [],
   "source": [
    "test_ds = tfds.load(\"imdb_reviews\", split=\"test\")\n",
    "test_ds = (\n",
    "    test_ds.map(prepare_text)\n",
    "    .batch(BATCH_SIZE)\n",
    "    .prefetch(tf.data.AUTOTUNE)\n",
    ")\n",
    "test_ds_processed = test_ds.map(llm.preprocessor)\n",
    "test_ds_iter = iter(test_ds)"
   ]
  },
  {
   "cell_type": "code",
   "execution_count": 15,
   "metadata": {},
   "outputs": [
    {
     "name": "stdout",
     "output_type": "stream",
     "text": [
      "There are films that make careers. For George Romero, it was NIGHT OF THE LIVING DEAD; for Kevin Smith, CLERKS; for Robert Rodriguez, EL MARIACHI. Add to that list Onur Tukel's absolutely amazing DING-A-LING-LESS. Flawless film-making, and as assured and as professional as any of the aforementioned movies. I haven't laughed this hard since I saw THE FULL MONTY. (And, even then, I don't think I laughed quite this hard... So to speak.) Tukel's talent is considerable: DING-A-LING-LESS is so chock full of double entendres that one would have to sit down with a copy of this script and do a line-by-line examination of it to fully appreciate the, uh, breadth and width of it. Every shot is beautifully composed (a clear sign of a sure-handed director), and the performances all around are solid (there's none of the over-the-top scenery chewing one might've expected from a film like this). DING-A-LING-LESS is a film whose time has come.\n",
      "Sentiment:\n",
      " Positive\n"
     ]
    }
   ],
   "source": [
    "for sample in test_ds_iter:\n",
    "    break\n",
    "\n",
    "parts = sample[0].numpy().decode(\"utf-8\").split(SEPARATOR.strip())\n",
    "query = parts[0] + SEPARATOR.strip()\n",
    "print(query)\n",
    "print(parts[1])"
   ]
  },
  {
   "cell_type": "code",
   "execution_count": 16,
   "metadata": {},
   "outputs": [
    {
     "name": "stderr",
     "output_type": "stream",
     "text": [
      "Generating text:  47%|████▋     | 243/512 [00:00<00:00, 735.76it/s] "
     ]
    },
    {
     "name": "stdout",
     "output_type": "stream",
     "text": [
      "('There are films that make careers. For George Romero, it was NIGHT OF THE '\n",
      " 'LIVING DEAD; for Kevin Smith, CLERKS; for Robert Rodriguez, EL MARIACHI. Add '\n",
      " \"to that list Onur Tukel's absolutely amazing DING-A-LING-LESS. Flawless \"\n",
      " 'film-making, and as assured and as professional as any of the aforementioned '\n",
      " \"movies. I haven't laughed this hard since I saw THE FULL MONTY. (And, even \"\n",
      " \"then, I don't think I laughed quite this hard... So to speak.) Tukel's \"\n",
      " 'talent is considerable: DING-A-LING-LESS is so chock full of double '\n",
      " 'entendres that one would have to sit down with a copy of this script and do '\n",
      " 'a line-by-line examination of it to fully appreciate the, uh, breadth and '\n",
      " 'width of it. Every shot is beautifully composed (a clear sign of a '\n",
      " \"sure-handed director), and the performances all around are solid (there's \"\n",
      " \"none of the over-the-top scenery chewing one might've expected from a film \"\n",
      " 'like this). DING-A-LING-LESS is a film whose time has come.\\n'\n",
      " 'Sentiment: Positive')\n"
     ]
    },
    {
     "name": "stderr",
     "output_type": "stream",
     "text": [
      "\n"
     ]
    }
   ],
   "source": [
    "import pprint\n",
    "\n",
    "response_text = llm.generate(query, max_length=MAX_SEQ_LENGTH)\n",
    "pprint.pprint(query + response_text.numpy().decode(\"utf-8\"))"
   ]
  },
  {
   "cell_type": "code",
   "execution_count": 17,
   "metadata": {},
   "outputs": [
    {
     "name": "stderr",
     "output_type": "stream",
     "text": [
      "1it [00:00,  2.94it/s]"
     ]
    },
    {
     "name": "stdout",
     "output_type": "stream",
     "text": [
      "Prompt is too long >512 (Max Length), prompt: Scary Movie 1-4, Epic Movie, Date Movie, Meet the Spartans, Not another Teen Movie and Another Gay Movie. Making \"Superhero Movie\" the eleventh in a series that single handily ruined the parody genre. Now I'll admit it I have a soft spot for classics such as Airplane and The Naked Gun but you know you've milked a franchise so bad when you can see the gags a mile off. In fact the only thing that might really temp you into going to see this disaster is the incredibly funny but massive sell-out Leslie Neilson.<br /><br />You can tell he needs the money, wither that or he intends to go down with the ship like a good Capitan would. In no way is he bringing down this genre but hell he's not helping it. But if I feel sorry for anybody in this film its decent actor Drake Bell who is put through an immense amount of embarrassment. The people who are put through the largest amount of torture by far however is the audience forced to sit through 90 minutes of laughless bile no funnier than herpes.<br /><br />After spoofing disaster films in Airplane!, police shows in The Naked Gun, and Hollywood horrors in Scary Movie 3 and 4, producer David Zucker sets his satirical sights on the superhero genre with this anarchic comedy lampooning everything from Spider-Man to X-Men and Superman Returns.<br /><br />Shortly after being bitten by a genetically altered dragonfly, high-school outcast Rick Riker (Drake Bell) begins to experience a startling transformation. Now Rick's skin is as strong as steel, and he possesses the strength of ten men. Determined to use his newfound powers to fight crime, Rick creates a special costume and assumes the identity of The Dragonfly -- a fearless crime fighter dedicated to keeping the streets safe for law-abiding citizens.<br /><br />But every superhero needs a nemesis, and after Lou Landers (Christopher McDonald) is caught in the middle of an experiment gone horribly awry, he develops the power to leech the life force out of anyone he meets and becomes the villainous Hourglass. Intent on achieving immortality, the Hourglass attempts to gather as much life force as possible as the noble Dragonfly sets out to take down his archenemy and realize his destiny as a true hero. Craig Mazin writes and directs this low-flying spoof.<br /><br />featuring Tracy Morgan, Pamela Anderson, Leslie Nielsen, Marion Ross, Jeffrey Tambor, and Regina Hall.<br /><br />Hell Superhero Movie may earn some merit in the fact that it's a hell of a lot better than Meet the Spartans and Epic Movie. But with great responsibility comes one of the worst outings of 2008 to date. Laughless but a little less irritating than Meet the Spartans. And in the same sense much more forgettable than meet the Spartans. But maybe that's a good reason. There are still some of us trying to scrape away the stain that was Meet the Spartans from our memory.<br /><br />My final verdict? Avoid, unless you're one of thoses people who enjoy such car crash cinema. As bad as Date Movie and Scary Movie 2 but not quite as bad as Meet the Spartans or Epic Movie. Super Villain.\n",
      "Sentiment:\n"
     ]
    },
    {
     "name": "stderr",
     "output_type": "stream",
     "text": [
      "8it [00:02,  3.12it/s]"
     ]
    },
    {
     "name": "stdout",
     "output_type": "stream",
     "text": [
      "Prompt is too long >512 (Max Length), prompt: Every great once in a while, you stumble upon a movie that exceeds even your wildest expectations. Given the IMDb rating of 4.0, I wasn't really expecting much with The Brotherhood of Satan. I hoped that at a minimum it might be cheesy fun like The Devil's Rain or any of the other early 70s similarly themed Satanic horror films. I couldn't' have been more wrong. What I got instead was an ambitious and intelligent film with a cast I really enjoyed. Speaking in broad terms to avoid giving anything away, the film's style and structure are much more experimental than the straightforward storytelling so prominent in the early 70s. The Brotherhood of Satan doesn't beat you over the head with plot points and explanations. A lot is left to the viewer to fill in the blanks. As a viewer, you know something is amiss, but for the longest period you're just not sure what it is. The unknown helps make for a far creepier atmosphere than most similar films. The ending is effective with its surreal imagery. I sat in amazement as the final credits began to roll. Those wanting a big slam-bang finale will be disappointed with the ending's simplicity. A lesser film would have tried to pull out all the stops and would, most likely, have failed miserably.<br /><br />There are moments in the film where it's easy to forget the director, Bernard McEveety, had primarily worked in television before The Brotherhood of Satan. There are a few scenes that are so well set-up, lit, and shot that even the most accomplished of directors could learn a thing or two. For example, I've seen enough films over the years to realize that directors can sometimes seem to have trouble shooting widescreen shots indoors. Not here. The scene where the men are discussing their plan of action in the sheriff's office is amazing. We see all five men at once  each doing their own thing as in real life. In a lesser film, we might see all the men at once, but each would be motionless, quietly waiting their turn to deliver their dialogue. It's a small scene, but it looks so natural and is so beautifully shot that it's one of my favorite moments of The Brotherhood of Satan.<br /><br />Finally, I mentioned the acting in my opening, so without going into a long-winded speech, I'll just say that The Brotherhood of Satan features Strother Martin and L.Q. Jones. Any film with these two guys is almost an automatic winner with me.\n",
      "Sentiment:\n",
      "Prompt is too long >512 (Max Length), prompt: I'll give it a two because it has a lot of music, otherwise it would be a one.<br /><br />I saw this movie for the first time tonight and it's the first \"Road\" picture I've seen. I was expecting waaaaay better. Robert Osborn says this is the best of the Road movies. If that's true I needn't bother to see the others. The best thing about this movie is that it has a lot of songs in the first half, but that's balanced out by only one production number with dancing in the entire movie.<br /><br />I didn't like the movie. Neither Hope nor Crosby came across all that well, their characters weren't very charming, the movie was not funny at all, most of the dialog was just lame filler, there wasn't much action, there wasn't much spectacle.<br /><br />The movie wasn't what I expected. I was expecting more \"Road,\" but there isn't much. They quickly make it to the palace and then most of the movie takes place there, until the end. I was also expecting a lot more of the famous \"road\" style of breaking the fourth wall, wherein the characters talk directly to the audience or comment on the plot. There was only about 4 instances of that. One of those is an example of the non-funny humor of this script:<br /><br />(Hope recaps the plot up to now to Crosby) Crosby: I know all that! Hope: Yeah but the people that came in half-way through the picture don't. Crosby: You mean they missed my song?<br /><br />Those are two weak punchlines, but at least they are actually jokes. Much of the rest of the script doesn't even have any jokes. An example is: <br /><br />Crosby: Remind me to throw you a piece of cheese in the morning. (Indirectly calling Hope a rat).<br /><br />That's not funny at all, it barely even qualifies as a joke, but that's the kind of non-joke dialog that carries most of the movie. Many of the scenes don't even come that close to a joke, just using generic uninteresting dialog like:<br /><br />Crosby: Hey, whadda ya' take me for? You think that you can just throw me to the dogs? Hope: Well why not, you did it to me didn't you? Crosby: Yeah but that's because I was lookin' out for us. You're not lookin' out for nobody. Hope: Oh yeah? Well then why did I pay the check?<br /><br />(the above is just from my memory. It's not exact but it illustrates to you what I mean).<br /><br />And so on....just generic dialog with no jokes at all.<br /><br />My grade: A waste of time.\n",
      "Sentiment:\n"
     ]
    },
    {
     "name": "stderr",
     "output_type": "stream",
     "text": [
      "40it [00:12,  3.02it/s]"
     ]
    },
    {
     "name": "stdout",
     "output_type": "stream",
     "text": [
      "Prompt is too long >512 (Max Length), prompt: I have been collecting Iron Man comics since the early 70s and always enjoyed the character who is far far from the average clean cut hero and his many and varied enemies. There have been no less than three attempts at an animated series for Iron Man and only the original and part of the second have ever done the character justice. So I was somewhat hopeful that this newest version would be good. Boy was I wrong! The DVD art is VERY misleading and presents an image that is not the movie. Fist off the good, what little there is... The art and animation are well drawn and the writing and dialog are generally good, though with notable exceptions. Character voices are very well selected and each character is distinctive and well acted. Now for the bad... Unfortunately the writers opted to totally screw around with both Iron Man's origin and especially the Mandarin's. On top of that they decided to do Iron Man and his opponents all in CGI. Bad CGI. This makes them stand out almost as badly as live actors would in a cartoon. The CG work is often repetitive and glaring shortcuts are taken at times. The CG battles are clumsy as well, further enhancing the fact that CG and line animation do not mix well. The movie would certainly have fared better had they opted to actually DRAW all the characters. Another problem is that Iron Man is in his traditional Red and Gold suit for all of ONE battle! And its not even the big fight at the end. All this drags the movie down and it never picks up.<br /><br />************ SPOILERS (or warnings) MAY FOLLOW ************<br /><br />The movie starts off with an interestingly unusual stop motion credit sequence of machinery, welding and gears. Then we are introduced to what looks like a Chinese temple in the process of being restored, and prominent is a statue of what fans will recognize as the Mandarin. Things go strangely, impeding progress in restoring the temple. Overseeing it is James Rhodes, Tony Stark's long time friend. Seems they plan to actually raise the temple up from the earth, despite opposition by a group who insist that raising the temple will bring about a terrible disaster. Rhodes is captured in a raid. Stark, shown in a hot tub with a lovely lady, is informed of the problems and sets out to personally oversee the project and rescue his friend while in the background his father deals with Board Executives who are pushing to have Tony removed. Tony arrives only to have his armored escort ambushed and blown to pieces. Tony later awakens mortally wounded in the heart and a prisoner of the rebels. He is saved only by quick action from Rhodes and a scientist. Eventually Stark must build the prototype gray iron armor and makes good an escape, but only after some loss of life. While with the rebels he meets a troubled girl named Li Mei, and the two fall in love. The Temple is raised and four elemental beings (all done in CG) appear and proceed to start collecting hidden rings of power. Stark and Rhody find trouble back home but manage to confront the elementals without success in really stopping them, First using the Aquatic Armor, then the more classic Red and Gold Armor and finally everything returns to the temple and Stark is back in the bulky gray armor for a final showdown and a run in with what may be Fin Fang Foom (also in CG.) Here the story takes a major twist as it turns out that the Mandarin needs a host body to manifest. This leads to a somewhat tragic final battle marred by the fact that the Mandarin is little more than a ghost and isn't seen till the last 5 minutes of the movie. ugh...<br /><br />If you are an Iron Man fan then you will likely not enjoy this outing. And even non-fans may well find the movie somewhat lacking or not.\n",
      "Sentiment:\n"
     ]
    },
    {
     "name": "stderr",
     "output_type": "stream",
     "text": [
      "59it [00:18,  2.86it/s]"
     ]
    },
    {
     "name": "stdout",
     "output_type": "stream",
     "text": [
      "Prompt is too long >512 (Max Length), prompt: The title pretty much lets you know what you're getting. It's a grade-C howler but not as blatantly funny as I was hoping. Directed by exploitation film specialist Eddie Romero from a story that originally came from Jonathan Demme (long before directing \"Silence of the Lambs\" and \"Philadelphia\"), this low-budget 1972 action movie was obviously filmed in the Philippines but set in some anonymous third world country. Playing hooker and small-time drug dealer Lee Daniels, blaxploitation superstar Pam Grier plays the first half of the title role, while long-forgotten Margaret Markov is the other half, Karen Brent, an unlikely Patty Hearst-like political revolutionary looking to partner with her comrades to overthrow the oppressive local government. Naturally antagonistic toward each other, they are in a women's prison camp where they wear inexplicably bright yellow mini-skirts as uniforms. Run by a closeted warden and lecherous matron, the prison is just an excuse for a lengthy shower scene and some half-hearted cat-fighting as Lee and Karen are pitted against each other. Of course, they escape but shackled together a la \"The Defiant Ones\" and continue the cat-fighting until they attack a couple of nuns to steal their habits.<br /><br />Meanwhile, various groups of unsavory men are in pursuit - the loutish drug lord looking for Lee who stole $40K from him, the rather passive revolutionaries looking for Karen, and the incompetent police (who suffer the humiliation of exposing their privates to the drug lord). Needless to say, everything eventually comes to a head but not before gratuitous nudity by a number of Filipino women, a dog wears Karen's panties and some of the worst of 1970's men's fashion (one beer-bellied revolutionary wears a leather halter top with a straight face). There is a rather sad ending, but what's truly sad is how much of the potential black comedy is missed entirely in this hilariously preposterous exercise. Sadly, Grier is disappointing in this outing because her character is not allowed much to do beyond dealing with all the \"jive\", while Markov is an Amazonian blonde whom I am convinced is trying desperately to be credible. Since no one displays any talent for acting, the rest of the cast is not worth noting, except balding, bug-eyed Sid Haig, who uses his standard psycho persona as the drug lord. The 2003 DVD contains only the original trailer as an extra.\n",
      "Sentiment:\n"
     ]
    },
    {
     "name": "stderr",
     "output_type": "stream",
     "text": [
      "63it [00:19,  3.18it/s]"
     ]
    },
    {
     "name": "stdout",
     "output_type": "stream",
     "text": [
      "Prompt is too long >512 (Max Length), prompt: Favela Rising is a documentary about the slums of Rio, the favelas, specifically the most violent one, Vigário Geral. According to this film, a lot more kids have died violently in Rio's favelas over the last decade or so than in Israel/Palestine during the same period -- a fact astonishing if true, which shows how under-recognized this social problem is in the rest of the world. This is an important topic, especially for those who see hope in grassroots efforts to marshal the neediest and most at risk through a vibrant cultural program. This is a compelling documentary, if occasionally marred by a somewhat too personality-based version of events and by grainy digital video and film that sometimes may make you think you need to have your eyes examined.<br /><br />Drug lords rule in the favelas and gun-toting teenage boys are the main drug dealers, like in parts of Colombia. Fernando Meirelles' movie City of God/Cidade de Deus has been accused of celebrating violence (Cidade de Deus is another of Rio's many favelas). But the early section of Favela Rising shows that in fact favela boys do celebrate violence and want to deal drugs where the money and the action are. It's cool to carry a gun there, cool to work as a drug trafficker: it's fifty times more profitable than the earnings available by other means.<br /><br />Mochary first discovered the AfroReggae movement and its leaders Anderson Sá and José Junior while visiting Rio for a conference and quickly persuaded his friend and mentor Zimbalist to quit his job and come down to help make a film with his own promise to fund it. Sá's eloquence and charisma and a startling twist in his life make him the center of the film and its chief narrator, but like the favelas themselves the film teems with other people. No doubt about the fact that Sá is a remarkable leader, organizer, and artist.<br /><br />Vigário Geral is compared to Bosnia: shooting there was very dangerous. Anderson Sá's friendship and protection and caution and diplomacy in the shooting enabled the filmmakers to gain access and shoot detailed footage of their subject matters while (mostly: there were close calls) avoiding any serious confrontations with drug lords or drug-dealing cops. They also trained boys to use cameras and left them there on trips home. That resulted in 10% of the footage, including rare shots of violent incidents including police beatings. It's hard for an outsider to keep track of police massacres in Rio. There was one in the early 1990's that looms over the story and inspired Sá, who ended his own early involvement in drug trafficking to lead his cultural movement. The cops are all over the drug trade and if anybody doesn't like that the ill trained police paramilitaries come in (often wearing black ski masks) and shoot up a neighborhood, killing a lot of innocents.<br /><br />This is pretty much the picture we get in Meirelles' City of God, except that this time Sá, Junior, and the other guys come in, starting in Vigário Geral but spreading out eventually to a number of other favelas to give percussion classes that attract dozens of youth -- girls as well as boys. Their AfroReggae (Grupo Cultural AfroReggae or GCAR) program, formed in 1993, is a new alternative way of life for young black men in the Rio ghettos. It leads them to leave behind smoking, alcohol, and drugs (that's the rule) to explode into rap, song, percussion, and gymnastics in expressive, galvanic performances. Eventually the best of the performers led by Sá wind up appearing before big local audiences with local producers, and their Banda AfroReggae has an international recording contract.<br /><br />Other centers and groups have been created by or through the GCAR over the years in Vigário Geral and other favelas to seek the betterment of youth by providing training and staging performances of music, capoeira, theater, hiphop and dance at GCAR centers.<br /><br />The performance arts aren't everything, just the focal point. GCAR is also a movement for broader social change Gathering public awareness through such performances, the centers also provide training in information (newspaper, radio, Internet, e-mail links), hygiene and sex education, to seek to bridge gaps between rich and poor, black and white, and to offer workshops in audio-visual work, including production of documentaries. The program is currently active in four other favelas.<br /><br />There are many scenes of favela street and home life in Favela Rising and they look very much like the images in City of God with the important difference that the focus and outcome are very, very much more positive. Not that it isn't an uphill battle. And the corruption of the police, the inequities of the social system, and the indifference of the general population of Brazil are not directly addressed by any of this. But there's a scene where Sá talks to some young kids in another favela, cynical boys not enthusiastic about AfroReggae and determined to work in the drug trade as Sá himself did as a boy. Sá doesn't seem to be convincing any of them despite pointing out that traffickers don't make it to the age of fifty. But we learn that the most negative boy in this group, Richard Morales, joined the movement five months later. There's also the account of a freak accident that disabled Sá, but with a positive outcome.<br /><br />It would be great if the images were sharper and clearer and if the story were edited down a little, but this is vibrant, inspiring material and represents committed, risk-taking documentary film-making and it's nice that Favela Rising has been included in seven film festivals and won a number of awards, including Best New Documentary Filmmaker at the Tribeca Film Festival. It's currently being shown at the Institute of Contemporary Arts (ICA) in London. However, a wide art house audience in the US seems somewhat unlikely.<br /><br />Included in the SFIFF 2006.\n",
      "Sentiment:\n"
     ]
    },
    {
     "name": "stderr",
     "output_type": "stream",
     "text": [
      "135it [00:45,  2.71it/s]"
     ]
    },
    {
     "name": "stdout",
     "output_type": "stream",
     "text": [
      "Prompt is too long >512 (Max Length), prompt: \"The Duke\" is a film based in the heart of the British aristocracy where an old Duke (John Neville) dies and to avoid his large property and the vast riches to be taken from him after death by 2 devious aristocrats (Oliver Muirhead and Sophie Heyman); he passes his Dukeship down to his dog. The dog's \"best friend\", an American girl named Charlotte (played by Courtnee Draper) whose parents die becomes orphaned by the former Duke due to him being her great uncle. A young chef named Florian arrives, with him and Charlotte instantly connecting creating a romantic sub-plot which in its own way, acts as the under tone for the main plot line being the activities of Hubert, The 'Duke' and his many activities and love interests with other dogs. All this is watched over by James Doohan who plays a Butler who is determined to try and serve his old Duke by doing his best to serve his new master, Hubert. Doohan acts as the older character there to comfort and advise the younger ones whilst he over looks and performs various ridiculous tasks under his new master. A fine comedic performance mixed with elements of drama to end the career of a fine and influential actor.<br /><br />Though from the technical viewpoint, I dislike this film as I only watched upon discovering James Doohan's role. Though the plot is good, elements of the writing and directing have to be obscured. Ignoring the absurdity of a \"Doggie Duke\", I personally dislike the over use of comedic and outrageous jokes upon the 'bad' characters due to their ludicrousness. The dependence on hygiene related humour as you like is much too apparent and general silliness of many characters doesn't appeal to me. The director, Phillip Spink uses mid-long shots too often with either an overdubbed voice or affecting the overall sound quality. Plus, the acting of Muirhead and Heyman, whilst good at the dramatic and romantic sequences, fall drastically short fulfilling the wholesale requirements regarding the role.<br /><br />But, as a mature movie fan, I find it easy to be over critical of a simple family film designed to make you laugh. I can admit I found certain bits funny and other bits touching along with a plot that may be far-fetched, but has definite connections. I do not recommend this film to mature movie fans but I do highly recommend it to Dog lovers, families who wish to enjoy a funny film for their child and James Doohan fans who wish to see 'Scotty' in his final role.\n",
      "Sentiment:\n",
      "Prompt is too long >512 (Max Length), prompt: I remember the events of this movie, the ill fated cruise of Donald Crowhurst in 1968, in the Golden Globe single handed around the world yacht race. I was a 13 year old, living in England. The previous year Francis Chichester (later Sir Francis; he was knighted for his exploits) had completed the first solo circumnavigation of the globe. I remember it mostly because we were given time off school to watch his return (on a grainy black and white TV!) and then his knighting by the Queen. It provoked a huge outpouring of patriotic fervor in the UK. It all seems so quaint now. Chichester became a national hero, but he had stopped half way, in Australia, to re-fit his yacht, so the next logical step for yachtsmen was to attempt the journey without stopping.<br /><br />It's important to remember that this was a world pre-GPS, when communications on land were still pretty erratic, never mind in the middle of the ocean. Now with GPS receivers that fit on a key chain and calculate a position within a metre anywhere on earth, it's hard to recall a time when you could go to sea and quite literally, vanish. As Donald Crowhurst did. <br /><br />A number of yachtsmen signed up (all men back then), including mystery man, Crowhurst. Essentially a weekend sailor, Crowhurst had not been a spectacular success in any previous enterprise, including careers in the British Army, the Air Force and as an electronics entrepreneur selling navigation aids. He wanted to do something big with his life, and he saw the five thousand pound first prize (well over $100,000 in today's money) and the ensuing publicity as a means of kick starting his business. He signed a deal with a sponsor that proved more watertight than his boat, and which meant failure would bankrupt him, and soon found himself a popular figure with journalists as he prepared for the race. Now the Brits always love the idea of the gutsy amateur taking on the 'pros'. (Think Eddie the Eagle losing endless Olympic ski jump competitions, and the amateur riders who regularly start the Grand National horse race.) The public queued up to see him set off, but his boat wasn't really ready, and even as he started (the last competitor to leave the UK) Crowhurst must have known he didn't seriously have a chance. But too much was riding on him to quit.<br /><br />In the wonderful archive footage we see doubt written all over his poor wife's face. Left behind with their 4 children, she is interviewed movingly throughout the film, together with one of Crowhurst's sons. She was in a no-win situation. Had she attempted to stop him, she would have been considered a spoiler, but afterward she was riven with doubt, as to whether she could have saved his life by stopping him. Faced with the certain truth that his boat was leaking and would never make it through the southern oceans, and unable to turn around and face ridicule, bankruptcy and ignominy, Crowhurst devised a plan to cheat. Laid up offshore Argentina and Brazil, out of radio contact, he waited for the leaders to round Cape Horn and start back up the Atlantic, thinking he could sneak in at the end of the line and pretend he had sailed all the way around the globe. He elaborately falsified his logs, and made 16mm films and audio recordings to back up his plan. But as one after another the other competitors dropped out, he realized that in fact he would come in 2nd and his logs would be scrutinized. Unable to face certain detection, his journal suggests he lost his grip on reality and eventually committed suicide. His yacht was found. He never was. <br /><br />This beautifully edited film also follows the journey of Bernard Moitessier, an experienced and enigmatic French sailor, who was in second place and certain of the fastest journey prize, when he abruptly left the race, unable to deal with the clamour and publicity he knew he would face, and sailed into the wide blue yonder, eventually pulling up some 10 months later in Tahiti. Having spent some seven years working at sea myself, (albeit on very different ships to these) I well understand the pull of the ocean. Standing on deck, seeing water in every direction to the horizon, knowing there's a couple of miles of water below you, nothing between you and oblivion but a thin metal hull, without easy access to TV or radio (even nowadays on most working ships, you feel pretty isolated), it's possible to truly escape from the responsibilities of everyday life for a while. There is some thoughtful analysis of what drives people to attempt this kind of very long, lonely journey and the effect it has on the human mind. Most people would think that attempting to raise 4 children is adventure enough, but much is made of the need for self discovery in the hardships at sea, the search for self. <br /><br />I strongly suspect that Robin Knox Johnston, the ex navy guy who won the race (and many since) probably knew pretty well who he was before he set off, which was why he succeeded not just in winning the race but also retaining his sanity en route. Those who went searching for something profound within themselves, may not have entirely liked what they found. <br /><br />The marvelous archive footage of Britain in the late 60s is almost reason enough to watch this, (did it really look quite that bad? I don't remember it looking quite so dowdy, but perhaps we blot out the worst aspects of the past?) but overall, it is an excellently well made and engrossing movie. Highly recommended.\n",
      "Sentiment:\n"
     ]
    },
    {
     "name": "stderr",
     "output_type": "stream",
     "text": [
      "139it [00:46,  3.77it/s]"
     ]
    },
    {
     "name": "stdout",
     "output_type": "stream",
     "text": [
      "Prompt is too long >512 (Max Length), prompt: Caddyshack 2 has a dreadful reputation, due only to the fact that it is a sequel to a highly-held classic. People have criticised the film on a lot of grounds, but they all ultimately hark back to the fact that this is not Caddyshack.<br /><br />I would begin by saying that we should just take Caddyshack out of the equation and consider this film on its own merits, but I think that would be unfair. The movie does have a lot in common with its predecessor. The class-related themes of 'snobs versus slobs' and the desire to fit in to a class above your own are as prevalent here as they were in the first movie. The two things that are truly lacking here are Bill Murray and Rodney Dangerfield, who are replaced with Dan Ackroyd and Jackie Mason respectively.<br /><br />Now I am not about to try and argue that Ackroyd comes close to Murray in the movie, but Jackie Mason is an admirable successor to Dangerfield. He comes off as a cross between Dangerfield and Arnold Stang, but without biting too heavily on either. I wouldn't say that he is anywhere close to being as funny as Dangerfield is in Caddyshack, but there is a whole lot more point to his character and his dilemma in the film.<br /><br />Chevy Chase only pops up and handful of times in the movie, which is another common complaint. Maybe these particular naysayers didn't notice that he only popped up a few times in the first movie. For my money, his scenes here are a lot funnier, if somewhat over-directed.<br /><br />While I'm on the subject, it is really the over-direction of this movie that brings it down. It comes across as far more self-conscious in its attempts to get a laugh. Many of the jokes are laboured and there's far too much of the Gopher, who seems to have taken on a far more anthropomorphic personality and a voice, just in case we didn't grasp the idea that its meant to be funny.<br /><br />Characters are similarly hammered home, particularly the smarmy yuppy kids. Jackie Mason rarely misses a beat, and is consistently likable and very funny, but we didn't need the tango sequence at all! The director is clearly not of the same school of thought as Harold Ramis. Not to suggest that Caddyshack was subtle, but the jokes here are just a little overcooked, and most of them are unnecessarily embellished with a quirky music cue.<br /><br />All things considered, this is a fun, goofy movie with something to say about class and identity that very few movies at the time were saying. Don't be put off by the appallingly low rating on IMDb, check it out for yourself.\n",
      "Sentiment:\n"
     ]
    },
    {
     "name": "stderr",
     "output_type": "stream",
     "text": [
      "141it [00:46,  4.19it/s]"
     ]
    },
    {
     "name": "stdout",
     "output_type": "stream",
     "text": [
      "Prompt is too long >512 (Max Length), prompt: From the weeks and weeks of promotion for this, ABC's \"The One\" was supposed to be \"The Real World\" meets \"American Idol.\" We were to watch these singers perform, compete and see how they lived together in a house as well. The Drama! The Tension! <br /><br />Where does one begin with this atrocity? Let's start with the \"judges\" who were known as \"Music Experts\" on this program. \"Experts\" implies they have expertise. Andre Harrell at least had a pedigree. He was in charge of Motown Records for a time. The other two... eh. Kate Hudson's uncle, who could have been labeled Mr. Weird Beard. He dyed his facial hair three distinctly different florescent colors. I wonder how scary he would have been with a black light! And The Paula Abdul wannabe, who did something I didn't think could happen: she was even more gushing and cloying than Paula! She then over corrected and became harshly critical after the first episode. The farce of \"critiques\" that these three offered was a true joke and an insult, not only to the process of finding the best singer, but to the audience that is now quite savvy, already having done this numerous times on Fox.<br /><br />There was the host. George Stroumboulopoulos was no Ryan Seacrest. In fact, he was as lackluster as can be. He actually sucked what little energy there was in the program, dry. How he got that job was the second biggest mystery of the show.<br /><br />The first was how did they pick the 11 competitors for this program? This was literally a talent-free talent show. OK. Perhaps that's an exaggeration. And granted, the performers all have to be relatively close in ability, because if they were not, there wouldn't be a \"contest.\" If only one person was \"good,\" there would be no \"suspense.\" So, I get that they all needed to be comparable. But they all should have had *some* chops! Additionally, the judges were running a \"Singing Academy,\" so the program was part \"Fame,\" as well. Clearly these performers desperately needed those lessons. But you need some extremely talented people to teach those with little talent to be talented. And that definitely wasn't what was happening here.<br /><br />It seemed in casting the show, the priority was on the \"homelife\" elements, as all of the players were very attractive to look at, in equal parts to how badly they vocalized. But the filmed segments in their house were so chopped and sliced, you couldn't get into the stories that were starting to happen, so the show didn't capture the events there, either.<br /><br />As badly devised as all of that was, \"The One\" had an incredible, unbelievable, fatal design flaw built into the results that made it completely laughable.<br /><br />The audience phoned in their votes for who they liked the best, just like on \"AI.\" But then, after the audience vote was revealed, the bottom three contestants were forced to sing a final song. The \"music experts,\" based on that performance, chose one person from the three to save for the following week. And THEN, the contestants who were safe got to vote for who they wanted to keep from the remaining two, sending the remaining contestant home.<br /><br />The \"design flaw\" was that the contestants had the final say. I mean, if you were in a music competition and you wanted to get as far along the path as you could, would you vote to KEEP the better singer, or would you try to get rid of your toughest rival? Any first season viewer of CBS's \"Survivor\" could answer that one! And that's exactly what happened on the program. The person who had the better potential was lost, and the contestants voted back \"the one\" who had no talent at all! On top of that, the contestant who was just saved from the bottom by the \"experts\" was also allowed to vote against the remaining two! It was a complete farce! <br /><br />Maybe if they let the contestants vote first, at least the \"experts\" would save the better of two evils to finish. But this just confirms how not ready this show was for broadcast, how unsatisfying the whole process was to view and how misguided the producers were in attempting it.\n",
      "Sentiment:\n"
     ]
    },
    {
     "name": "stderr",
     "output_type": "stream",
     "text": [
      "156it [00:51,  2.68it/s]"
     ]
    },
    {
     "name": "stdout",
     "output_type": "stream",
     "text": [
      "Prompt is too long >512 (Max Length), prompt: this is an adaptation of a Dirk Wittenborn book, which I did not read. young Finn Earl lives with his Mom Liz (Diane Lane) in a cramped lower East Side New York Apartment. he dreams of joining his Anthropologist father studying a fierce tribe in South America. Liz has boyfriends and does coke. when he is caught scoring coke for her, one of her customers (Liz is a legitimate masseuse) a rich Mr. Osborne bails her out in return for being his full time personal masseuse in his huge estate in New Jersey. They are driven there in a limo with her strung out lying in the back seat with her dress hitched way up and panties showing. (this and a few low-cut dress scenes is the only exploitation of Ms. Lane. some may be disappointed but I'm sorry she had to do all that stuff in \"Unfaithful\" to make the A-List. That lady has more talent in her little finger than Streep, Roberts, and Sally Field do in their entire BODIES and its time she was given her due.) when they arrive Finn makes friends with Osbornes grandson Bryce, and has a coming of age with his new girlfriend, granddaughter Maya. Liz meanwhile joins AA and dates an AA doctor. She miraculously cleans up instantly. Finn however does a lot of drugs along with sex with his new friends. Bryce seems like an OK guy but gets jealous when Osborne takes Finn on a hot air balloon race instead of him, and this leads to tragedy.<br /><br />the genius of the story, (and movie) is that they cut from the violent acts of the Fierce filthy rich Blysdale tribe to the Yanomano warriors. It's a little implausible though that when Liz finds out what happens to her son she merely demands action from Osborne and does not either contact the authorities or settle it Thelma and Louise style. there are elements of a Gothic Romance with a revelation by the village idiot. Also they do almost no plot or character development prior to the move to Blysdale. Liz, for instance, like Lane's Pearl Kantrowitz in \"Walk on the Moon\" had an unwanted pregnancy with Finn at 18 and felt trapped. This is in the book but not the movie. Still, these are minor shortcomings. The movie will be in full release 12/31/05 over a year after the original release date, and I just couldn't wait.<br /><br />There were lots of Red Carpet moments in the theater I saw the movie at, with almost the whole cast...except Diane Lane!! $#%#Q$ Director Dunne said she was off filming a movie. I know she didn't promise to be there, but I came from way out of town and it would have been such a thrill to see her in person. The movie is a definite Best Picture contender, as for acting?? Sutherland was quite good, and so was the boy who played Finn. Lane was magnificent as always, but I only recall one or two emotional scenes, when she catches Finn with drugs \"lets get f****d up together mother and son\" and with Osborne \"your twisted grandson...\". She would fare better with a supporting actress nod but it wont work that way. unless they give it to her for a \"body of work.\"\n",
      "Sentiment:\n"
     ]
    },
    {
     "name": "stderr",
     "output_type": "stream",
     "text": [
      "169it [00:56,  2.64it/s]"
     ]
    },
    {
     "name": "stdout",
     "output_type": "stream",
     "text": [
      "Prompt is too long >512 (Max Length), prompt: Call me old fashioned, but I like movies with plots. I thought \"stoner comedy\" was just a way to more specifically describe a comedy in which lots of weed is smoked and the people watching it are more apt to enjoy it high. \"Grandma's Boy,\" however, has decided this is a full-blown niche and that stoners represent a piece of the comedy pie that need to be reached. Apparently, Allen Covert (star and producer) and the Happy Madison gang were right, but that doesn't make \"Grandma's Boy\" any less boring and unfunny. They might be completely stoned -- but the characters are mostly half-baked.<br /><br />Alex (Covert, a longtime supporting player for Adam Sandler, first-time star) is a mid-30s professional video game tester whose roommate has gotten them evicted. He could look for a new apartment, but then we don't have a movie. After trying a couple friends, he ends up living with good ole Grandma Lilly (Doris Roberts of \"Everybody Loves Raymond\"). She wakes him up a 6 am and has him do chores and soon he's falling asleep on the job and so the new video game sequel might not get done on deadline.<br /><br />Like most people, Alex deals with his frustration and eradicates boredom by either playing video games or getting high or both. His friends/co-workers all do the same thing. Most of them are virgins that live at home in addition to loving video games. They're all awkward and all with the exception of Nick Swardson and Joel Moore (only at times) their characters aren't funny. Funny if you're blazed ... sure, i suppose, but I can't say from experience.<br /><br />Maybe all we loser guys like is getting high, playing video games and awkwardly ogling women with specific attention on their breasts, but even so, it shouldn't be the driving force of an entire film. Neither should old women getting high on accident (saw that one coming) or being the but of gross-out sex jokes -- but that's what happens when a film isn't about anything. No conflict occurs until the last 20 minutes outside of the slight problems of being out of pot, Alex trying to get the hot girl (Linda Cardellini) to like him and the guys scrambling to finish their levels for the video game deadline.<br /><br />Characters can be the saving grace for these meandering stoner flicks, but aside from a lovable Doris Roberts, the aforementioned Swardson as the virgin friend who lives with his parents and calls them his roommates and Joel Moore's skill at making robot noises, there's little character ingenuity. Covert is a run-of-the-mill main character with no comedic dimensions, his dealer friend Dante is an inept actor and waste of screen time and Jonah Hill and Kevin Nealon are written so far into the periphery it doesn't matter.<br /><br />If you like movies about nothing and watching them in a state of mind and body that enhance that nothingness, \"Grandma's Boy\" will likely be just what you're looking for. Those who need a little more talent and wit to get on board with a comedy will be left unaffected. The most I can say for \"Grandma's Boy\" is that it's watchable despite its pointlessness. It won't feel like a total waste of time but you'll wish you did do drugs so you could at least have made the most of the hour and a half.<br /><br />~Steven C<br /><br />Visit my site at www.moviemusereviews.com\n",
      "Sentiment:\n"
     ]
    },
    {
     "name": "stderr",
     "output_type": "stream",
     "text": [
      "190it [01:03,  2.63it/s]"
     ]
    },
    {
     "name": "stdout",
     "output_type": "stream",
     "text": [
      "Prompt is too long >512 (Max Length), prompt: Symbologist Robert Langdon (Hanks) is called to Rome to help decipher the mystery behind the Illuminati before a new science experiment blows up the city.<br /><br />The Da Vinci Code broke records in 2006 but for the vast majority of Dan Brown followers it did not do his award winning book justice and though running at a good 2 and a half hours, seemed to bore many.<br /><br />Having read the book, I was perhaps one of the few who enjoyed Tom Hanks and Audrey Tautou attempt to solve the mystery of the murder in the Louvre but for Angels and Demons the scales were raised once more as lead star and director return.<br /><br />Having asked around, most people seem to prefer Angels and Demons to The Da Vinci code for an entertaining read and it seems as critiques and fans, whilst still not fully justified, prefer this latest adaptation to the 2006 release.<br /><br />This Howard picture certainly has a more clinical energy and exercise to it as unlike Da Vinci, Tom Hanks' Robert Langdon has only one night to solve the mysterious activities of the forgotten Illuminati in the Vatican and because of the time limitations, the action and desperation up the ante and deliver an excitement that certainly beats The Da Vinci code but also generates plenty of twists and stunning murder sequences.<br /><br />The interesting factor of this 2009 release is the constant elements being justified for the murders. Earth, wind, water and fire are all included in drastic and powerful sequences to pronounce a feeling of overall power to the situation.<br /><br />This really does justify the tag of thriller with a constant tension and sharp drama with the issues and beliefs once more given a full working over.<br /><br />Just like 3 years ago, there are many debates and discoveries of symbols once believed to be lost forever and Langdon is again the key character to show everyone the light in and amongst the controversy of other pressing circumstances.<br /><br />It is fair to say Dan Brown is a complex writer; he certainly likes to cram issues and dramas in amongst his action and thrilling sequences. As well as trying to discover the Illuminati, there is also the scenario of the election of a new pope, the dealings with a new scientific experiment and the power of Religion is again present. All interesting to discover and listen to, if occasionally the debates and dialogue tend to send your mind drifting but as there is so much in the novel, this was always likely.<br /><br />Ron Howard, who kept a frankly ordinary type of direction rolling in Da Vinci, returns in perhaps the worst way possible. His jerky ever moving camera styling does nothing to keep the pressure up, and we can never fully accept what is happening on screen thanks to this frankly awfully portrayed style. He is certainly no Paul Greengrass and this is by no means Bourne.<br /><br />Slick and stylized this is faster and more interesting than Da Vinci\n",
      "Sentiment:\n"
     ]
    },
    {
     "name": "stderr",
     "output_type": "stream",
     "text": [
      "197it [01:06,  2.73it/s]"
     ]
    },
    {
     "name": "stdout",
     "output_type": "stream",
     "text": [
      "Prompt is too long >512 (Max Length), prompt: James Bridges' \"The China Syndrome\" is a first rate thriller; a model for those who want to make a genuinely terrifying thriller but don't know how.<br /><br />Most thrillers end with the standard shoot-em-up and chase that ends with the villain getting what he/she deserves. But Bridges understands that such a standard finale isn't the case in some scenarios. \"The China Syndrome\" is thrilling in a way no one would expect. It has the type of ending that's so unexpected, but yet so logical.<br /><br />The film stars three (then) current Oscar winners: Jack Lemmon (Best Actor 1973 for \"Save the Tiger\"), Jane Fonda (Best Actress 1971 and 1978 for \"Klute\" and \"Coming Home\" respectively) and Michael Douglas (Best Picture 1975 for producing \"One Flew Over The Cuckoo's Nest\". This isn't your standard \"spot the star\" flick that became so popular in the 70s. The acting is so solid and strong that we forget who's playing the roles and believe that the characters are real people. That's a testament to the collective ablities of all three actors. They may be stars, but they're actors first.<br /><br />There is no music score in the film. Asides from a few background songs from jukeboxes or TV shows, there is nothing. Bridges doesn't allow any directorial style to come through on screen. He is simply presenting the material straightforward. With a strong dramatic story like this, we don't need a score to distract us. It kind of strikes me as a predecessor to the Dogma 95 filmseries started by Lars Von Trier in 1997. It focuses on the characters and story rather than style.<br /><br />The story is about a nuclear power plant located in Southern California. **SPOILER** An accident appears to have happened and basically the film is about Lemmon,Fonda and Douglas try to expose the truth. In a way this is not a spoiler, since the trailer, TV spots, video boxes and reviews all give this away. But from this seemingly simple premise, a surprisingly complex morality play springs and the suspense comes from human nature and the actions of people rather than a villain framing another guy (although this is an element in the film). That's what makes \"The China Syndrome\" so good.<br /><br />**** out of 4 stars\n",
      "Sentiment:\n"
     ]
    },
    {
     "name": "stderr",
     "output_type": "stream",
     "text": [
      "201it [01:07,  3.01it/s]"
     ]
    },
    {
     "name": "stdout",
     "output_type": "stream",
     "text": [
      "Prompt is too long >512 (Max Length), prompt: Mention Bollywood to anyone with a slight familiarity with the genre and the images usually conjured up are of tacky, over the top musical numbers peopled with costuming that makes Vegas seem a bastion of conservatism. This perception is not helped by the whiff of condescension that permeates most movies that have approached Bollywood from an outsider's perspective. Willard Carroll's romantic comedy Marigold, however takes a different tack. It is not a nudge-nudge wink-wink look at those silly people and their clueless antics but a sincere appreciation of Bollywood for its vitality, its lack of irony and self-consciousness.<br /><br />It is obvious that the director has a tremendous affection and respect for Bollywood while at the same time is bemused by its kitschier aspects. And if you have a familiarity with Bollywood, you can appreciate what he does here in making a true hybrid of Bollywood and Hollywood movie conventions. From one of the opening shots, a flashback of the Salman character as a child by the sea, talking with his grandmother (played by Helen! - how many Salman movies start with this same premise?) to the flashback sequence that is incorporated into the movie that Marigold and Prem has been filming, anyone who has seen enough Bollywood movies will recognize these references. The story itself incorporates tried and true conventions from both Hollywood and Bollywood as well  the fish out of water meets duty-to-one's-family-at the expense of personal fulfillment. The structure of the film follows the typical Bollywood plot line of the more comical set up of the first half giving way to a more dramatic resolution of the second. Yet ultimately the sensibility of the film is that of Hollywood, with its understated, wry humor and its story of a woman learning to believe in herself, to reach self-affirmation.<br /><br />You couldn't have a movie inspired by Bollywood if there weren't any musical numbers and this movie does not disappoint with seven of them. Unlike Bollywood, however, the songs do not pop out of nowhere and transport its characters to a European locale or Goan beach; they exist as musical numbers that are part of the film that is being made, reminiscent of how musical numbers were justified in Busby Berkeley movies as being part of a stage show. Or they come out of a situation where music already has a reason to be there  a sexy nightclub scene where Prem teaches Marigold to dance or a beach scene where there are musicians (including a cameo from the playback singer Shaan) performing. All reflect the emotional state of the protagonists at that point in the movie. Often the music will take a conventional song from one genre and put a twist on it from the other. So in one of the highlights of the film where Marigold comes into her own, the song picturazation is fairly typical of its genre  the female star singing and dancing among a line of women  but in this case it's blond Ali Larter looking like a total natural Bollywood film star, emoting and lip synching to the Hindi lyrics with no subtitles.<br /><br />Also synonymous with Bollywood are sumptuous visuals and Marigold fulfills that aspect beautifully thanks to some of the top talent working in Bollywood today. The cinematographer is Anil Mehta who was also the cinematographer for Lagaan and Hum Dil De Chuke Sanam. The choreographer is Vaibhavi Merchant and production designer is Nitin Desai, both from Hum Dil De Chuke Sanam and Devdas. You can really see the influence of Hum Dil De Chuke Sanam on this film  in fact, the illuminated floor in one of the numbers was originally from Dholi Taro Dhol, which coincidentally has an embedded Marigold pattern.<br /><br />As for the cast, Carroll obviously has a penchant for spotting acting talent as evidenced by Playing by Heart  one of the first movies for both Angelina Jolie and Ryanne Phillippe. And in this film he again hits the mark with Ali Larter. One of the main reasons the film works is because of Larter. She makes a bitchy, unappealing character sympathetic and her subsequent transformation believable and she is smart, funny, and sexy because she is smart and funny. She and Salman share excellent chemistry and that is one of the film's biggest strengths.<br /><br />Salman Khan plays the role of Prince Charming here as filtered through his iconic role as Prem. This is old school Prem, however, so expect a quiet, subdued Salman - those used to him in his usual stripping avatar may be disappointed  or relieved! It's a sincere and sensitive performance from him marred only by poor enunciation of his English lines.<br /><br />With a refreshing lack of cynicism and unabashed embrace of romantic love, the film is a love letter to Bollywood and Hollywood movies of yore.\n",
      "Sentiment:\n"
     ]
    },
    {
     "name": "stderr",
     "output_type": "stream",
     "text": [
      "203it [01:07,  3.64it/s]"
     ]
    },
    {
     "name": "stdout",
     "output_type": "stream",
     "text": [
      "Prompt is too long >512 (Max Length), prompt: I really don't think producer George Lucas didn't really set out to make such a horrible sequel as \"More American Graffiti\" turned out to be. But in retrospect it was the first crack in his then-seemingly impenetrable armor. Coming straight off the huge success of \"American Graffiti\" and produced basically at the same time as \"Star Wars\", this film was the first that Lucas successfully took away from Coppola without having to bother directing it himself. The result is typical Lucas -- far more interesting in terms of its structure and the way it's edited than the actual material. The writer/director Bill Norton has been allowed to use a variety of different screen ratios and split screens to produce odd associations in the images. While it's interesting to see ironic juxtapositions of the 4 story lines, the style ultimately only epitomizes the fractured nature of the film itself.<br /><br />Lucas' brilliant original film was all about a group of friends on the archetypical \"last big night\" before school ends and Kurt (Ron Dreyfuss) and Steve (Ron Howard) are supposed to go off to college. One thing that made that film work, despite the fact that it's very episodic, is that you had the core characters together at the beginning and they come back together at the end. There's a disposition of time, like in Nick Ray's \"Rebel Without a Cause\" where a certain period of time becomes very elastic and takes on more meaning than such a specific time really would in actual life, but everything takes place in a static space. \"More American Graffiti\" is basically the opposite -- the space is very dynamic, with Toad (Charles Martin Smith) off in Vietnam, his former girlfriend Debbie (Candy Clark) partying with hippies in San Francisco, Steve and Laurie (Cindy Williams) involved in student protests in Berkeley, and John Miler (Paul Le Mat) drag racing on the semi-pro circuit. In a contrived meeting early in the film all the principles are brought together to watch John race, but after that the threads don't come back together and weave apart the way they do in the original. Instead they split off and we follow the characters through about 3 years' of time, just seeing various events on New Years Eve in what seems to be 1967, 68 and 69. It's easy for the audience to become confused, and I think it's fair to say that we do. While the original film seemed to condense important events and rites of passages into unreal theatrical time that produced an experience of nostalgia even for those who never experienced those events, this sequel drags and stretches the few plot points from the epilogue of the original and attempts to make them into a coherent film.<br /><br />The best parts of the movie to me are the ones with Candy Clark in SF and Charles Martin Smith in Nam. Some of the jokes do fall flat but the style of those sections is interesting and they form a neat contrast with each other. A good movie could maybe have been made if these parts were just a bit better, and if the other parts weren't such a drag. Speaking of drag racing, the whole plot with Milner talking to a foreign exchange student was really lame, unfunny, and throwing in Mackenzie Phillips for a cameo didn't help at all. It was just another contrived moment, like when they briefly explain why Curt isn't in the movie because he's already in Canada. Instead Laurie just has another brother who is basically identical to Curt but has a different name and is now played by a very boring actor. There's a black kind of satire to some of the Vietnam stuff, very similar to what I would imagine Lucas and John Milius' original idea for \"Apocalypse Now\" would have been like. And there's some of that manic fun in the San Francisco scenes that made the first movie fun. But still along with that fun stuff, you have the rest of the movie dragging it down, as if anyone wants to see Steve and Laurie argue in their horrible suburban abode as if they were auditioning for a Spielberg movie about divorce and child abandonment. I think even if those parts of the movie weren't so painful, it still wouldn't really be comparable to the first movie because there's no closure and no sense of coming back together or of anybody having learned anything. It just sort of ends at the point when they ran out of money or something, a cheap freeze frame imitation of \"Two-Lane Blacktop\" and so many better films.<br /><br />Like the original however, this film has a great soundtrack of period hits that is probably worth owning for its own sake and almost makes the movie itself palatable. The performances by Country Joe and the Fish are great, and Scott Glenn all duded up as a hippie in love with Candy Clark is a sight to see -- I wonder if even back then he had to use a wig? I couldn't possibly recommend this movie, and yet it has some small affection in my heart because I love the original so much. Every couple of decades I guess I have to give this movie a try just to make sure that it's really as worthless as I remember it being. It's a party killer but it's something that every fan of \"American Graffiti\" or George Lucas in general will want to see at least once or twice. It shows how a lot of effort can go into something and it can still turn out pretty half baked. It makes you reflect on how much of a miracle it is that Lucas actually made such a good movie as \"American Graffiti\" in the first place, as if all the elements were in place and all the appropriate gods had been placated. Unfortunately such was not the case for this film or for Bill Norton.\n",
      "Sentiment:\n",
      "Prompt is too long >512 (Max Length), prompt: Lang does Hawks as well as Hawks does in the first part of this extraordinary Western, before settling down into typical deterministic, dark and guilt-haunted Lang for the finale.<br /><br />This is one of those films that shows its greatness almost instantly but at the same time very subtly. Vance Shaw (Randolph Scott) is on horseback and being pursued, we know not why -- he stumbles on wounded Edward Creighton (Dean Jagger) and decides to take his gun and horse, but discovering that Creighton is in a bad way, decides to fix him up first. This is conveyed mostly through facial expressions and very brief, clipped dialog - in 2 minutes we know that Shaw is an outlaw, but basically a good guy. Shaw ends up helping Creighton on his way to civilization, then disappears.<br /><br />Cut to a few weeks or months later, with Creighton on the mend and in charge of an expedition to lay telegraph wire going west from Omaha. He hires Shaw as a scout, who tries to leave when he finds out that Creighton is in charge; but Creighton wants him anyway, repaying a debt and sensing something quality. Also hired is a tenderfoot, son of a benefactor of the project, but atypically the Easterner Richard Blake (Robert Young) is quite competent as he shows right away in an amusing but exciting bronco-busting sequence. Both of the hires vie for Creighton's sister Sue (Virginia Gilmore) who - again not typically - seems quite as able to take care of herself as any man. The camaraderie between the three men, the comedic elements involving an unwilling cook and various rough and tumble types, and the wonderfully played light romantic elements dominate the first third of the film and reminded me more of Howard Hawks' \"Red River\" or \"Only Angels Have Wings\" than most Lang - but they are so well played and the action progresses so naturally that it doesn't matter, and doesn't alter our pleasure - if it does perhaps change our expectations - as the more usual Langian themes of the haunted past, dark secrets and the immense pull of the easier, destructive and evil ways come to dominate the later part of the film. Shaw's old pals come back to haunt him as the the wagon train and its wires move westward; attacks mount on the crew, and Shaw has to wrestle with what, if anything, he is to tell Creighton about his tortured relationship with Jack Slade (Barton MacLane), leader of the outlaws.<br /><br />Beautifully shot in early Technicolor and moving fairly seamlessly from sound stages to western locations, this is for my money easily Lang's best western and one of his very best films, conveying as potently as any of his films the tragic inability of men to escape their pasts and build a new future. Scott is as good as I've seen him, showing more with a flick of an eye than a lot of actors can do in a paragraph of dialog, and the rest of the cast is uniformly fine. The inevitable showdown between Shaw's past criminal life and his potential future is extraordinary, and a surprise even for a longtime Lang devotee such as myself; and even in 1941 it seems there was no place more fraught with meaning on the margins of civilization than the barbershop and the dusty street outside. You can get a shave, you can feel like a new man, but you can't really ever be one as long as the old ties are still holding you back.<br /><br />Genius.\n",
      "Sentiment:\n"
     ]
    },
    {
     "name": "stderr",
     "output_type": "stream",
     "text": [
      "224it [01:15,  2.61it/s]"
     ]
    },
    {
     "name": "stdout",
     "output_type": "stream",
     "text": [
      "Prompt is too long >512 (Max Length), prompt: Again, like many other TV Shows, a certain actor/actresses in thrust into the limelight, in this case Miranda Cosgrove, having built up her reputation in previous Movies/Series (especially by Nickelodeon and Dan Schneider. She is now the star of the show, gets to sing the soundtrack ( which she DID NOT WRITE and thus gets even more fame from that). Wonderful? It creates as much imbalance in popularity vs her other co-stars, especially Nathan Kress, who is continually thrust into minor rolls in each episode, except iDont Want to Fight. Cosgrove's music would never have met the charts without this show and her singing the main theme song (which was not written by her) and other covers such as About You Now and Stay my Baby. Let's not forget that she lip sync/sings her song live too. Is that how you create vocalist nowadays?<br /><br />Back to the show, Cosgrove reveals more physically by acting scenes in a bikini, Hawaiian hula type bra and mentioned bra many times through out. Bras and seen in many cases (though not of the other actresses). Wedgies are mentioned, panties have been mentioned once. Og let us not forget \"Oh My God\" a come phrase (are any of the scriptwriters/actors Christian?) Granted that the show is not meant to be just for kids, I'm surprised at the multitude of mentions of the female undergarment, especially in the first episode, where the phrase \"pointy boobs\" were mentioned. I'm not sure whether kids would thus refrain from saying that at home/in school afterwards. <br /><br />It's not that I'm against the mentioning or showing of female undergarments (which girls will wear), but for a show from Nickelodeon, the people in charge should have realised that kids would get the exposure to such stuff. I doubt that other Nickelodeon shows have such content in them.<br /><br />As mentioned is other reviews, the laughter track is extremely annoying and unnecessary in many parts--for example, when the character Sam cries, how on earth is that a time to laugh? It distracts people from getting the joke and is used almost in every sentence.<br /><br />As mentioned, Cosgrove is made the star of the show and thus gains the utmost fame and support from die hard fans, who even scolded a hotel staff when she is told to keep her noise level down (see http://www.youtube.com/watch?v=kk0gtfUk98U). Jennette McCurdy is the second star of the show but she faces competition from Cosgrove in the music industry (compare the popularity of her new single vs Cosgrove's covers). As noted, the third co-star Nathan Kress is the least noted of the lot. He is portrayed as a atypical boy who suffers the brunt of bullying by a girl and other boys but somehow a wizard at technology. His height in early episodes make him a cute actor but unusual given his character's crush on Carly/Cosgrove. Beyond that, Kress isn't breaking into the music industry and as Cosgrove's fame grows with each episode, Kress falls behind. I would bet that he is the least paid of all the three actors.<br /><br />The content of the show is of course fictional, but also lets one wonder how it fits into a comedy series at certain times (thus the laughter track is used).It also contains several continuity errors (how can your father be and Air Force Colonel on a submarine? US Special Forces have their own branches, and the Air Force doesn't use US submarines--that is for SEALs). A unique feature is that of allowing viewers to submit their own videos to be shown during or after the episodes, but again the videos somehow do not meet the theme of comedy.<br /><br />Once again, it is a show that is riddled with mentions of the female undergarments, exposure of skin, and over used laughter tracks. It is a series which thrusts a teen actress so far into the crowd such that her songs/actions are excessive supported by her fans, leaving her co Stars behind.\n",
      "Sentiment:\n"
     ]
    },
    {
     "name": "stderr",
     "output_type": "stream",
     "text": [
      "244it [01:22,  2.62it/s]"
     ]
    },
    {
     "name": "stdout",
     "output_type": "stream",
     "text": [
      "Prompt is too long >512 (Max Length), prompt: For many the hit series was ten years of pitch black humour loaded with affectionate parodies of classic films and a hilarious assortment of over a hundred characters with instantly recognisable catchphrases. Few shows have survived transition from radio to TV to stage show to film but The League of Gentlemen have achieved it with suitable aplomb.<br /><br />The talented writer/performers had initially envisioned a Monty Python style medieval adventure, but as soon as writing began they soon realised that the characters they have lived with had become very real and deserved better. With that, the Royston Vasey folk realise their very existence is under threat as the writers decide to disregard the fictitious town and work on a 17th Century romp instead.<br /><br />With the exception of Michael Sheen playing much unseen League member Jeremy Dyson, The League play pretty unlikeable caricatures of their real life personae as well as the familiar faces of Tubbs (\"I made a little brown fishy\"), nightmare inducing sexual predator Herr Lipp, butcher Hilary Briss and an unlikely hero - irate businessman Geoff Tibbs. New faces appear when the third reality appears, it's here we are treated to charming and funny cameos from veteran actors and popular TV stars. For many this will be a really enjoyable 90 minutes.<br /><br />'Apocalpse is not going to please everyone though. Working on this level of post modernism has been done a few times before now and may seem all too familiar to audiences raised on irony drenched teen successes kick-started by the likes of Wes Craven having a New Nightmare. It also takes a lot of confidence in an audience to keep up with a high concept story so there are moments of exposition and dialogue that serve only to confirm what most in the audience already know. Comedy as a genre is formulaic but it's now unheard of for a British film not to fall back on the huge back catalogue of TV stars to fill short amounts of screen time. It's also hard to believe the creators ever wanted their offspring killed off, which is perhaps why some of the role reversal doesn't always quite hit the mark. Would Hilary Briss have wanted to try save Royston Vasey in the series?<br /><br />However, while the show's deliciously dark vein has almost all but disappeared but is arguably more accessible for it. Much will be said about the character development and efforts to humanise the likes of previously one joke incarnations like Herr Lipp. It is here an impossible level of depth can be found along with a harsh streak of biting satire and throwaway put downs. Sentiment is there with a lump in the throat but not sugar coated thickly enough to intrude on the action. The music is good, performances exemplary and the animation is wonderfully seamless; a nice throwback to Terry Gilliam and Ray Harryhausen's work. In short, there's a lot to like about the Apocalypse. Like so many TV to film transfers it was never going to be easy finding the line between preaching to the converted and introducing the uninitiated to the League's slick and distinct voice. But no matter what your preference is, this last trip to the town which 'You'll Never Leave' is oddly lined with hope and ultimately very, very touching.\n",
      "Sentiment:\n"
     ]
    },
    {
     "name": "stderr",
     "output_type": "stream",
     "text": [
      "266it [02:46,  4.21s/it]"
     ]
    },
    {
     "name": "stdout",
     "output_type": "stream",
     "text": [
      "Prompt is too long >512 (Max Length), prompt: Crossfire is a fantastic film noir that is both a product of it's time and a timeless classic. This film achieves this by addressing issues that haven't been brought to the screen before its 1947 release, and by being a high quality film that holds up to this day with a good script, great look, and fantastic performances from it's actors. The first American film to take the issue of anti-Semitism head on, Crossfire is cemented in classic standing. Set in post-World War II America, a lurid whodunit develops after a Jewish man is found murdered.<br /><br />The story is great, its anti-hatred theme wrapped up in a dark multiple-character crime thriller, and along side the anti-Semitism angle is some great post-World War II dialogue and themes as well. Unlike other mystery thrillers, the audience is alerted to who the perpetrator is almost immediately. However, the film's story is still engrossing because of the struggle of all the great characters involved are going through while trying to make sense of the situation. Outside the great overall story and themes, the entire script is simply smart, complete with meaningful messages and razor-sharp exchanges between characters.<br /><br />The film's captivating story is played out wonderfully by the its excellent cast. Robert Young is fantastic as Capt. Finlay, the leading investigator of the murder case. Finlay's my favorite character of the film, he's just a cool character - dry as bone and tough as a two-by-four and stopping at nothing to bring the killer to justice. Robert Mitchum is also great in the film, very vivid in his soft-spoken army sergeant character due to his superb screen-presence. Gloria Grahame gives a memorable performance in her small Oscar-nominated role; George Cooper also does a good job as the sick and distressed Corporal Mitchell; Paul Kelly gives an eerie portrayal of a bizarre character; and Steve Brodie, Sam Levene, Jacqueline White, and William Phipps also give strong supporting performances. Robert Ryan ends up being the most talked about performer of the film, giving a chilling performance as Montgomery and also being nominated for an Oscar.<br /><br />Crossfire has a terrific look. Director Edward Dmytryk does an extraordinary job with the film's execution and cinematographer J. Roy Hunt does a masterful job with its black and white picture. Crossfire's picture is as dark and dank as its themes, covered in shadow with an almost glossy overtone, yet also very raw in parts. Ironically, the film's great look was not the result of hard work - or even intention. Dmytryk wanted to spend more time and money on the actors rather than the lighting - so that's what he did. Less lights, less preparation (around a 6 hour work day), and it resulted in a fantastic looking film. Not just a well done piece of cinematic art, Crossfire is also a great example of a cheap film that ends up a rich classic.\n",
      "Sentiment:\n"
     ]
    },
    {
     "name": "stderr",
     "output_type": "stream",
     "text": [
      "270it [02:47,  1.47s/it]"
     ]
    },
    {
     "name": "stdout",
     "output_type": "stream",
     "text": [
      "Prompt is too long >512 (Max Length), prompt: The Detonator is set in Bucharest where some sort of ex CIA Government agent named Sonni Griffith (Wesley Snipes) has tracked down a arms dealer named Dimitru (Matthew Leitch), things go wrong though & Dimitru finds out that Sonni is working for the US Government. After a big shoot-out most of Dimitru's men have been killed by Sonni which the local Romanian police force are unhappy about, top man Flint (Michael Brandon) decides to send Sonni back to the US & at the same time protect a woman named Nadia Cominski (Silvia Colloca) who is also being sent back to the US. However it turns out that Nadia is wanted by Dimitru & his football club owning boss Jozef (Tim Dutton) who need her in order to complete a deal for a nerve gas bomb which they intend to set off in Washington killing millions of people...<br /><br />This American & Romanian co-production was directed by Po-Chih Leong & The Detonator confirms beyond any shadow of a doubt that Wesely Snipes has joined the washed up action film stars club who are relegated to making generic action films in Eastern European locations, yep Snipes has joined such luminaries as Jean-Claude Van Damme, Steven Seagal, Dolph Lundgren, Rutger Hauer & Chuck Norris. I give Snipes a bit of credit since he held on a little longer than the rest with the excellent Blade: Trinity (2004) still fresh in a lot of cinema goers minds (every film he has made since has gone straight-to-DVD) but it had to happen sooner or later, like a lot of the names I've mentioned Snipes has lived off the reputation of a few great films & if you look at his career he's been in more bad films that good ones. Like the recent films of JCVD & Seagal The Detonator is pretty awful. The script by Martin Wheeler is as predictable, boring & by-the-numbers as anything out there. The Detonator is the sort of film you expect to see on an obscure cable TV channel playing at 2 O'clock in the morning. The Detonator is chock full of clichés, Snipes is forced into a situation where he has to protect a woman & at first they dislike each other but by the end they are in love, his closest friend at the CIA turns out to be a traitor while the obnoxious by the book boss no-one likes actually turns out to be a pretty decent guy, Snipes character is allowed to run around Bucharest shooting, killing & blowing people up like it doesn't matter & he never gets arrested, the action is dull & forgettable, the bad guy own a football club so there are lots of annoying football terminology & there aren't even any funny one-liners.<br /><br />Director Leong doesn't do anything anything to liven things up, The Detonator looks cheap with a car chase in which the two cars never seem to get over the 30mph mark. OK the action scenes are relatively well staged but they are few & far between & utterly forgettable in a 'bad guy shoots at Snipes & misses, in return Snipes shoots at bad guy & kills him' sort of way. There's a half decent car crash & explosion but very little else. It seems some of The Detonator was shot in a Romanian football stadium, I think I'd rather have watched the game for 90 minutes rather than this film.<br /><br />With a supposed budget of about $15,000,000 The Detonator is reasonably well made but not that much really happens. Set & filmed in Bucharest in Romania. The acting isn't that great, Snipes just doesn't seem interested & feels like he is just there for the money which I don't blame him for at all.<br /><br />The Detonator is yet another poor clichéd action film starring a has been actor & set in Eastern Europe. Why do Sony keep making these things? Not recommend, there are much better action fare out there.\n",
      "Sentiment:\n",
      "Prompt is too long >512 (Max Length), prompt: Cuore Sacro combines glossy film effects with a story that leaves much to be desired. With a script that the screen-writers for \"Touched by an Angel\" might have passed up as being too impuissant, Ozpetek still keeps us interested at times. In fact, I wanted to focus on the positives but I found the last act so bafflingly bizarre and awful that I think the couple who jumped to their deaths in the very beginning might have been the fortunate ones.<br /><br />This movie is at heart (pun intended) a story built on a big twist-style ending. This kind of tenuous foundation can result in a tremendous success like Tornatore's Una Pura Formalità or god-awful garbage like the films of M. Night Shyamalan. Cuore Sacro falls somewhat closer to the latter. I found the cinematography in general to be above average. The tracking shots of Irene dutifully doing her quotidian laps in the pool were very impressive as was the atmosphere conjured by the interior of her mother's house. For me, the grotesque parody of Michelangelo's Pieta when Giancarlo comes in from the rain and Irene poses with him was a bit of a stretch. One big issue that I took exception to in this film was Ozpetek's method of simply turning the camera directly into the face of his protagonist and recording the emotions taking place. This worked to fantastic effect in Facing Windows, but when employed here it seems that Bubolova is no Mezzogiorno. In fact besides the ridiculous story, the main problem with this film is the milquetoast performance of it's main character. It made the final breakdown scene even more unconscionably bad. <br /><br />In this movie Ozpetek continues his crusade against our corporate-driven societies by urging us to be more spiritual (not necessarily religious) and more altruistic. And while I'm certainly one who is very sympathetic to this view, I felt as if the audience was being hit over the head with a blunt object. Could the characters have been anymore two-dimensional? I tended to find this movie very enervating and soulless. Was the \"evil\" aunt Eleonora anything more than a caricature? It goes for the people on the side of \"right\" too, like the \"good\" aunt Maria Clara and the elderly doorman Aurelio. And just in case we might have missed Ozpetek's point, he decided to clothe his opposing forces in their own liveries. <br /><br />This brings me to an interesting point about the director's use of color. He clothes the opening couple who briefly take flight in all black, as well as Irene (when we first meet her and after her life-conversion), the evil aunt Eleonora, and of course the good but confused Padre Carras. Black is a color that suggests a definite course, the wearer's mind is set and emotionless. It is the color of choice for that indispensable item of modern day armor, the business suit. It is also the color of mourning, such as the funerary finery sported by the suicidal duo. Finally, black is the color of piety, such as the simple robes of priests and nuns that Irene emulates in the second half of the film. <br /><br />The other main color, and a very appropriate choice for a movie about the sacred heart, is red. It is a color that has an extreme inherent emotional component. The character who wears red is bold, emotional, receptive to new ideas, and indulgent. Red is a risky color in modern times; it challenges our perceptions of the wearer and at the same time makes the wearer vulnerable. Yet red carries an enormous weight of history and mysticism, as the earliest members of Cro-Magnon man buried their dead in red ochre and indeed the first man named in the Torah, Adam, is named after the Hebrew word for red. Red also has an anachronistic flavor, looking back on the past where red (and by association a less self-driven attitude towards life) was more accepted. So when we encounter the red-filled room (the mysterious frieze covered walls complete with a red accented menorah and a red painting of a Whirling Dervish!) of Irene's mother, \"good\" characters Maria Clara and Aurelio wearing resplendent outfits of red, and finally the painting of Irene's mother in a formal red gown we can see where Ozpetek's sympathies lie.<br /><br />A word or two about the soundtrack, I found the original musical themes to be excellently suited to the story. The quasi-baroque theme that signified Irene was great for it's monotony and feeling of restive malaise (the absolute best use of a constantly repeated baroque theme such a this would have to be in Kubrick's Barry Lyndon, with it's masterful repetitions of an 8-bar sarabande attributed to Handel). One absolutely inspired choice was a couple of seconds of an opera aria we hear as the power is flickering while Irene is chasing Benny through the house. It is of the famous aria \"Ebben? ... Ne andrò lontano\" from Catalani's opera \"La Wally\". The aria is sung by the lead soprano who is leaving home forever. As Irene's mother was a dramatic soprano, we can guess that this is a recording of her singing and that she is saying a poignant farewell to her daughter, as in the movie Irene is soon destined to never again see Benny alive. I just have one minor question of the soundtrack, why include the famous tango Yo Soy Maria? I love the song and personally could hear it all the time, but it didn't really fit here.\n",
      "Sentiment:\n"
     ]
    },
    {
     "name": "stderr",
     "output_type": "stream",
     "text": [
      "280it [02:50,  2.42it/s]"
     ]
    },
    {
     "name": "stdout",
     "output_type": "stream",
     "text": [
      "Prompt is too long >512 (Max Length), prompt: This guy is a real piece of work. An angry, immature boy in a grown man's body, packing all the charisma of a rock, he goes around to places most people would only wish to visit and does his best to be as miserable as possible.<br /><br />Give this job to someone else who actually appreciates it.<br /><br />I could go down an endless list of all the stupid things this guy does in his \"episodes,\" though I'll just highlight the worst: Crete. While the locals are putting up seaside picnics in his \"honour,\" this clown has the gall to act like a petulant, spoiled child. He complains about everything, including the fashion sense of the people who live there. What an imbecile.<br /><br />When he went to Sweden, he spent at least five minutes feigning incredulity at a bunch of chefs (who probably had better things to do than talk with some dimwit American, like work) because they didn't think Abba was horrible. Everywhere he went, he brought up Abba. This is the kind of talk you'd hear from 13-year-olds who watch too much MTV.<br /><br />When he was in New Orleans, he got upset that a certain restaurant had better-tasting fries than his, so he \"accidentally\" spilled some wine on them in order to ruin them. What a strange, emotionally unstable person.<br /><br />The worst of it all are his clumsy voice-overs, where he attempts in vain to add some kind of perspective on a situation he was too thick and ignorant to appreciate. He tries to use all these \"big\" words in order to sound like an author, but he's really just a pretentious hack whose lack of awareness has convinced him he has something to say. That, by the way, is probably the one good thing about this joker's TV show. It goes to show you, no matter how inept you are, as long as you take yourself seriously enough, the world will as well.<br /><br />Then there's the way he speaks with local guides whose English is obviously only rudimentary. He'll use vocabulary any writer--as he believes himself to be--would instinctively know will most likely not be understood by these people. Does he care? No. Self-important schmucks like this Bourdain clown do not use language to communicate; they use it to make themselves look important.<br /><br />Mcg13jthm's review on this same page is a perfect example of the kind of mind Bourdain attracts--that of a low IQ social misfit. Observe how the reviewer attempts to justify Bourdain's sociopath nature with simple-minded, childish excuses that hardly make sense. \"Bourdain may complain but he goes through 'a lot' and, not only that, he was 'forced' to do this show but is trying to redeem himself.\" A dolt attracts dolts, and reading Mcg13jthm's review should let you know perfectly well whether or not you are the kind of person who'd enjoy this utterly useless, pointless show.<br /><br />Finally, to add a bit of \"fairness\" to my diatribe, I admit Bourdain would have been momentarily amusing had I met him in a bar. But as a TV host of a travel show whose purpose is to show the viewer the beauty of other places and cultures, Bourdain is a miserable, abject, hopeless, grim and depressing failure.<br /><br />A failure.\n",
      "Sentiment:\n"
     ]
    },
    {
     "name": "stderr",
     "output_type": "stream",
     "text": [
      "286it [02:52,  2.92it/s]"
     ]
    },
    {
     "name": "stdout",
     "output_type": "stream",
     "text": [
      "Prompt is too long >512 (Max Length), prompt: An Epic Story of Hope constrained by budget and limited artistic ambition. Seeing as Terrence Malick produced this, I expected something haunting and lyrical. Instead, we get a typical Norwegian co-production (\"Revolution\" with Al Pacino, anyone?), where - quite possibly - good intentions are scuppered by a dreadful screenplay, and where many of the characters are reduced to stereotypes. The \"me-Tarzan-you-Jane\" English dialogue between the non-English-speaking protagonists is particularly cringeworthy  one could speculate whether Nick Nolte and Tim Roth ad-libbed their own, as they almost sound like real people. The story is loaded with implausibility: we are expected to believe that Binh can speak a smattering of English after having spent his entire life living as a peasant slave (his vocabulary, but unfortunately not grammatical command, increases impressively in the Malayan refugee camp, without the benefit of night classes). Coincidence is rife; I wonder whether an hour or two has been edited from the first third: he tracks down his mother in Ho Chi Minh City almost immediately - after bumping into his thirty year younger half brother, who nonchalantly recognises him! Mum gives him a gold locket (or something similar of great value) as they part, but this is never referred to again. His relationship with \"Me Dead Inside\" Ling is supposed to provide the obligatory \"love interest\", but feels as artificial as Leonardo and Cameron in \"Gangs Of New York\". <br /><br />The voyage in the rust bucket of a boat does convey a sense of the appalling conditions that human trafficking entails. Indeed, the only time the film is remotely exciting and unpredictable, is the jerky, hand-held footage shot from the bridge during choppy weather conditions. (Incidentally, a boat cruise from Malaysia to New York via The Cape Of Good Hope and the African coast, without stopping for fuel or supplies, is certainly an epic journey). The beautiful shot of the New York skyline echoes Malick's use of magic hour, but I want to know why the Coast Guard didn't show up. Perhaps they were watching the Super Bowl, or something. Of course, Binh manages to track down his blind old Dad on a remote farm in Texas, with the same navigational flair he displayed in Ho Chi Minh City. I was impressed at how Nick Nolte could wander around digging fields and feeding horses on a large ranch without the aid of a guide dog or white stick. For demonstration of how a story about the travails befalling refugees could be structured and shot on a small budget, check out Michael Winterbottom's far superior \"In This World\".\n",
      "Sentiment:\n"
     ]
    },
    {
     "name": "stderr",
     "output_type": "stream",
     "text": [
      "290it [02:53,  3.15it/s]"
     ]
    },
    {
     "name": "stdout",
     "output_type": "stream",
     "text": [
      "Prompt is too long >512 (Max Length), prompt: Moving beyond words is this heart breaking story of a divorce which results in a tragic custody battle over a seven year old boy.<br /><br />One of \"Kramer v. Kramer's\" great strengths is its screenwriter director Robert Benton, who has marvellously adapted Avery Corman's novel to the big screen. He keeps things beautifully simple and most realistic, while delivering all the drama straight from the heart. His talent for telling emotional tales like this was to prove itself again with \"Places in the Heart\", where he showed, as in \"Kramer v. Kramer\", that he has a natural ability for working with children.<br /><br />The picture's other strong point is the splendid acting which deservedly received four of the film's nine Academy Award nominations, two of them walking away winners. One of those was Dustin Hoffman (Best Actor), who is superb as frustrated business man Ted Kramer, a man who has forgotten that his wife is a person. As said wife Joanne, Meryl Streep claimed the supporting actress Oscar for a strong, sensitive portrayal of a woman who had lost herself in eight years of marriage. Also nominated was Jane Alexander for her fantastic turn as the Kramer's good friend Margaret. Final word in the acting stakes must go to young Justin Henry, whose incredibly moving performance will find you choking back tears again and again, and a thoroughly deserved Oscar nomination came his way.<br /><br />Brilliant also is Nestor Almendros' cinematography and Jerry Greenberg's timely editing, while musically Henry Purcell's classical piece is used to effect.<br /><br />Truly this is a touching story of how a father and son come to depend on each other when their wife and mother leaves. They grow together, come to know each other and form an entirely new and wonderful relationship. Ted finds himself with new responsibilities and a new outlook on life, and slowly comes to realise why Joanne had to go.<br /><br />Certainly if nothing else, \"Kramer v. Kramer\" demonstrates that nobody wins when it comes to a custody battle over a young child, especially not the child himself.<br /><br />Saturday, June 10, 1995 - T.V.<br /><br />Strong drama from Avery Corman's novel about the heartache of a custody battle between estranged parents who both feel they have the child's best interests at heart. Aside from a superb screenplay and amazingly controlled direction, both from Robert Benton, it's the superlative cast that make this picture such a winner.<br /><br />Hoffman is brilliant as Ted Kramer, the man torn between his toppling career and the son whom he desperately wants to keep. Excellent too is Streep as the woman lost in eight years of marriage who had to get out before she faded to nothing as a person. In support of these two is a very strong Jane Alexander as mutual friend Margaret, an outstanding Justin Henry as the boy caught in the middle, and a top cast of extras.<br /><br />This highly emotional, heart rending drama more than deserved it's 1979 Academy Awards for best film, best actor (Hoffman) and best supporting actress (Streep).<br /><br />Wednesday, February 28, 1996 - T.V.\n",
      "Sentiment:\n"
     ]
    },
    {
     "name": "stderr",
     "output_type": "stream",
     "text": [
      "292it [02:54,  3.81it/s]"
     ]
    },
    {
     "name": "stdout",
     "output_type": "stream",
     "text": [
      "Prompt is too long >512 (Max Length), prompt: Ben Stryker an ex-green beret stops off at a little town called Agua Dolee to visit an old friend Tick Rand. Soon after riding into town on his Suzuki and settling in. A motorcycle gang known as 'The Savages' who's led by tyrant Pigiron invade and finally take over the place. Stryker doesn't want to get involved, but that changes when he friends become the actual targets.<br /><br />Is there anything good to say about this scuzzy item? Tough call, as the only fundamental reason to watch this low-budget car wreck is for the tremendous b-cast the crew managed to get hold off for this project. While I don't think it's a complete botch job, it's not terribly good either. Now what a cast! Lance Henriksen (being the main character, he strangely doesn't have top billing, but the final one), Karen Black, George Kennedy, Richard Lynch, Bill Forsythe, Mickey Jones and Leo Gordon. Now what went wrong with this scummy low-budget bungle. The shallowness of the material is too one-dimensional that it heavily borrows ideas from better movies (namely Mad Max) and comes up with a complete mess of ideas that just don't gel and could have been better thought out. The clichés that are used can be manipulated into a good viewing, despite being predictable, but \"Savage Dawn\" seems to let it skimpily rush all by without letting the viewer soak it all up. The cast are mostly wasted in nothing roles. A bleached-blonde Henriksen is capably solid and even with his commending presence that provides an enigmatic glow to his character. He doesn't get up to hell of a lot and sometimes goes missing in action. Too much sideline action, but when he did kick some bikers' ass, the good times flowed. Karen Black's hissing performance is a very odd one and is all about the screaming and cursing. Although she does get into one memorable catfight with Claudia Udy's flirtatious vixen character Katie. A wheelchair bound George Kennedy roams around aimlessly until the final assault and Richard Lynch looks embarrassed as a wayward priest / town mayor in a very redundant role. An on edge Bill Forsythe simply chews it up as the head honcho of the notorious biker pack.<br /><br />The junky story (written by William Milling and Max Bloom) has that cheesy comic book getup and very much is influenced by the western genre. Just look at the villains for that. How they came up with their names is mystery. Maybe they drew them out of a hat. It's pretty second rate material that more often moves onto one lacklustre scene after another. Unfunny comical elements are chucked in and as well a bit of sleaze. Tacky exploitation that doesn't get gritty enough and the deaths are quite laughable. A clumsy script is filled convoluted details and unbearable trite. Simon Nuchtern's spotty direction was by the numbers and tepidly laid out. One or two intense scenes can't makeup for its tortoise-like pacing and many cack-handed stunts. The cardboard sets had down 'n dirty look, but lack that organic sense. The gravel-like cinematography by Gerald Feil was better handled when the main focus wasn't on the town, but on the desolate backdrop (like the beginning and ending climax of the film) with some neat camera touches. Pino Donaggio's clunky music choices are drowned out by its own incompetence.<br /><br />\"Savage Dawn\" is a forgettable quickie midnight movie that's a definite misfire for most part. There are better and more convincing exercises of the same ilk out there.\n",
      "Sentiment:\n"
     ]
    },
    {
     "name": "stderr",
     "output_type": "stream",
     "text": [
      "294it [02:54,  4.25it/s]"
     ]
    },
    {
     "name": "stdout",
     "output_type": "stream",
     "text": [
      "Prompt is too long >512 (Max Length), prompt: I would like to start by saying I can only hope that the makers of this movie and it's sister film The Intruder (directed by the great unheralded stylist auteur that is Jopi Burnama) know in their hearts just how much pleasure they have brought to me and my friends in the sleepy north eastern town of Jarrow.<br /><br />From the opening pre credit sequence which manages to drag ever so slightly despite containing a man crashing through a window on a motorbike, the pitiless destruction of a silence lab, the introduction of one of the most simultaneously annoying and anaemic bad guys in movie history and costume design that Jean Paul Gautier would find ott and garish. Make no mistake; this is a truly unique experience. Early highlight - an explosion (get used to it, plenty more where that came from!) followed by a close up of our chubby heroine and the most hilarious line reading of the word \"dad\" in living memory. And then... the theme song...<br /><br />Yeah, this deserves its own paragraph. Sung by AJ, written by people who really should wish to remain anonymous, it makes the songs written for the Rocky films sound like Schubert. This is crap 80's hero motivation narcissism at an all time high, with choice lyrics such as \"its only me and you, its come down to the wire\" and much talk of having to \"cross the line\" (it'll make sense in time - our hero cares little for the boundaries of bona fida police work) abounding. Not to mention the Indonesian Supremes cooing the film's title seductively. At this point anyone wishing to switch off officially has no pulse.<br /><br />Our hero is Semitic cop Peter Goldson (essayed brilliantly by Intruder star Peter O'Brien), the \"stabilizer\" of the title. The man's bull in a china shop approach to crime fighting and particularly his less than inconspicuous undercover work truly leaves much to be desired, but he is without question an entertaining guide through the mean streets of downtown Jakarta, with local sleaze ball connection Captain Johnny in tow, as well as Peter's own waste of space partner in fashion crime Sylvia Nash, who does little. So many highlights, so little time - the \"slide please\" arrogance of Peter's not all too convincingly argued case against chief baddie Greg Rainmaker (Intruder fans will know hirsute slimy bastard Craig Gavin as the monstrous John White - helluva name eh? No! Oh well...), the x marks the spot location map stupidity, our hero taking horrible advantage of heroine Tina Probost during a moment of weakness on her behalf, the latter turning up at a sting operation dressed like a member of a particularly flamboyant dancing troop. And believe me that barely covers it.<br /><br />There wasn't even time to go into the plot revolving around the hunt for a drug detection system and a kidnapped professor with an alarming but commendable amount of national pride. Or our hero turning up at a funeral dressed as if an extra on Boogie Nights. Or the absolutely hysterical craic between Captain Johnny and Goldson - two guys have never made more heavy weather of buddy buddy shtick than these clowns. The trowel was possibly too subtle me thinks.<br /><br />Ah it tails off people, and you never thought scenes of wanton destruction and general mayhem could be so unbelievably boring, but the character interaction is stupendous, the dialogue truly priceless and the incompetence on show somehow endearing. Oh and the shoes people - watch out for the shoes!\n",
      "Sentiment:\n"
     ]
    },
    {
     "name": "stderr",
     "output_type": "stream",
     "text": [
      "314it [03:00,  3.17it/s]"
     ]
    },
    {
     "name": "stdout",
     "output_type": "stream",
     "text": [
      "Prompt is too long >512 (Max Length), prompt: I come from Bangladesh, and here, C.C.Costigan is a goddess of awesome sex. All kidding aside, a friend and I were awake in the middle of the night, watching movies on the Encore: Action channel, when we came across a series of sci-fi-esquire flicks. There was RoboCop 2 (not bad,...not bad at all) ... then Judge Dredd, (Stalone almost ruins his career) then a movie called Lethal Target. One would think the title \"Lethal Target\" could only be awarded to a really cool, and really cheesy Rambo knock-off. But nay, what is delivered is what I would like to call a \"Semi-softcore, semi-pseudo action, semi-sci-fi film\" ... actually, I think I can say that this isn't even a film at all. If it wasn't for the main character's sheer hotness, my friend and I would've turned off the movie as the opening credits rolled.<br /><br />I have a few questions to the people (I wouldn't even dare say \"professionals\") who made this film. -One, In the future, why are they using the weaponry we used in 1999? Oh, wait, I get it, it's all that they could get their hands on,... right???... well then,.. why is the main character wearing what looks like a normal everyday linen shirt and a vest, kinda like what people wore in the late nineties? .... oh ... I get it ... in space, it MUST have been a fashion statement.... well, then... WHY,OH, WHY does the main character pull out a 3.5 floppy disk at one point in the film so that she can upload some bullshit ?! wtf !? ...we've progressed so far that we have space travel, but we still haven't progressed past 1.44megabytes of space..?<br /><br />I guess I'm just asking for too much.<br /><br />Question two, Let's just say...that yes... this is a softcore porn. Then why is there only ONE real sex scene, and why does it last for 2 minutes?<br /><br />I mean, you're taking the REASON people are staying up in the middle of the night to see this crap (dare I say 'movie' anymore?) ... and whittling it down to 2 minutes. Hell, they should've just taken that sex scene and sold it to another porn movie, and they would've STILL made more money off of this \"crap\" than they did.<br /><br />C.C.Cortigan is hot. And no offense to the actress, but she acts about as well as I do. and I'm mentally retarded, and only have one testicle... (C.C. Cortigan,...e-mail me ...we'll have lunch) I would write more, but I've run out of space.\n",
      "Sentiment:\n"
     ]
    },
    {
     "name": "stderr",
     "output_type": "stream",
     "text": [
      "321it [03:02,  3.12it/s]"
     ]
    },
    {
     "name": "stdout",
     "output_type": "stream",
     "text": [
      "Prompt is too long >512 (Max Length), prompt: After reading other reviews on this site, we weren't sure if we were going to be able to critique this movie because it didn't sound bad enough. However, 2 minutes into the movie, we knew we were in for another flop. No summer is complete without ice cream, but this movie served up a melted, sour, broken-bottomed ice cream cone (you know, the kind that leaves you sticky and dirty and looking for a wet-nap). The biggest problem with this movie was the plot. What was it? It appeared to be a psychotic ice cream man driving around the neighborhood. That's it. Nothing else happens. First of all, what are the qualifications for becoming an ice-cream man in this crap town? 1. Spend several years in the most ridiculous mental hospital known to man. This hospital was plagued with clowns, graffiti, fake plastic sunflowers, and oversized syringes to the head. 2. Have extremely poor hygiene and a mutant face to scare the kids away. 3. Make sure your truck is stocked with severed body parts, roaches, and don't forget the eye whites!<br /><br />The actors in this movie are pure B-Movie caliber. Mixed in with a bunch of unknowns is, who other than....a trailer-trash version of Macaulay Culkin!! Even his bratty charm couldn't save this kick in the pants. There seemed to be no rhyme or reason for any of the murders in this movie. The whole concept of the movie reeked! Who would kill an ice cream man in a drive-by shooting? Gangsters? Fiends? Vanna White? Who? We are still struggling with this question.<br /><br />Whoever was in charge of the wardrobe for this movie should be immediately blacklisted from Hollywood. Did they honestly think a pillow under a kid's shirt would make the audience believe that he was really fat? Did they forget about the arms, face, legs, and all other body parts? Second of all, this movie was made in 1995, yet the wardrobe seemed to be picked from a lame 80's movie, evidenced by the big brother's white, crotch-hugging high-water pants.<br /><br />While we were watching this shotty production, we both developed severe cases of ADD. We found ourselves leaving the room to walk around aimlessly. At many points it the movie, we found that staring at a blank wall behind the T.V. set was more entertaining than the actual movie. We were stunned that this movie didn't make it to the Bottom 100. Afterwards, we took the tape out of the VCR and left it on the black top to melt like a sub-standard ice cream cone.\n",
      "Sentiment:\n"
     ]
    },
    {
     "name": "stderr",
     "output_type": "stream",
     "text": [
      "330it [03:05,  3.01it/s]"
     ]
    },
    {
     "name": "stdout",
     "output_type": "stream",
     "text": [
      "Prompt is too long >512 (Max Length), prompt: One of Alfred Hitchcock's three greatest films, along with \"Psycho\" and \"The 39 Steps\", \"Strangers On A Train\" is as brilliantly out-of-control as a merry-go-round in Metcalf, and almost as deadly. It's the kind of film you have so much fun watching, you can't even feel properly guilty about it until you have time to catch your breath.<br /><br />Top amateur tennis contender Guy Haines (Farley Granger) meets a singularly weird, louche stranger named Bruno Anthony (Robert Walker) on a train. Thanks to the gossip pages, Bruno knows all about Guy's problems with his no-good wife Miriam, and rather gaily suggests they do each other a favor: Bruno will kill Miriam and Guy will kill Bruno's father, who wants to put Bruno in an institution. Guy laughs it off, but Bruno ain't kidding, as Guy finds out to his peril.<br /><br />It's a great premise for a murder story, and Hitchcock gives \"Strangers On A Train\" a run for all its worth, with the help of Walker in perhaps the greatest performance in any Hitchcock film, including Anthony Perkins in \"Psycho\". While Perkins makes his mark playing tetchily against the grain, Walker as Anthony is one perfectly at home either buttering up old ladies at a swank dinner party or strangling a young woman at an amusement park.<br /><br />What drives Bruno? Many commentators suggest his apparent homosexuality finds a match in pretty Guy. Yes, Bruno lights up the old gay-dar, but Guy seems happy enough on love's rebound with socialite Anne Morton (Ruth Roman). Bruno's interest for Guy could just as easily be envy, for someone making a mark in the world while he lives at home, letting Mommy file his nails.<br /><br />\"Oh, I certainly admire people who do things,\" Bruno purrs, looking like a cat eyeing a mouse. \"You know, it must be pretty exciting to be so important.\"<br /><br />Later on, Bruno calls himself a \"bum\", accurate enough except for our rooting interest in him, even as he wrecks Guy's life with his homicidal meddling. It's the ultimate perverse underdog's tale. There's a sense of integrity about Bruno, in his dogged dedication, which commands our respect and which Hitchcock plays to so brilliantly. When Bruno floats away from the scene of his big crime, am I the only sick person in this world who's actually happy for him? I think not, yet Hitchcock keeps the story on a right-enough path for us to realize how low we have fallen. We don't want Bruno to win, exactly, but we enjoy his élan as he tries.<br /><br />Everything else is so perfect, or at least close enough, to make every shot memorable. Hitchcock always managed at least 2-3 good setpiece sequences per movie; here you get a score of them at the amusement park alone. (\"20 Big Shows\" the neon side at the entrance says, and they aren't kidding.) Script, camera-work, a gripping tennis match, Ruth Roman's jaw-dropping figure, it's all too much greatness for one film to contain. Even Granger does his callow-youth thing here with more risible plausibility than Gregory Peck ever managed.<br /><br />You can call this a clinic in movie-making, but \"clinic\" sounds too dull. \"Strangers On A Train\" is good nasty fun, all the way through, leaving you with a nifty stinger at the tail as you realize you were rooting for the wrong stranger all along. Heck, I'll take that ride over again in a second!\n",
      "Sentiment:\n"
     ]
    },
    {
     "name": "stderr",
     "output_type": "stream",
     "text": [
      "334it [03:06,  3.25it/s]"
     ]
    },
    {
     "name": "stdout",
     "output_type": "stream",
     "text": [
      "Prompt is too long >512 (Max Length), prompt: This is a pretty pointless remake. Starting with the opening title shots of the original was a real mistake as it reminds the viewer of what a great little period piece chiller that was. The new version that follows is an exercise in redundancy.<br /><br />Brian Kerwin plays a 'city boy' photographer who returns to a semi-abandoned desert town populated by a scattering of underdeveloped clichéd stock characters: the lollipop sucking Daby-Doll Lolita, the 'ornery old coot prospector, the crippled vet and his Asian wife, etc...<br /><br />Kerwin's character witnesses the crashing of 'something' into a hillside and shortly after strange things start to happen as pieces of weird blue rock are scattered around. The temperature starts to rise, all the water in the area vanishes, people start to act weirdly, things explode. Kerwin's character gets in and out of his car more often than is humanly possible in one movie. The film develops no sense of place, no character development, no humour, no tension. Everything that made the Jack Arnold's original a creepy little Cold-war paranoia classic has been abandoned. It just runs through its minimal hoops and then just ends.<br /><br />The special effects aren't very special - the interior of the ship looks like bits of cling film wrapped round some ropes which were then dangled in front of the camera to frame some of the most uninspired and clumsy wire-work ever put onto the screen. The script is repetitive - everyone says everything at least twice, Kerwin gets to say \"let's get out of here\" at least three times during the movie, twice in one scene. Loads of things are left unexplained at the end - why do the aliens need all the heat and water for example? - not that anyone watching would care; if the film makers didn't care why should we?<br /><br />The acting is adequate - better than the script, which at times, has an under-rehearsed improvisational quality, deserves. Though often the actors look like they just want to get the thing over with as quickly as possible - a notable example of this is when Elizabeth Peña registers the briefest, token moment of \"frustrated despair hands to face gesture\" before following sulking son Stevie outside to watch him do \"angry sulky teenager smashing something off a table\" gesture. <br /><br />Continuity errors include the (GB) sticker on the back of Kerwin's jeep appearing and disappearing, a double action of the gas in the exploding car, a towns-person being in two places simultaneously - once in the Alien Stevie's POV shot then immediately afterwards in a reaction shot, Elizabeth Peña appearing to shut a car door twice... you can tell I was gripped can't you? The movie commits that greatest of errors. It's boring.\n",
      "Sentiment:\n"
     ]
    },
    {
     "name": "stderr",
     "output_type": "stream",
     "text": [
      "339it [03:07,  3.48it/s]"
     ]
    },
    {
     "name": "stdout",
     "output_type": "stream",
     "text": [
      "Prompt is too long >512 (Max Length), prompt: The title doesn't make much sense to me. I'm not sure what door in the movie shouldn't have been opened.<br /><br />The movie starts uneventfully, with a conversation between a man and a woman in a room that looks like a richly furnished train car, complete with the sound of the train traveling. In fact, the man's house is a train car, and he has a cassette of train sounds. The woman leaves, and calls a young woman. The young woman tells her boyfriend, a doctor, that she's been told her grandmother is ill, and she needs to return to her home town. She hasn't been there in thirteen years.<br /><br />Flash back to thirteen years ago. A shadowy figure enters a house. He caresses a sleeping young girl, then goes into another room and stabs the girl's mother. The girl wakes up and enters her mother's room and finds her dead with a knife in her. She screams, and an arm comes out of nowhere and claps a hand over her mouth. She looks up in fear. That early scene in the movie of the killer muffling her scream, and the girl's look is one of the few effective shots in the movie.<br /><br />It doesn't have much going for it in the visuals department. Occasionally there's some strange use of sound, and there's some weird lighting in an attic scene where many of the panes of glass are red and blue.<br /><br />Back to the present day. The young woman arrives in her grandmother's house. An old doctor is there, who she doesn't trust, along with the man from the opening scene \"Judge\" and Kearn, the town's museum operator. She doesn't trust any of them, and it's true they don't inspire any trust. She's rather crabby throughout the whole movie. She wants to check her grandmother into a hospital. The men in the town want her house, and the museum operator wants the things in it (his museum is already filled with many of the grandmother's things). Inexplicably, the woman wants to keep the house.<br /><br />The young woman starts getting phone calls from a man speaking in a sinister whisper. He makes various threats, and wants her to do things to arouse him. Such scenes recur often. Unfortunately, there are so few characters in the movie, that the possibilities of who it could be are limited. Worse still, we see right from the beginning who is making the phone calls. So, while the young woman doesn't know (even though the caller occasionally drops into his normal voice), the audience always knows: no suspense. Each call rattles her more and more.<br /><br />The ending was unexpected for me, so maybe gets points for not going with the obvious, but I'm not sure I cared for it.\n",
      "Sentiment:\n"
     ]
    },
    {
     "name": "stderr",
     "output_type": "stream",
     "text": [
      "344it [03:09,  3.53it/s]"
     ]
    },
    {
     "name": "stdout",
     "output_type": "stream",
     "text": [
      "Prompt is too long >512 (Max Length), prompt: A bunch of mostly obnoxious and grossly unappealing teens go to a creepy, remote, rundown old mortuary located nearby a cemetery to attend an anything-goes all-out Halloween party being hosted by freaky occult-obsessed oddball Mimi Kinkade and her vacuous, boy-hungry bimbette friend Linnea Quigley. The loutish, profane, beer-guzzling, sex-happy dipstick dimwits hold a séance as a joke (very bad idea, 'cause the desolate old dive is naturally said to be haunted by demonic spirits). Of course, that ill-advised séance awakens those decidedly grumpy and hostile evil spirits, who gruesomely kill and possess a majority of the kids, turning them into ugly, fanged, clawed, boil-faced murderous ghouls who wreak the usual grisly havoc throughout the duration of an especially long, dark and harrowing night of pure terror.<br /><br />Yep, this is essentially your umpteenth vigorously graphic and unrelenting wall-to-wall cheap shock-ridden \"Evil Dead\" rehash, replete with closed-off, there's no easy way out claustrophobic single self-confined setting, outrageously excessive splatter set pieces, an incessantly pounding hum'n'shiver synthesizer score, a total sense of gloom'n'doom-laden grim nightmarishness, and vibrantly in-your-face manic careening cinematography (the expected headlong rush-inducing hyperactive hand-held camera-work, smooth, sinuous tracking shots, crazily tittled camera angles, even the camera on a dolly doing a gracefully gliding 180 degree figure eight). Fortunately, Kevin S. Tenney's slick, assured, stylish direction keeps the extremely threadbare and derivative proceedings thundering along at a speedy clip; moreover, Tenny gives the film an attractive polished look and effectively creates a certain crudely energetic and enthusiastically grotesque spooky ooga-booga carnival funhouse atmosphere.<br /><br />However, Steve Johnson's marvelously gory and imaginative make-up effects are the true star of the show. Bloodthirsty highlights include disgusting fat slob Hal Havins (who played a similarly irritating obese a**hole role in the immortal \"Sorority Babes in the Slimeball Bowl-A-Rama\" around the same time) having his tongue bitten off, Quigley shoving a whole tube of lipstick in one of her breasts (yow!) and gouging a guy's eyes out while she's making love to him (double yow!), a libidinous teen couple getting offed while doing exactly what you think in a coffin (the chick has her neck snapped while the dude has his arm chopped off), Kinkade setting her hands on fire, and, in the film's single most nasty scene, a mean old man has his throat slit from the inside out after eating an apple piece laced with razor blades. The trashy'n'thrashy rock score likewise smokes. And then there's Kinkade's incredibly wild, sexy and uninhibited demon dance, a sizzling number accompanied by a flickering strobe light and startling jump cuts that Kinkade choreographed herself. Okay, so this overall doesn't amount to anything more than a completely mindless and pointless, albeit quite nicely mounted and enjoyably vulgar hunk of blithely sleazy fright flick junk, but if you're in the mood for entertainingly brain-dead lowbrow horror scuzziness this cheerfully crass and juvenile dross does the trick just fine.\n",
      "Sentiment:\n"
     ]
    },
    {
     "name": "stderr",
     "output_type": "stream",
     "text": [
      "347it [03:09,  3.99it/s]"
     ]
    },
    {
     "name": "stdout",
     "output_type": "stream",
     "text": [
      "Prompt is too long >512 (Max Length), prompt: Any movie that offers Bonnie Hunt, Sarah Silverman and Amy Sedaris in the supporting cast has to be well worth watching, and comic actor Jeff Garlin takes advantage of the terrific talent he recruited for his 2007 directorial debut, a sad-sack comedy about an overweight man who feels out of step with the world around him. Familiar as Larry David's manager Jeff on \"Curb Your Enthusiasm\", Garlin plays James, a still-struggling, 39-year old Chicago actor who still lives with his widowed mother. His self-esteem is so low that he can't meet women, but it's the comical way he views his single status that makes his dilemma involving. If the storyline sounds a bit familiar, that's because the film is partially a tribute to the 1955 Ernest Borgnine classic, \"Marty\", about a lonely Bronx butcher living with his meddlesome mother. In fact, Garlin uses \"Marty\" as the play which James is desperate to do since he is so empathetic to the character's situation.<br /><br />Naturally there is a love story of sorts in this new millennium version, and Silverman plays Beth, an off-kilter, sexually voracious ice cream parlor server who takes him on an underwear shopping spree. Their best scene together is in his favorite convenience store where they improvise different characters in different aisles. Hunt plays a lonely elementary school teacher who shares a passion with James for jazz musician Ben Webster. They meet accidentally in a record store and then again at a career day at her school where he hilariously exposes his sexual neuroses in front of a classroom of first-graders, including his best friend Luca's pert daughter Penelope (played by Dakota Fanning's look-alike baby sister Elle). In a wedged-in cameo and looking quite a bit like Jerri Blank, Sedaris plays the school's counselor who speaks to James after his inappropriate monologue. David Pasquesi plays Luca, a retirement home manager, and his scenes with Garlin have an easy rapport that makes their friendship easy to believe. Almost stealing the movie is character actress Mina Kolb, who plays James' pixilated mother with pluck and heart.<br /><br />There are also unexpected cameos from teen idol Aaron Carter and Gina Gershon (don't askbut the set-up is funny), as well as sharply played bits by director Paul Mazursky (as the snaky director of a candid-camera-type show, \"Smear Job\"), Tim Kazurinsky (as the unsuspecting victim of that show) and Dan Castellaneta (as the tough-love convenience store owner). With his rueful bouts of insecurity and self-loathing, Garlin's comic sensibilities resemble those of Albert Brooks, and the casual dialogue at its best reminds me of \"Modern Romance\" and \"Defending Your Life\". The one persistent problem I had with the film is pacing as some scenes dragged out longer than necessary. The problem is more evident in the first half when Garlin is trying to establish the right tempo, and the lack of real conflict adds to the sluggishness. Regardless, what he does well is capture that gnawing sense of desperation one feels upon the revelation that life is not what it is supposed to be, that a significant other may be out of reach, and that a steady diet of junk food eaten on a car hood is the only sure thing when it comes to gratification.\n",
      "Sentiment:\n"
     ]
    },
    {
     "name": "stderr",
     "output_type": "stream",
     "text": [
      "356it [03:12,  3.28it/s]"
     ]
    },
    {
     "name": "stdout",
     "output_type": "stream",
     "text": [
      "Prompt is too long >512 (Max Length), prompt: A friend of mine asked: \"Doesn't one have to be pro-euthanasia in order to like this movie? Is it a mistake of the movie to infer most quadriplegics want to end their lives?\" Interesting questions.<br /><br />As far as I can see (correct me if I'm wrong), there is only one quadriplegic who wanted to end his life in The Sea Inside. Think Ramón Sampedro addressed this in the movie as well. It is he who wants to die. It is he who is fighting for his right to decide his death. He is speaking for himself and not other quadriplegics. Though his pioneering work, depending on one's perspective, may prove beneficial or damaging to quadriplegics down the road, his primary objective is a personal one. But one thing this movie does (my opinion anyway), is that it forces us the viewers to ask ourselves the inferring questions my friend so succinctly put forth.<br /><br />After my first viewing of The Sea Inside, I walked home in a conflicted blur. I struggled to reconcile with this exasperating notion; why would Ramón want to die? Given the love, care and sacrifices so unconditionally showered on Ramón by the people surrounding him, why would he doggedly cling on to his hurtful decision? Then, on my second viewing, a shared thought between Ramón and the lawyer lady entered my consciousness. It threw up a telling observation: \"...total dependency comes at the expense of intimacy.\" Most human beings crave for such an intimacy. Of course, how much we value such \"needs\", depends largely on the individual.<br /><br />As a person with a familial-biased sensibility, I empathised strongly with the caregivers in this movie. Why can't Javier consider the sacrifice and the love from his family and friends? Is he blind to it all? I would think not. The miracle of The Sea Inside therefore, is its insightful depiction of a very humanistic tug of war. When we are faced with the guardianship of a sane but incapacitated loved one, whom has expressed a calm, conscious and rational intent to die, what then is the right thing to do? Is caring for and keeping this loved one alive, against his or her will, a pious gesture? Does it show up the worth of our love? Or does it merely soothe our \"selfish\" fears of irreplaceable loss? With so much understanding accorded to caregivers, wouldn't their invalid charges, by submitting themselves to the total dependency of others for survival, also be an overlooked act of sacrifice? Rhetorical or not, how much is \"dignity\" worth to an individual? Is living (or dying) with dignity a privilege or a right? If we really care and love a person, should we also respect their eventual decisions in life (as in death)? A torrent of questions the movie might have asked, answers to which, I'm in no position to provide.<br /><br />In our eagerness to intellectually demarcate the merits of pro-life or pro-choice, we run the risk of ignoring a sea of grey that's engulfing the people most intimately affected, the caregivers and the ones they care for. The Sea Inside hence attempted to present the delicate yet complex relationship dynamics between them. Intuitively, this film understands one thing; that the nature of \"sacrifice\" is never one-sided. In this tug of war, we should endeavour not to win arguments, but to intently observe and hopefully determine, who is the \"stronger\" party to make that sacrifice.<br /><br />The Sea Inside is a sobering film. It opened my eyes to things I don't wanna see. And for that, I am grateful.\n",
      "Sentiment:\n"
     ]
    },
    {
     "name": "stderr",
     "output_type": "stream",
     "text": [
      "361it [03:13,  3.31it/s]"
     ]
    },
    {
     "name": "stdout",
     "output_type": "stream",
     "text": [
      "Prompt is too long >512 (Max Length), prompt: The dead spots and picture-postcard superficiality of \"Out of Africa\" just about buried any interest I might have had to read Isak Dinesen. So when my brother bought me \"Babette's Feast,\" and knowing it was based on a Dinesen story, I didn't exactly race to the VCR. But as the titles rolled, it became clear that this was no ordinary movie. Jutland (where it's set) is not Africa; the chill mist that collects on the camera shots is not inviting. The cold, forbidding sea; the heavy, gray clouds; the pale, icy green cliffs--translate to hardships that show on the faces over which director Gabriel Axel draws the curtain. The craggiest is Bodil Kjer's as Philippa; amid the myriad merits of this movie, the most memorable is that face. It stands like a map laying before us the cherished wonder of her minister father's apostolate; like a maze of long-overlooked fjords where the complications of her congregation's perseverance and commitment hang like gleaming escutcheons.<br /><br />I gather it's Dinesen's point how the world is drawn inexplicably to Christian dedication, when Philippa is rejected by her only serious suitor (because he fears he'll never measure up to the rules and rigors of her small religious clique), and he returns to find her mistress of whom he regards as the greatest chef on the continent. I figure it's also her point that Christ answers the doubts and regrets of those who give up worldly success (Philippa's sister Martina rebuffs efforts by a visiting baritone (Jean-Philippe Lafont whose jolliness creates an uplifting counterpoint to the sparsity of spirit that surrounds his discovery) to turn her into an opera star; the title character leaves France and an enviable reputation and seeks sanctuary as the servant of two spinster sisters) to pursue artistic triumphs for only God and those closest to Him to witness. But it's Axel who weaves the asperity of these people's lives with the richness of Martina's voice and Babette Hersant's table and effects a sumptuousness you'd never expect from a movie about sacrifice, faith, and religious conviction.<br /><br />What sets this movie apart from other religious movies is its sly humor. \"Babette's Feast,\" that is, the banquet itself--a posthumous commemoration of the minister's 100th birthday--is a beautifully orchestrated clash of sensibilities that delivers comic moments by an ensemble of actors that are unparalleled in their subtlety. It's just this deft comedy that enriches the solemn sentiments at closing. Together they do something pious movies seldom do. They leave a believer tremulously hopeful and unexpectedly resolute and humbled.\n",
      "Sentiment:\n"
     ]
    },
    {
     "name": "stderr",
     "output_type": "stream",
     "text": [
      "377it [03:19,  2.62it/s]"
     ]
    },
    {
     "name": "stdout",
     "output_type": "stream",
     "text": [
      "Prompt is too long >512 (Max Length), prompt: From what I understand, Fox was embarrassed they released a PG-13 Alien/Predator movie not so long ago. It was not well received by any means.<br /><br />Not exactly sure where to go next, seeing as they thought Anderson was the best director for the franchise and they had produced a true sci-fi gem, Fox turned to it's small, but knowledgeable group of monkeys for answers.<br /><br />These monkeys were by no means veterans of writing sci-fi flicks, but had seen Burton's Planet of the Apes remake and House of the Dead. <br /><br />Their first task: hire actors. Fox gave them a reasonable budget but the monkeys wanted to save the money. They hired fifteen TV actors shortly after.<br /><br />Now, the script. The monkeys wanted to save more of the budget so they wrote the movie themselves. Leaving out important aspects of the two franchises was the easy part. Thinking of great new lines for the general audience to remember years down the line - that was more difficult. They butted heads awhile and came up with a truly award-winning screenplay equipped with cliché characters, idiotic decisions an gaping plot holes.<br /><br />Fox was pleased thus far with the results but wanted to see what was to become of the centerpieces to the film - the aliens and predators. The monkeys again wanted to save money in the budget so they decided to trash the great robotics used in the otherwise terrible AvP original and go with the man-in-the-suit Alien seen in the old films. The actors playing the aliens had trouble fitting into the suits as they weren't properly sized by the monkeys so they jiggled their plastic heads throughout the film with honor. As for the predators, the monkeys decided one predator was enough this time around (again, saving budget) to fight the hordes of aliens that seemingly come out of nowhere. <br /><br />But what about the effects, you ask? Come on now, people. They may be monkeys but they clearly knew CGI would play a key role in the film. Without diving into the budget, the monkeys used a standard Final Cut program and cut and pasted some very nice fire and spark effects throughout. Putting red and green filters over the camera lens provided some excellent Predator visions.<br /><br />The setting was something the monkeys thought long and hard about. If this was to be on Earth, in Colorado of all places, they needed to make it realistic. This was where they admitted they might have made a mistake. See, the monkeys didn't have proper training in this department so they thought turning the lights off in the city and having the movie play out in the dead of night and in the rain was the right thing to do. They simply forgot people like to see the creatures instead of looking at shadows and rain the whole film. To add insult to injury, the monkeys accidentally filmed all the fight scenes incredibly close so no one could see what was fighting or who it was. But again, rookie mistake.<br /><br />The rating. Fox told the monkeys to make the movie R-rated. That was easy. Without showing how many of the injuries or deaths actually happened, the monkeys made a habit of showing the carnage after the fact. It was simple: the viewers got the gore they desired and the monkeys didn't have to film the majority of action shots involving that violence.<br /><br />Some of the actors originally had questions concerning the screenplay. Why does a blue liquid the Predator has endless amounts of magically disintegrate whatever he wants it to and nothing more than that? Why is an ex-convict driving around in a police car the entire movie? Why did the monkeys forget to show a full body shot of the Aliens? Why does a clock play a more memorable role than any of the main characters? The list of questions just kept growing but the monkeys ignored them and finished their masterpiece. <br /><br />Fox was thrilled with their work. So thrilled that they opened the movie nationwide on Christmas Day and even spent a few bucks advertising it the week before it came out. The monkeys had successfully made another installment in these cherished franchises.<br /><br />But some ask, what ever happened to the budget the monkeys forgot to use? They put it towards their next film: Aliens vs. Predator vs. Hulk Hogan. They knew the general public would be upset with the title but they have since released this statement:<br /><br />\"To the people- do not worry about our upcoming film. It will be rated R and will have violence.\"<br /><br />And everyone lived happily ever after. The end.\n",
      "Sentiment:\n"
     ]
    },
    {
     "name": "stderr",
     "output_type": "stream",
     "text": [
      "382it [03:20,  2.87it/s]"
     ]
    },
    {
     "name": "stdout",
     "output_type": "stream",
     "text": [
      "Prompt is too long >512 (Max Length), prompt: **Warning! Slight Plot Spoilers Ahead!**<br /><br />\"The Italian Job\" is not the best movie you'll see all year, or probably even this summer. But it is a worthwhile two hours because it colors within the lines, knowing its limits and not attempting to exceed them.<br /><br />What carries the movie is the work of the cast. In a movie about a crew of thieves, the individuals must have a good rapport with each other. Without that cohesive feel, the audience doesn't believe in the characters collectively or individually, and the movie never has a chance. But from the first scenes, in which the men joke around and rag on each other while infiltrating a Venetian palace, the proper chemistry is in place.<br /><br />The characters themselves aren't anything novel; they're your basic gang of criminals, containing about half a dozen players, each with a specific and defining skill. But each actor brings the proper goods to the table for his or her part. Mark Wahlberg's understated acting and humor fits well with his part as the mastermind planner. Edward Norton provides attitude and twirls his mustache well in his dark role. Donald Sutherland is the father figure of the crew, and he looks the part of the suave and old-fashioned thief, who is still mentally spry. Jason Statham, Seth Green, and Mos Def don't do much beyond their character's abilities, but they each nail those parts. Statham as the smooth-operating driver; Green as the tech whiz geek with a chip on his shoulder; and Def as the demolitions man. Charlize Theron slides in well in a part that doesn't ask too much of her. She is primarily asked to to drive fast and look good. That she does. None of the characters are that deep or three-dimensional, but in this familiar sort of movie, two dimensions are all that is required. <br /><br />As the title implies, the movie has a European feel to it, a la \"The Bourne Identity,\" in part because it was shot on location in Venice, along with Philadelphia and Los Angeles. Also contributing to the Euro flair is the rhythmic, bouncy music, which adds to the upbeat nature of the flick and complements the rapport of the cast. The look of the movie is also a perfect match. The bright colors of all locales enhance the mood and add to the attitude. The Minis not only provide a fun variation on the car chase, but also work as a necessary plot device. <br /><br />The plot is more or less straight-forward. There are a few surprises, but they are more of the swift-and-smooth-turn variety, as opposed to the drop-your-jaw hairpin curve. Even with those, the movie speeds along. Once the foundation is laid by the first act, everything continuously progresses. Thankfully there are no breaks in the action for a romance, something the movie wisely avoided. There aren't even any breaks for 'real life.' The story has its purpose and runs that course without distractions. The lack of character depth prevents \"The Italian Job\" from being more than a good popcorn movie, but with all the complex details of the heist-planning, such superfluities would have dragged down the pace and quality of the flick.<br /><br />There are a number of implausibilities that I thought of both during and after viewing. But the movie is so enjoyable that I didn't and don't care. In the real world, most of the movie probably couldn't have gone off that cleanly. But \"The Italian Job\" doesn't take place in the real world. It occurs in a stylish and light-hearted criminal world that appeals to the rebel in all of us. <br /><br />\"The Italian Job\" is a movie, in the true sense of the word. It has no pretenses of Oscar and contains no deep moral message. It provides pure escapism entertainment and does so quite well.<br /><br />Bottom Line: Maybe the best popcorn movie of the year so far. 7 of 10.\n",
      "Sentiment:\n"
     ]
    },
    {
     "name": "stderr",
     "output_type": "stream",
     "text": [
      "395it [03:25,  2.66it/s]"
     ]
    },
    {
     "name": "stdout",
     "output_type": "stream",
     "text": [
      "Prompt is too long >512 (Max Length), prompt: Don't get me wrong, the guy's a success dynamo, but he got to the top by selling overpriced plastic toys to impulsive brats. So I get a little peeved when he looks at comic book fans as an extension of that same market.<br /><br />See, \"The Invincible Iron Man\" wouldn't be bad if it were slotted on a Saturday morning and geared exclusively toward undiscerning children. But it's not directed exclusively at children. Periphery characters are killed every five minutes and there's enough bloodshed and semi-nude bodies to make network censors squirm, so it isn't quite cut out for children's television.<br /><br />So what audience is this video aiming for then? It's the audience that enjoys nigh intelligible story lines about reviving a tyrannical Chinese emperor with 5 arcane rings, that's who. And I think that audience is restrictively small.<br /><br />A lot of great writers have passed through Marvel's leathery yoni over the decades. So it's a shame that Marvel would risk their pricey animation investments on so many questionable storytellers and scribes who, like Mr. Arad, are better accustomed to peddling action figures during Saturday morning cartoons. How many lukewarm receptions do Marvel have to endure before they come up with a better strategy? <br /><br />***<br /><br />Animation: just passable cels, some segments are better than others, a low budget look all throughout -- this ain't no Bakshi (Ralph) and it ain't no Bluth (Don)! CG animation's okay, but far from impressive.<br /><br />Story: a litany of clichés, all over the place, convoluted, contrived, and uninspired.<br /><br />Characters: so why is Rhodes even here if all he does is add to Stark's sexual ambiguity? Hmmm... her Dad's in a wheelchair... Tony misses his mom... Asian chicks are hot and, apparently, little else; the female lead is thoroughly objectified by the feature's end.<br /><br />Performances: can't blame competent voice actors for a bad script.<br /><br />Art: very Western musculature, very clean lines, faces are very derivative of Eastern art, very boring mattes, very bland CG.<br /><br />Conclusion: Not great, but worth a watch for the fans and those who enjoy superhero myths. A 'must-buy' for collectors. A valuable \"what not to do\" course for junior animators.\n",
      "Sentiment:\n",
      "Prompt is too long >512 (Max Length), prompt: Shohei Imamaura's Black Rain was released in 1989 just at the onset of the AIDS epidemic, a fact that gives the film about the slow deterioration of Hiroshima radiation victims an added poignancy. The black rain in the title refers to the combination of ash, radioactive fallout, and water that fell one or two hours after the explosion. There have been other books and films about the dropping of the atomic bomb but none as unique and powerful as this one. Based on a novel by Masuji Ibuse who gathered information from interviews and the diaries of real-life bomb victims, the film depicts how an entire family is affected psychologically as well as physically by the bomb years after the original explosion. It is a horrifying vision but one that resonates with deep compassion for humanity. <br /><br />The film begins in Hiroshima on August 6, 1945 as soldiers and civilians go about their normal daily activities. Suddenly a blinding light flashes and a thunderous blast is heard. Almost every single building is destroyed or damaged beyond repair. The first atomic bomb ever dropped on a city is now a part of history. Survivors must somehow restart their lives, unaware of the bomb's devastating after effects. Filmed in high-contrast black and white, the story centers around Yasuko (Yoshiko Tanaka), a young woman who is caught in the radioactive rain as her boat heads back to the city to search for friends and relatives. In Hiroshima, Imamura shows us indelible images that remain with us: a young boy with skin hanging from his body pleads with his brother to recognize him, an older man is in tears over his inability to free his son from piles of debris, a mother is in torment as she rocks the blackened body of her child.<br /><br />When the family returns to their rural home, Yasuko's life is forever changed. She sees her friends dying around her and waits for the inevitable bouts of radiation sickness that have already affected her Uncle Shigematsu Shimuza (Kazuo Kitamura) and Aunt Shigeko Shimuza (Etsuko Ichihara). Pretending that there is only business as usual, the family denies that the bomb has affected Yasuko. \"She forgot how Hiroshima and Nagasaki were destroyed. Everyone forgot it. They forget the hell of fire and go to rallies like an annual festival. I'm sick of it,\" says a friend Katayama (Akiji Kobayashi). Yasuko internalizes the tragedy, feeling shame for being different than others and guilty for being contaminated.<br /><br />When her aunt and uncle try to find her a husband, the eligible men refuse to marry her because of suspicions about her health, even though Shigematsu has copied her diary to prove that she wasn't directly exposed to the bomb. The only suitor she feels comfortable with is another damaged man, Yuichi (Keisuke Ishida), who has a panic attack every time he hears the roar of an engine. At the end, the beauty of life shows itself ever so fleetingly when Yasuko goes to the pond and sees a sight she has been longing for all her life, the king carp jumping in the water, playfully as if to say that beyond despair there is still joy. Sadly we hear on the radio statements by politicians about using the bomb once again in the Korean War. \"Human beings learn nothing\", says Shigematsu. \"They strangle themselves. Unjust peace is better than a war of justice. Why can't they see?\" Immamura's Black Rain has hopefully allowed all of us to see more clearly.\n",
      "Sentiment:\n",
      "Prompt is too long >512 (Max Length), prompt: In watching this off and on for a few seasons, two things come to mind: One - wondering what kind of girl wants to be a \"model\" and two - run to the nearest ice cream store and have a low fat sundae.<br /><br />I tried to be a fan because I liked the idea of this reality show competition. No other \"famous\" model thought of this, and it is very admirable for Tyra Banks to do so. But as the series goes on and on I've come to the conclusion that this is a sorry lot of folks trying to make a mountain out of a molehill. Women shouldn't watch this, teens should stay clear of it unless they're doing book reports on the subject.<br /><br />Many women try out for slots to compete for \"Americas Next Top Model\". They live together, cat fight together, cry together, get put through pointless modeling shoots with pointless modeling people and fashionatas and get eliminated and almost all of them claim, \"You will see me again\". Heck, I'm trying to see what happened to the ones that DID win, actually.<br /><br />This is the dream of some girls, and good for them. In watching this I hope the other girls that see this and run like Hades the other way - like to college.<br /><br />I just happened to watch more of this recent season because of the \"ploy\" of full figured models joining the group. That even made me think more of this as a sorry lot of folks. The \"full figured models\" were no more than average sized ladies competing with what I think is the thinnest group of models they ever chose - so of course that would make them look even fatter - a \"ploy\" fashionatas use all the time. Bad, bad, Tyra and crew.<br /><br />But to be fair, \"Americas Next Top Model\" is not about \"full figured\" models, it's about projecting an imagined image a beauty that can be mass marketed and sold as the ultimate in beauty - and this show is just looking for the next fresh piece of meat to add to the mix. Hence the name of the show. Hence the sorry lot of judges, photographers, associations. Hence Tyra and her consistent \"this was me\" plugs every camera angle you can get. But then again, that IS the one thing I like about this show - the ex-model giving others who wouldn't have the chance -- a chance to enter the doors. But after that...everything else is status quo for that industry which is why there are no surprises or week to week interest in the program.\n",
      "Sentiment:\n"
     ]
    },
    {
     "name": "stderr",
     "output_type": "stream",
     "text": [
      "399it [03:25,  4.81it/s]"
     ]
    },
    {
     "name": "stdout",
     "output_type": "stream",
     "text": [
      "Prompt is too long >512 (Max Length), prompt: Many films attempt the ambitious. Few succeed. This film is one of them.<br /><br />Though billed as a black comedy, that term seems too limiting to express the true nature of the story behind Max and Grace. Multi-hyphenate Michael Parness has managed to weave elements of absurdest comedy with incredibly real human emotion. Quite a remarkable feat, to be certain.<br /><br />While the comedic aspects are certainly present, the heart of the film lies in its leads: David Krumholtz and Natasha Lyonne. The delicate balance of the film - really crazy versus real love - falls to them and they achieve it, carrying it through from the opening scene to the heart wrenching climax and on to the heartwarming ending. David Krumholtz, in the titular lead role and as narrator, anchors the picture and does an exceptional job. We see the world through Max's eyes and Krumholtz imbues them with a sort of wonder and hopefulness that one would not expect to be believable coming from a character who had previously attempted suicide. There should be no doubt from this point on that he has truly achieved leading man status, well deserved after more than a decade of memorable supporting roles. Natasha Lyonne might be something of a revelation for anyone who has seen her only in less challenging roles. The role of Grace is expansive in scope, requiring her to show both great rage and great tenderness - sometimes within seconds of each other. She manages to convince us of Grace's deep seated desperation that lies just beneath her alternating torpor and mania.<br /><br />This is not a laugh a minute type of comedy so don't see the film expecting strictly humor from start to finish. Think more dramedy than comedy. There are some very dark moments, as one would expect given the subject matter of suicidal individuals, and some oddly real moments delivered most notably by Emma Adele Galvin as Max's sister, Sis. The most humorous scenes are those populated by the myriad of name actors in supporting roles. While Lorraine Bracco and David Paymer lend the most surreal aspect with their scenes the other supporting characters who populate the institution where Max and Grace meet are the real treat. Guillermo Diaz is a wanton scene stealer as the delightfully frenetic oddball, Hector. Ralf Moeller, as Bruno, acts as his straight man but has his own charm and appeal. Rosanna Arquette fully inhabits the role of Vera with the crass vitriol of an embittered truck stop waitress. Even her hardhearted character melts eventually, as does everyone who is touched by Max's literally undying love for Grace.<br /><br />Can love conquer all might be the question behind the film and even though the realist within says no, movies are about an escape from reality, even if only for a few brief hours. I recommend seeing this film as an antidote to not just reality but to the cynicism that says that a love story like this never happens. Spending a few hours immersed in a world where it can and does works wonders on the psyche.<br /><br />(Seattle International Film Festival - June 2005)\n",
      "Sentiment:\n"
     ]
    },
    {
     "name": "stderr",
     "output_type": "stream",
     "text": [
      "408it [03:29,  2.79it/s]"
     ]
    },
    {
     "name": "stdout",
     "output_type": "stream",
     "text": [
      "Prompt is too long >512 (Max Length), prompt: I watched this out of curiosity. I enjoyed Stargate SG1 and I've watched many of the other TV shows and movies that the principal characters have worked on.<br /><br />My expectations weren't high, so I was surprised to be so monstrously disappointed.<br /><br />The acting throughout is appalling, and the script is worse. <br /><br />Zero research into the bad science that is spouted throughout the movie, or into martial arts (which several cast members engage in throughout the movie, despite clearly having no martial arts training (baton twirling does not a warrior make)) training makes the already implausible plot even less credible. The same weapon (carried by Michael Shanks), when shot at the side of a mountain, causes extreme damage, but when shot indoors at the wall made of wicker, creates a small fireworks effect without damaging the wicker structure - OK, I suppose Michael Shanks fans will be sued to seeing that in Stargate SG1, where a staff weapon creates either a surface burn on a main character, or blasts a hole in a section of castle wall as required), but still... A bad CGI snake 'god' eats one of the faithful in the way a dog would eat - snakes just don't behave like that.<br /><br />The basic premise of an amazonian warrior cult on a distant planet is silly at best. Matriarchal societies have always been based on a lack of understanding that men are required in the process of propagating the species - for instance, the Picts, who didn't figure out the role of men in sexual reproduction until the ninth century - at which time, the balance of power moved from the women to the men. They carry technological weapons and demonstrate some knowledge of science - particularly of medicine, so the idea that a matriarchal society could exist with this level of scientific knowledge is based purely on the original author's wet dream. Of course, the few references to stellar science made in this movie demonstrate that the author knew nothing about that either (except for a few keywords that he must have heard in other movies). Still, it could have been done better - like 'She' in 1965 for instance, which showed matriarchal society with a certain reverence, far more believably, and even after 45 years it seems fresher than this fetid exercise in stupidity. Marching a few women around in 'armour', pouting aggressively, and spitting out their lines like a kiddie looking for a fight in a nightclub (\"Come on then! I'll do ya!\" style), seems to be over-simplifying the complexities of a matriarchal culture.<br /><br />The cultural references are so simple - 'all hail the snake mother' pretty much sums it all up. Even the tiniest hamlet shows more cultural variation. <br /><br />There is nothing clever, thought-provoking, interesting, visually exciting, or remotely entertaining about this movie. The soundtrack is of similar quality.<br /><br />I can only assume that the few, overly-charitable positive reviews this movie has received are from blinkered Michael Shanks fans who will give a thumbs up to anything he's involved in. Don't be fooled. Low budgets are not a reason for a film to fail - cheap B movies can be brilliant. This isn't one of them, and there's no reason to inflict this movie on yourself.\n",
      "Sentiment:\n"
     ]
    },
    {
     "name": "stderr",
     "output_type": "stream",
     "text": [
      "414it [03:30,  2.84it/s]"
     ]
    },
    {
     "name": "stdout",
     "output_type": "stream",
     "text": [
      "Prompt is too long >512 (Max Length), prompt: Oh yes, I have to agree with the others who describe this as appalling. The acting in this four hour feature is uniformly bad, so bad to the point that I find it impossible to believe any of the actors in this production could possibly earn a living as an actor. I still wonder who did the casting. Each delivers their lines without appearing to have any kind of engagement or emotional investment with any other character. None appear to have a true relationship, family or otherwise, with another. The direction is also appalling and any action scene is laughable and unconvincing. Were the film editors asleep?<br /><br />The costumes appear authentic to the Regency period but the fabrics look 20th century and colors (especially the blue colors!) are jarring and I don't believe were available in early 19th century fabric except perhaps in silk. <br /><br />Also the hair: the men have obvious 1970s haircuts, and the women have \"big hair\"---especially the woman playing Anne Elliot.<br /><br />All the female characters, young and old, are quite lovely but this doesn't make up for the lack of acting abilities. The actress playing \"Anne\" looks as though she is in her forties while Anne Elliot is supposed to be 27 years old. I mean, where was the makeup and lighting crew if we were to find the woman playing Anne believable? She spends much of her time gazing pensively with her eyes at the level of the horizon whether indoors or out. I wonder still what that was suppose to convey. Regret perhaps? Yes, this production is regrettable!<br /><br />The actress playing Louisa was truly appalling. She screams, squeals, giggles, and leaps around like an ill mannered twelve-year-old (my apologies to anyone twelve years of age reading this) that I found myself eagerly awaiting the moment when she knocks herself out. How this behavior is suppose to attract an adult male is beyond me. Most would back off when she first opened her mouth to giggle and shriek.<br /><br />The actor playing Captain Wentworth portrays someone so bland and colorless one wonders why any woman could pine over him for eight years.<br /><br />The rejoining of the pair at the end is not convincingly done or explained. How did they get together again? Not because Louisa was in a coma; that is certain. No, there has to be more than that and it is not explained in the film. <br /><br />I rate this production two stars: one because it is Austens' work, and the other because some of the outdoor scenes were lovely. The only reason I could watch the entire production is that I was off sick with the flu and I got it from the library. <br /><br />If you enjoyed the book see the 1995 version with Amanda Root and Ciaran Hinds. I would recommend this film even if you have't read the book.\n",
      "Sentiment:\n",
      "Prompt is too long >512 (Max Length), prompt: Yes, it's Sean Connery playing Bond again, looking more alive and into his part than any time since the first time they made this film, in 1965 when it was called \"Thunderball\". But the tongue is so firmly in cheek one wonders if Connery isn't employing a few observed tricks from his friend and more humorous successor, Roger Moore.<br /><br />Moore is my favorite Bond, but Connery makes a strong case for himself in this unusual outing. The only serious Bond film not made under the aegis of the classic Eon Bond series, \"Never Say Never Again\" is an irreverent return to the well. Soft on action, it's nevertheless strong on character and clever dialogue.<br /><br />Bond, it's made clear right away, is a man in disfavor. No matter how many times he has saved the world, his new boss thinks little of his fat lifestyle. \"Too many free radicals, that's your problem...Caused by eating too much red meat, white bread, too many martinis.\" \"Then I shall cut out the white bread, sir,\" Bond smartly replies.<br /><br />An early fight sequence in a spa represents the movie's high point action-wise, with Bond and an attacker fighting their way through a kitchen, a bedroom, and a laboratory before Bond finally douses his opponent, ironically with no small help from those free radicals. Humor is liberally applied in the film, rather more cleverly than most of Moore's outings, though Connery seems to be having more fun sending himself up as a result of Moore's less egotistic example.<br /><br />Was it because he was making a good chunk of the gross? Or was it working for less stingy producers? Whatever it is, the screenplay serves his laid-back style well, and the result is richer and more entertaining than Connery's prior two Eon Bond outings, \"You Only Live Twice\" and \"Diamonds Are Forever\".<br /><br />The 1980s were not a good decade for Bond, whether it was Connery, Moore, or Timothy Dalton. Leg warmers, video games, and ugly sports cars are all in evidence, and the Bianca Jagger sunglasses Klaus Maria Brandauer is seen wearing in his first scene do him no favors. Forget first impressions. Brandauer's role as the chief villain, Maximilian Largo, is one of the best in any Bond film, with Brandauer enjoyably playing up his character's menace and mania. At one point, he allows Bond free roam of his situation room, with a martini to boot, and his dancing eyes and mad, engaging grin make for compelling company throughout.<br /><br />The best thing in this film, other than Connery, are the Bond girls, shot with more attention to personality than normal in Bond films, a testament to cinematographer Douglas Slocombe and director Irvin Kirshner. Barbara Carrera was nominated for a Golden Globe for her role as the villainess Fatima Blush, every bit as crazy as Largo and even nicer to look at. She doesn't last the whole movie; you almost need her gone in order to focus on the others.<br /><br />Kim Basinger's breasts and buttocks should have had their own agents for the screen time they get in this film, but I'm not complaining. Basinger's a rare beauty who in this early role as Largo's mistress mixes incredible hotitude with a childlike vulnerability that brings out the Bond in me, and many others I suspect. (Her lips and cheekbones are pretty sweet, too.)<br /><br />It's not a well-constructed film. It's a knockoff of a better Bond movie with a sloppy storyline, a terrible score, and a flat ending. But it does have Connery, proving his was the definitive take on cinema's definitive secret agent, even if he steals a page or two from my 007, Mr. Moore. The end result is entertaining enough, so I'm not complaining.\n",
      "Sentiment:\n"
     ]
    },
    {
     "name": "stderr",
     "output_type": "stream",
     "text": [
      "417it [03:31,  4.24it/s]"
     ]
    },
    {
     "name": "stdout",
     "output_type": "stream",
     "text": [
      "Prompt is too long >512 (Max Length), prompt: As previously stated in one of my great reviews, the Universal Pictures'Trilogy of FLASH GORDON should not be classified with the other serials. For,indeed the three of these have made a sort of celluloid-electronic mythology for a punchy, war phobic mid twentieth century world. They stand alone in many peoples' minds as THE example of just what a cliff hanger was.<br /><br />We can recall seeing Buster Crabbhe as a guest on NBC's late night talk show, TOMORROW, hosted by Tom Snyder. This was circa 1979-80. During the interview Mr. Crabbe was asked about his personal fitness habits. He credited weight training and swimming, coupled with some sound dietary habits-which included vitamin and protein supplementation.(And would you believe it, he smoked several cigarettes!)<br /><br />When questioned about his career, Mr. Snyder of course got to the subject of his portrayal (and strong identification with) the character of Flash. Buster stated that he had read and enjoyed the feature in its original medium, that is a comic strip the property of Hearst's King Features Syndicate. He stated that he had thought that it would not work once transferred to the screen! Luckily he was wrong.<br /><br />As for the 1st serial, it was a very good adaption of the original continuity from the Sunday Color Comics. The world is about to end because of impending collision with Planet Mongo.It's up to independent working Dr. Zarkov to rocket to the wild planet to change its course. He enlists the aid of Flash and Miss Dale Arden, newly acquainted parachuters from airliner, landing in Zarkov's property.<br /><br />The Serial has excitement through out and manages to make one feel that there is always some other peril lurking just outside the film frame. The costuming and decor is varied,from Romanesque to Oriental to Art Decco. It would be easy to surmise that this was due to frugality on the part of Universal,but once again this was being faithful to creator,cartoonist Alex Raymond's visual concepts.(just look at the old strips as reprinted in many collections) The rockets were used before in JUST IMAGINE! (Fox 1930), a science fiction musical comedy.The other scientific lab equipment was provided by Universal's prop dept.,being the top Hollywood company doing Horror and SciFi.<br /><br />The cast features Jean Rogers(Dale Arden) and Priscilla Lawson (Princess Aura)who get into a good girl vs. bad girl battle over Flash. Charles Middleton portrays Emperor Ming in a sort of overly melodramatic villain,but makes it work. Zarkov(Frank Shannon)is toned down from the sheer madness that he suffered in his appearance in newsprint. (by the way, ever wonder how Zar-KOV has a brogue?) Richard Alexander makes a fine, powerfully built Prince Barin, ever helpful and so noble.<br /><br />Comic actor Jack \"Tiny\" Lipson is the surprise of the cast, stealing scene after scene as a lecherous, Henry VIII like scoundrel turned ally, King Vultan,ruler of the Hawkmen. Among the others, most notable is Jim Pierce as Prince Thun of the Lion Men. Pierce,like Crabbe, had also portrayed Tarzan in a film-but he later married Tarzan Creator, Edgar Rice Bourroughs' daughter, Joan.<br /><br />FLASH GORDON and the two sequels, FLASH GORDON's TRIP TO MARS(1938) and FLASH GORDON CONQUERS THE UNIVERSE(1940), have been a staple juvenile fare for generations,first in the movie houses then in Television release. Like fine wine, they seen to get better with age.<br /><br />We're all so glad that Mr.Crabbe was wrong.\n",
      "Sentiment:\n"
     ]
    },
    {
     "name": "stderr",
     "output_type": "stream",
     "text": [
      "420it [03:32,  3.92it/s]"
     ]
    },
    {
     "name": "stdout",
     "output_type": "stream",
     "text": [
      "Prompt is too long >512 (Max Length), prompt: I can't help but forget that incredible scene in Alien, when the extra terrestrial burst out of one of the men's chest. Or even in Predator when the invisible monster snuck upon the bewildered soldiers and cut them to pieces. Both these movies expressed fascinating ideas on the run-of-the-mill creature feature. Back track to the era of cheesy B-movies and watch big men in phony suits parading around killing people in small towns. Now recognize that the two movies above revolutionized this genre. The Cave does nothing to improve on it. It tries nothing new, and worst of all, The Cave doesn't even have good gore. Shame on them, shame on them all. <br /><br />Parading around in sexy spandex are the one-dimensional characters of The Cave. All of which seem to not care when they witness the death of their colleagues. They just stroll along, unbeknownst to the evil creature lurking in the darkness. The plot is very easy to understand. So you got the two brothers, the black guy and the sexy female scientist. The rest (by the rest I mean all of those meet grisly demises) are even more unexciting then the others. We have the Korean assistant, the risky outdoor chick, a Russian scientist and two divers, both lacking a sense of emotion and are stupid enough to wander off by themselves. This movie exceeds to be extremely clichéd, since everybody but the black guy, one of the brothers and the female scientist meet an end. It also seems only Americans can survive the terror, since the Russian and the Korean die. Don't be offended if I give away details. There's no real surprise anyway.<br /><br />To be straight forward they find this cave. They go in the cave. They get stuck in the cave. They start dying in the cave. One of them gets infected in the cave. More die in the cave. They get out of the cave; only to discover that one of them has a parasite that will turn them into a ghastly monster, which really doesn't seem to bother them. That's the simplicity of the lackluster plot. It doesn't even try to be original. It even has the part where they decide their leader isn't capable and split up. We have just seen this way to many times before.<br /><br />I know in a movie like this, people don't care about the performances but it's worth mentioning how bad they were. Everyone is just so dreary. Cole Hauser was especially unsophisticated and don't get me started on Eddie Cibrian, who is frequently a lot better. Morris Chestnut is hands down the best thing in the movie. His performance is actually decent. He portrays the guy who calms everybody down. All the other actors are average at best. In a show like this, that's really not a bad thing.<br /><br />Now to the reason we go to this genre of film; the action, of course. Well, to my regret, the action was dull. The death scenes are all boring, hell the whole movie was. There is barely any blood at all. It's either they disappear and found later or they are attack and die without a bruise. Seeing the Koreans man's death was the only exciting action I could find. <br /><br />It's pretty amazing. The bad things over shadow most of the things that are good. A good example is to say the special effects were well done, which they were. The only thing wrong is that since everything takes place in a cave, it's going to be dark. I found it extremely hard to distinguish between the cave walls and the monsters. So it was pretty hard to even see the creatures. Although I liked the special effects, there was nothing original about the monsters. They all resembled each other and they weren't frightening at all.<br /><br />The Cave marks the directorial debut for Bruce Hunt. I don't see what he was trying to accomplish by making this film. He obviously made a huge mistake. Almost everything about this movie stunk like a stink bomb. A stink bomb is probably even more pleasurable than watching this mess again. Only the most forgiving moviegoer will find this forgivable. I gave up all hope in the middle of the film when I heard the phrase \"what the hell was that\", for the third time.\n",
      "Sentiment:\n"
     ]
    },
    {
     "name": "stderr",
     "output_type": "stream",
     "text": [
      "425it [03:33,  3.17it/s]"
     ]
    },
    {
     "name": "stdout",
     "output_type": "stream",
     "text": [
      "Prompt is too long >512 (Max Length), prompt: Sometimes good things happen by accident.<br /><br />I'd never heard of \"Silverwing\" until late 2005--I was flipping channels and happened to see something on Toon Disney with bats in a sawmill being attacked by owls. I had no idea what it was, but I was motivated to stay tuned--it was hard waiting for a commercial so I could find out what it was called!<br /><br />Part of what intrigued me was the looks of the bats--first of all, they didn't use the popular convention of giving the bats \"extra fingers\" where their thumb claws are supposed to be. Rather, they have palms like human hands, but the fingers are longer and have webs of skin between them.<br /><br />Also the faces--they look like human beings (in fact, at one point I wondered if they had once been human but were transformed INTO bats). Ordinarily I don't like this in cartoon animals, but it worked here--the story is a human story, even though it's about bats and other animals (not unlike The Lion King).<br /><br />What I saw on TV were the last two parts of the \"trilogy.\" I'd missed the very beginning of the first one, \"Towers of Fire\" (the second overall), but for the most part I saw all of each of them. However, I found myself wanting to understand what was going on, since the first part hadn't been on and I wouldn't have caught it anyway.<br /><br />But I saw that it was based on a book by Kenneth Oppel. How fortunate that I paid attention and wrote it down--I was very disappointed when I learned that the series WASN'T AVAILABLE! It wasn't even that recently made that it made sense for it not to be available yet.<br /><br />However, I did find not only the book Silverwing, but also the two sequels Sunwing and Firewing. When I read the first book, I was left wondering \"Is that it?\" Not only because a lot of what's in the series isn't in that book, but even had I not seen the animated version, the book Silverwing (otherwise a good story) doesn't end so much as it stops. Only one loose end is tied up--Shade and Marina meet the Silverwing colony at Hibernaculum.<br /><br />In fact, Silverwing and Sunwing should have (in my opinion) been published in a single volume, because they make for a complete story together, but not separately.<br /><br />Actually, the animated version takes some elements from Sunwing (e. g., Orestes, the lifting of the ban from seeing the sun) and some were completely original. It's not perfect, but it's definitely very enjoyable. I enjoy both versions of the Silverwing saga.<br /><br />Which is why I'm glad it's finally going to be available in June. It was a long time coming, and it's well worth the wait.\n",
      "Sentiment:\n"
     ]
    },
    {
     "name": "stderr",
     "output_type": "stream",
     "text": [
      "427it [03:34,  3.75it/s]"
     ]
    },
    {
     "name": "stdout",
     "output_type": "stream",
     "text": [
      "Prompt is too long >512 (Max Length), prompt: The comparisons between the 1995 version and this are inevitable. Sadly, this version falls far short.<br /><br />The casting is uninspired and the acting wooden. One gets the impression the director did not read the book,so did not understand the characters.<br /><br />Sir Walter Elliot is portrayed as pompous but his inadvertent silliness which Redgrave brilliantly captured (in the 1995 version) is nowhere to be found.<br /><br />The Musgrove sisters are so unlikable, one doesn't understand why Wentworth or anybody else would give them a second glance.<br /><br />The relationship between Wentworth and Anne is devoid of feeling.<br /><br />In the 1995 version, Hinds and Root managed to convey the depth of emotion the two of them felt towards each other with their body language and facial expressions. In this one, it is hard to understand Anne spent years mired in regret unless one has read the book.<br /><br />This production does not capture the emotional complexity of the main characters' relationship.<br /><br />In the scene where Wentworth walks in on Anne and Mary having breakfast, it seems to the viewer, as Mary thinks, they are only slight acquaintances.<br /><br />In the 1995 version, when Wentworth walks in (the first time he sees her in years), the tension is thick. Resentment is coming off Wentworth in waves, while Anne is almost overcome.<br /><br />In this version, while Wentworth is courting Lousia, it is as if he is truly invested, the undercurrents are missing. In the 1995 version, the viewer sees Wentworth's anger at Anne. He is flaunting his courtship in front of Anne, as if to say, \"see what you gave up, I don't need or want you anymore\".<br /><br />Yet he still cares if she suffers, as the scene where he asks his sister and the Admiral to take Anne back to house illustrates. In the 1995 version the viewer feels Anne's shock that he would care if she was tired, we also feel Wentworth's discomfort that he does still care. In this version he just walks on with Lousia as if nothing happened.<br /><br />The pivotal scene where Anne is conversing with Harville about who loves longest, man or woman, is totally botched. The actors are just reciting lines with no emotional investment.<br /><br />When Anne reads the letter from Wentworth, it is as if she is reading a grocery list.<br /><br />Contrast this to the 1995 version, where the viewer feels Anne's joy at her second chance. We are there with her as she reads the letter. The director had both actors reading the letter and you hear both their voices. Wentworth is full of frustration, passion and hope, while Anne's is at first incredulous then evolves in to joy.<br /><br />This production has more scenes after the revelation, probably because it was needed to explain to the viewer what just happened. The 1995 version didn't need to explain, we knew and rejoiced for the characters The only thing this production has in it's favor is it kept the Mrs. Smith sub plot intact, while the 1995 version did not.<br /><br />The 1995 version however did include part of Austen's original ending. The scene where Wentworth is commissioned by the Admiral to find out if Anne and Mr. Elliot will want to move back to her house (which he & Mrs. Croft are renting) after they marry. <br /><br />This is a production to avoid at all costs.\n",
      "Sentiment:\n"
     ]
    },
    {
     "name": "stderr",
     "output_type": "stream",
     "text": [
      "429it [03:34,  4.16it/s]"
     ]
    },
    {
     "name": "stdout",
     "output_type": "stream",
     "text": [
      "Prompt is too long >512 (Max Length), prompt: What is about mathematical geniuses that get the critics juices flowing ? A BEAUTIFUL MIND wasn`t up to much in my opinion ( FELLOWSHIP OF THE RING deserved the Oscar that year ) while GOOD WILL HUNTING had several awards lavished on it undeservedly<br /><br />First off is the script . When I attended film school I was told GOOD WILL HUNTING is a very good example on how not to start a script and the tutor was right . This movie lacks any type of opening hook and for the most part it`s very very slow . If you wrote an unsolicited script like this the script reader would have given up on it by page 15<br /><br />Structure aside the idea of a member of the American underclass being some sort of intellectual god doesn`t really ring true . Ask yourself this : If he`s the cleverst character in the movie how come he`s gone through his short life without anyone noticing his abilities ? Not one single teacher from his childhood noticed his gift ? Highly unlikely as is the fact he`s read so much mind expanding litrature . And if Will`s so clever how come he`s so oblivous of what happens to young good looking boys in American prisons ?<br /><br />But it`s the casting that let much of the film down . You want to get a couple of actors to play rough tough Irish gang members ? Let`s get Matt Damon and Ben Affleck which is like getting Russell Crowe to play a pacifist or Charles Bronson to play a liberal do gooder . I failed to be convinced by the foul mouthed Damon and Affleck as they strutted about smacking people in the chops and couldn`t help thinking that even though they wrote the script the parts should have been awarded to different actors , after all Billy Bob Thornton has written screenplays for films he hasn`t been cast in and the same criteria should have been applied here<br /><br />There are some good points to the movie . Robin Williams is excellent as the man who tries to show Will his potential and also very good is Stellan Skarsgard who is quite simply one of the greatest character actors to stepped foot outside of Europe and despite my previous criticism of the script there is quite a moving piece of dialogue at the park as Williams character explains to Will what he has seen in life<br /><br />But I`ve got to repeat that there`s less plus points than negatives to this movie and I`ve got to agree with the people who`ve said GOOD WILL HUNTING is boring and unconvincing\n",
      "Sentiment:\n"
     ]
    },
    {
     "name": "stderr",
     "output_type": "stream",
     "text": [
      "436it [03:36,  2.92it/s]"
     ]
    },
    {
     "name": "stdout",
     "output_type": "stream",
     "text": [
      "Prompt is too long >512 (Max Length), prompt: The reason why this movie isn't any better known and more appreciated to me seems because of its subject. Because of its controversial subject this movie never got a proper big release and still remains a fairly unknown one to this very day. Not that it's subject is that controversial now anymore though.<br /><br />Basically in essence it's a movie about a white man befriending a black man. The friendship does not seem forced or unrealistic but the way it gets portrayed in this movie makes it all feel very real. We see these different ethnics mingle in with each other, as if it's just completely normal. Unfortunately of course back in those days it really wasn't regarded as anything normal. Seeing a black man talking to a white girl and just having fun with her as a friend must have been an hard thing to watch for instance for some proportions of its 1957 audience.<br /><br />You can really understand why Sidney Poitier has always been and still is being respected so much by the Hollywood society and the black-community in general. Of course it's one of the reasons why he also received an Honorary Award at the Oscar's, in 2002. In his movies he often fights against discrimination and prejudiced issues, with of course \"In the Heat of the Night\" as the best example of this. A real role model, that certainly has inspired many Afro-American actors, to this very day. But on top of that, he also was a great actor. Yes, he is still alive but he has pretty much retired completely from movies now it seems, since his last credited role is from 2001.<br /><br />This movie was Martin Ritt's directorial debut and he also wasn't given too much movie to spend on his movie. The studios were probably also a bit reluctant mainly because of its concept and/or because it was Ritt's first movie. Or perhaps it was simply due to the fact that MGM just wasn't that big anymore and it had left its best days behind them. Ever since the '50's on Metro-Goldwyn-Mayer sort of had the reputation of making not too great and cheap movies, while in the early years before that it was really one of the biggest studios with lots of stars and acclaimed directors attached to it, who made many award winning classic movies. Luckily for them their reputation is starting to change again and whenever the MGM-logo appears at a movie people are no longer expecting a lesser-movie anymore.<br /><br />Anyway, even with its restrained budget and limited resources they managed to make a great movie out of this one. The movie is very simple, with only a few characters and a simplistic plot in it. The movie however still manages to capture you with its story and subjects, without ever starting to become preachy or anything about it. It makes the movie an effective one as well with its subjects.<br /><br />Really a movie that deserves to be seen.<br /><br />8/10\n",
      "Sentiment:\n"
     ]
    },
    {
     "name": "stderr",
     "output_type": "stream",
     "text": [
      "439it [03:37,  3.24it/s]"
     ]
    },
    {
     "name": "stdout",
     "output_type": "stream",
     "text": [
      "Prompt is too long >512 (Max Length), prompt: Despite a totally misleading advertising campaign, this flick turns out to be an irritatingly clichéd, sub-par haunted house flick with a totally implausible ending. Clue #1 for all considering seeing this turkey: Sam Raimi didn't direct it. Although commercials for the movie play up his involvement, in truth he is one of four producers. It's too bad that someone as talented as Raimi has allowed his name to be used in conjunction with such a poor movie. I don't think he would ever have directed something like this; that task was left to the Pang Brothers.<br /><br />The screenplay for this film seems to have been cobbled together from numerous other \"horror\" films, so you'll find absolutely zero original content in \"The Messengers.\" What we get are a scene here and there that was plucked straight out of \"Pulse,\" a couple that could have come from \"The Birds,\" one or two from \"The Others,\" etc. Nearly every scene, almost every line of dialogue, is one that has been lifted from any number of other movies. The whole thing makes for such a predictable movie that almost anyone will be able to figure out the \"surprise ending\" long before it comes.<br /><br />Right about here would be a good time to point out that the advertising campaign, centered on the idea that only children can see ghosts, has nothing to do with this movie. In fact, everyone can see the ghosts. The teenage daughter and mother characters certainly see them, even quite early in the movie. I'm sure that whomever was in charge of marketing came up with this campaign because the film needed a unique angle to have any box office appeal, which otherwise is entirely absent. Now you know, so don't be fooled! Perhaps what this movie lacks most of all is anything resembling chemistry between the actors. It simply isn't there. All of the interactions come across as awkwardly stilted. Coupled with the hackneyed story and ridiculous plot holes (just what is a guy who murdered his whole family doing still lurking around the small town where the murder happened, anyhow? Didn't anyone think to maybe arrest him?), it all adds up to a profoundly unsatisfying ghost flick that only manages to surprise anyone over the age of ten with cheap shots: loud noises, visual flashes, and anything short of a sheeted figure jumping out of a closet and yelling \"Boo!\" All we get for our buck this time around is yet another poorly-made film about spirits attempting to warn people away from a house. If there's any message that \"The Messengers\" delivers, it's \"Don't waste your time on this movie.\"\n",
      "Sentiment:\n"
     ]
    },
    {
     "name": "stderr",
     "output_type": "stream",
     "text": [
      "447it [03:40,  2.78it/s]"
     ]
    },
    {
     "name": "stdout",
     "output_type": "stream",
     "text": [
      "Prompt is too long >512 (Max Length), prompt: Describing this film is a difficult task. On the one hand, it's an over-the-top vampire spookfest, complete with cobwebs, eerie music, a hypnotic medallion, and of course a coffin with a creaky lid.<br /><br />On the other hand, this is one of the silliest scripts this side of Edward D. Wood, Jr. Produced by the same people who gave us \"The Bloody Vampire,\" \"Invasion of the Vampires,\" and this film's predecessor, the modestly-titled \"The Vampire,\" the movie sticks close to the lack of logic that characterizes the other films.<br /><br />As I mentioned, this film is a sequel to \"The Vampire,\" which I have not seen. But no matter...it's real easy to imagine what happened. Dr. Enrique, played by Abel \"The Brainiac\" Salazar, is befuddled when the well-intentioned but misguided Dr. Marion brings back the staked body of his vampiric enemy, Count Karol de Lavud (I suppose there is a rule somewhere that all vampires must be Counts of some sort). Dr. Marion complains that all important doctors throughout history have had to resort to some sort of grave robbing in order to advance their medical studies, and he hopes to use the vampire's corpse to study such phenomena as the vampire's lack of a normal reflection (at which point he holds a mirror up to the vampire and instead of no reflection, we see the vampire's skeleton. ???).<br /><br />Enrique is not pleased, and seems determined to pass off the events of the first film as mere fantasy and superstition. \"This man was no vampire...I'll admit that he liked to drink a little blood, but that's all!\" he states. Also confusing matters is the fragile Martha, a part-time nurse and part-time showgirl (!) who happens to be Enrique's object of affection. Martha narrowly escaped de Lavud's clutches in the first film, and apparently Enrique has spent a great deal of time \"healing her mind\" and getting her to think that everything that she experienced was not real.<br /><br />OK, so if you were the scriptwriter for this film, you would need a way to get someone dumb enough to pull the stake out of the vampire, right? Well, how about the greedy con man who helped Marion steal the coffin? After getting a glimpse de Lavud's body, he sets his sights on the expensive-looking brooch that the Count is wearing, and he conveniently returns to steal it when the doctors aren't looking. But darn it...he can't remove the brooch because of the stake, so...you guessed it. De Lavud is on the loose again, this time with the shady con as his human henchman.<br /><br />OK, so of course the vampire is after Martha again, and meanwhile the doctors are really confused about what they believe. At first they are determined to prove that there is no such thing as a real vampire, then by the end of the film they are trying to get the police to put an all-points bulletin out for \"a man who is dead but still alive!\".<br /><br />You can probably imagine the rest of the plot from here, but the filmmakers do throw in a few pleasing twists. One of the sets for the movie is a spooky wax museum (is there any other kind in these types of films?), complete with a fully-equipped torture chamber...with REAL torture and execution equipment. The movie has a very keen sense of style, and not just in the campy cobwebs. One effectively creepy sequence has de Lavud chasing a victim down a seemingly endless series of streets and alleyways, following their progress alongside vague buildings with no doors while lighting the scene like a German expressionist nightmare (\"The Cabinet of Dr. Caligari\" seems to be an influence).<br /><br />But the rest of the film is juvenile, particularly in the film's climax. The special effects are quite crude, even for the year that this was made, and the climactic fight with de Lavud in bat form is laughable enough...but the director feels the need to ask us to believe that Martha would faint and collapse directly over top of a guillotine, positioned so that her head was in the perfect location to be chopped off by the blade, which is in danger of falling because the restraining rope has suddenly begun to fray RIGHT AT THAT VERY MINUTE! What an unfortunate coincidence! To make matters worse, he cuts away from the fraying rope to scenes of Enrique trying to dodge the swooping rubber bat, basically standing still and waving his arms around. It's definitely an Ed Wood moment if ever there was one, especially when Martha seems to revive on her own and rises groggily to her feet just as the blade slams down. Whew! What a relief! In terms of kookiness, \"The Vampire's Coffin\" does not have the lunacy factor of \"The Bloody Vampire\" or \"Invasion of the Vampires\", but fans of these types of old horror films will appreciate the atmospheric photography, and the fact that the director manages to wring some real chills from this material has to \"Count\" for something (haw haw).\n",
      "Sentiment:\n"
     ]
    },
    {
     "name": "stderr",
     "output_type": "stream",
     "text": [
      "474it [03:50,  2.60it/s]"
     ]
    },
    {
     "name": "stdout",
     "output_type": "stream",
     "text": [
      "Prompt is too long >512 (Max Length), prompt: My curiosity and patience to finally see this controversial film, which now has been released on DVD for the first time in the UK, has been more than rewarded. Peter Watkins has excelled himself in his audacity and technical skills. This pseudo-documentary is certainly ahead of its time and still frighteningly relevant and up to date.<br /><br />The film is inspired by the upheaval of the late sixties in the US, when the government has increased its legitimized use of violence and oppression, while the anti-war movement reacts increasingly violent and radical. In order to deal with both this, the overpopulation of prisons and to provide special training to riot police units, the government has introduced the so-called punishment parks. Convicted 'criminals', mostly activists, are given the 'choice' to either be locked up in prison for years and years, or spend three days in one of these parks, where they either gain their freedom their death or an even longer prison sentence. The situation in the parks is beyond their worst expectations, however. It reminded me of a sort of realistic version of Battle Royale (2000).<br /><br />The film's structure is extremely effective and recalls parallels with Cannibal Holocaust, which is made almost 10 years later. Both movies are constructed and filmed in such a way that the viewer is challenged in thinking and feeling he is actually watching a real documentary and therefore shocked, even though aware of the fact that: this is a film. Both confront us with the inherently violent nature of mankind, but where Cannibal Holocaust is devoid of any deeper meaning (above all, it is an exploitation movie in every sense of the word) and does not raise any critical questions about the state of the world, Punishment Park does just that.<br /><br />I have been profoundly impressed with Punishment Park and find it hard to believe how such a powerful and important film could have been rejected and marginalized for so long. Maybe that says enough about the truth of its content, about the way power structures in this world function. I do not agree with the critique that Watkins polarizes and stereotypes, because the movie depicts activists and the keepers of the legitimized power structures who are in reality as polarized as they are here. If they weren't, there would not be any conflict and therefore no change in our societies. In reality, confrontations between these two groups often take stereotypical forms, whether you place them between activists and establishment in Latin America, Russia or New York City. If these groups would not be polarized to these extremes, the activists would be part of the silent majorities that tacitly complain but at the same time reside in the injustices of the world.<br /><br />As Peter Watkins tells us in the introduction on the DVD, the actors in Punishment Park are for the most part amateurs. Most kids were real activists from LA, most policemen had been part of the national forces and even some of the members of the tribunals are part of the social and political establishment of the time. Not introducing both groups previous to the shooting of the scenes taking place in the improvised court room, adds to spontaneous and improvised feel. Parallels are drawn with issues of the time, such as the repression of Black Panther members (one of the black prisoners is said to resemble the convicted charismatic BPleader Bobby Seale) and the trial of the Chicago seven.<br /><br />I admire Watkins' obvious and sincere engagement with injustice and his concern with human rights and the increasingly repressive measures taken by governments (nowadays in the name of the War in Terror) to silence those that do not agree and refuse to be brainwashed. Punishment Park remains to be an extremely important movie that should be shown in schools and seen by everybody who shares these concerns. Maybe its marginalization can finally be made up for.\n",
      "Sentiment:\n"
     ]
    },
    {
     "name": "stderr",
     "output_type": "stream",
     "text": [
      "482it [03:52,  2.70it/s]"
     ]
    },
    {
     "name": "stdout",
     "output_type": "stream",
     "text": [
      "Prompt is too long >512 (Max Length), prompt: Oh Gawd. I want to time travel back to Monogram Studios and throttle someone in their 2 room front office for this sloppy musical. It is one watt above flat-lining for 60 of its 61 minutes and then actually shows (for the one thin minute, spread in milli-second blips across the hour) that there is real life talent being badly photographed.I just don't see the point of going to some trouble to actually make this film that could easily be energetic and actually funny and allow lethargy to be the main thing on view. The weird storyline shows cranky vaudeville trouper Grace Hayes bulldozing her blowsy way into a college where her rat-bag son is rich college clown. She's gonna fix his playboy ways, no matter what.Her real life son (weird looking) Peter Hays plays her screen son. His real life wife plays her secretary. Talk about nepotism. I suspect this talent package was almost the raison d'etre for Monogram financing this back-lot musical produced by resident schlockmeister extraordinaire Sam Katzman. As with other Monogram musicals it just looks more like a reason to film recent new furniture purchases and light fittings in order to show off to other studios that Monogram Pictures are 'lavish' in their B grade ways. Have a ghastly look at SWING PARADE OF 1946 for genuine evidence of this: they just constructed this gigantic nightclub set then found an excuse to film actors and musicians running all over it. Story? None. Anyway ZIS BOOM BAH is more BAH than BOOM. Where was Gale Storm and Mantan Mooreland when Monogram really needed them? Probably standing at the boom gate of PRC Pictures wondering if it looked safe to enter there. Junior jive hepster Roland Dupree springs to life to rappety tap his teen legs around two wobbly dance numbers, especially in the 'big show' finale set in the new and expanded malt shoppe/club set. The usual crumpled curtains are loosely hanging on the back wall, and the stage set of mis matched drapery even has one dark main rag that is yanked back and forth as each amateur sequence elbows past the previous one. The chorus girls and their very plain looking partners in this finale just look like Monogram office staff borrowed (from typing and carpentry) for the morning of filming. They have absolutely no dance talent and are so ordinary on screen... ALL the girls look like they are all called Joyce. There is even a costume calamity where they wear frilly hot-pants...on one leg only. It is all so awful and crummy...and actually annoying when one more tweak up by all concerned would result in ZIS being actually FUN. The one strangely interesting thing is the dialog delivery between Grace and her son/daughter in law: it is so casually delivered that it actually works in spite of the script and logic. She has a very life like presence which is the only thing that allows the ridiculous story to be slightly compelling. The Dupree kid is the real star. He can actually do something...in spite of looking like a tubby Liberace tap dancing teen... You read that right.\n",
      "Sentiment:\n"
     ]
    },
    {
     "name": "stderr",
     "output_type": "stream",
     "text": [
      "507it [04:02,  2.56it/s]"
     ]
    },
    {
     "name": "stdout",
     "output_type": "stream",
     "text": [
      "Prompt is too long >512 (Max Length), prompt: I don't get it! The teenage leads in \"Horror Star\" supposedly all are devoted horror fans, yet when their favorite idol (Conrad Radzoff) passes away, they dig up his corpse and do all sorts of disrespectful stuff with it, like disco-dancing it around the house and throw food leftovers at it. That doesn't sound like something real horror fans would do, now does it? I'm a big horror fan and I immensely idolize departed icons like Vincent Price, Peter Cushing and Boris Karloff, but it would never come to my mind to ridicule their memory. No wonder Conrad comes back from the dead  admittedly, after a séance  to wipe them all off the face of the earth! Mr. Radzoff already wasn't known for his friendliness in life, since he occasionally killed the directors that disagreed with his visions, and even after his death he suffers from a tremendous ego. Even inside his tomb there are video messages to petrify possible visitors and the group of teenagers will vividly experience that he also enjoys the murdering business outside his film sets. \"Horror Star\" (a.k.a. \"Frightmare\" and \"Body Snatchers\") is a pretty lame 80's horror flick, but there are a handful of cheesy & gory highlights to enjoy. The film mainly suffers from its own stupid plot, since no one  not even a film school student  is stupid enough to steal a recently buried corpse and actually think he'll get away with it, and there are too many tedious moments to struggle through. Conrad's video-speeches from beyond the grave are overly talkative and definitely undermine the tension, but on the other hand his killing methods are pleasingly inventive. One teenager enjoys the experience of getting cremated alive and another one (Jeffrey Combs in one of his first roles!) loses his head in a delightful decapitation sequence. In the absolute messiest sequence, a poor girl' head is crushed by a coffin. Writer/director Norman Thaddeus Vane wanted to bring homage to vintage horror cinema and he obviously how to make film look sinister. The locations and scenery are great, but Vane lacked the necessary funds to provide his film with a proper continuity and editing-job. The acting performances are overall decent, with Ferdy Mayne (imitating Christopher Lee) and Jeffrey Combs delivering the most memorable roles. \"Horror Star\" can hardly be called a must-see or even a good film, but it's worth tracking down in case you're an admirer of enthusiastically made B-horror.\n",
      "Sentiment:\n"
     ]
    },
    {
     "name": "stderr",
     "output_type": "stream",
     "text": [
      "512it [04:03,  2.84it/s]"
     ]
    },
    {
     "name": "stdout",
     "output_type": "stream",
     "text": [
      "Prompt is too long >512 (Max Length), prompt: THE KITE RUNNER is one of those modern epics that one is occasionally graced with. Spanning two continents, multiple family generations, and many decades, this film touches on a myriad of items including friendship, love, loss, and, ultimately, redemption.<br /><br />It's prime mover is young Amir (Zekeria Ebrahimi), a native Afghan boy who often plays with the hired help; mainly young Hassan (Ahmad Khan Mahmoodzada), a Hazara boy who's family is supposedly inferior to the ruling Afghans. But the two form a bond of friendship based on education (Amir teaches Hassan to read), closeness in Amir's house, and, of course, kite flying.<br /><br />But bad times are on the way for the city of Kabul. The communists are invading and Amir and Hassan have separated due to an impossibly brutal act of prejudice by an Afghan boy against Hassan. The two may never see each other again.<br /><br />Amir's father races to get himself and his son out of Afghanistan, eventually finding their way to America. Here the two set up a gas station and live hand to mouth by selling at niche markets. And as Amir's father gradually becomes ill, a new revelation will strike to the heart of Amir; one that he cannot ignore and requires his return to his beloved Kabul.<br /><br />A study of friendship, war, and reconciliation, The Kite Runner is truly a fantastic piece of cinema. The story is never inappropriately spoken in English whenever we're in a foreign country, and only broken English whenever we're in America. This was refreshing and lent itself to a sense of realism.<br /><br />The acting was on-par with the best you'll see, too. Particular note must be made of Homayoun Ershadi who plays Baba, Amir's ailing father and strong patriarch. Also lead Khalid Abdalla as the older Amir is played well, especially when returning to Kabul to find it in ruin; quite the contrast from when he'd left.<br /><br />The cinematography of Afghanistan during Amir's escape and ultimate return are nothing short of breathtaking, with snow-capped peaks that will cause your mouth to slacken (I'm not sure exactly which mountain range they used in the film, but wherever it was I want to go there and film it myself!) But it isn't the cinematography nor the acting of one or two people that makes this film a success. It is a simple story told very well that makes it worth any movie watchers' while. Highly recommended.\n",
      "Sentiment:\n"
     ]
    },
    {
     "name": "stderr",
     "output_type": "stream",
     "text": [
      "518it [04:05,  2.85it/s]"
     ]
    },
    {
     "name": "stdout",
     "output_type": "stream",
     "text": [
      "Prompt is too long >512 (Max Length), prompt: 'Be With Me' is almost the ultimate wallpaper movie. Just leave it running in the background. chat amongst yourselves and return to it whenever you like and at some point it'll end. <br /><br />Alas, as I watched it alone, and so I felt like I almost watched the world's worst, longest and most drippingly sentimental beer commercial by the time I just about managed to keep my eyes open as the end credits rolled; and I then managed (just a) a few more moments of wakefulness to witness a 'Thank you' to the movie's sponsors - which included Asia Pacific Breweries. Aha! Methought: How surprising is *that* - given all the shots of Tiger beer interspersed throughout this most forgettable washout of a movie? <br /><br />Meanwhile, dialogue spurts between individuals with occasional stabs at depth, but all too usually nothing of any particular advancement to the movie's overall story is said or witnessed. It's as if one could switch off at any moment and return at any later point and you'd really have missed nothing which would have been an unmissable contingency, or part of its plot, as far as the movie's overall progression was concerned. Thus the ultimate \"wallpaper movie\"!<br /><br />Well I wonder... What movie were those who positively reviewed this one watching? I wonder and continue to wonder... It certainly couldn't have been this arty to the point of artless Singaporean excuse for a camera's rolling. Allegedly, 'Be With Me' is supposed to be woven around the themes of \"love, tragedy and redemption\". But all I witnessed was boredom, a half baked screenplay with a smattering of gormless text messages, and the only redemption was that which occurred when this utterly useless movie ended. What a wistful waste of time, it ended up being! It was also said that the characters in this movie were fictitious except for Theresa Chan who is a \"remarkable woman who has triumphed over adversities...\" Well, no disrespect to Ms Chan, but given that she was such a marvellous & amazing character, why at all did the screenplay have to involve the stories of other characters without the most tenuous attempt to connect their lives together? Yet it still proved to be an almost insufferably boring movie whose highlights included the credits rolling. Rather than tying in the fates of all characters, I really felt that the movie ended up attempting the near impossible and evidently fell between stools as far as any viewer engagement could be concerned.<br /><br />I am generally an art-house movie fan and don't usually object to slow pacing (of which here there is no shortage, believe you me!!). I hate such movies as 300, Transformers, Fight Club, but consider, e.g., Eric Rohmer as a great film maker. So I hope that puts my criticism into some perspective. Nonetheless, there was no redeemable feature whatsoever in the entire movie's conception and delivery which could prevent one's eyelids slowly drooping downwards as each minute of 'Be With Me' dripped by. Watch this movie if you need to feel like wasting time. Otherwise your life would be none the richer for having missed it. 3/10\n",
      "Sentiment:\n"
     ]
    },
    {
     "name": "stderr",
     "output_type": "stream",
     "text": [
      "520it [04:06,  3.55it/s]"
     ]
    },
    {
     "name": "stdout",
     "output_type": "stream",
     "text": [
      "Prompt is too long >512 (Max Length), prompt: This enjoyable Euro-western opens with a scene that predates a similar scene that Sergio Leone wanted to shoot for \"Once Upon A Time in the West\" but couldn't persuade Clint Eastwood to appear in. Three tough-looking gunfighters ride into a town. One is dressed like the Man with No Name in a poncho. Another is dressed like Colonel Mortimer from \"For A Few Dollars More,\" and the third is garbed like Django, except he rides a horse instead of pulls a coffin behind him with a machine gun in it. Our hero meets them in Main Street behind a wagon loaded with three coffins. \"Any Gun Can Play\" is a spaghetti western with an in-joke on spaghetti westerns since the hero here wipes out the three killers. Aside from a little too much comedy, especially in the acrobatic fight sequences, this is an above-average oater.<br /><br />The notorious Mexican outlaw Montero (Gilbert Roland of \"Barbarosa\") and his gang of trigger-happy pistoleros rob an army train transporting $300-thousand dollars in gold coins across the frontier. Director Enzo G. Castellari of \"Inglorious Bastards\" stages the hold up from a variety of camera angles that thrust you into the forefront of the action. The bandits seize the locomotive along with the coach carrying the gold and separate it from the rest of the train that houses the U.S. Cavalry. While Montero and his gunmen keep the Cavalry pinned down, Pajondo (Pedro Sanchez of \"Sabata\") commandeers the locomotive, kills the engineer and his crew and trundles it away, leaving the other pistoleros behind to fend for themselves. Essentially, Pajondo double-crosses Montero and steals the gold for himself. Later, Montero catches up with Pajondo at the Rio Grande. Before the bandit can reveal the whereabouts of the loot to Montero, however, a Cavalry sergeant shoots Pajondo dead. Before he dies, Pajondo tells Montero about a medallion that serves as a clue about where he stashed the treasure. The irate Cavalry captain (Ivano Staccioli of \"Commandos\") imprisons Montero, but he cannot loosen the bandit's tongue even after he uses his whip on him. Infuriated by Montero's reticence, the captain threatens to have the Mexican shot if he doesn't talk. Meanwhile, the jailers let a priest speak to Montero, but he really isn't a priest. The six-gun toting Stranger (George Hilton of \"The Ruthless Four\") masquerades as a man of the cloth and rescues Montero from a firing squad. Unfortunately, before Montero is rescued, Clayton (Edd Byrnes of TV's \"77 Sunset Strip\") takes the medallion away from him and keeps it for himself. Clayton is the bank representative that was sent to safeguard the gold. He is horrified that the Captain wants to shoot Montero. Clayton's career at the bank hinges on his ability to recover the gold. The Stranger stages a fire at the fort to distract the firing squad and Montero takes the Captain as hostage and tries to escape, but the Stranger shoots him off the horse. Before the authorities can verify that Montero is dead, the Stranger claims the body for the handsome reward he will receive and he rides out with the Captain's gracious thanks. No sooner have they left the fort than Montero's men show up to rescue him from the Stranger. From this point on, the Stranger, Montero, and Clayton forge short-lived alliances among each other as they search for the gold. Castellari and scenarist Tito Carpi, who has penned a number of spaghetti westerns such as \"A Few Dollars For Django\" and another Castellari oater \"Seven Winchesters for a Massacre,\" rely on clever humor and surprise reversals to keep the action fresh and fast-paced. One cool scene has Clayton seated at a table about to eat his meal when he hears some suspicious sounds from behind him. Clayton pours his drink on the table and sees the gunmen behind him with holstered six-guns.<br /><br />\"Any Gun Can Play\" lives up to its title. In fact, many guns do play, and at least twenty or more corpses pile up before fade-out. This western isn't so much a parody as it is a knock-off of Sergio Leone's \"The Good, the Bad, and the Ugly.\" Mind you, bad guys and good guys fall as frequently as ten-pins in a bowling alley, but their deaths aren't depicted in the brutal fashion of a Leone western. \"Any Gun Can Play\" doesn't take itself as seriously as the aforementioned Leone masterpiece. The three leads jockey back and forth for supremacy. Each has a piece of the puzzle that will lead them to the treasure, but they refuse to share their information until the shoot'em up finale. Lenser Giovanni Bergamini's colorful widescreen photography is spectacular, especially the opening shots of the train chuffing along railway tracks with distant mountain peaks rearing up dramatically in the background. Another great shot occurs when Montero tests the Stranger's imperturbable calm. This scene happens after the Stranger has rescued Montero and the Mexican's minions arrive to save their chieftain's bacon. Confiscating the Stranger's six-gun, Montero takes aim at the poncho-clad tough guy and empties the revolver, placing his well-aimed bullets harmlessly in and around the unflinching gunslinger. Bergamini, who photographed Castellari's World War II thriller \"Inglorious Bastards,\" frames the scene with the Stranger in the background and his pistol in Montero's hand in the foreground for a pleasing, three-dimensional style shot. Meanwhile, Francesco De Masi's lively orchestral soundtrack is as memorable for its own idiosyncratic melodies as Ennio Morricone's soundtracks were for the Leone westerns. The opening song is reminiscent of a 1950's Hollywood western with its catchy lyrics and guitar riffs. Although it isn't a major spaghetti western, \"Any Gun Can Play\" is always entertaining nonsense with interesting plot twists and good performances, especially the indefatigable Gilbert Roland who was 62 years old at the time!\n",
      "Sentiment:\n"
     ]
    },
    {
     "name": "stderr",
     "output_type": "stream",
     "text": [
      "528it [04:08,  2.81it/s]"
     ]
    },
    {
     "name": "stdout",
     "output_type": "stream",
     "text": [
      "Prompt is too long >512 (Max Length), prompt: So many people loved this movie, yet there are a few of us IMDb reviewers who found Mirrormask excruciatingly uncomfortable to watch and arse-clenchingly boring. I fall into the latter of these two camps, and I will try to explain what it was that made my toenails curl so unpleasantly.<br /><br />Firstly, to set the record straight - I like Neil Gaiman's books. I sometimes find his knowing, sarcastic, 'wry asides' humour a little geeky, and I actually prefer his work when he is playing it straight and leaving the jokes alone - but, even with his occasional lapses into crap 'dad' gags, I find his creativity and imagination to be something a bit special.<br /><br />Interestingly, one of Gaiman's strongest works is Coraline, a Gothic fairy story for kids that is very low on jokes and high on tension and creepiness. His latest novel (Anansi Boys) overdoes the funnies, and tends to read at times like Terry Pratchett does the Sisters of Mercy (not the nuns but the band). Mirrormask inhabits similar territory to Coraline, and when I saw the stunning visuals in the trailer, I got a bit excited that somebody had managed to transfer Gaiman's spectacular vision and imagination to the screen.<br /><br />In praise of the film, some sequences do look stunning. However, the visual effects are occasionally ruined by CGI animation that looks like a Media Studies student project. Backgrounds and scenery are often incredible, but some of the character animation looks clumsy, amateur and cheap. In an early dream sequence, the spider is animated beautifully, but the book-eating cat-beast looks poorly rendered and very 'computer generated'. Compared with the standard of animation found in productions such as 'The Corpse Bride', Mirrormask occasionally looks very amateur indeed. However, in Mirrormask's defence, the budget was tiny for such a grand vision, and a few creaks in the effects can be understood and forgiven.<br /><br />What cannot be forgiven is the stilted, stagy, cringeworthy and pretentious dialogue. The actors struggle desperately with the dialogue - and there is so much of it that they are constantly hampered and stumbling over it. Conversation is rendered completely unnatural, the jokes fall flat time and time again, and the turgid speeches appear to be the writer's only method of plot exposition. Combined with the fact that the actors are working against a blue screen (which always adds an element of 'Phantom Menace') - this renders the film almost unwatchable. In such an unreal setting the actors need to work twice as hard to be believed, and in the main they fail terribly. The girl who plays the lead role puts in a valiant struggle against the impossible stage-school dialogue, and occasionally shows real promise, but it is never enough. The god-awful cod-'Oirish' of the Valentine character (with whom she is forced to spend an inordinate amount of screen time) puts paid to any chance of this young actress rising above the material. It appears to be Valentine's job to explain the plot to younger viewers, and to add a bit of light relief. Personally, I wouldn't want him anywhere near my 15 year old daughter.<br /><br />What else is wrong with this film? Answer....Rob Brydon. What's annoying (for us Brits, anyway) is we know Rob Brydon can act! We've seen him hold the screen for half-an-hour on his own (doing those 'Marion & Geoff' monologues), and in the first 'real world' bit of the film he is fine. However, stick him in front of a blue screen and he loses all sense of character and turns into the worst am-dram-ham I've seen in years. A real shame.<br /><br />What else is wrong? Answer... the wanky slap-bassing, sub-Courtney Pine saxing and unlistenable, too-high-in-the-mix soundtrack that never shuts up. God, the music is incessant, loud, distracting, irrelevant and, if that isn't enough, has wanky slap bass wanking all over it. It makes the dialogue very hard to hear, but that could be a blessing in disguise.<br /><br />What else is wrong with it? Answer.... The whistling mime artist. In modern society there should be no place for mime, apart from certain secret places in France. Every moment the camera lingers on the gurning, whistling, moss-juggling, yogurt-weaving idiot, I understand why the Edinburgh locals get a bit anxious and fractious when Festival time comes round again.<br /><br />My final criticism is that the film is pretty dull. Surrealism often is dull  it either requires its audience to slip into a dreamlike, Zen, accepting state, or for the audience be constantly wowed by bigger and grander surprises. A story with a bit of pace involving characters that we could believe in and care about would have gone a long way to giving this film the emotional centre that it sadly lacked, whilst stopping the eyelids from drooping.<br /><br />Finally, apologies to all those who found depth, meaning and wonder in this film. You have managed to suspend your disbelief, you have seen past the creaky CGI, ignored the crappy dialogue and the abysmal performances that resulted, and understood the maker's grand, imaginative vision. I wanted to, but I couldn't see past the real-world failings that dragged it down.<br /><br />I hope Neil Gaiman gets it right next time, if he gets (or even wants) the opportunity.\n",
      "Sentiment:\n"
     ]
    },
    {
     "name": "stderr",
     "output_type": "stream",
     "text": [
      "534it [04:10,  2.83it/s]"
     ]
    },
    {
     "name": "stdout",
     "output_type": "stream",
     "text": [
      "Prompt is too long >512 (Max Length), prompt: Viewers of independent films know that once or twice a year they are going to see stories about dysfunctional families and they have come to expect them and it's becoming more of a challenge to keep them fresh but here despite the good cast it just seems more of the same. Story is about the Travis family who is trying to recover from the suicide of Matt (Kip Pardue) who was a very promising high school swimmer. Ben (Jeff Daniels) is the father who withdraws from everyone and has never treated his other son Tim (Emile Hirsch) as well as Matt but he does communicate (of some sort) to his mother Sandy (Sigourney Weaver) who finds his stash of pot and starts to smoke it.<br /><br />*****SPOILER ALERT***** Sandy also starts to flirt with much younger men like the check-out cashier at the grocery store but when she attempts to buy more marijuana she gets busted and hauled off to jail. She doesn't tell anyone what happened but she does discover bruises on Tim's body and also that Ben has taken a leave of absence from work. After all this happens Sandy falls ill and lands in the hospital where her life is in danger which forces Ben to realize that he may have to come to terms with losing another part of his family.<br /><br />This film is written and directed by Dan Harris who has worked with Bryan Singer on \"X2\" and also the upcoming Superman film and while his script allows these characters to have genuine moments of expressing their pain and confusion the story (for me) just has too many things thrown in. The script touches on so many different areas that you need a scorecard to keep track of them all including drugs, sex, love, infidelity, abuse, neglect, experimentation with homosexuality, and a life threatening illness. If all those scenarios weren't enough for you Harris then tacks on a plot twist at the end that's supposed to sum up and explain most of everyone's feelings towards Tim. While I did roll my eyes at least 2 or 3 times with the way the script kept unrolling one thing after another I must admit that I didn't hate this film and I have to credit the actors for that. Everyone has at least one good scene somewhere in the film but I wish the story would have concentrated more on Weaver and her character than Hirsch. Weaver is exceptional and with a sharper script she could have had a role that maybe would have led to an Oscar nomination but instead we get endless scenes of Hirsch at parties or his shenanigans with the neighbor next door. Harris shows he can be a good writer/director but with this effort he just throws so many different things at the audience that the material just becomes labored and contrived.\n",
      "Sentiment:\n"
     ]
    },
    {
     "name": "stderr",
     "output_type": "stream",
     "text": [
      "536it [04:11,  3.51it/s]"
     ]
    },
    {
     "name": "stdout",
     "output_type": "stream",
     "text": [
      "Prompt is too long >512 (Max Length), prompt: Who doesn't love the muppets?! Impossible it is to watch them without getting some kind of warm, fuzzy feeling inside. So, I guess what's important is that this movie seemed to very successfully capture what makes the muppets so special. I don't remember much about the details of the plot but the various moments and characters in the film I recall quite fondly. In fact, there was quite a nostalgic atmosphere to the whole movie but without being self-conscious in any bad way. Refreshing for someone who possibly gets too hung up on meticulous details and technique; the \"magic\" transcends all that other stuff. 'Tis indeed what movies are made of.<br /><br />So, how does the film achieve these things? Hmmm, nice question! Stumped am I? Let's see. Really, I feel like it's quite simple. The filmmakers believe in their material and don't take themselves too seriously in the process. I probably wouldn't say the film has many truly inspired moments, but it does have a certain life to it (that funnily enough a great many \"real people\" movies lack). A zest. You really want to believe in these funny little people and their adventures. They also have a certain innocence about them that makes them all the more endearing.<br /><br />Generally I get the impression that the people that made the movie just weren't afraid to try whatever felt right to them at the time which gives the whole thing quite a loose feel. Kind of like a really accessible and enjoyable extended jazz session. Lots of talent, little predictability and plenty of warm personalities coming through. The cameos were of course a bunch of nice surprises for instance. Maybe I don't feel I have much to say about it because I was half-asleep when I saw it (and/or as I write this review). Anyway, I'm sort of semi-repeating myself here but I really liked the sense of family the movie had. Full of love I suppose you might say. Again, a feeling of nostalgia comes to mind which not many films manage to achieve so effectively or effortlessly.<br /><br />And to repeat myself once more, one of the film's best charms is its very relaxed and welcoming atmosphere. Like the Nathaniel Hawthorne quote about happiness being (like) a butterfly, so The Muppet Movie greatly succeeds partially by not seeming to try to do so. Same with beauty being best undiscovered or untouched or unforced or something like that. Anyway, if that sounds sappy, I also reckon it was pretty hilarious.<br /><br />So, all in all, this movie was very funny, touching and difficult not to smile along to. Plus it features lots of great music! Highly recommended to all humans, both the young and the young at heart.\n",
      "Sentiment:\n"
     ]
    },
    {
     "name": "stderr",
     "output_type": "stream",
     "text": [
      "542it [04:12,  2.93it/s]"
     ]
    },
    {
     "name": "stdout",
     "output_type": "stream",
     "text": [
      "Prompt is too long >512 (Max Length), prompt: The movie is powerful as a political statement about extraordinary rendition, torture and the politics of the war on terror. Others have already commented on these and other aspects of the movie. My review may contain spoilers, so if you haven't seen the movie, you may not want to read beyond this point.<br /><br />Several questions are raised by this movie. First of all, was the protagonist guilty or not? There is no satisfying explanation for why the NSA decided to have him picked up and rendered in the first place. Is there an innocent explanation for why he got phone calls from what the NSA thinks is a terrorist? If there is, the movie does not seem to give one and that made the whole movie quite unsatisfying to me. It is all well and good to make statements about whether torture is right or wrong, but first prove to me that they tortured the wrong person, then we will take it to the next step.<br /><br />If the protagonist was guilty, then what was achieved by releasing him? Perhaps, we was well-trained to resist up to a certain point and then pretend to break down and give answers that can be proved wrong with a little research, thus tending to lead the torturers to believe that they had tortured an innocent man into confessing without actually being guilty. However, there is nothing in the movie that proves he is guilty either.<br /><br />The various other loose ends out there are: 1. So, a rogue CIA agent has him released and flown back home. What prevents the NSA from picking him up again? A little publicity in the Washington Post? Please give me a break here... If a senator is not willing to put his neck on the line to intervene on his behalf, what does Corinne Whitman have to fear? 2. If the NSA has been tracking what phone numbers are being called by whom, why couldn't they listen in on some of the calls to figure out whether anything underhanded is being discussed? 3. The plot is even more stupid anyways. Any criminal with more than a dozen brain cells would transact his criminal business on an anonymous prepaid cell phone line, not on one that can be traced back to him and his house.<br /><br />The whole movie revolves around tugging at the viewers' heart strings by showing graphic and gratuitous scenes of torture. But when you think about it with any more depth, there is nothing of substance in this movie, only plenty of unanswered questions and the feeling of \"what, that is it?!!!\" at the end of the movie.\n",
      "Sentiment:\n"
     ]
    },
    {
     "name": "stderr",
     "output_type": "stream",
     "text": [
      "553it [04:16,  2.64it/s]"
     ]
    },
    {
     "name": "stdout",
     "output_type": "stream",
     "text": [
      "Prompt is too long >512 (Max Length), prompt: Apparently, a massive head wound is the cure for homicidal tendencies, turning a murderous sociopath into a lovable and oafish dog catcher. Also (this ones for the ladies), it seems that the front gate of a psychiatric hospital is an overlooked hot spot for meeting potential mates. Those are just two of the approximately 23 absurdities we're supposed to accept for this movie to have any meaning. I love movies and I believed, as I'm assuming many Americans do (forgive me if I'm wrong), that Hollywood turned out the best product. I've come to learn how sadly naive and brainwashed I was and 2) how much more sophisticated European/Asian Cinema is in comparison to its American counterpart.<br /><br />I watched this allegedly disturbing psychological \"thriller\" the night following a viewing of a Japanese movie called Suicide Club. As the camera faded on Walter Sparrow's happy little family enjoying some quality time around a prison visiting room table (not to mention the patronizing voice-over extolling the virtue of \"doing the right thing\"), I suddenly had an epiphany. I had just finished watching a movie that left me feeling as though I'd just had a glass of water when I really wanted a beer. My thirst was sated, but it was strictly utilitarian. The premise was mildly interesting, but the story itself, with its innumerable \"coincidences\" (How do we explain her finding the book? We'll just say something like,\"...Or did the book find her?.\" They'll buy that), gaping plot holes (why did wifey take the skeleton?), predictability, and obligatory happy ending, turned out to be just another Hollywood hack job. Additionally, the casting of Jim Carrey was justwrong. At any moment, I felt he was capable of breaking into some shtick from one of his stupid comedies or In Living Color. Jim Carrey as a tattooed hard-boiled police detective who enjoys bondage and rough sex? Didn't buy it for a second.<br /><br />You want disturbing? Deeply disturbing? Watch Suicide Club. The story surrounds the mysterious mass suicide of 54 school girls. The film opens with a group of giggling high schoolers mulling about on a subway train platform. We then watch in horror as they line up, hold hands, and happily throw themselves in front of a fast moving commuter train. Needless to say, much chaos ensues. That's as far as I'm going to go with the story line because I encourage the reader to see the film. In fact, I'm not sure if I could outline the plot even if I wanted to. What begins as a straightforward mystery quickly descends into a madhouse of grotesque imagery. Did I understand the movie? Nonot initiallylike many of the foreign films my girlfriend has introduced me to. So naturally, I thought it was \"bad.\" But this one lingered in my mind. I went to bed thinking on the film and awoke the next morning and looked it up on IMDb. I read some of the viewer comments and was astonished at 1) the insights others had derived from the film and 2) the fact that I had so thoroughly missed the whole point of the movie. I realized that I was so used to being spoon fed the \"message\" from Hollywood, that when confronted with a film that actually required the viewer to participateto actually think for themselves, I was totally unequipped. It's as if I had been conditioned to \"check my brain at the door\" of the theater.<br /><br />Am I saying that Suicide Club is the greatest movie ever made? Of course not. It has its flaws, many of which were reported adroitly by the IMDb reviewers. Am I saying that all American movies are bad and all foreign movies are good? Againof course not. My point is that there's a whole world of film-making outside of Hollywooda body of work that engages the viewer; forces them to think and questionmovies that don't telegraph plot twists, follow a strict linear sequence, and above all, don't insult the intelligence of the person watching. I look forward to expanding my mind while exploring this new world of film that doesn't \"do the thinking for me.\"\n",
      "Sentiment:\n"
     ]
    },
    {
     "name": "stderr",
     "output_type": "stream",
     "text": [
      "559it [04:18,  2.79it/s]"
     ]
    },
    {
     "name": "stdout",
     "output_type": "stream",
     "text": [
      "Prompt is too long >512 (Max Length), prompt: Two sisters, Su-mi (IM Soo-jung) and Su-yeon (MOON Geun-young) return home with their father (Kim Gap-soo). Eun-joo (YEOM Jeong-ah) welcomes them but Su-mi's manner is bitter to her. Su-mi hates Eun-joo because the father let her act like the house wife after the sisters' mother died. Seeing her attitude, Eun-joo is getting to treat the sisters coldly and there grows a tense atmosphere among them.<br /><br />As if called in by the atmosphere, series of mysterious things occur in the house. When Su-mi is hanging her dress in her wardrobe, there have been already hung a lot of dresses of the same design. When she put her diary into a drawer, she finds another diary of the same kind there. When she is sleeping in her bed with scared Su-yeon, a nightmare awakes her and she finds a woman standing on her -- and a hand dangles out of the woman's skirt!<br /><br />Mysterious things occur to the other people, too. On the evening of next weekend, Eun-joo's brother and his wife visit the family and they have a dinner together. Eun-joo cheerfully talks about a crazy man she met when she was a child, but nobody is interested in her talk. She says the crazy man annoyed the brother, but he says he doesn't know anything about the man.<br /><br />Listening to their talk, the brother's wife has a panic.<br /><br />After the dinner, the conflict between Eun-joo and the sisters becomes at its worst. Eun-joo pulls Su-yeon into a wardrobe and locks her in it. Su-mi saves the crying-out sister and complains to their father what Eun-joo has done to his daughter. But his response is unexpected. \"Give me a break.\" says he angrily, \"Su-mi, please. Don't make me tired any more.\"<br /><br />And the following words out of the father's mouth are more shocking than what they have seen in the house.<br /><br />To tell the truth, I hate horror movies. Although I seated myself at a theater because my intuition told me the movie was something different, I was regretting what my curiosity had made me act when it started showing. The regret, however, had changed into joy for expectation ten minutes later.<br /><br />This film is a tragic mystery more than a horror -- painful more than horrible; beautiful more than sensational. That may have a hard core horror fan disappointed, but for a mystery fan like me, this film is a must see. (9 out of 10)\n",
      "Sentiment:\n"
     ]
    },
    {
     "name": "stderr",
     "output_type": "stream",
     "text": [
      "570it [04:22,  2.62it/s]"
     ]
    },
    {
     "name": "stdout",
     "output_type": "stream",
     "text": [
      "Prompt is too long >512 (Max Length), prompt: I don't know whether this film hits my heart the way it does because of the feelings of friendship, love, closeness to others or the warmth of that transformation Babette's cooking creates, but when the feast starts and for the rest of the movie, I choke up often. <br /><br />Yes, this is a feel-good movie, but without a speck of mawkishness or facile sentimentality. Please note that elements of the plot are discussed. Babette's Feast tells its story with restraint and care, and it lets us discover for ourselves the values of grace and love. All we need to know is that Babette Harsant (Stephane Audran) was a French refugee who was given shelter by two aging sisters in a tiny community on the coast of Jutland. The sisters lead what remains of their father's flock. He was a pastor of conviction who taught that salvation comes through self-denial. The sisters made their sacrifices to duty and faith. Those who still remain honor the now long dead pastor's teachings and his spiritual guidance. Still, as they have grown older the tiny community has become querulous and argumentative. The sisters do what they can. For the pastor's 100th birthday, Babette wishes to cook the dinner for the small group the sisters will invite. The sisters reluctantly agree, but when they see the supplies Babette has ordered, they and their guests become uneasy. They are used to the community's usual fare of dried cod, boiled, and a soup made of bread, water and a little ale. Even though Babette over time has made improvements, what they are seeing now seems close to godlessness. At the dinner also will be a visitor, General Lorens Lowenhielm, who years earlier had chosen ambition over his love for one of the sisters. <br /><br />What do we experience? There is the austerity of the aging community's faith and the stone, wind-swept cottages they live in. There is the warmth by candlelight of the sisters' small, crowded dining room. And then there is the transforming power of Babette's artistry as we watch her cook, watch Erik, a young boy helping her, serve and pour, and watch the old parishioners, with the help of fine wine and exquisite cooking, gradually rediscover their community and love and friendship. The General serves as our unexpected guide because he is the only one who knows what extraordinary dishes they are eating. The General tells a story to his uncomprehending dinner companions, a story about a famed woman who was the exemplary chef at the famed Café Anglais in Paris. \"...this woman, this head chef, had the ability to transform a dinner into a kind of love affair...a love affair that made no distinction between bodily appetite and spiritual appetite.\" He, too, is being transformed into a man who will accept what he has become and yet will always know the value and the love of what long ago he chose not to accept. An old couple kiss. Two old men remember past friendships. And Babette, who spent all that she had won in a lottery on this dinner, has had an opportunity to be the artist she once was in France, an opportunity she accepted with love and friendship. <br /><br />Babette, now as poor as she was when she arrived penniless years earlier, will continue with the sisters. The general in a carriage with his aunt returns to her estate. And the elderly guests leave the sisters' home to return to their own cottages. They pause and look at the clear night sky and the stars overhead. They spontaneously hold hands in a circle and dance and sing this hymn... <br /><br />\"The clock strikes and time goes by Eternity is nigh. Let us use this time to try To serve the Lord with heart and mind. So that our true home we shall find. So that our true home we shall find.\" <br /><br />They smile at each other. All has been reconciled. <br /><br />Babette's Feast is a wonderful movie, full of restrained emotion, unspoken understandings, wisdom...and, of course, a meal that will leave you with a growling stomach as you exit the theater. If you win a lottery so you could afford what Babette created and have her skill and artistry, here's what she served: <br /><br />Potage a la Tortue (a rich turtle soup), served with amontillado sherry Blinis Demidoff au Caviar (small buckwheat pancakes with sour cream and caviar), served with Veuve Clicquot champagne Cailles en Sarcophage with Sauce Perigourdine (boned quail stuffed with foie gras and truffle in puff pastry with truffle sauce enriched with Madeira), served with Clos de Vougeot, a fine burgundy Salade Cheese and fresh fruit Baba au Rhum with glacee fruit and fresh figs Coffee and a fine brandy\n",
      "Sentiment:\n"
     ]
    },
    {
     "name": "stderr",
     "output_type": "stream",
     "text": [
      "572it [04:23,  3.39it/s]"
     ]
    },
    {
     "name": "stdout",
     "output_type": "stream",
     "text": [
      "Prompt is too long >512 (Max Length), prompt: TV movies generally do not receive as much recognition or credit as great films - and it is usually for good reason but the 1996 HBO movie The Late Shift is easily one of the best TV movies ever. Based on Bill Carter's revealing book, The Late Shift is about NBC's handling of late night talk show hosts David Letterman and Jay Leno when it came to filling the vacant Tonight Show seat once held by Johnny Carson. We see what happens in front of the camera - author Bill Carter, director Betty Thomas, and HBO show us what happened when the cameras were turned off.<br /><br />Unfortunately we can never really know for sure what really happened when it came time for Johnny Carson to be replaced by either Letterman or Leno - but The Late Shift gives us an interesting possible reality. While simply being a very well made film, The Late Shift also does a really good job of portraying all the sides fairly equally - although you wonder if the film makes Letterman and Leno out to be too nice of guys; especially Leno, who seems a bit too saintly.<br /><br />The performances are also very good. In a very deserving Golden Globe-winning performance, Kathy Bates plays Leno's extremely pushy manager Helen Kushnick who, according to Carter and the book/film was very problematic for the studio and Leno (the real Kushnick actually suited Bill Carter for libel over this portrayal!). John Michael Higgins breaks out of his usual gigs of getting small quirky comedy parts and gives an excellent performance as David Letterman - giving an excellent impression of Letterman but also creating a dimensional and relatable character. Daniel Roebuck gives a good performance as Leno but does not quite measure up to some of the other talent in the film - Roebuck probably did the best anyone could have done, it is just looks hammy whenever anyone tries to do an impression or portrayal of Leno. Bob Balaban (a squirrelly Warren Littlefield), Treat Williams (a magician-like Michael Ovitz), and Ed Begley Jr.(a pompous Rod Perth) also give memorable supporting performances.<br /><br />The Late Shift certainly is one of the best made-for-TV movies I have ever seen. I suppose if one has not watched David Letterman or Jay Leno, The Late Shift might not be for them but it is an interesting film for those who get into the late night politics - something that has recently reared its ugly head yet again with the 2009-10 Conan/Leno/NBC debacle.\n",
      "Sentiment:\n"
     ]
    },
    {
     "name": "stderr",
     "output_type": "stream",
     "text": [
      "584it [04:27,  2.68it/s]"
     ]
    },
    {
     "name": "stdout",
     "output_type": "stream",
     "text": [
      "Prompt is too long >512 (Max Length), prompt: Have I seen a worse movie? No I can't say that I have. This was pathetic. If the director is still alive: 1. He shouldn't be. 2. He should be ashamed. 3. God, how I would like to take out my 2 completely wasted hours of time on his a$$.<br /><br />To give you guys a few pointers of the \"film\": <br /><br />1. (I'm a male) and I would rather give myself a papercut on the opening of my urethra before viewing this again (seriously).<br /><br />2. It does have a few known names in it (Casper Van Dien, Erika Eleniak, Coolio). They don't help, and their careers in cinema after this \"film\" are officially over by the way.<br /><br />3. The dialog is the worst I've ever heard. \"I want to ejaculate on your bozonkas.\"? What kind of writer did they have on this film? Was he still using hooked-on-phonics and just got his letters mixed up to make these horrible sentences?, or was he trying to get the Director killed by the few people who saw this? <br /><br />4. Watch this \"film\" backwards. Because I PROMISE you that you do not want to watch it forwards.<br /><br />5. This \"film\" would make Helen Keller get up and walk out of the theater.<br /><br />6. The set of the movie looks like an adult sized McDonald's playplace. I was just waiting for this so called \"Dracula\" to fall in the ball pit at some time in the movie.<br /><br />7. Also, I like that in the year 3000 they still have headsets with wires that go to their mouth. No bluetooth, no wireless headsets, no chips placed in the brain, but they use headsets borrowed from a telemarketing agency that went out of business in 1983(Nice job Set director on this one. Real professional. I hope you're currently unemployed and reading this.) <br /><br />8. I don't know who was in charge of special effects, but I could have done better in my backyard with my VHS camcorder that doesn't have a battery.<br /><br />9. I was a devout Catholic before this \"film\". But since viewing it, I know there is not a God, because if there was, he wouldn't have let this film be produced. I am now an atheist.<br /><br />10. I'll be honest I can't talk about the ending. Last time I tried to explain it I fell into a coma.<br /><br />Folks however bored you get, however curious(or brave) you are, however many laughs you THINK you will get out of this movie, please DO NOT WATCH THIS. It has literally ruined my life. AVOID AT ALL COSTS!<br /><br />Comment to the director: I hate you. You have ruined my life. After viewing this I feel empty inside. My wife and kids have left me and hate me because I couldn't speak or hardly move after seeing this. I lost my job, my dignity, and above all my pride. I will never forgive you in this life or the next(which is not looking good from my newfound beliefs) .\n",
      "Sentiment:\n"
     ]
    },
    {
     "name": "stderr",
     "output_type": "stream",
     "text": [
      "597it [04:31,  2.65it/s]"
     ]
    },
    {
     "name": "stdout",
     "output_type": "stream",
     "text": [
      "Prompt is too long >512 (Max Length), prompt: I would like to make it very clear that I am not at all religious. I am an atheist but I could see that Richard Dorkins was contradicting himself over and over again. I would also like to make it known that I am not the sort of person that argues against something with philosophy all the time, but I feel that when comparing science and religion we must be philosophical and be willing to question the belief in main stream science as well as questioning religious beliefs.<br /><br />I wonder if Richard Dorkins ever spends any time to think philosophically about belief, anyone who thinks long and hard enough about science and religion will realise that science is indeed a religion in itself. Yes there is a fundamental difference between the way that scientific beliefs are held when compared with other religions, but at it's roots, it's faith in a particular human instinct.<br /><br />Throughout this series, Richard insists that science methods are the only right way of thinking and that it makes sense to believe in something only if the evidence for it is strong enough. If you dig deep enough into how science functions you'll realise that it is just as irrational as religion and that it comes down to faith in the end, faith in the evidence, faith in our sanity, faith in our senses but more than anything else faith in our instinct to follow patterns of recurrence.<br /><br />This is not easy to explain but think about how the laws of physics were decided, it was because they were and still are the most common patterns of recurrence that we are aware of. I think that human beings have an instinct that makes them believe that the longer something remains in a certain state or place of existence the more we just assume out of blind FAITH that it is more likely to stay like it. For example, we don't expect that gravity will suddenly work in reverse tomorrow, by this I mean pushing matter away as supposed to attracting it. But the only reason why we don't expect this sudden change is because we have known for so long that it has always attracted as far as we are aware. However that doesn't mean that it couldn't do exactly the reverse tomorrow or even right now. It doesn't matter how long something may stay in a certain state or change, there is no rational reason to make assumptions about it but we do out of instinct. I would ask you to consider what is a long and short amount of time? There is no such thing, I don't know exactly how long it took for these supposed wise men to decide that everything must be made out of matter, Sound, Light, etc but lets give them what they would consider to be an edge way! Lets say far longer than it really was 12,00000000000 years! Is that a long period of time? 99999999999999999 years makes 12,00000000000 years seem like an incredibly short period of time. For all we know there could be an extreme amount of change in the so called laws of science within the next trillion years. It's all about comparison, only when we compare things can we say \"that is long\" or that is short. It's the same with big and small, wide and thin, heavy and light, strong and weak and others.<br /><br />I doubt that any scientist could tell me why they think that trusting this instinct makes sense. I certainly don't see why it should, but that doesn't mean that we as humanity should necessarily stop using it. With this in mind, the most hypocritical comment that Richard Dorkins made was when he said that faith is irrational, \"a process of non thinking\" he said. If what we have in this instinct that I've been describing and this instinct that we all possess on some level isn't faith then I don't know what the hell it is. Other times when he is being hypocritical is when he talks about the religions being bronze age, \"bronze age myths\" he says. I would like to point out that no matter how much scientific methods have been changed over the years due to experience, experiments and evaluating, the pure rules of science are getting older and older all the time! They could even be described as the holy bible of science. He was going on about how he is sick of the different religions being stubborn \" I am right, he is wrong\" but looking back on how rude he was to the various interviewees, he seems to be just as stubborn him self. To be fair to him, at least he doesn't try to bomb religious communities. I appreciate his hatred for certain religious beliefs that generate war, but I don't respect his arrogance in his own beliefs.<br /><br />As far as I'm concerned, Richard has the right to believe in science if that is his way. I am scientifically minded as well, but I don't think he has the right to go up to religious leaders having unfriendly arguments, trying to force his opinion on to them and virtually describing them as stupid. Despite all his education, experience and discoveries he seems to fail to have the wisdom to properly question his very own system of belief. I have read what he says in defence of this argument that open minded atheists such as my self put forward, What he states suggests to me that he is totally missing the point.<br /><br />Finally the title of the documentary, Root Of All Evil. This states that religion is the root of all evil, it isn't true. There are causes of evil that have nothing to do with religion.<br /><br />All round the documentary series was frustrating, narrow minded, hypocritical and flat-out rubbish.\n",
      "Sentiment:\n"
     ]
    },
    {
     "name": "stderr",
     "output_type": "stream",
     "text": [
      "612it [04:37,  2.61it/s]"
     ]
    },
    {
     "name": "stdout",
     "output_type": "stream",
     "text": [
      "Prompt is too long >512 (Max Length), prompt: After repeatedly saying how brilliant so many Columbo episodes are, it's time to honour an episode with maximum points. \"Etude In Black\" is not 100 percent perfect, but it's certainly more than 90 percent...maybe 96 or 97! <br /><br />Last week I reviewed \"Just Married\" and compared it unfavourably to \"Meet The Parents\". Well here's one of the parents, Blythe Danner, in a much earlier role as the wife of famous orchestral conductor Alex Benedict, played by the legend that is John Cassavetes. Alex has been having an affair with Jennifer Wells, a girl in the orchestra (not his first affair, one suspects). She is blackmailing Alex to leave his wife, but as his wife's mother holds the purse strings for the orchestra, Alex doesn't think it'd be such a smart move to destroy his career and marriage overnight. Instead he hatches a plot to sneak out of the concert hall before a performance and murder his young lover while making it look like a suicide.<br /><br />Enter Columbo and guess what? It takes him about two seconds to realise that homicide is more likely than suicide. It doesn't take much longer for Columbo to connect Alex to the victim, and soon he's following him around wherever he goes. Even though Columbo is certain Alex is his man, it actually takes quite a while and a few false leads (none of which Columbo really swallows) before he has the vital piece of evidence.<br /><br />Along the way there are some top-notch extra characters, ranging from the precocious young neighbour of Jennifer Wells and the English mechanic who sounds like he would be more at home on Coronation Street, through to the bedraggled looking brass player who nearly finds himself fitted up for the murder (he had also been seeing Jennifer Wells, the busy girl!). And there's even a brief cameo from Commandant Lassard from the Police Academy films. As with Leslie Nielsen in \"Lady In Waiting\", it's impossible to take him seriously (I bet you're thinking of that speech he made at the podium, aren't you?!) <br /><br />But it's Blythe Danner, John Cassavetes and Peter Falk who steal the show here. Blythe is absolutely divine as Mrs Benedict. From the moment she spots Alex dialling Jennifer Wells' number from memory, she feels deeply troubled by exactly what their relationship was. It's a masterful performance as she struggles to trust Alex despite her intuition telling her something is very, very wrong. Columbo doesn't help matters by interrupting her game of tennis to ask her impertinent questions about Alex's relations with members of his orchestra.<br /><br />As for John Cassavetes, well it's a shame he didn't make any repeat appearances as Columbo villains, because he could have been up there with Jack Cassidy and Patrick McGoohan as one of the all-time greats of the show. But this performance is superb! He's another one who falls into the \"highly irritated\" category, losing all patience with Columbo rather than befriending him and indulging him. Despite this, when the game is finally up he does grudgingly acknowledge Columbo's genius.<br /><br />Well it's a really, really fantastic show. It loses a couple of very small points for its rather sledgehammer view of classical music, as highlighted by many of the posters here, but none of these have any bearing on the logic of the story or the characterisations. And at least the music is good, dramatic and exciting!<br /><br />Finally, if you haven't come across it, there is an absolutely amazing clip of John Cassavetes and Peter Falk on the Dick Cavett show from the early 70s. I'm totally convinced Steve Coogan watched this clip and based Alan Partridge on it. Everything about the clip resembles Knowing Me Knowing You, from the cringeworthy introduction to the total humiliation of Cavett by his guests. Even the orchestra get in on the act, playing circus music while Falk, Cassavetes and their friend Ben Gazzara fool about and ridicule the host.<br /><br />It might not be strictly relevant to this review, but the Cavett show clip gives a nice insight into the deep friendship and professional relationship between Peter Falk and John Cassavetes. It's clear to see from the quality of \"Etude In Black\" just how well the pair worked together!\n",
      "Sentiment:\n"
     ]
    },
    {
     "name": "stderr",
     "output_type": "stream",
     "text": [
      "620it [04:39,  2.69it/s]"
     ]
    },
    {
     "name": "stdout",
     "output_type": "stream",
     "text": [
      "Prompt is too long >512 (Max Length), prompt: I was prepared to love \"Where's Poppa\", it features the nexus of Normal Lear sitcom character actors who, when I was growing up, felt like extended members of my raisenette-sized broken nuclear family. How fun it would be to see censor-free Barnard Hughes, Vincent Gardenia, Ron Liebman, Rob Reiner, and a pre-SNL Garret Morris.<br /><br />But alas,\"Where's Poppa\" drags. It's claustrophobic and plodding, and breaks the cardinal rules of farce, lightness of mood and a fast pace.<br /><br />The plot involves the efforts of a lawyer (George Segal) to rid himself of his overbearing Jewish mother, who lives in his gigantic New York apartment. Along the way we are exposed ridiculous characters and situations: a comedic group of muggers who repeatedly mug the brother of the main character, the rape of a policeman which involving a gorilla suit and subsequent gay love, Ruth Gorden pulling down Segal's pants and biting his ass as he serves her dinner. Why doesn't this work? Part of the explanation is the sense of doom engendered by the cramped, dark interiors and antique set-decoration. I absolutely eat up cinematography of New York during this era, but watching this movie felt like I was leafing through the Police Gazette in a dark bus terminal.<br /><br />The main reason though is the slow pace. Modern MTV-style quick cuts have changed what moviegoers feel is a comfortable editing tempo, but, even taking this into consideration, camera shots are held for an excessively long time. Plot developments are also very slow. There is one situation in which this works: a weird love song George Segal sings to Trish Van Devere, softly, very close to her face, and for an excruciatingly long period of time. It reminded me of those cringeworthy extended shots in the British version of \"The Office\", where you find yourself mentally begging the camera to cut away, and at the same time you can't stop looking.<br /><br />Sadly, most of the film is more \"hurry up\" than \"can't look away\". Which made me wonder if it's possible to have a black comedy that is also a farce. The dilemma is that the gravitas of the subject matter in a black comedy tends to weigh down lightness of the farce. Movies like Robert Altman's \"M*A*S*H\" and Kubrick's \"Dr. Strangelove\" prove that it can be accomplished. They do this not only through speed but also through entertaining subplots, something \"Where's Poppa\" neglects.<br /><br />Although the film features multiple, stereotypically-funny characters, almost all of them are directly involved in the central drama of how to deal with the recalcitrant mother. The scenes featuring Garret Morris and the Central Park muggers are as close as the viewer gets to a mental break. The muggers seemed almost Shakespearean, following the tradition of comic ne'er-d0-wells. If the rest of \"Where's Poppa\" had clung a little more closely to stage tradition it would have been a better film. Edgier isn't always better. It's as if all these talented actors and the director Carl Reiner, were taking a short before the creative maelstrom of the 70's .<br /><br />Random notes: After strealing Ron Liebman's clothes, the muggers mention Cornel Wilde's \"The Naked Prey\" (1966), a great action movie that was a stylistic precursor to 1968's \"Planet of the Apes\".<br /><br />As politically incorrect as he was, it's disquieting to learn about the death of an action hero as formidable as Charleton Heston. Linda Harrison, who played \"Nova\", Taylor's mute mate, said that James Fransicus, in the sequel seemed to be cute and tiny compared to Heston.\n",
      "Sentiment:\n"
     ]
    },
    {
     "name": "stderr",
     "output_type": "stream",
     "text": [
      "622it [04:40,  3.40it/s]"
     ]
    },
    {
     "name": "stdout",
     "output_type": "stream",
     "text": [
      "Prompt is too long >512 (Max Length), prompt: I want very much to believe that the above quote (specifically, the English subtitle translation), which was actually written, not spoken, in a rejection letter a publisher sends to the protagonist, was meant to be self-referential in a tongue-in-cheek manner. But if so, director Leos Carax apparently neglected to inform the actors of the true nature of the film. They are all so dreadfully earnest in their portrayals that I have to conclude Carax actually takes himself seriously here, or else has so much disdain for everyone, especially the viewing audience, that he can't be bothered letting anyone in on the joke.<br /><br />Some auteurs are able to get away with making oblique, bizarre films because they do so with élan and unique personal style (e.g., David Lynch and Alejandro Jodorowsky). Others use a subtler approach while still weaving surreal elements into the fabric of the story (e.g., Krzysztof Kieslowski, and David Cronenberg's later, less bizarre works). In Pola X, Carax throws a disjointed mess at the viewer and then dares him to find fault with it. Well, here it is: the pacing is erratic and choppy, in particular continuity is often dispensed with; superfluous characters abound (e.g., the Gypsy mother and child); most of the performances are overwrought; the lighting is often poor, particularly in the oft-discussed sex scene; unconnected scenes are thrust into the film for no discernible reason; and the list goes on.<br /><br />Not to be completely negative, it should be noted that there were some uplifting exceptions. I liked the musical score, even the cacophonous industrial-techno music being played in the sprawling, abandoned complex to which the main characters retreat in the second half of the film (perhaps a reference to Andy Warhol's 'Factory' of the '60s?). Much of the photography of the countryside was beautiful, an obvious attempt at contrast with the grimy city settings. And, even well into middle-age, Cathering Deneuve shows that she still has 'it'. Her performance was also the only one among the major characters that didn't sink into bathos.<br /><br />There was an earlier time when I would regard such films as \"Pola X\" more charitably. Experimentation is admirable, even when the experiment doesn't work. But Carax tries nothing new here; the film is a pastiche of elements borrowed from countless earlier films, and after several decades of movie-viewing and literally thousands of films later, I simply no longer have the patience for this kind of unoriginal, poorly crafted tripe. At this early moment in the 21st century, one is left asking: With the exception of Jean-Pierre Jeunet, are there *any* directors in France who know how to make a watchable movie anymore? Rating: 3/10.\n",
      "Sentiment:\n"
     ]
    },
    {
     "name": "stderr",
     "output_type": "stream",
     "text": [
      "626it [04:41,  3.25it/s]"
     ]
    },
    {
     "name": "stdout",
     "output_type": "stream",
     "text": [
      "Prompt is too long >512 (Max Length), prompt: I've always enjoyed Frank Sinatra's music, and just recently I wrote a term paper about his life story. I've been fascinated by the life and legend of Ol' Blue Eyes. However, I've never seen any of his movies. So I wanted to see if his acting was as great as his singing. Well...it was! I was blown away by his performance in this movie! He really does a tremendous job as recovering heroin addict Frankie Machine, who's trying to put his life back together and audition as a drummer for a local band. <br /><br />Otto Preminger's direction is great as well. I haven't seen any of his other movies. I read his biography on the IMDB. He seems like one of those directors who was sorely misunderstood, and people had conflicted thoughts about him. Seems like the kind of person who appeals most to cult enthusiasts. I haven't seen enough of his films to know for sure if he's really brilliant, but now I'm curious. I want to see more of his films, because judging by his attempt with \"The Man with the Golden Arm\" this guy has talent. I also loved the music for this movie. The score definitely contains the kind of music that I'll remember if I ever happen to hear it again. That's when you know you have a great score.<br /><br />The supporting performances are fine as well, including Darren McGavin as the local drug pusher, Eleanor Parker as Frankie's wheelchair-bound wife and Kim Novak as his lover. <br /><br />It's interesting to see how filmmakers handled the subject of drug abuse, as opposed to modern attempts in films like \"Trainspotting\" and \"Requiem for a Dream.\" Back in 1955, just mentioning the word \"drugs\" caused controversy, and if you watch the film they kept the subject on a very discreet level. There's only one scene where Frankie is actually getting heroin injected into his arm, and they showed a close-up of the reaction of his face rather than showing the needle graphically poking into his veins. But it delivered its message without making it feel watered-down. In a powerful drama like this, with powerful performances and direction like this, you don't need graphic portrayals of drug abuse to keep the audience intrigued. <br /><br />\"The Man with the Golden Arm\" is a dramatic gem that all film buffs should check out. It really is an amazing piece of work!<br /><br />My score: 8 (out of 10)\n",
      "Sentiment:\n"
     ]
    },
    {
     "name": "stderr",
     "output_type": "stream",
     "text": [
      "641it [04:46,  2.66it/s]"
     ]
    },
    {
     "name": "stdout",
     "output_type": "stream",
     "text": [
      "Prompt is too long >512 (Max Length), prompt: This straight to video cheap flick is based on a true story. I don't doubt it. Doesn't mean it's particularly interesting (unless you are one of the main characters who actually lived though this experience). A young woman named Angela buys a great, big old country home really really cheap. Well, as we all know from watching Horror movies, when you buy a big house cheap it usually means it's haunted in some way, shape or form. In fact, the second the house is being handed over to Angela the wise guy kid who lived in the house up to now takes a moment to \"introduce\" Angela to one of the ghosts! Nice guy, huh? Angela gets in touch with a psychic and a paranormal expert and tells them that her house is haunted and invites them to come over and see the ghosts for themselves. They come to a party and sure enough there are ghosts walking around, sitting on the couch, hanging in the garage and trying to seduce people in the bathroom. A few friends sleep over the night of the party, see the ghosts and vow never to come back in the house again. (Check out the girl who deadpans \"I'm so scared. I'm so scared.\" totally emotionless. If she was so scared why didn't she get up, turn the knob and leave?!) The ghosts don't really do anything menacing aside from show up (And there is no blurriness or aura about them. They look just like regular people). They steal celery from the kitchen, move chairs around a la POLTERGEIST and one bisexual female ghost seduces Angela, who, get this, doesn't seem to mind! This scene plays like the kind of soft-core porn you see on the SPICE channel. (Ummm...not that I'd KNOW! Hahaha). The actresses aren't your typical porn stars though. They should hit the beach and the gym more. When Angela'ss NOT making love to the dead she gets mad at them and stands alone in a room screaming \"Why won't you leave?! This is MY house! Get out!\" They don't leave. I couldn't help but think of all the times I've heard psychic Sylvia Brown on TV saying that if you have a ghost in your house you should calmly rationalize with the ghost and say \"Look, you're dead. It's time to cross over to the other side. In other words, get out!\" According to Sylvia Brown, as long as your not hostile and nasty about it, they'll leave! This movie looks like it cost about $50 to make. It has a really cheap feel, and bad acting. I could have made this movie with 5 friends and a camcorder.\n",
      "Sentiment:\n"
     ]
    },
    {
     "name": "stderr",
     "output_type": "stream",
     "text": [
      "654it [04:51,  2.67it/s]"
     ]
    },
    {
     "name": "stdout",
     "output_type": "stream",
     "text": [
      "Prompt is too long >512 (Max Length), prompt: A review I have put off for far too long....<br /><br />Bluntly, 2001 is one of the best science-fiction films made to date, if not the very best. Stanley Kubrick was a genius of a film maker and this is one of his very best works. And although it is misunderstood by many, and respectively underrated, it is considered one of the best films of all time and I'll have to agree. Back in 1968, no one had done anything like this before, and no one has since. It was a marvel of a special effects breakthrough back then, and seeing how the effects hold up today, it is no wonder as to why. The film still looks marvelous after almost forty years! Take note CGI people. Through the use of large miniatures and realistic lighting, Kubrick created some of the best special effects ever put on celluloid. This aspect alone almost single-handedly created the chilling void of the space atmosphere which is also attributed to the music and realistic sound effects. I can't think of another film where you can't here anything in space, like it is in reality. Not only is the absence of sound effects in space realistic, it is used cleverly as a tool to establish mood, and it works flawlessly.<br /><br />Aside from the magnificent display of ingenious special effects, there are other factors that play a part in establishing the feel of the film. The music played, all classical, compliment what the eyes are seeing and make you feel the significance of man's journey through his evolution from ape to space traveler.<br /><br />The story, while seemingly simple, is profound. Sequentially, several mysterious black monoliths are discovered and basically trigger certain events integral to the film. What are they? Where did they come from? What do they do? These are all questions one asks oneself while watching the story develop and is asked to find his own way. While most come away with a general idea of what took place in the story, each individual will have to decide what it means to them. Any way one decides to answer these question results in profound solutions. It's not left entirely up to interpretation, but in some aspects it is. Experience it for more clarification. The end result is quite chilling, no matter your personal solution.<br /><br />While it is a long film, and sometimes slows down, it has to be in order to accurately portray the journey of man. It's not a subject that would have faired well in a shorter film, faster paced feature. Those with short attention spans need not apply.<br /><br />Last but not least, is the epitome of a remorseless antagonist, HAL 9000, the computer. Never has a machine held such a chilling screen presence. Which reminds me, for a film with such profound ambition and execution, there is surprisingly little dialogue. Another sign of Kubrick's genius.<br /><br />All in all, one of the best films made to date and one of the very best science fiction films made. A personal favorite. Everyone must see this film at least once.<br /><br />Very highly recommended.\n",
      "Sentiment:\n",
      "Prompt is too long >512 (Max Length), prompt: Contains Spoilers<br /><br />This is a Peter Watkins film. If one has seen his BBC masterpieces \"Cullodden\" and \"The War Game\", one will recognize the style (and his voice) within seconds after the start. Made in 1971 it is set in a very near future, when the Vietnam war has escalated even more and now seems to involve China. Nixon is still president and civil disobedience and protest is dealt with violently using drumhead tribunals (outwardly civilian with 'everyday citizens' as judges). Because \"prison building can't keep up\", an alternative is introduced: The Punishment Park. Delinquents can choose between severe prison sentences and a man hunt in a hostile environment, in this case a 85 km trip through the Californian desert at 100°F. If they reach an American flag at the end without being caught by National Guard or Riot Police, they will be set free, or else they have to serve their sentence (or be dead, as we will see). The film is made in a completely documentary style with three European teams covering a tribunal and the course of two groups already sentenced. Scenes jump between the tribunal tent, the hunting troops and the hunted condemned. Watkin's scarce off commentary gives us raw background information (time, temperature etc.). The tribunal scenes show a kangaroo court on the one side and a wide range of personalities on the other ranging from real terrorists over 'undesirables' to clearly innocents (e.g. a total pacifist who can't even hurt flies). The defense lawyer (who does take his job seriously) has to take abuse from both sides. What makes these scenes especially eerie is their resemblance to the rhetoric of todays administration to the detail. Meanwhile, some unfortunate events in the desert make clear that the 'rules of the game' don't really apply. The question remains open, whether it is rigged from the start or arbitrariness by the troops due to those events that leads to the outcome (I suspect, it is both). At the end we are back at square one with the next group going to \"Punishment Park\". This description may indicate a heavily biased (or even demagogic) propaganda movie but that would be misleading. The behavior (all participants were nonprofessionals as usual with Watkins) looks and sounds real (the tribunal scenes may even contain text material from real contemporary trials). I'd say that this could be sold as the 'real thing' without problem. With Watkins's \"The Forgotten Faces\" the reaction was \"We can't send that or nobody will believe our real newsreels anymore (because this is indistinguishable from the real thing)\". With \"Punishment Park\" it ought to be the same. Effectively banned in the US as far as I know this is a must see that hasn't lost its power or its relevance (especially today).\n",
      "Sentiment:\n"
     ]
    },
    {
     "name": "stderr",
     "output_type": "stream",
     "text": [
      "665it [04:54,  2.73it/s]"
     ]
    },
    {
     "name": "stdout",
     "output_type": "stream",
     "text": [
      "Prompt is too long >512 (Max Length), prompt: I don't think I'm spoiling anyone's experience of this film by telling you not to see it if you have anything better to do, like clean under the stove. It gets dirty under there and you've gotta clean it sometime. <br /><br />I think the movie suffers from a lack of sex and violence, though there is one car chase stunt that looks so dangerous it could only have been filmed in a country where life is cheaper than beer. \"Gargoyle\"'s heart is in the right place, but its aspirations are conservative. It is at least not pretentious. But I had a great time acting in it, playing the perennial idiot in the horror movie who says \"What's down this hole?\" and dies for his hubris. Plus I got to meet Michael Pare. Every film junkie should work with a B-movie staple at least once before death. And Romanians are the loveliest people I've met. Literally the loveliest. Walk down the street in Bucarest: if 7 of every 10 women aren't absolutely beautiful, you're walking down a street I didn't come across; and be consoled by the fact that at least 5 of the 10 are available for drinks.<br /><br />Part of the film was shot in Casa Radio, an abandoned, unfinished Classic Communist Bloc-cum-Georgian Nightmare edifice originally intended to house KGB propaganda ministries, i.e. Radio Not-so-Free Europe. The building's five stories tall and takes up a city block; best of all, while its facade radiates Big Brotheresque state solidity, it resides near the city center like a post-apocalyptic ruin in a jungle of burdock and hemp peopled by dozens of Gypsies and scores of wild dogs. Construction on Casa Radio was suspended when Caucescu and his wife were executed on TV in 1989, and still there are gaping holes that drop from the sun-baked top floor (offering surreal vistas of a modern quarter-mile stretch of concrete roof, decorated with jutting rebar and old car parts, overlooking a crumbling ancient city) all the way down to the damp, creepy sub-basement (which doubles in the film for the Gargoyle lair.) No American-style guardrails or warning signs for Bucarest. <br /><br />Since the demise of the Soviet Union, Casa Radio has hosted several non-union film shoots, including \"Highlander III\". It is attractive to producers because it's a cheap location, massive in terms of scale and available space, bizarre looking, and free of insurance headaches as it's still state property. Plus no one complains if you don't clean up after your production: anything left onsite is interpolated into the resident Gypsies' construction of their shanty town in this actual urban jungle. <br /><br />An assistant director was bitten bloody by a wild dog during the shoot of \"Gargoyle\". The apples provided by catering were pressed into service by cast and crew as projectiles in order to keep the prowling dogs at bay. I too was bitten by wild dogs in Bucarest, once in a bar (!) and once in a city park. I also survived two car wrecks in two weeks, both in taxis and neither of which was seen by the drivers involved as grounds for stopping the cars.<br /><br />GEEK NOTE: The Sci-Fi Network or Channel or whatever was one of the backers of this film (the smaller the budget, the more producers on set), so it's a little weird that nobody had a problem with the original title, \"Gargoyles\", until it was almost time to show it on the network, even though Sci-Fi already had an unrelated series of that name. The title was changed sometime relatively close to release, as I have a color-corrected copy labeled with the former title.\n",
      "Sentiment:\n"
     ]
    },
    {
     "name": "stderr",
     "output_type": "stream",
     "text": [
      "670it [04:56,  2.97it/s]"
     ]
    },
    {
     "name": "stdout",
     "output_type": "stream",
     "text": [
      "Prompt is too long >512 (Max Length), prompt: I have read almost all the books by now, and have seen the musical production in two different languages. I absolutely adored everything that I have been acquainted previously. But lately I've been running out of resources to sustain my fancy. I still have couple of books left, but they are either in transit or they are the sequels which I am not in a hurry to read. So an idea dawned on me - Sink me! There are movies which I have not watched! Thus, I must watch them immediately.<br /><br />The first five minutes of these series were... acceptable. In fact, I quite enjoyed the variation of the reason for the denunciation, however different it had seemed. It went all downhill from there, though. Chauvelin was too... foppish? And, I daresay, too old for this role. Not nearly that dark and dashing figure with his dreadful either-or. (And what was that with random bed scene featuring him? It was way too creepy - wasn't his only love the Madame Guillotine, and his only interest - his job, and his only obsession - Sir Percy?) Marguerite... Prettiest woman in France? Cleverest woman in Europe? I think not. Although, whatever compelled her to break into the study of Sir Percy I haven't the faintest idea. And whatever my Lord Tony has done to deserve this death? Yes, every member of the League did pledge his life to Sir Percy, but he would have never endangered any of them nor would have run away like a coward when his dear friend faces mortal danger. And if by any means he had to mourn his companion, he would have done that, mourn, not just move on as if nothing had happened. Which brings me to another point, Sir Percy. His portrayal was most dreadful. He was neither a lazy fop, nor a gallant and elusive hero who is a master of transformations. Nor did he care too much about cravats (his pronunciation of that word alone made my ears bleed) And with his own hands he had never killed anyone. So what was that with him randomly walking around and slaughtering people?<br /><br />The costumes were just too flashy for that time period as well. This is post-revolutionary France we are talking about! Not pre-revolutionary. People in dresses like that stand out in a crowd quite easily. It was all just... gah!<br /><br />Although, I must admit, after I watched other parts my opinion did change slightly. Watching it as a separate work, independent of Scarlet Pimpernel series, it was tolerable. Just your other average hero in the mask. But for what they tried to pass it, it is still miserable.\n",
      "Sentiment:\n"
     ]
    },
    {
     "name": "stderr",
     "output_type": "stream",
     "text": [
      "682it [05:00,  2.68it/s]"
     ]
    },
    {
     "name": "stdout",
     "output_type": "stream",
     "text": [
      "Prompt is too long >512 (Max Length), prompt: \"Jefferson in Paris\" is a truly confounding film. It presents Thomas Jefferson (Nick Nolte) in the most unflattering light possible, painting him as a liar, racist and pedophile, yet offers not a shred of condemnation for those sins. This is the way he was, the film seems to say. End of sentence, end of movie, the door's behind you.<br /><br />After arriving in Paris with his daughter Patsy (Gwenyth Paltrow), Jefferson proceeds to win the heart of Maria Cosway (Greta Scacchi), the wife of a homosexual English painter (the criminally underused Simon Callow). A turn of events sends Maria to England, however, and Jefferson proceeds to forget her with astonishing speed for a man who, mere minutes of screen time before, was asking her to live with him in America.<br /><br />He's been bewitched, you see, by Sally Hemmings (Thandie Newton), one of his slaves just arrived from America. Just why he's bewitched is hard to tell--although Sally is undeniably beautiful, she acts like a simple-minded child in front of Jefferson. When she isn't telling ghost stories in exaggerated \"darky\" speech patterns, she's slinking around his bedroom, practically oozing lust for her distinguished massa.<br /><br />If her behavior is an attempt to excuse Jefferson's, it doesn't work. Jefferson damns himself further when Maria, tired of waiting for his letters, travels from England to see him. I've not changed toward you, he insists, offering weak excuses for not writing. To her credit, Maria sees through his brazen lies immediately. When Sally appears, and she and Jefferson flirt openly (and cruelly, to my mind) in Maria's very presence, the illusion falls apart completely.<br /><br />No one today believes that Jefferson, Washington and the rest were utter paragons of virtue and morality. Yet, are we supposed to believe that the learned, distinguished Jefferson would be attracted to Sally, a woman whose most intelligent conversation is about how \"massa's Frenchie friends don' unnastan' aw corn\" and who rubs herself against his front as she passes, right before Maria's eyes?<br /><br />Even if we let that slide, it's followed by the horrifying revelation that Sally was only 15 when this affair took place (Jefferson was 41). Strangely, this fact comes out only toward the very end, when Sally's brother James is understandbly furious at her blase announcement that she is carrying Jefferson's child.<br /><br />Jefferson is equally blase when told that Sally is carrying his child, and patronizingly tells her that she'd be far better off under his protection than free and living in France with her brother. But, he promises, I'll free her when I die and our children (including any more that come, Jefferson says, in a chilling declaration of Sally as *his*) when they reach 21. Oh thank you, massa, you feel like telling the screen. Big deal.<br /><br />The worst scene is still to come, however, involving Jefferson's daughter Patsy. She is already angry at him, first for breaking his vow, made to her mother on her deathbed, not to marry again. (Obviously the woman wasn't just talking about matrimony.) Jefferson has also refused to allow Patsy to become a nun as she wishes, despite earlier moralizing about freedom of religion (that seems to mean freedom to agree with him).<br /><br />Having promised Sally and her brother their freedom, Jefferson calls in Patsy to witness the bargain and promise to fulfill it should anything happen to him. Sally's brother blurts out the impending birth of the child, and Jefferson asks, \"do you swear?\" Paltrow's performance in this scene is brilliant, although she has almost nothing to say. Her face nearly contorts in agonizing pain at this revelation, yet she controls her grief and whispers yes.<br /><br />If anything, and the filmmakers could have had something if they'd emphasized this point more, \"Jefferson in Paris\" is an indication of the status of woman in the late 18th century, viewed even by men like Jefferson as attractive property, pleasing but without true intellect or souls. We see Jefferson shed a few tears over a letter from Maria, obviously telling him where to get off, but he's soon laughing away at a wild dance from Sally, complete with tossed hair and heaving bosom.<br /><br />I don't know whether this is an accurate portrait of Jefferson or not. I don't care to watch it, however, just for the sake of watching it. This Jefferson is no hero or even an anti-hero. He's a selfish, lying child-molestor--and one who gets away with it--not the kind of man I want to see a movie about.\n",
      "Sentiment:\n"
     ]
    },
    {
     "name": "stderr",
     "output_type": "stream",
     "text": [
      "685it [05:01,  3.17it/s]"
     ]
    },
    {
     "name": "stdout",
     "output_type": "stream",
     "text": [
      "Prompt is too long >512 (Max Length), prompt: I saw this film at the tender age of 18 with a group of friends. Its reputation had preceded it, and though all my friends were also of legal age, I alone had the courage to enter the video store and actually rent it. We gathered at a house where the parents had left town for the weekend. Though we sat in close proximity to each other, we did not speak or otherwise acknowledge each other's presence. As it turned out, the film both merited and did not merit the anticipatory shame we felt. It did not disappoint in terms of sheer gratuitous content, but it disappointed in every other way.<br /><br />Caligula attempts to transcend genres by combining a historical epic with a brazen porn flick. It fails miserably in its ambition, subjecting the audience to the worst of both worlds. The film's obvious selling point is its pornographic aspect, and it does indeed provide far more than its share of real, graphic sex. But in setting this sex in the context of Caligula's depraved reign, it dignifies the act even less than the average adult movie. Sex without context might at least be physically pleasurable for the consenting adults involved, but pleasure and perhaps even consent are largely absent from the world of Caligula. In it, sex at best serves as an idle pastime and at worst as an instrument of sadistic domination. In the present day, it is somewhat common to hear words like \"sin\" and \"depravity\" used facetiously to describe acts which are enjoyable yet considered taboo according to certain moral or religious perspectives. Caligula takes the viewer beyond the facetiousness by depicting true depravity and demonstrating that no joy or pleasure comes from it.<br /><br />The historical portions not only fail to meaningfully contextualize the sex, they fail to entertain, enlighten, intrigue, or interest the viewer in any way. They only provide lengthy stretches of unremitting tedium. Rarely has a film proved so boring. The sex, after the initial shock and astonishment fades, only contributes to the overall monotony of the picture.<br /><br />Rarely do discussions of this film involve its violence. While many films more violent than Caligula have been made, few can rival it in terms of the shock value of its violence. Apparenly, unrelenting barbarity as well as hyper-depraved sexuality characterized Caligula's emperorship. The violence is even less for the faint of heart than the sex.<br /><br />A review like this will likely generate as much curiosity as it quells. I understand why someone would want to see this film; after all, I myself succumbed to the same curiosity. I simply hope that my review, by plainly describing its lack of redeeming value, will at least give potential viewers the knowledge to make an informed decision about whether to see it or not. My high school criminal justice teacher described police work as \"hours of boredom punctuated by moments of sheer terror.\" This statement perfectly describes Caligula. You have been warned.\n",
      "Sentiment:\n"
     ]
    },
    {
     "name": "stderr",
     "output_type": "stream",
     "text": [
      "695it [05:04,  2.70it/s]"
     ]
    },
    {
     "name": "stdout",
     "output_type": "stream",
     "text": [
      "Prompt is too long >512 (Max Length), prompt: Contains spoilers. <br /><br />The British director J. Lee Thompson made some excellent films, notably 'Ice Cold in Alex' and 'Cape Fear', but 'Country Dance' is one of his more curious offerings. The story is set among the upper classes of rural Scotland, and details the strange triangular relationship between Sir Charles Ferguson, an eccentric aristocratic landowner, his sister Hilary, and Hilary's estranged husband Douglas, who is hoping for a reconciliation with her. We learn that during his career as an Army officer, Charles was regarded as having 'low moral fibre'. This appears to have been an accurate diagnosis of his condition; throughout the film he displays an attitude of gloomy disillusionment with the world, and his main sources of emotional support seem to be Hilary and his whisky bottle. The film ends with his committal to an upper-class lunatic asylum. <br /><br />Peter O'Toole was, when he was at his best as in 'Lawrence of Arabia', one of Britain's leading actors, but the quality of his work was very uneven, and 'Country Dance' is not one of his better films. He overacts frantically, making Charles into a caricature of the useless inbred aristocrat, as though he were auditioning for a part in the Monty Python 'Upper-Class Twit of the Year' sketch. Susannah York as Hilary and Michael Craig as Douglas are rather better, but there is no really outstanding acting performance in the film. There is also little in the way of coherent plot, beyond the tale of Charles's inexorable downward slide.<br /><br />The main problem with the film, however, is neither the acting nor the plot, but rather that of the Theme That Dare Not Speak Its Name. There are half-hearted hints of an incestuous relationship between Charles and Hilary, or at least of an incestuous attraction towards her on his part, and that his dislike of Douglas is motivated by sexual jealousy. Unfortunately, even in the swinging sixties and early seventies (the date of the film is variously given as either 1969 or 1970) there was a limit to what the British Board of Film Censors was willing to allow, and a film with an explicitly incestuous theme was definitely off-limits. (The American title for the film was 'Brotherly Love', but this was not used in Britain; was it too suggestive for the liking of the BBFC?) These hints are therefore never developed and we never get to see what motivates Charles or what has caused his moral collapse, resulting in a hollow film with a hole at its centre. 4/10\n",
      "Sentiment:\n"
     ]
    },
    {
     "name": "stderr",
     "output_type": "stream",
     "text": [
      "699it [05:05,  3.02it/s]"
     ]
    },
    {
     "name": "stdout",
     "output_type": "stream",
     "text": [
      "Prompt is too long >512 (Max Length), prompt: - The Best Bit : When the dull mobster (Nicholas Turturro) calls out to the runaway (Matthew Modine) \"Shane !.. Come Back Shane !\" and when the older wise guy asks him \"What Are You Doing ?!\" he replays simply \"Enjoying My Time !\" Actually like me at the moment ! <br /><br />- The Most Creepy Part : I've been wondering all the time of watching : where did I see that girl before ? where ? where ? Till I found out while the closing credits.. OHH MY GOD ! She's (Elizabeth Berkley) .. From the showgirls' fiasco ! But I just couldn't recognize her with her clothes on ! To tell you the truth I felt a brief tremor. She's really cute and nice but maybe Hollywood had no mercy at all ! <br /><br />- The Most Sexy Bit : When (Berkley) says \"Do You Mean The Stuff Which Gives You A Boner ?!\". <br /><br />- The Most Dull Thing : The retarded assistant after a day and a night in the back of the car is still alive and healthy at the end !!??, moreover the Mexican smuggler took 3 bullets (at the same car !) and he's not dead either !!?? <br /><br />- The Most Ugly Thing : All of those murdered people, as well as the numerous (F) ward to a boring extent ! <br /><br />- The Most Beautiful Thing : The crazy clever script with all the funny characters and the tumultuous situations, the acting looked sweet also especially from (Paul Rodriguez) who stole the show for (as he had the best dialogue Also !). <br /><br />- The Most Disappointing Thing : Although the direction didn't mess about the story's wittiness at all but in the same time it didn't give it a unique touch, a matchless signature, some kind of insane hilarity like the one in the story itself. However maybe the low production wronged it well ! And of course the easy tasteless music which could be like that because of cheap production too ! <br /><br />- The Most Confusing Part : (Matthew Modine) is a talented guy but what did he do exactly to be out of Hollywood's \"A\" list of stars ?! What could possibly be the thing he made (or didn't make !) to end up in light independent jest like (The Shipment) ?!! <br /><br />- The Most Absent Scene : Where did (Jose) the Mexican smuggler go at last ?! I thought that we'll see him again at the end, smuggling once more as the surviving little criminal who, in a brief gimmick like this, could materialize the continuous disorder of such a world. <br /><br />- The Most Question I had After The End : When we'll see (The Shipment - 2) ? As I'm so eager to see that fine small comic hurly-burly atmosphere again ! <br /><br />These were my own answers. If you interested in giving answers of your own for this questionnaire, please E-Mail me.\n",
      "Sentiment:\n"
     ]
    },
    {
     "name": "stderr",
     "output_type": "stream",
     "text": [
      "713it [05:10,  2.66it/s]"
     ]
    },
    {
     "name": "stdout",
     "output_type": "stream",
     "text": [
      "Prompt is too long >512 (Max Length), prompt: Being a self confessed slasher addict means that it's very rare that I get the chance to review many bigger budgeted movies with creditable casts. Aside from James Mangold's successful box office draw Identity; there have not been any big name entries since the Scream trilogy once again put Wes Craven's name back on the Hollywood map. That's why Mark Malone's The Last Stop  a mystery thriller with blatant slasher overtones, instantly intrigued me. With a decent line-up including Adam Beach and Jurgen Prochnow and an intriguing soundtrack that even finds space for Lynn Anderson's Rose Garden, I must admit that the initial signs were very positive for this claustrophobic feature. To the best of my knowledge there have only ever been three other snow-bound slashers, unless of course you consider Demon Possessed to fit in the category. The first slice and dice on the ice was the bone-dry Satan's Blade, then came the Lisa Loring cheese-feast that was Blizzard of Blood and the enjoyable Shredder followed some fourteen years later.<br /><br />During an extreme blizzard, state trooper Jason (Adam Beach) battles through the snow to reach a remote lodge in the Colorado Mountains. His task is to inform the guests that the road is closed and they must stay for at least one more night until a path can be cleared through the hazardous conditions. This news doesn't go down to well with the suspicious bunch, which includes two troublemaking brothers (Callum Keith Rennie and Peter Flemming), a truck driver that really doesn't want to hang around (William S. Taylor), a randy couple of lovers (Winston Rekert and Amy Adamson) and Jason's ex-girlfriend Nancy (Rose McGowan). The motel owners (Jurgen Prochnow and P. Lynn Johnson) aren't overjoyed by the news either, but they offer rooms to the stranded guests and attempt to calm the tense situation. Things take a turn for the worse when Jason finds a mutilated body and a bag full of stolen cash lying in the snow behind the cafe. Just like a chapter out of an Agatha Christie mystery, the lodgers begin dieing at the hands of a masked assailant that seems intent to re-claim the money. With so many dodgy characters to choose from and no way of leaving the crime scene, Jason has to attempt to stop the maniac before he kills again <br /><br />A good mystery needs at least a handful of shady suspects who each have a credible motive, a remote location that no one can escape from and a smart protagonist to help unravel the clues. Fortunately The Last Stop provides each of those essential ingredients in a thriller that has its equal moments of brilliance and downright stupidity. The film kicks off superbly as the dubious personalities clash in a claustrophobic environment that manages to keep the tension running high throughout the runtime. Malone keeps the interest levels raised as each character unveils their own reasons to attract some of the suspicion, and to be fair the essential twist isn't one that you'll guess easily. In fact I found myself watching the movie through once again to see if I could pick up on any hints that I missed first time around. Unfortunately when the maniac is revealed to be an over the top psycho that wisecracks like a comic book bad guy, The Last Stop forfeits a huge amount of credibility. Thankfully all is not lost when an unexpected and brilliantly orchestrated plot twist salvages the film's finale.<br /><br />Similarities can be drawn with the excellent Identity, as the two plots are almost interchangeable. James Mangold's effort has to be the better of the two mainly because of the star billing of John Cusack and the ever-reliable Ray Liotta. With that said though Adam Beach does a good enough job in the lead, while Jurgen Prochnow, Amy Adamson and the brilliant Callum Keith Rennie add some credible support. Rose McGowan acts as conceitedly in this role as she probably does from day to day in reality and Winston Rekert started fantastically before going completely overboard with the film's climax. If you're a die-hard slasher fan that's watching this for some bloody killings then you're going to be disappointed. The balaclava-wearing psychopath only pops up once and the rest of the murders are committed off-screen. But as I said earlier Malone's directorial talent means that the suspense is never too far off the boil and you can forgive the few flaws because the positives just about triumph.<br /><br />The Last Stop is well worth a look for slasher addicts and movie fans alike. Yes there are a handful of negatives, but overall this is a solid example of emerging Hollywood talents. If you liked Identity then certainly give this a try\n",
      "Sentiment:\n"
     ]
    },
    {
     "name": "stderr",
     "output_type": "stream",
     "text": [
      "725it [05:14,  2.67it/s]"
     ]
    },
    {
     "name": "stdout",
     "output_type": "stream",
     "text": [
      "Prompt is too long >512 (Max Length), prompt: Working the night shift in a seedy police station, stumbling through life in an alcoholic haze, Detective Mickey Hayden can hardly be said to have a firm grasp on reality to begin with, but when a bump on the head unleashes terrifying psychic visions, things get truly weird. Soon he's on the trail of a serial killer and unraveling the mystery of his beautiful first victim, the elusive Alice.<br /><br />The role of an embittered burn-out seems tailor-made for Keifer Sutherland and he makes the most of it. The plot's typical serial killer stuff, but it has enough quirks, twists, and genuine surprises to raise it above the usual genre fare and even make up for a painfully low budget. (One wonders what this film could have been if there'd been money for a few more rewrites and a few more takes.)<br /><br />All in all, 'After Alice' is a pleasant diversion for anyone, but for fans of Lewis Carroll's 'Alice' books, it's a real treat. From the topsy-turvy reality in which things are rarely what they've seem, to more obvious references -- a killer called 'The Jabberwocky', who leaves playing cards on his victims' bodies -- there's an 'Alice' reference at every turn. Below is a list of the ones I uncovered. Since finding them yourself is half the fun, I've marked them as spoilers.<br /><br />SPOILERS<br /><br />Cast of Characters<br /><br />Mickey - In a sense he's Alice himself wandering through strange landscapes, encountering odd characters, but Harvey, recognizing his true nature, identifies him as the hapless, bumbling White Knight. <br /><br />John Hatter (Mickey's boss) - Is he really 'mad'? You be the judge<br /><br />Claudette - An African-American transvestite. Obviously, the Black Queen<br /><br />Margaret Ellison - Mickey calls her the Red Queen, but her brutal nature suggests, more specifically, the Queen of Hearts.<br /><br />Gideon Wood - Suspected of being the Jabberwocky killer, his ambiguous role is more suggestive of a snark (or a boojum perhaps).<br /><br />Harvey - His role as unofficial guide to 'wonderland' and his name, evocative of another famous cinematic rabbit, makes me think he must be the White Rabbit<br /><br />Dr. Vera Swann - Her last name and relationship with Mickey suggest the White Queen.<br /><br />Other Connections<br /><br />Mickey's adventures begin when he chases a man in white and falls down a (rabbit) hole. <br /><br />Mickey drunkenly tells his cat to stop grinning at him (Cheshire Cat)<br /><br />The killer is revealed 'through the looking glass'.<br /><br />The climatic showdown ends in a swirl of playing cards, just as Alice's adventure did in the book.<br /><br />The statues in the garden look like giant chess pieces.\n",
      "Sentiment:\n"
     ]
    },
    {
     "name": "stderr",
     "output_type": "stream",
     "text": [
      "737it [05:18,  2.64it/s]"
     ]
    },
    {
     "name": "stdout",
     "output_type": "stream",
     "text": [
      "Prompt is too long >512 (Max Length), prompt: Set in the 1970s Los Angeles, Christopher Boyce has just dropped out of seminary school and returned back home were his father gets him a job where he monitors intelligence documents. His old friend Daulton Lee is a ratty cock drug-dealer, and gets caught in a set-up and must choose between becoming a narc or facing a long stint in prison. When up on bail, he jumps and heads to Mexico City. Chris offers Lee in a partnership to be his messenger to sell secret papers to the Soviet Union embassy in Mexico City, because of the disgrace he feels about the US Government's control over weaker countries to their own gain. But over time the two begin to clash with their motivations and find themselves in something bigger then they had originally intended.<br /><br />Director John Schlesinger has spun out such films like the respectable \"Midnight Cowboy\", \"Marathon Man\", \"Sunday Bloody Sunday\" and \"Day of The Locust\". While \"The Falcon and the Snowman\" might not be held up that high, there's no question that this sombre espionage drama (inspired by a true incident) is an unjustly overlooked character portrait. Everything about it, is quite a subdued affair with no real grandeur qualities hitting a massive mark. The driving factor of the film has got to be the admirably versatile lead performances of Timothy Hutton and Sean Penn as the two ambitious young lads Chris and Daulton. Penn is especially good with his uneasy intensity, which works well off Hutton's superbly cool-and-collected turn. What starts off as easy, we watch the situation gradually crumble, as the two amateurs find themselves really out of their league. The strongly detailed and symbolic (predatory behaviour) plot mainly centres on the pair's relationship and that of their reasoning's for their actions, which eventually shows us the knotty developments that led to their downfall. The plan opens up like a wound to never properly heal, due to Daulton's drug addiction, which really makes him go off the rails and leaves Chris to pick up all the slack. The searing political aspect is there, but it focus on the themes of idealism (Boyce) and greed (Lee) to get its point across. Both don't mix and results show. Suspense is justified through its stimulating pot-boiling script and character interactions then that of any visual gimmicks. Action is very little, but still there's a pressure induced style to Schlesinger's assured and realistically dark 'n' gritty direction. Pacing is mostly well handled, although some sequences do seem to wallow on for too long, but however it grips you as it plays on its authentically paranoid tone to slowly build up to an exploding tight latter end. Adeptly fleshed into the technical production is an airily harrowing music score and professionally poignant cinematography. The supporting cast are exceptionally fine with Pat Hingle, Lori Singer, David Suchet, Boris Leskin, Jerry Hardin and Joyce Van Patten. Also look out for Michael Ironside in a tiny part as a FBI agent.<br /><br />A mostly outstanding spy-film that benefits largely from talented lead performances and by not playing the usual stakes. It's more an emotional ride, then a complex one of twists. Recommended.\n",
      "Sentiment:\n"
     ]
    },
    {
     "name": "stderr",
     "output_type": "stream",
     "text": [
      "740it [05:19,  3.17it/s]"
     ]
    },
    {
     "name": "stdout",
     "output_type": "stream",
     "text": [
      "Prompt is too long >512 (Max Length), prompt: In 1965 producer Kevin McLory -who owns a part of the Bond cinematic rights- associate with EON Productions (Harry Saltzman and Albert Broccoli) for making \"Thunderball\", the fourth film of the 007 franchise. The star is Sean Connery, of course.<br /><br />In 1982 McLory wins a legal battle and can produce an \"independent\" Bond film. \"Never say never again\" (NSNA) is one of the two \"unofficial\" 007 films made outside EON (the other is the 1967 comedy spoof \"Casino Royale\"). NSNA is a remake of \"Thunderball\" and stars the original Bond, Sean Connery -who comes back to the role after many years of absence.<br /><br />The film is released some months after \"Octopussy\" with Roger Moore, the 13th episode of the EON series. At the time press calls it \"War of the Bonds\"... Both films are a big success in 1983, even if \"Octopussy\" earns more money at the box office.<br /><br />NSNA is a luxurious film made by excellent technicians -director Irvin Kershner who led \"The Empire strikes back\", Douglas Slocombe -cinematographer of \"Raiders of the lost Ark\"-, and screenwriter Lorenzo Semple Jr -who wrote \"The three days of the Condor\"- among others...<br /><br />The cast is excellent with Connery, a then relatively unknown Kim Basinger, Barbara Carrera, Klaus Maria Brandauer, Max Von Sydow, Edward Fox...<br /><br />Although all that the film remains inferior to the original \"Thunderball\". It lacks many fundamental ingredients for being a real Bond movie: there's not the traditional gun barrel sequence, there's not the \"James Bond theme\", M and Q are not played by the traditional actors... It's a copyright reason: EON only is allowed to use these elements. Briefly, NSNA lacks the classic cinematic 007 atmosphere.<br /><br />On the other hand the film is exciting and enjoyable. Brandauer is a very good villain and the women (Basinger and Carrera) are sensual and gorgeous. But the main highlight is Sean Connery! He's once again wonderful in the role, he's older but looks fitter and nicer here than in \"Diamonds are forever\", his last performance in the role of the British super-spy before NSNA.\n",
      "Sentiment:\n"
     ]
    },
    {
     "name": "stderr",
     "output_type": "stream",
     "text": [
      "748it [05:22,  2.72it/s]"
     ]
    },
    {
     "name": "stdout",
     "output_type": "stream",
     "text": [
      "Prompt is too long >512 (Max Length), prompt: Naruto the Anime TV Series has so far spawned 2 feature length theatre movies, and a third one is coming our way this summer.<br /><br />The first one, which was released in the summer '04 was a fun adventure featuring the main characters of Naruto in an exciting adventure. However, one must be a blind, deaf and one legged chicken to deny that film's faults. Whilst the first was most definitely enjoyable, there were a lot of things that could be improved on. Naruto Movie 2, however, takes all of these aspects and excels upon them.<br /><br />The action first of all, was incredibly cinematic. The lighting, setting and style was three fold as effective as in the first movie. In the first we were given basic action, well animated and choreographed animation, but nothing eye popping, however this movie's cinematography was exceptional, the use of shadows and lighting combining together to make the action all that more intense was very effective and added to the force of the fighting.<br /><br />The animation was very good. It rivalled Disney, however since this is a movie about TV characters, there was nothing exceptionable about the character design or detail to the actual characters, however, the animation was incredibly fluid and realistic. I think they even used twice the amount of cels for each second because there was absolutely nothing jittery about the animation at all, it was incredibly fluid.<br /><br />The music... I think that's where this movie fails. The original composer/conductor for the TV show was used for the film, and I don't really feel that he did that good of a job. The music mostly reminded me of a lot of pieces used in old SNES games. The composer is very good, but the synthesisers used for the film couldn't convey the tune very well. However they didn't fail the film at all, adding as a good accompaniment to the action. But, except for a few violin/string pieces towards the end and some choral work, the music didn't excel any boundaries or act as anything special.<br /><br />The story was fun. It was a reasonably typical storyline for Naruto and was very similar to the first movies, except, again, it took everything that had been wrong with the first film's story and improved upon them. The characters were a lot more interesting and the way the story progressed was what kept me watching throughout the entire film. It kept making you think the film would be ending any second now, but then it would move on, but instead of feeling dragged out, the action and characters made everything still feel fresh and exciting.<br /><br />Overall, this film is a goodun, but however good it might be, it is most definitely one for the fans. I enjoyed the film, but thats because... I'm a fan! But I can see, just like with Final Fantasy's Advent Children, it doesn't excel as a movie, but merely acts as a fantastic serve of fan service for a good hour and a half. Though I think this film does act as a good introduction to the series for current non-watchers, it won't give a full effect for anyone other than those glued to Naruto screens. However, despite all this, it was a fun movie to enjoy during this depressing period of upsetting fillers.\n",
      "Sentiment:\n"
     ]
    },
    {
     "name": "stderr",
     "output_type": "stream",
     "text": [
      "763it [05:27,  2.61it/s]"
     ]
    },
    {
     "name": "stdout",
     "output_type": "stream",
     "text": [
      "Prompt is too long >512 (Max Length), prompt: Surface, from the day its teaser first showed in the summer of 2005, was a tossup. On one hand, it seemed so high-concept and plot driven that to the passerby it felt like it would work out better as a motion picture (or several). Plus, it felt like it was NBC's attempt at a \"Lost-killer\". On the other hand, one may have realized that the story was too expansive to tell in a movie or two, and fans of Lost seemed intrigued.<br /><br />So, after one (and possibly only) season on NBC, the show is on an indefinite hiatus that could either put it in the vault, on Sci-fi, or filling a gap in NBC's lineup in the summer or fall of 2007 or beyond. Its ratings were some of the better on the network (which isn't saying much), but the show has been taken off the air with no real official announcement of its future.<br /><br />So, is it worthwhile? Yes.<br /><br />Surface follows a continuing story format, driven by plot with next to no filler episodes. Almost everything that happens on the show is important to the plot, much like a motion picture. No filler episodes, which put a pain in your side when you missed an episode. Yet, the show's double-edge helped made up for that; Big things seem to happen every episode, but since it feels like a movie you end every episode feeling like little happened and you're left wanting more! That trait of the show, though shows how great it is. The cast is solid; the three main leads, including the beautiful Lake Bell as Laura Daughtery, put in a solid performance every episode, each driven by their own reasons for finding/studying the creatures. The supporting cast, including Ian Anthony Dale and the brief performance by Rade Serbedzija fill out the cast well. The story is slow to start (my one regret; it doesn't really pick up until a 3-4 episodes in to the short 15-episode season), but the latter half of the season makes up for it. The visual effects are stunning (one's jaw will drop when you see an overhead view of one of the creatures 'attack' a ship), as well.<br /><br />Many of the show's problems can be remedied by purchasing the complete first season and not having to wait a week (or three) to watch the next episode.<br /><br />In short, if you've missed the first season and you're curious, go back and watch it. It's no Twin Peaks in terms of quirkiness, but the high-concept nature of it puts in in league with that, Lost, and other similar shows, with a flair for action and adventure. Enjoy it.\n",
      "Sentiment:\n"
     ]
    },
    {
     "name": "stderr",
     "output_type": "stream",
     "text": [
      "770it [05:30,  2.76it/s]"
     ]
    },
    {
     "name": "stdout",
     "output_type": "stream",
     "text": [
      "Prompt is too long >512 (Max Length), prompt: spoilers<br /><br />This movie is not action packed; it's slow and boring. It's not funny or exciting, it's predictable and plays on cheap sentimentality and vague patriotism. The special effects are not imaginative or impressive. They are noisy and uninspired.<br /><br />The acting talent is wasted on hopelessly stupid one-liners and clichés. These are spouted by characters they ought to just be called `gentle giant black man,' `eccentric genius who is about to crack,' `square jawed hero coming of age,' `by-the-book coward,' `luckless gambler who lives by a code of honor,' `impulsive princess' and so on.<br /><br />And the writing! How many undramatic countdowns did they think they could fit in this thing? Does a scene where people have to defuse a bomb by cutting one or another wire even count as fiction anymore? The drama of the last 15 minutes of the movie depends on the audience caring if some jerk can put aside his personal differences with Ben Affleck and say bye bye to Liv Tyler in time TO SAVE THE EARTH. All the work is done; we just have to wait a couple more seconds for Harry Stamper, the jerk, to toss off a few cotton candy lines. I know Bruce Willis is a generally charismatic guy, but his Harry Stamper character is an obnoxious bore. I thought he earned the Golden Razzy he was awarded for this role.<br /><br />Since the movie is so long, the plot so obvious, and the dialogue so disposable, one can't help but notice the lame inaccuracies, inconsistencies and plot holes. 800 feet into something the size of TX is less than a pinprick. Try walking 800 feet into TX and see how close to the center you are. After all the discussion about the artificial gravity on the Russian station, it appears to be arbitrary once inside. Actually, gravity comes and goes throughout the movie. Does it make any sense that anyone besides Michael Bay would give these morons a couple shuttles and send them to blow up an asteroid threatening the earth?<br /><br />The sentimental phone/insurance/cola commercial style montages were revolting.<br /><br />I do like action movies. Really. This one is boring, stupid and really stuck on itself. It deserves hatred and scorn because it's everything Hollywood's most expensive efforts have become - a bunch of cheap cliches running from one expensive explosion to another. Oh yes, the whole thing is permeated by a Neanderthal conservative outlook on sex, politics and so on.\n",
      "Sentiment:\n"
     ]
    },
    {
     "name": "stderr",
     "output_type": "stream",
     "text": [
      "784it [05:35,  2.66it/s]"
     ]
    },
    {
     "name": "stdout",
     "output_type": "stream",
     "text": [
      "Prompt is too long >512 (Max Length), prompt: The Polar Express. Director Robert Zemeckis, I love Back to the Future, Forrest Gump, Contact, and Who Framed Roger Rabbit (NO QUESTION MARK AFTER THAT MOVIE TITLE!!). And Tom Hanks, one of my favorite actors. The reviews of this movie were almost unanimous saying that this is an instant holiday classic. Ebert & Roeper give it two ENTHUSIASTIC thumbs up! Even Ebert's written review gave it a full four stars! Wow... OK... this I gotta see! But wait... the motion capture used looks really weird. Hmm... maybe I'm NOT so interested in seeing this anymore.<br /><br />\"Well, you comin?\" says the train conductor to the boy in The Polar Express. The boy is reluctant at first, and the train begins on its course without him. The boy soon changes his mind and jumps aboard just in the nick of time. <br /><br />Now, most of you have probably decided to not jump aboard this train and wait for the TV Train or Rental Express (hee hee, I'm so witty and clever). I, on the other hand was like the boy who was skeptical at first, but jumped on to see what the fuss was all about. <br /><br />I just wasted $10 and two hours of my life. <br /><br />I can't even begin to explain the pain in my stomach. The Polar Express was so painful to sit through it's not even funny. There's no story. There's no pay off. You sit there through these series of events and you wonder \"is there any point to all this?\" It'd be one thing if the scenes were entertaining... but they're not.<br /><br />This movie is void of any emotion, any soul, any ounce of plausibility, and most of all: any fun. This movie is NOT FUN. <br /><br />And let's talk about the way these characters look for a second. Saying that it's the same technology (motion, I'm sorry, \"PERFORMANCE\" capture) used to make Gollum is a real shame because Gollum was Believable!!! Photo-realism just does not translate well in this medium. You're using animation, why not design the characters to be more expressive? Or why not just film it all with real actors? They certainly COULD have. We as people know all too well how we walk, talk, interact with things. Seeing it on the screen done unconvincingly is not impressive. Caricatures done convincingly is all the more believable, as The Incredibles has proved. The result of The Polar Express now is as if they took corpses of dead children and turned them into puppets. They're moving and talking, but where's the heart? Where's the soul? That's what we're seeing on the screen. UGH UGH UGH UGH UGH! This movie is so horrible! <br /><br />There's a scene early in the movie where the boy takes a girl's train ticket from her seat because she got up and left it. He wants to give it to her but you sit there going \"why??!\" Just leave it.. she's coming back! He of course loses the ticket and \"adventure\" ensues. And then there's a boy who's stuck in the back of the train all the time, and they bring him hot chocolate, but he can't come up and join the rest of the kids? And then there's this annoying \"know it all\" kid with the voice of a 35 year old. It's all so very disturbing. <br /><br />Oh and there's songs! One girl goes into the back of the train where the lonely kid is. He's singing a song to himself. And then she interrupts and joins in! They end the song as they're holding hands, looking into each others eyes as if they were lovers. Very awkward. I won't even go into details about the song about serving hot chocolate while waiters dance around the train. \"keep it hot keep it hot!\" The one scene where Tom Hanks slides on his knees with his arms stretched up in the air has to be one of the most memorably BAD scenes in the history of bad scenes. <br /><br />I have to stop now or I'll just kill myself. I need to watch something crappy to cleanse the palette. Yes... crappy is better than The Polar Express. <br /><br />\"The one thing about trains, it doesn't matter where you're going, what matters is deciding to get on.\"<br /><br />Don't get on this one. For the love of God, I have decided for you! This is just another film taken from a children's book stretched incredibly thin into movie form. It happened with the Grinch and The Cat in the Hat and those were horrible also. But who can blame them? I bet if I took the book, The Berenstein Bears' Too Much Junk Food, and turned that into a feature film, it'd probably be pretty dull also. But at least... there'd be a story and a point, which is what The Polar Express is so lacking of.\n",
      "Sentiment:\n"
     ]
    },
    {
     "name": "stderr",
     "output_type": "stream",
     "text": [
      "786it [05:35,  3.43it/s]"
     ]
    },
    {
     "name": "stdout",
     "output_type": "stream",
     "text": [
      "Prompt is too long >512 (Max Length), prompt: Gargoyle starts late one night in 'Romania 1532' as a peasant girl (Daniela Nane) travels along in her horse & cart minding her own business when from the moonlit clouds above a living Gargoyle swoops down & attacks her, she manages to escape the Gargoyle & happens upon a castle of some description where an angry mob of local villagers & a Priest are able to put an end to the Gargoyle, or so they think... Cut to present day Bucharest where two CIA agents Ty Griffin (Michael Pare) & Jennifer Wells (Sandra Hess) are about to negotiate the safe return of the son of a rich American ambassador from his kidnappers. In pursuit of one of the kidnappers Griffin loses him on the roof of a building but finds a large pool of blood & no visible signs of what happened to him. Meanwhile Dr. Christina Durant (Kate Orsini) & her colleague Richard Barrier (Jason Rohrer) are renovating a church when the church labourer Gregor (Mihai Bisericanu) informs Richard that he has found some ancient relic, the two investigate & find a cave with lots of slimy cocoons & one very angry & very much alive Gargoyle who wastes no time in killing them both. Griffin & Wells are on the case when they are reported missing & soon realise that local legends of monstrous Gargoyles are true with a local priest named Father Soren (Fintan McKeown) planning to flood the world with them...<br /><br />Co-written, co-produced & directed by Jim Wynorski under his usual pseudonym Jay Andrews Gargoyles is yet another masterpiece Wynorski can add to his credits, not. The script by Wynorski, Ion Ionescu, A.G. Lawrence & Bill Munroe is crap, is unexciting, dull & is as simplistic as you can get. For a start I would like to know if there was only one Gargoyle left who laid all those eggs because I'm pretty sure it couldn't have made itself pregnant. How did it survive in that hole for 500 years? What did it eat? How did the priest know it was there? Why has no one else ever figured it out? Why did the priest want to flood the world with them? To rule it? The Gargoyles are hardly going to take over the world & then let some priest just rule it like a king & if they did what would be left to rule? Much like the guys who wrote Gargoyle I don't think he thought it through that well did he? Whichever way I look at it, whichever way I approach it, from whichever angle I try to figure it out from, no matter how many times I try to square the circle Gargoyles just doesn't make any sense & they story has huge plot holes, lapses in logic & isn't that great to start with anyway. The character's are dull & clichéd, the action repetitive & unexciting while the film as a whole is a real bore to sit through. People do illogical things & everything that happens is far to convenient like when the priest is try to convince Griffin that Gargoyle's exist & one just suddenly shows up & attacks them. The cave full of cocoons is such a rip-off of Aliens (1986) it's embarrassing & the ending was lame. The bit on the large Ferris Wheel at the fair was funny though when the guy mocked the boys fear of heights & forced him to get on it.<br /><br />Director Wynorski cuts costs & steals footage from other films, in fact the best scene from Gargoyle is a car chase through Bucharest but it was taken from the Jean-Claude Van Damme action film Maximum Risk (1996). There are no shocks, scares or atmosphere. The special effects are terrible, the CGI Gargoyle looks like it belongs in a computer game & has little interaction with any living cast members, there are lots of scenes of people looking up to the sky & trying to appear scarred. There isn't even any worthwhile gore to make the thing watchable, there is one awful decapitation & that's it.<br /><br />Technically the special effects are awful but otherwise it's passable, the Romanian locations look suitably Romanian. Gargoyle went straight-to-video & it shows with a pretty cheap look & feel to it. The acting isn't up to much, personality bypass victim Michael Pare makes for the dullest of dull heroes.<br /><br />Gargoyle is a crap film, it fails at everything a decent creature feature should strive to achieve. A total waste of 90 minutes as far as I'm concerned, one to avoid.\n",
      "Sentiment:\n"
     ]
    },
    {
     "name": "stderr",
     "output_type": "stream",
     "text": [
      "794it [05:38,  2.79it/s]"
     ]
    },
    {
     "name": "stdout",
     "output_type": "stream",
     "text": [
      "Prompt is too long >512 (Max Length), prompt: Hearkening back to those \"Good Old Days\" of 1971, we can vividly recall when we were treated with a whole Season of Charles Chaplin at the Cinema. That's what the promotional guy called it when we saw him on somebody's old talk show. (We can't recall just whose it was; either MERV GRIFFIN or WOODY WOODBURY, one or the other!) The guest talked about Sir Charles' career and how his films had been out of circulation ever since the 1952 exclusion of the former \"Little Tramp' from Los Estados Unidos on the grounds of his being an \"undesirable Alien\". (No Schultz, he's NOT from another Planet!) <br /><br />CHARLIE had been deemed to be a 'subversive' due to his interest and open inquiry into various Political and Economic Systems. Everything from the Anarchist movement from the '20s (and before), the Technocracy craze to Socialism in its various forms were fair game for discussion at Chaplin's Hollywood parties; which of course meant the inclusion of the Soviet style, which we commonly call Communism.<br /><br />COMPOUNDING Mr. Chaplin's predicament was both confounded by one little detail. He had never become an American Citizen.<br /><br />ANYHOW, enough of this background already! <br /><br />SUFFICE it to say that he had become 'Persona Non Gratis' in the United States of America. .It was high time to get the old films out of the mothballs and back out to the Movie Houses. It'd sure be a great gesture by us easily forgiving and quickly forgetting Americanos.<br /><br />IT would be a fine gesture to the great film making artist; besides, the Academy of Motion Pictures Arts & Sciences was planning to honor Chaplin with a special tribute at the 1972 Oscar Show. This would surely be a tearful yet joyous packaging of pathos a plenty for having America invite Charlie back and have him come and receive a special Academy Lifetime Achievement Award in front of a World-wide Television Audience numbering in the Millions. <br /><br />BESIDES, that would be a natural for promoting the Chaplin Season at the Theatre! (Remember, the Little Tramp was as astute as a Bu$ine$$ Man as he was as a Film Maker!) THE program consisted of showings of MODERN TIMES, CITY LIGHTS, THE GREAT DICTATOR, MONSEUR VERDOUX, A KING IN NEW YORK and finally THE CHAPLIN REVUE. We remember being very excited in the anticipation of the multi date film fest.<br /><br />IN our fair city of Chicago, it was booked for the Carnegie Theatre on Rush Street. The festivities lead off with MODERN TIMES and all of the others would be shown one at a time, each staying for whatever period was necessary in order to satisfy the public's desire to view each picture. As we recall, the very last on the schedule was THE CHAPLIN REVUE.<br /><br />IN RETROSPECT, we look back and wish that they had begun the run with REVUE; as there were undoubtedly legions of moviegoers (much like ourselves) who knew very little about his accomplishments in motion pictures, except for those Keystone, Essanay and Mutual Silent Shorts that were being shown as regular feature on so, so many Kiddy Shows all over the country. Oh well, once again, no one consulted me!<br /><br />CONCENTRATING on today's honored guest film, THE CHAPLIN REVUE, we found that it was actually three separate pictures; carefully bound together by the use of narration by Chaplin (Himself), some lively Themes and Incidental Music (once again written by Chaplin) and some happy talk and serious narration (Ditto, by Chaplin.) He opens up the proceedings by making use of some home movie-type of film depicting the construction of the Chaplin Studio in Hollywood, as well as some film taken of some rehearsal time, showing Director Chaplin demonstrating just what he wants to a group of actors.<br /><br />THIS segment was well done and well received by the audience. Both the building humor and the rehearsal were amplified by making them seem accelerated. (The rehearsal naturally, the building by use of speeding up the camera's photographic process. The old trick makes it appear that the buildings were almost building themselves.<br /><br />THIS amalgam of shorts incorporated three of Chaplin's short comedies from his stint with First National Pictures.; roughly that being 1917 to 1923. The choice was well thought out and gave us a wide variety of subject matter and mood.<br /><br />FIRST up was SHOULDER ARMS (Charles Chaplin Productions/First National Pictures, 1918). As the title suggests, it is a tale of World War I. Released in October of 1918 with about a month to go before the Armistice Day of November 11, it was a comedy of comical Army gags and a romance between Private Chaplin and a French Girl (Miss Edna Purviance). The levity is fast, physical and in the grand old tradition of ridiculing the Enemy, the German Army.<br /><br />DISPLAYING an excellent example of the old adage about Children and Dogs bringing folks together, the next film A DOG'S LIFE (Chaplin Productions/First National, 1918) traces the parallel lives of Chaplin's Tramp and a newly adopted stray, Scraps. The movie story involves families, two of them. One Homo Sapiens, one Canine and both supplying us with some big surprises.<br /><br />AS the finale, we have THE PILGRIM (Chaplin/First National, 1923) was a good choice to have as the finale. It was bright, light and tight. It was an excursion into the area of the Western Spoof, Comedies of such type having been done since by every comedian and team. The \"Pilgrim\" in the story is not of your standard Thanksgiving Variety; but rather a \"dude\" or \"Tenderfoot\", who has ventured out West. The Tramp is not only that guy; but his character is an escaped Convict who is mistakenly thought to be the new Clergyman of a Western town's Church!<br /><br />OUR Rating (that is Schultz and Me) is ****. (That's Four Derbies)<br /><br />POODLE SCHNITZ!!\n",
      "Sentiment:\n"
     ]
    },
    {
     "name": "stderr",
     "output_type": "stream",
     "text": [
      "815it [05:45,  2.59it/s]"
     ]
    },
    {
     "name": "stdout",
     "output_type": "stream",
     "text": [
      "Prompt is too long >512 (Max Length), prompt: Let me start by saying that if you're expecting subtle humour, you're in the wrong theatre. It's low-brow and heavy-hitting. But he's not out to tickle your funny bone. He's got the sledgehammer out and he's drawn a bead on the side of your head. But fear not. As movies go, this is a fairly gentle education. Oh, also, heavy on the swearing, but once again, Mike Judge, not Fred Rogers.<br /><br />Was this movie called 'intelliocracy'? F*** no. The gem, the essence that is Mike Judge is that he has the ability to make people laugh at themselves. Beavis and Butthead was most popular with teen-aged boys, the very people at which it incessantly poked fun.<br /><br />With that in mind, I don't think the humour in this movie is aimed at the super intelligent. Maybe you are all too smart to get it. But he's not aiming at you. He's aiming at your average Joe. And he's got a message: get your act together and for god's sake, study botany! It is a little disjointed and the narrator gets to be a little irritating after a while, but once again, this movie is meant for people who need a lot of narration ;-) It's funny. It has a message that it wants to make sure that we all understand.<br /><br />I question the casting of Luke Wilson in the role of a man with a 100 IQ. Sometimes, he's not able to play down (what's he got, like, a 104?) to the level of his character. Slightly forced at times.<br /><br />Kudos on Dax Shepard in this one. I remember seeing him in Zathura and thinking, \"This guys looks like an idiot.\" In this movie, he makes a great idiot. Maybe I'm psychic.<br /><br />It took a while to warm up to Maya Rudolph, but I gave her a little leeway. After all, she did have to play straight man to an entire planet. But once she got a little screen time, she made a solid contribution.<br /><br />Terry Crews played the same psychotic, aggressive character he's played many times before, but he makes a first-rate president none the less.<br /><br />Another bonus is that the place was practically empty. Counting my girlfriend and I, there were literally six people in the theatre. We could've had a barbecue pit and a mariachi band. So, no annoying people talking, as appears to be the norm in the 'talking-to-the-tv' age.<br /><br />All in all, a good premise and a competent delivery, given the intended goal. Lots of laughs sprinkled throughout.<br /><br />What made this movie scary was the fact that when we walked out of the theatre, it was sort of like the movie was still playing. We saw a lot of idiocy in the people immediately around us, maybe made more apparent by the dose we got in the theatre....<br /><br />They're all pods, all of them!\n",
      "Sentiment:\n"
     ]
    },
    {
     "name": "stderr",
     "output_type": "stream",
     "text": [
      "820it [05:47,  2.87it/s]"
     ]
    },
    {
     "name": "stdout",
     "output_type": "stream",
     "text": [
      "Prompt is too long >512 (Max Length), prompt: John Travolta reprises his role as Chili Palmer, Hollywood gangster, who now turns his eye to the music business. Using his \"negotiation skills,\" he tries to run an independent record label with the wife of a murdered friend, played by Uma Thurman, and try to get his young singer (Christina Milian) a hit record.<br /><br />Before I saw this sequel, I had heard that it was a terrible film. However, Be Cool is still an enjoyable comedy even if it's not as good as the original. The movie focuses on the music industry this time around instead of the movie industry. The music business is portrayed very poorly in the movie and they use a bunch of lame stereotypes. I can't tell if this was the intention or not since Get Shorty did a nice job of spoofing the movie industry. The same can't be said for the sequel and the attempts just come as lazy.<br /><br />An impressive cast is what saves the movie from sinking. The best performance is given by The Rock and it's nice to see him in a different type of role. Vince Vaughn also gives a funny performance though he started to get annoying before the end. Surprisingly, Uma Thurman gives an average performance and I was expecting more from her. John Travolta returns as Chili and he does an okay job. His performance is kind of dull though. Christina Milian gives a horrible performance and she's also not that good of a singer. Cedric the Entertainer gives a good performance though he isn't in the film for very long. There are also a bunch of cameos including Steven Tyler and James Wood.<br /><br />F. Gary Gray directs and he does a poor job. He just doesn't handle the film very well and the movie is kind of a mess. There was also a ton of product placement and it got annoying after awhile. Also at 118 minutes, the film is too long and there are a lot of slow spots. The film needed to be edited badly and it clearly wasn't. Fortunately for the film, the actors are able to rise above the weak direction and script and they deliver some funny scenes. Sometimes, the film tried too hard while other times it was actually pretty funny. Compared to the original, the sequel doesn't measure up well. However, Be Cool is a fairly harmless and forgettable comedy. In the end, Be Cool is worth a rental and that's it. Rating 6/10\n",
      "Sentiment:\n"
     ]
    },
    {
     "name": "stderr",
     "output_type": "stream",
     "text": [
      "829it [05:50,  2.69it/s]"
     ]
    },
    {
     "name": "stdout",
     "output_type": "stream",
     "text": [
      "Prompt is too long >512 (Max Length), prompt: *** Spoiler in fifth paragraph *** This was an amazingly frank (uh-huh, uh-huh) picture for 1955. Otto Preminger and Carlyle Productions took a chance by making it, the Motion Picture Association of America balked at certifying a film that openly shows a junky jabbing a syringe full of heroin into his arm. Frank Sinatra took a chance both on playing an addicted musician and at falling flat on his face in a role that required at least twice as much acting as he'd ever done. All in all these gambles paid off, the movie is a classic, though it's not perfect.<br /><br />Nelson Algren's novel may be great, but it has far too much going on to fit comfortably into a two hour movie 'The Man with the Golden Arm' is 119 minutes and often feels much longer. However, in my opinion it's not just Frankie Machine (Sinatra) that makes the film but the other characters and their sub-plots, all involving Frankie. Ultimately it's not just Frankie who has the addiction, everyone and everything seems to be dependent on him and he feels it keenly. When the pressure gets to be too much the drums start pounding on the soundtrack and Frankie steps across the street with his well-dressed \"friend\" Louie.<br /><br />It's an exaggeration to say that Frank Sinatra's music career was ever really in the doldrums, but in the early 50's he was in limbo between his days touring with big bands and the Las Vegas era. 'From Here to Eternity' established him as a serious actor and his career as a singer rebounded as well, but 'The Man with the Golden Arm' was still a significant challenge, the whole show sinks or swims with his performance. He pulls it off with such skill that for several minutes at a time I forgot I was watching Frank Sinatra, he must have known junky musicians and exploited that knowledge to the utmost.<br /><br />Set side by side with Billy Wilder's masterpiece 'The Lost Weekend' there is more emphasis on the sociological causes of addiction in 'The Man with the Golden Arm.' Whereas Don Birnem (Ray Milland in 'The Lost Weekend') seems to struggle mostly against himself, Frankie Machine is beset by external forces and he takes refuge in the needle. Neither approach is wholly right or wrong, mostly because addiction is impossible to fully explain, but it seems like this film might have benefited from a little more insight into Frankie's internal struggle.<br /><br />*** Spoiler *** One of the problems I have with this film is the clichéd reliance on \"quitting cold turkey.\" I realize that 'The Man with the Golden Arm' was probably setting the trend rather than following it but that doesn't make it any better. In the beginning of the movie Frankie has to all appearances kicked his habit with the help of a doctor and a treatment facility of some sort. Naturally the drama of the film requires that he backslide, but I found the All-American ideal that a man has to face his problems alone (or maybe with the help of a good woman) out of place here. Going cold turkey and riding off into the sunset with Kim Novak seemed too unrealistic. The end of 'The Lost Weekend' was similar but in my opinion was a little less rosy.\n",
      "Sentiment:\n"
     ]
    },
    {
     "name": "stderr",
     "output_type": "stream",
     "text": [
      "832it [05:51,  3.22it/s]"
     ]
    },
    {
     "name": "stdout",
     "output_type": "stream",
     "text": [
      "Prompt is too long >512 (Max Length), prompt: The best thing I can say about \"Quintet\" is that it's not quite as bad as I remembered it being on my first viewing.<br /><br />But that doesn't mean it's good.<br /><br />This weird, sci-fi thriller is not quite like any other movie I've ever seen, which I guess at least gives it the stamp of novelty. But it's a borderline disaster of a movie, and one of the worst Robert Altman ever made. On the DVD special feature about the making of \"Quintet,\" it's clear that even Altman didn't know what the hell the movie was supposed to be.<br /><br />It's set in some distant future when the world is in the grip of another ice age. The film was shot at the abandoned site of the Montreal Expo '67, and I do have to admit that this gives the movie some interesting production design elements, even if much of it looks like it's being filmed in an iced-over shopping mall. Paul Newman, looking zonked out and absolutely disinterested in anything going on around him, and Brigitte Fossey, play drifters who wander into this futuristic city looking for Newman's brother. Soon Newman is caught up in a deadly game of \"Quintet,\" which all of the bored inhabitants play for lack of anything better to do, and the rules of which are never made clear to the audience. All we know is that the object of the game it to kill everyone else you're playing with and remain the only person alive. This gives these nihilistic inhabitants their only thrill, because as one of them says at one point in a psychobabblish soliloquy, only by being near to death can one appreciate being alive.<br /><br />The movie is slow, ugly and actually uncomfortable to watch due to its unrelenting gloominess. It's almost as if Altman was purposely setting out to make a movie no one would want to sit through. There aren't characters -- oh sure, actors walk around speaking lines, but none of the lines really means much and the impressive list of international actors Altman assembled for this register not a whit. Only Bibi Andersson gives the closest thing to a memorable performance as could possibly be found in a movie like this. But nevertheless, it does succeed in establishing an atmosphere, even if that atmosphere is one of pure awfulness, and it is oddly fascinating in the way that watching a man slowly starve himself to death would be fascinating.<br /><br />Altman really hit a dry spell after nearly a decade of superb films. \"Quintet\" followed close on the heels of the atrocious \"A Wedding\" and was followed in short order by the not bad but mostly forgettable \"A Perfect Couple,\" the by-all-accounts terrible \"Health\" (which I've never seen because it's not available anywhere TO see) and the disastrous \"Popeye.\" Thank God he rebounded.<br /><br />Grade: D-\n",
      "Sentiment:\n"
     ]
    },
    {
     "name": "stderr",
     "output_type": "stream",
     "text": [
      "834it [05:51,  3.78it/s]"
     ]
    },
    {
     "name": "stdout",
     "output_type": "stream",
     "text": [
      "Prompt is too long >512 (Max Length), prompt: When I typed Savage Intruder into the IMDb's search engine one of the options it came up with was Savage Garden: International Video Collection: The Story so Far (1999), the only reason I mention this is because I'm a huge Savage Garden fan & you should do yourself a favour & check some of their music out like Affirmation or To the Moon and Back rather than bother with this average pot-boiler, sorry I just wanted to say that. Anyway, Savage Intruder starts with a bizarre montage of what looks like MGM musical & premiere footage & a few spinning portraits which have no meaning whatsoever in the long run. It's late 60's Hollywood & amid the glitz & glamour a serial killer is at work selecting ageing actresses, killing them & dismembering their bodies. A young man named Vic Valance (David Garfield as John David Garfield) hops off a tour bus looking for employment when it stops at the house of a now retired actress, Katharine Parker (Miriam Hopkins) who was 'one of the biggest stars of the motion picture' but now lives in a big house with an elderly housekeeper named Mildred (Florence Lake), a personal secretary Leslie Blair (Gale Sondergaard) & a young maid named Geta (Virginia Wing). Katharine has recently broken her foot & needs a personal assistant & gives Vic the job. Slowly Vic charms his way into Katharine's affections & more importantly her large wallet. Vic starts to turn Katharine against the other employees, but Vic isn't what he seems. Vic is a drug addicted loon who gets Greta pregnant while still having sex with Katharine. Greta threatens to tell Katharine & spoil Vic's devious plans but she has a close encounter with an axe, no one in the house is safe as Vic brings drugs, sex, rock 'n' roll party's & gardening to the Parker mansion while his sinister plan starts to become more & more apparent...<br /><br />Written, produced & directed by Donald Wolfe I thought Savage Intruder was a bit of a mess but a mildly entertaining one at the same time. The script is all over the place & it can't really decide what it wants to be, Savage Intruder suffers from an identity crisis! The film starts with the discovery of a severed head & limbs, straight after another woman (Dorothy Kingston) is killed by a mysterious unidentified figure but then it completely ditches the slasher film elements that it has just built up never going back to them. Savage Intruder then becomes a sort of feel good film as Vic befriends Katharine & shows her how to enjoy life again & having an implied sexual relationship with her, it's actually disgusting to think about as she's old enough to be his Grandmother. Katharine stops living the life of a recluse & gives up the alcohol as Vic appears to make her happy as they go to party's together & hold banquets for Katharine's friend like she used too. This part of Savage Intruder wouldn't look out of place in a Disney film! Every so often the tedium of the feel good stuff is interrupted by Vic shooting up & having silly hallucinations about his Mother (Sybelle Guardino) & chopping her hand off with an axe, he has sex with Great at one point as well. Then, after Greta has been murdered, Savage Intruder becomes a bizarre horror film as Vic is revealed for the loony that he is. Savage Intruder just doesn't flow properly as a film in my opinion as it mixes various genres with little success. Similarly the murder mystery elements don't work & are frankly a bit of a puzzle, why go to great lengths to conceal the killers identity during the murder scenes but then make it perfectly clear who is committing them throughout the rest of the film anyway? Vic as a character didn't work for me either, one moment he's a cool, calm, clever & devious con man & then next he's a stark raving loony! Why kill all his other victims but with Katharine try to con her? What makes her so different? If it is because she has money why not go after her to start with? So many questions & so few answers... Some of the 60's dialogue is pretty funny to listen to these days like when Vic offers Greta a painkiller, in reality hard drugs, & Greta says \"what do I need a painkiller for?\", Vic helpfully replies \"because your a pain\" wow this guy knows how to charm the ladies! Or when Katharine suggests that Vic do some gardening & ask's \"do you have green fingers?\" he replies \"no, but I'm good at grass!\" There isn't much gore in Savage Intruder, some severed limbs & a couple of decapitated heads. There is also a fairly impressive shot when someone has their hand cut off with an axe which is probably why it's repeated three or four times. The silly looking drug hallucination scenes need to be seen to be believed. Technically Savage Intruder is OK, the location filming in the grandiose mansion & Hollywood hills probably give it a better look than it deserves, the acting is average as is the rest of the production. Overall I'd say Savage Intruder feels like it tries to be a murder mystery that unfortunately gives the killer away & as a result just doesn't work. It's a mildly entertaining one-time-watch at best & a complete mess of a film at worse, you decide which!\n",
      "Sentiment:\n"
     ]
    },
    {
     "name": "stderr",
     "output_type": "stream",
     "text": [
      "841it [05:53,  2.89it/s]"
     ]
    },
    {
     "name": "stdout",
     "output_type": "stream",
     "text": [
      "Prompt is too long >512 (Max Length), prompt: Oh Mr. Carell! How far you've fallen! After a glowing moment in LITTLE MISS SUNSHINE, Steve Carell's choice of films is beginning to contrast starkly with what has come since. Although THE 40 YEAR OLD VIRGIN was entertaining, it was dwarfed by his \"Sunshine\" character. Hoping to find something that'd get me to spew popcorn from my nose, I decided to rent EVAN ALMIGHTY and see what possible guffaws might await me here. Not much...<br /><br />Given the trite and clichéd script, the entire film felt forced and unemotional. Poking a bit of fun at flagging family values and the current U.S. administration's take on the environment, Evan Almighty also tries to put a profound biblical moment into humorous terms but fails miserably.<br /><br />Nearly every person on Earth knows the story of Noah and The Ark. God's wrath was sent down with 30 days and nights of rain which flooded the entire planet while Noah, his family, and two of each of His creatures on Earth rode out the wetness in relative comfort via the gopher wood ark. It was a huge moment in human history (if you believe the biblical text).<br /><br />So why would God appear to one man and ask him to build an ark that would only carry the world's animals for a few minutes after a dam break? The simple answer is that He never would. Too much emphasis was given to U.S. government policy and not enough on world events, making Evan Almighty a terribly myopic and Ameri-centric film. Although designed as a comedy, it really never reaches anything approaching belly laughs. Maybe a few grunts and a smile, but little else.<br /><br />John Goodman (CARS) pulls in another forced performance as the despicable Congressman Chuck Long who's only goals are to create development opportunities on protected national land holdings. Even the strong presence of Morgan Freeman (10 ITEMS OF LESS) as God can't help mop up this soaking wet disaster-of-a-film.<br /><br />The only funny moments are between Carell and the animals, especially as Evan learns what animal magnetism is REALLY like. Birds literally flock to him. Sheep herd around him. Lions take pride in being near him (please forgive the puns).<br /><br />The special effects were fun to watch but were brief (with good reason). The \"flood\" was interesting in that the Ark was obviously guided by His hand and shoved in just the right direction.<br /><br />But other than that you're in for little more than an insult to common sense and intellect.\n",
      "Sentiment:\n"
     ]
    },
    {
     "name": "stderr",
     "output_type": "stream",
     "text": [
      "845it [05:54,  3.09it/s]"
     ]
    },
    {
     "name": "stdout",
     "output_type": "stream",
     "text": [
      "Prompt is too long >512 (Max Length), prompt: This film is bone chilling in a way that is hard to describe. While it is fairly accurate in its description of the events leading up to and the subsequent investigation regarding the first attempt to destroy the World Trade Center in 1993, seen now post 9/11, it is almost unbearable.<br /><br />It would be a mistake to call this film prophetic, but it certainly makes the common playground wisdom of \"fool me once shame on you, fool me twice shame on me\" come alive.<br /><br />Our government learned nothing from the 1993 attempt on the World Trade Center and subsequent readings of the 9/11 Report show that many of the mistakes that led to the bombing in 1993 were repeated.<br /><br />Some people have criticized the First and Fourth Amendments of the US Constitution as being partly responsible for the Islamic terrorists being able to carry out their evil plans, but that is wrong headed in every possible way.<br /><br />Surely the people making this argument are not supporting a ban on Free Speech, a free press or freedom of religion? I certainly hope they are not supporting our government officials being able to break into any person's home or office to search without cause or without a warrant.<br /><br />The fact is, the FBI, the INS and even the local police could have gotten warrants based on the information they had in their possession, but they chose not to for a variety of reasons. Besides, no matter how distasteful or ignorant it is, it is not illegal to speak badly about America or its leaders. Likewise, it is not illegal to either own guns or to pray toward Mecca.<br /><br />Consider this, until Lee Harvey Oswald actually fired his rifle at President John Kennedy, he wasn't really breaking any laws. Living in a free society has its drawbacks.<br /><br />Still, Path To Paradise is a must see film that I am afraid will never be seen by that many people. As far as I know, it is not on DVD and 2007 is its tenth anniversary and there are no known revivals of it.<br /><br />I'm not really surprised, people don't like to document their failures and this film certainly shows that the various agencies that were supposed to protect us did not do their jobs right and for the pettiest of reasons, like jurisdictional squabbles and a refusal to share information.<br /><br />This is a shame as Path To Paradise is well done and gripping and as many have stated before, the final scene where Ramzi Yousef (played by Art Malik), the bomber who built the truck bomb that was used in the first attempt at destroying the two towers is flying past the World Trade Center after his capture and extradition simply says \"Next time we will bring them both down\", is a film moment that froze me in place for several minutes.\n",
      "Sentiment:\n"
     ]
    },
    {
     "name": "stderr",
     "output_type": "stream",
     "text": [
      "851it [05:56,  2.94it/s]"
     ]
    },
    {
     "name": "stdout",
     "output_type": "stream",
     "text": [
      "Prompt is too long >512 (Max Length), prompt: From the opening scenes of FIERCE PEOPLE (an interplay of tribal customs as photographed by the anthropologist father of the young narrator Finn Earl, demonstrating why this South American tribe of Ishkanani is so fierce) the direction of the film is nebulous: are we watching a dark comedy about comparing life in the New York streets to uncivilized peoples, or is this a message film of a more serious intent? But as the story develops this fine line between entertainment and philosophical impact becomes increasingly clear. Griffin Dunne's direction of Dirk Wittenborn's adaptation of his novel may be a bit careless at times as it strays from rational plot development, but in the end there is a strong enough final impact to patch up the holes he created.<br /><br />Our narrator Finn Earl (Anton Yelchin) lives with his coke-addicted masseuse/sexually obsessed mother Liz (Diane Lane) in New York, waiting for the summer when he is to join his anthropologist father on a field trip to South America (a father he knows only from letters and videos), when a drug bust abruptly changes their lives: one of Liz's wealthy clients Ogden Osborne (Donald Sutherland) rescues the down and out family and moves them to his ten acre estate, the epitome of wealth and power. In exchange for being Osborne's private masseuse, Liz and Finn can live in the mansion with the 'filthy rich' Osbornes - daughter Mrs. Langley (Elizabeth Perkins) and grandchildren Bryce (Chris Evans) and Maya (Kristen Stewart). Osborne and his physician lead Liz on the drying out path and Finn bonds with Osborne and his grandchildren, and despite the disparity in poor versus wealthy, the living situation works - for a while. Incidents occur to alter feelings and Finn is attacked and raped by a masked assailant, a turning point for the film and Finn's view of the Osborne family. Osborne reveals his past to Finn and together they manage to discover the truth about Finn's troubling incident - and also about the fierce disease of the wealthy class.<br /><br />The film uses many clips of tribal activity during the film, drawing some disturbing parallels for some of the more challenging scenes. For this viewer that works well, but when the director elects to place tribal individuals in full regalia within the context of the Osborne estate, the concept feel contrived, as though the audience has to be forced to 'get it'. The various subplots between maid Jilly (Paz de la Huerta) and Finn and the introduction of an obese retarded chalk artist Whitney (Branden Williams) push the credibility edge of emphasizing the line between the wealthy and the 'lower class', but the performances by Sutherland, Lane, and Yelchin are strong enough to make us forgive the film's lapses. Not a great film but one with a lot of worthy ideas splashed around on the screen of a project that often feels lost in its struggle for direction. Grady Harp\n",
      "Sentiment:\n"
     ]
    },
    {
     "name": "stderr",
     "output_type": "stream",
     "text": [
      "858it [05:59,  2.77it/s]"
     ]
    },
    {
     "name": "stdout",
     "output_type": "stream",
     "text": [
      "Prompt is too long >512 (Max Length), prompt: THE OTHER is a supposed \"horror\" movie made during the 1970s. It is not to be confused with the similarly titled THE OTHERS, which starred Nicole Kidman.<br /><br />The plot is as follows - a woman with strange supernatural powers teaches her twin grandsons something referred to simply as \"the game\". One of these twin boys - Niles - is supposed to be \"good\". The other one - Holland - is supposed to be evil.<br /><br />The idea sounds interesting enough as an abstract concept and the movie was adapted from a novel. I can only hope the novel was interesting as the movie was incredibly boring from beginning to end.<br /><br />The execution of this movie is very much like a TV movie of the kind UK residents might see on Channel 5. In fact, this movie looks like it was made to be the daytime afternoon movie for this TV channel. A slight trimming to one or two scenes and this would be a U-rated movie of the kind Disney produce. But even the youngest of children are more likely to be bored than scared by THE OTHER.<br /><br />You don't need to check out the director's CV to realise horror is not his forte.<br /><br />Mr. Mulligan relies heavily upon the characters to drive the story. This is obvious from the get-go. I haven't seen any of his other movies but TO KILL A MOCKINGBIRD is a highly regarded crime movie on this site. Unfortunately in THE OTHER, the characters are given too little to do and the plodding script ensures the movie never really takes off in the way one might expect.<br /><br />The direction is as bland as you could possibly find. Almost every single scene takes place in the daytime! Think about this - a scene shot in the open landscape in rural America during daytime with the camera focusing on vast area. Does it sound scary or atmospheric? Believe me, it isn't. It comes across as something more akin to an episode of LITTLE HOUSE ON THE PRAIRIE than a horror movie. And yes, both the aforementioned TV series and THE OTHER were shot in California.<br /><br />There is a noticeable absence of danger or malice that makes the whole exercise seem rather pointless.<br /><br />The ending was clearly meant to be highly disturbing and perhaps influenced that of another movie from this time period. I won't reveal which movie but I'll give 2 clues - a young boy was a main character and the movie is well-known. And I'll add that the concept was used to much greater effect in the latter movie.<br /><br />The acting is actually quite good and is the only reason why I have awarded 2 stars. The actors playing the twin boys, along with the actress playing the grandmother, all try hard with the poor material they are given.<br /><br />Diana Muldaur is completely wasted in a thankless role as the mother of the twin boys. Do not be fooled by her high billing on the cast list. She gets very little screen time and her presence just comes across as a ploy to cash-in on her long established TV career in order to help attract TV viewers.<br /><br />I paid careful attention to the blurb on the back of the DVD cover (of the Region 2 version in the UK). Comparisons were made to THE EXORCIST, which I thought was a complete insult to that movie. There is no comparison. THE EXORCIST had everything this movie should contain but does not - suspense, tension, tongue-in-cheek humour, highly disturbing content, great acting, superb characterisation and viewer involvement. Ironically, THE EXORCIST was made only a year later but in terms of style and execution seems like decades ahead of the bland drama known as THE OTHER. THE OTHER comes across as a work that would have seemed tame in the 1950s let alone the 1970s!<br /><br />The 1970s was a great era for horror movies with classics such as THE EXORCIST, THE OMEN, THE Texas CHAINSAW MASSACRE, THE LEGEND OF HELL HOUSE, SALEM'S LOT to name just a few being produced. For this reason, THE OTHER proves an even greater disappointment.<br /><br />If anyone finds the synopsis of THE OTHER interesting, they might want to read the book or do a little more research on what the book was about. I would advice everyone to skip the movie.\n",
      "Sentiment:\n"
     ]
    },
    {
     "name": "stderr",
     "output_type": "stream",
     "text": [
      "860it [05:59,  3.49it/s]"
     ]
    },
    {
     "name": "stdout",
     "output_type": "stream",
     "text": [
      "Prompt is too long >512 (Max Length), prompt: \"Nuts in May\" may be one of the worst films i have ever seen. If Ed Wood was still alive this would be the type of movie he would be doing.To say this movie is bad would be the understatement of the century. But how bad is it really? Well, here are two levels of bad i go by; \"it's so bad it's good\" or \"it's so bad it's GOD AWFUL\". This film falls into the latter section. What little unintentional humor it has does not make up for the slow, hard to understand, boring majority of the film.<br /><br />SUMMARY: SPOILERS**<br /><br />Two middle-aged Anglos take a trip to the countryside for some R&R and camping, there they met Ray soon-to-be Jim (I'll explain later), who's tent is next to our main couple. Throughout most of the movie the two leads go sight seeing on the beach, at a rock quarry and other exciting locations. In between these adventures they talk endlessly about the environment, vegetarianism,fossil collecting, the duty of a proper citizen and proper diet, all thing i want to see in a comedy. They bore anyone who will listen to them. The dialogue is not only bad, but the pacing in some scenes is so slow i sometimes felt like dosing off. Scenes would go on forever and just when it begins to build up and something is about to happen the scene ends. Half way through the movie i thought to myself, \"Nothing is going to happen in this thing, it is truly a movie about nothing\".<br /><br />The characters are annoying and constantly repeat things. At one part i felt the director was playing a cruel joke on his audience. The scene i am referring to is the \"Sing Along\" scene. In it our two boresome Brits play some of there music for us, actually it was the same 4 four lines over and over and over and over. The idea was to get Ray to sing along with them, but Ray knew, as well as us, that they are the worst songwriters known to man. This scene was beyond tedious, by the fifth time the song was played i started to question the existance of a merciful God.<br /><br />Words can not describe the awfulness of this film. The first thing that strikes you is the indecipherable British accents that most of the cast has. Remember the thick Scottish accents in Trainspotting? Times that by 10.<br /><br />Towards the end our tree hugging, incoherent, couple get into a fight with some of Ray's friends that have complete disrespect for the rules of camping. Our hero becomes so incensed that a climatic battle ensues between our hero and the head hellraiser. To settle their dispute the two men engage in a stick fight. That's right a stick fight! Now this is where the unintensional humor starts. I laughed so hard at the ineptitude of it all that i thought, \"This may make up for the other 80 minutes.\" After this histerical battle our hero runs behind some bushes to cry his eyes out and the other man calls Ray over by calling him Jim for some unknown reason.<br /><br />A stick fight, a crying nature loving 40 year old and a character name change 3/4 into the movie, Ed Wood would be proud.<br /><br />Though, i was again forced to endure the last 10 minutes which to sum up ends with a long take of a pig. Why? who the hell knows. At one moment we see a pig grazing and the next the credits start to role over the screen. One of the worst endings to a one of the worst films of all time.\n",
      "Sentiment:\n"
     ]
    },
    {
     "name": "stderr",
     "output_type": "stream",
     "text": [
      "874it [06:04,  2.67it/s]"
     ]
    },
    {
     "name": "stdout",
     "output_type": "stream",
     "text": [
      "Prompt is too long >512 (Max Length), prompt: This proved to be a rare case of a poliziottesco made with British funding; unfortunately, the result is undistinguished (except by its exceeding unpleasantness and borderline-camp approach) despite stars and director. The former is led by a wooden Franco Nero and an ultra-hammy Telly Savalas as a couple of would-be robbers (if anyone is able to believe either actor  who generally exude cool  as a duo of bumbling crooks, he's more gullible than I am!).<br /><br />Their 'job' goes awry (ending in murder and saddled with cases of cutlery instead of jewels!)  however, the mismatched criminals see an opening to their dilemma when they inadvertently 'kidnap' the son of a British diplomat (a miscast Lester, who even gets to kick trigger-happy Savalas where it hurts at one point). Still, they never actually ransom him and their sole intent is to cross the border into France; tagging along with them is Nero's girlfriend (a wasted Ely Galleani): soon enough, though, she's had enough and decides to run away while the others are sleeping; the crazy Savalas notices this and, following the girl, kills her. In the meantime, Nero and Lester have woken up  the former thinks his accomplices may have double-crossed him, so he goes on the lam with the boy in tow; after a brief spell at a rich old lady's country estate (which features totally gratuitous rear nudes by both Nero and Lester!), Savalas catches up with them. They continue their trek, where the trio run into a family of German campers: the situation degenerates to the point where Savalas shuts them inside their trailer and tosses the lot into the river  though he's badly hurt in the process himself; typically, it all ends with the 'heavies' getting killed just as they're about to reach the border.<br /><br />The film, therefore, contains most of the genre's typical elements  sleaze, sadism, violence, chases (the aftermath of the opening robbery when the getaway car causes havoc in the city's narrow back-streets and even disrupts a funeral procession is downright farcical), etc.; one mildly interesting aspect to it is that, by the end, Lester himself is seen to have been definitely (irrevocably?) marked by the experience  coming to feel excitement when an act of violence is committed.\n",
      "Sentiment:\n"
     ]
    },
    {
     "name": "stderr",
     "output_type": "stream",
     "text": [
      "891it [06:10,  2.64it/s]"
     ]
    },
    {
     "name": "stdout",
     "output_type": "stream",
     "text": [
      "Prompt is too long >512 (Max Length), prompt: spoiler--<br /><br />In 1993, African-American director/actor Mario Van Peebles followed up the tremendously popular urban-action film New Jack City with \"Posse\". The film was co-written and directed by Van Peebles, who also stars as the main character, Jessie Lee.<br /><br />Plot: The film begins at the turn of the 20th century, when the United States was embroiled in the Spanish-American war. Apparently a time when the U.S. justice system could send convicts into military service, Jessie Lee finds himself an unwilling enlisted man, serving with an all-black cavalry troop in Cuba. Some of his compatriots include Little J (Stephen Baldwin), fast-talking Weezie (Charles Lane) and the towering-but-simple Obobo (Tiny Lister). They find a hidden chest of gold on a reconnaissance run and decide to keep it. However, the ambitious, bigoted Colonel Graham (Zane) finds out about the gold, and is apparently willing to kill Jessie Lee and company for it. A shootout between the Graham's forces and Jessie Lee's leaves the colonel blind in one eye, and his forces retreat. Jessie Lee's ragtag crew manage to smuggle themselves (and the gold) back to New Orleans, but it turns out that Graham isn't far behind. Jessie Lee and his allies are forced to go on the run, heading west, to a town called Freemanville. Apparently, Freemanville was founded by blacks in the years following the Civil War. Jessie Lee's father, \"King David\", was the charismatic preacher who co-founded the town. However, as is revealed in intermittent flashbacks, King David was soon brutally murdered by a white mob, in a parallel of the Ku Klux Klan terror campaigns that began around the same time. Jessie Lee and company eventually find their way to Freemanville, only to find that the townsfolk aren't exactly glad to see himespecially when Sheriff Bates (Richard Jordan) of a nearby white township makes it clear that he wants Jessie Lee and his partnersdead or alive. Carver (Blair Underwood) is the sheriff and de facto mayor of Freemanvilleand his own agenda may not square with having Jessie Lee around.<br /><br />Analysis The action sequences are all very credible, and Mario Van Peebles turns in a good performance as the brooding hero. In the aftermath of the success of New Jack City, it was almost expected Van Peebles would helm a sequel, or at least a similar urban-action follow-up. Instead, Van Peebles looked 100 years into the past, creating a mostly-black Western (effectively 'updating' the black-themed Westerns of the 1970's), and continuing the legacy of largely-forgotten black-themed cowboy films from the early 20th century. Unlike New Jack City, the film was independently financed, and originally released through Gramercy/Polygram Entertainment. Allegedly, execs at the major studios balked when Van Peebles pitched 'Posse' to them. Some of the more \"curious\" casting at the time involved rappers Big Daddy Kane and Tone Loc as Father Time and Angel, respectively. In certain interviews, Mario Van Peebles has said that he often likes to cast against type; in the years since, the trend of casting rap singers in non-musical films would become almost commonplace. Keen viewers will notice several cameos by various entertainment personalities: Black-action film veterans like Isaac Hayes (\"Truck Turner\"), Pam Grier (\"Foxy Brown\") and Larry Cook (\"The Spook who Sat by the Door\") show up, as does stand-up legend Nipsey Russell, not to mention TV producer Stephen J. Cannell (who hired the junior Van Peebles to star in \"Sonny Spoon\" years earlier). The film is bookended with Woody Strode (\"Spartacus\") in a key role.\n",
      "Sentiment:\n"
     ]
    },
    {
     "name": "stderr",
     "output_type": "stream",
     "text": [
      "893it [06:11,  3.42it/s]"
     ]
    },
    {
     "name": "stdout",
     "output_type": "stream",
     "text": [
      "Prompt is too long >512 (Max Length), prompt: There's something going on in this film directed by X-Files scribe John Shiban that has eluded me. You get that feeling as the film moves that everything is not what it seems, yet I feel the movie fails at giving you enough to go on to truly care afterward. It's about perception. There are characters the heroine Nicole(Jaimie Alexander)meets in the film that she talks to that up and vanish. This might seem like a spoiler, but it's something that really only inherits a wee bit of focus on the filmmakers' part. They seem to be poking fun at us as we watch curious at whether we should trust what Nicole is seeing or not. It never gets a proper answer and I for one was a bit clueless at the point. There comes a time in a film when ambiguity can just be frustrating because the viewer is led on a wild goose chase that ends at a dead end with little explanation at what we just saw..it ultimately feels like an exhausting exercise instead of a thrilling psycho-drama. Now there's nothing wrong with ambiguity itself, but give us something to latch onto or you will evade us. That's how I felt as I watched \"Rest Stop.\" This film is supposedly about a young woman named Nicole who decides to run off to California with lover Jesse(Joey Mendicino)to make it big in Hollywood. They make what is supposed to be a slight detour at a rest stop so that Nicole can pee, but it descends into terror for her when she finds that her Jesse is completely missing. Someone in a crusty, dusty yellow truck is a nut job who seems to be causing a lot of trouble to Nicole and we soon realize that he is behind Jesse's disappearance when things start to occur, signs provided to her if you will, she will have to find a way out of a very difficult situation. Nicole is far from any existing town and with limited resources to defend herself against a maniac who provides her with some strong evidence of how evil he can be.<br /><br />That's the easy part. When a female character comes into play, the film makes a really bizarre leap from logic as we are not sure where she ever came from, how she got there, and more importantly where she goes once Nicole tries to break her free from her supposed prison in the restroom's utilities' cabinet. She meets another, a Police officer in the area(Joey Lawrence), who might seem like her savior, but when he too is a victim of the truck driver startling things occur again that questions if he was ever actually even there to begin with. The truck driver commits torturous acts to Nicole(like holing her up in the restroom and as she tries to untie a wire that the killer has wrapped around the door lock, she receives a nasty bite from him). He then sets fire to the restroom leaving her without a lasting place of refuge from the beast.<br /><br />It's the timing of the truck driver's attacks that has me listless. Perhaps he just likes tormenting her, but he appropriately appears in certain situations where Nicole has time to flee or prepare. It doesn't make much sense, his motives, which propel the film into an illogical idea. Why does he make himself so obvious? Why does he allow her to prepare? It seems, I'm going out on a limb here, that he likes having his quarry believe they can find a way of escape only to stomp that hope out when he comes up with his next grisly attack. Yet, why does Shiban decide to play with the viewer by having Nicole experience odd meetings with people that don't exist? What is Shiban and the writing team trying to say? And, to cap off the film's unhinged weirdness is a family in a RV. They play a small part in the scheme of things as religious bigots themselves, but the film doesn't do enough for the viewer to explain why they should be in this film at all.\n",
      "Sentiment:\n"
     ]
    },
    {
     "name": "stderr",
     "output_type": "stream",
     "text": [
      "896it [06:11,  3.57it/s]"
     ]
    },
    {
     "name": "stdout",
     "output_type": "stream",
     "text": [
      "Prompt is too long >512 (Max Length), prompt: THE GREATEST GAME EVER PLAYED (TGGEP, 2005) is an amazingly uplifting, infectious underdog film that never (really) devolves into sappiness or heavyhandedness. Yes, it takes several liberties, as most Hollywood films do, but those liberties are forgiven as they actually add to the film's enjoyment, not detract from it. In fact, there are a lot of truthful moments in it. You can really tell that it's a \"Rocky\" type film from the film's outset, but who cares? Directed by none other than Bill Paxton (I know, right?!), it's expertly done and immensely watchable! <br /><br />TGGEP tells the story of Francis Ouimet (played with confidence, cockiness, and class by superstar-to-be Shia LaBeouf), an amateur golfer from a working class Irish-French immigrant family living in Brookline, MA, in the early 1900s. Ouimet qualifies to play in the 1913 U.S. Open. Included amongst his competition is the legendary Harry Vardon (played with immense class, dignity, and ferocity by Stephen Dillane). Ironically, Vardon is the 2nd underdog in this flick! The film starts in 1870s Scotland where land developers tell the youngster that they are building a golf course on his home and that golf is a game not for the likes of someone like him. Francis undergoes some of the same prejudice as a boy in early 1900s Brookline. The stories converge at the 1913 Open.<br /><br />What's ironic is that even as an adult and multiple major champion, Vardon is still an outcast in British society due to his upbringing. Francis learned much about golf from reading Vardon's books on the subject and Vardon is his idol all growing up. Unbeknownst to Vardon, they actually met back in 1900 in Boston after Vardon, who won that year's Open, was touring when Francis was only 7.<br /><br />In addition to Francis and Vardon, entrants in the 1913 Open include Vardon's friend and champion Brit Ted Ray (boisterous Stephen Marcus) and classless, chest-thumping two-time defending champion John McDermott (Michael Weaver). The film really does a good job of showing the different personalities of these men.<br /><br />Redheaded Marnie McPhail is ingratiatingly serene and stunning as Francis' supportive Irish mum and veteran Elias Koteas gives a stern, reserved, taciturn performance as his French dad. Addtionally, plucky young Josh Flitter (as Francis' pint-sized 10-year old caddy Eddie) almost single handedly steals the proceedings.<br /><br />Paxton throws in a lot of modern details, such as special effects zooming-in shots to show the scoreboard positioning of the players and CGI for a lot of the golf shots to keep the film exciting and at a brisk pace so as not to make the film too much of a period piece. But the film still convinces us of a specific time and place.<br /><br />What's interesting is that, while Rocky-like, this is all based on a true story! So the ending is satisfactory on so many levels. An entertaining film about golf set in the early 1900s...Wow!\n",
      "Sentiment:\n",
      "Prompt is too long >512 (Max Length), prompt: This film has gone in and out of fashion more often than the miniskirt. A triumph in the post-war period, it was virtually forgotten by the 1970s except by students of cinema. Recently, it has begun to get recognition as perhaps the most even-handed representation of soldiers' integration into post-war life ever made (and that most definitely includes films such as \"The Deer Hunter.\") I like it, but my overall evaluation is somewhere between those extremes.<br /><br />The tale is a simple one. Three very different servicemen who have mustered out after World War II (The Big One!) fly home to their Midwest town and try to resume, or create, civilian lives. One has a disability, one has a cushy job waiting for him, and the other has nothing to go on but determination.<br /><br />There are some good but unfortunately uneven performances. Fredric March won the Best Actor Oscar for playing an old Sergeant who returns to his job at the local bank. Personally, I think Jimmy Stewart deserved it for \"It's a Wonderful Life,\" which also deserved the Best Picture Award, but clearly this film touched a nerve with the post-war audience. As I said, it was fashionable. March has one fantastic scene, a humorous speech that brought to mind somewhat similar incident involving real WWII hero Pappy Boyington, and otherwise is solid but unspectacular.<br /><br />I am going against the grain here, but I thought that Myrna Loy, who played March's wife, was justly ignored by the Academy. I detected barely a hint of warmth from her. In fact, I kept thinking she was going to slap Frederic March for annoying her. She practically grimaced every time they were together. Something was definitely missing there, in her forced smiles and her air of tolerance rather than joyfulness. I think all this nonsense about her being \"the perfect wife\" is correct only if you think a passionless 1950s homemaker is your ideal. You may disagree with that, but the Academy voters apparently did not. She is a major problem with this film, terribly miscast.<br /><br />Dana Andrews as a former soda jerk who became a war hero, then winds up behind the counter again, is amazing. He is saddled with a wife who evidently married him right before he left for the war for all the wrong reasons, and his future looks bleak. But then he chances upon March's daughter Peggy (Teresa Wright, in a fantastic turn), and fireworks explode. Both are great, but then comes that unevenness again that pervades this film. Some moments of pure soap opera intrude, punctuated by the all-time classic line, \"I'm going to bust that marriage up!\" The romance is uplifting and does mirror a common condition after the war, that of returning servicemen finding love upon their return.<br /><br />Speaking of uplifting, now we come to Harold Russell. He has a naturalistic quality to his acting, or is it non-acting, that rings just as true today as it no doubt did then. Taking a no-nonsense approach to his situation, he is an inspiration. His best scene, one of the best in all cinema, is when he brings the girl who likes him up to his bedroom to show her the truth of his condition. \"I'm lucky, I still have my elbows unlike some of the boys.\" Truly great stuff.<br /><br />The film has some moments that soar. It also has some moments that belong in the afternoon soaps. Take the good with the bad and see this one for the high points.\n",
      "Sentiment:\n"
     ]
    },
    {
     "name": "stderr",
     "output_type": "stream",
     "text": [
      "900it [06:12,  4.21it/s]"
     ]
    },
    {
     "name": "stdout",
     "output_type": "stream",
     "text": [
      "Prompt is too long >512 (Max Length), prompt: This is the movie that, pretty much, sounded the death knell for the auteur in Hollywood. At over 40 million bucks, Heaven's Gate is so poorly conceived and executed it would take a lifetime to break down every area of failure. What really galls me the most about it is that technically it's very bad, an unforgivable sin for the money that went into it. John Hurt's commencement speech at Harvard is inaudible, as is a conversation between Kris Kristofferson and Richard Masur at the train station. Some people seem to think Cimino intended this as a \"style\". He didn't. It's just bad sound recording. The characters are not particularly well-drawn, except for the four or five leads; in the climactic battle scene, it's difficult to tell who's the bad guys and who's the good guys. Even on that level, it's impossible to enjoy the movie. The casting of Isabelle Huppert as the town madam is a joke, her French accent renders the whole character a fraud. The acting is generally stiff, without any range or depth of feeling; even Christopher Walken is bad. John Hurt's character is the only one with any swagger or vitality (although Hurt, in his 40s, playing a fresh-faced Harvard grad with bags under his eyes is patently ridiculous). <br /><br /> I guess to say that it's overlong is overkill. The roller-skating sequence could have been easily cut, the cockfight scene is rapidly becoming a movie cliche, and the final scene on board the ocean liner is right out the Twilight Zone. Having Rod Serling appear before the camera at the end to explain what we just watched would have been the perfect finale. Actually, those scenes in and of themselves are not bad, but Cimino has not earned the right to include them, because what he's given us as the \"meat\" of the picture IS so incompetently bad. The editing is poor, especially in the grand battle climax. At one point, the same explosion with the same wagon wheel flying from the blast is used three different times. I wish could I say something- anything- nice about this movie: a great scene, a great performance, even one memorable line of dialogue, but I can't. It is all just one big unholy mess. About the only thing I did like was the cinematography and the Montana locations, which are stunning. Even Cimino couldn't screw that up. This is a long, boring, bad movie by all standards. And the people who say that it gets bashed only because of the cost overruns are just kidding themselves. 1/2 * out of 4\n",
      "Sentiment:\n"
     ]
    },
    {
     "name": "stderr",
     "output_type": "stream",
     "text": [
      "910it [06:15,  2.76it/s]"
     ]
    },
    {
     "name": "stdout",
     "output_type": "stream",
     "text": [
      "Prompt is too long >512 (Max Length), prompt: Renee Zellweger is a Kansas housewife whose domineering husband is mixed up in drug trafficking. Two professional hit men -- Morgan Freeman and his son, Chris Rock, murder the husband in his dining room. Zellweger, unobserved by the killers, witnesses this and undergoes a dissociative reaction, assuming the personality of a nurse -- the eponymous Betty -- who is a character in her favorite soap opera. Believing herself to be the TV character, Zellweger takes off in her husband's car, which has a load of dope in the trunk, and travels to LA where she hopes to link up with another character in this mindless afternoon drama, \"Dr. David Ravell\", Greg Kinnear. Not realizing she is being pursued by the two hit men, she drives to LA where she manages to link up with Kinnear and is actually written into the show as a nurse named Betty. A handful of men in the know, including the local sheriff, catch on to what's happening and also seek Zellweger in LA. The ending is believable and poignant.<br /><br />If that sounds crazy, it's because it is. And it's the writer's responsibility, John C. Richards. The curious thing is that Richards and the director, Neil Labute, with considerable help from the performers, just about pull it all off. This isn't a plot that has been cast in a familiar mold. Nope. I give it bonus points for sheer originality. Somebody went out on a limb. Somebody took a chance on a movie that was NOT a copy or remake of something that had made money ten years or fifty years ago. I imagine the people involved, down on their knees every night, praying fervently. I don't know if the film was remunerative but it's mostly successful on its own aesthetic terms.<br /><br />It's what might be called an \"initial premise\" movie. You start off with a single transformative event, in this case the murder of Zellweger's husband and her adoption of a genuinely new personality, and follow the resultant logical paths realistically. \"Groundhog Day\" is another, better and more intricately plotted, example. \"Nurse Betty\" has its logical cracks, where the incidents give up their plausibility. Eg., at a party in LA, Zellweger finally runs into Kinnear, the guy who plays her ex-fiancé on TV. She's stunned (because, after all, she thinks she's Betty, who lost her fiancé long ago). She approaches Kinnear and a couple of his colleagues and introduces herself as \"Nurse Betty\", the character. She addresses Kinnear by the name of his TV character, \"David Ravell.\" The group are puzzled at first, then convince themselves that she's an aspiring actress who insists on staying \"in character\" during the conversation -- and afterward, too, after Kinnear has become fascinated by her and the others bored. Kinnear drives her home and even when she kisses him goodnight, she's still in character, leaving Kinnear wide-eyed with astonishment at the relentless way she captures the character of Betty. On the next date, Kinnear returns her love. That development, the relationship between Zellweger and Kinnear at this point, is a crack in the logic, the kind that's absent from \"Groundhog Day.\" By the end of Night One, Kinnear, like any other person, would realize that Zellweger is a few clowns short of a circus.<br /><br />The rest of the film, which includes many digressions, succeeds beyond expectations. The relationship between Morgan Freeman and his insolent, nihilistic son is marvelously spelled out. Morgan is flawless in his exasperation. He manages to fall in love with the image of Zellweger as he unearths clues to her whereabouts and activities, and at the end he can't bring himself to shoot her. She's too sweet to shoot. After her transformation into Betty, she left a note behind in Kansas. \"I want to help all life, whether it be animal, plant, or mineral.\" Who could harm the author of such a preposterous connative statement? His admiration of her comes as an epiphany, as he stands near one of the floodlights at the rim of the Grand Canyon. Zellweger, dressed as Dorothy, or maybe the Good Witch of the East -- well, characters that, like Zellweger, are from Kansas anyway -- appears to Freeman and he embraces her and kisses her tenderly. It's a scene that's at once eerie, romantic, and a little spooky. I once stood at one of those lights and threw some shredded paper into the updraft from the dark canyon and found myself surrounded by a thousand swirling bats who had misperceived the fluttering shreds as moths.<br /><br />Right. Where was I? Okay. I was trying not to run out of space. Zellweger's performance deserves plaudits. Everything she does, every movement, every utterance, is naive and tentative. She really IS a likable character -- and that despite the fact that she's no glamor girl by Hollywood standards. But -- what an actress. Compare her performance as the bumptious 19th-century hick in \"Cold Mountain.\" Just the opposite. But then everyone is up to snuff in this enjoyable film. Allyson Jannings does a fine job in a minor role. Watch her when she tells Greg Kinnear that she's considering killing off his character in the soap opera in a drowning accident. Kinnear is one of those narcissists who wears the kind of ten-thousand dollar thin black leather jackets that were popular at the time. He chuckles and says, \"Oh, one of those castaway deals, right? Okay, how do I get back?\" Jannings doesn't answer. She just smiles at him with those enormous blue eyes and tilts her head mockingly.<br /><br />Not a masterpiece of film-making but a good, original, professional job by everyone concerned.\n",
      "Sentiment:\n"
     ]
    },
    {
     "name": "stderr",
     "output_type": "stream",
     "text": [
      "924it [06:20,  2.66it/s]"
     ]
    },
    {
     "name": "stdout",
     "output_type": "stream",
     "text": [
      "Prompt is too long >512 (Max Length), prompt: ...and my reasons for which are simple- there are so many great films presented and discussed here (most of them by their own directors and stars), so many clips of infamous moments in 70's movie history, and in fact a number of films I have yet to see, that it wouldn't be fair to grade this work. By this logic I shouldn't have given grades to other movie documentaries like Martin Scorsese's Personal Journey through American Movies and My Voyage to Italy. But while those films were on the basis of one man's view of cinema, narrating through most of the way, Richard LaGravanese and (the late) Ted Demmes' A Decade Under the Influence lets the films and the creators speak entirely for themselves. <br /><br />What makes 'Decade' worth at least one watch for film buffs, or just anyone who likes the films of the late 60's-70's in America, are the levels that it goes to, that in the uncut version (three hours, not the theatrical version, which I have no comment on) plenty of ground is covered. Interviews include the likes of Scorsese, Robert Altman, Sidney Lumet, Julie Christie, Jon Voight, Francis Ford Coppola, Paul Schrader, Pam Grier, Bruce Dern, Peter Bogdanovich, Roger Corman, Dennis Hopper, Robert Towne, etc, and there's a constant flow of insight from start to finish. The way the clips and directors/actors pop up, edited together in a flashy and quick style, is also fascinating. <br /><br />The one down comment I have on the documentary is that most of the information presented has been reported on in various books, like Easy Riders, Raging Bulls, and though I haven't seen the movie version of that book yet I'm sure it would have covered many of the films and directors and incidents as here (in fact, the book of that is one of the best I've ever read. HOWEVER, this documentary serves as something special for film buffs and occasional movie goers of the future- they can look at this and learn not only about such well known pictures as Easy Rider, The Last Picture Show, Annie Hall, Coming Home, and lessor knowns like Scarecrow, Panic in Needle Park, The Landlord, Joe, They Shoot Horses Don't They. They can also learn about who influenced them (new waves of Europe and Asia), who they served as influences for, and how the subject matter that created controversy after controversy still serves as intriguing and chancy material for the contemporary crowd. Seek this out!\n",
      "Sentiment:\n"
     ]
    },
    {
     "name": "stderr",
     "output_type": "stream",
     "text": [
      "930it [06:22,  2.80it/s]"
     ]
    },
    {
     "name": "stdout",
     "output_type": "stream",
     "text": [
      "Prompt is too long >512 (Max Length), prompt: The first time I saw this was when I was with a date, and she thought it was an awesome movie. I didn't.<br /><br />The second time I saw this was last night on TV. It still sucks.<br /><br />As a love story this sucks. As having Julia portray a street hooker, this is repulsive. To me she was a librarian with a miniskirt and heels. She had no tough shell to her. She wasn't tortured, anguished, enraged, starving or anything else. Her \"HOOKER\" character was so flawed, like comparing a cubic zircon to a diamond. The two simply don't fit, no matter what they look like.<br /><br />The ONLY cast I felt was worth watching was the 2 bitchy saleswomen, whom were excellently cast. They did such a fine job that I hated them for the few seconds that they were on screen. They had real definition, for the minor roles. OK, so the movie wasn't entirely trash...the two ignorant saleswomen saved the film.<br /><br />Aside from those two women sales people, the rest of the cast...including the big names was just crap. Either everybody was an ass-kisser or had absolutely no reason to fill any dialog in the movie aside from just complimenting Julia Roberts or kissing ass to Richard Gere.<br /><br />This was a movie about how when you walk around in high-heels and a tight skirt in Beverly Hills, people leer at you and guys who work in hotels gawk as if they just had a baseball bat struck to their face.<br /><br />While in reality, the women who are dressed to the nines in Beverly Hills are hookers and prostitutes to a higher degree, but since they aren't wearing the gaudy Madonna looking jewelry or the patent boots, they can look down on the others who do.<br /><br />The hotel cast was sickeningly sad to watch, and anybody who had any real character had less than a minute of screen time.<br /><br />This is an insult to romantic movies, comedies, dramas and even to prostitutes who face wealthy customers on a daily basis with hopes of having their lives work out perfect.<br /><br />The story is about Julia Roberts being PIMPED (yes PIMPED) by a multimillionaire in a business suit and limousine.<br /><br />She is still owned, still told how to act, how to move, what to wear, what to say, where to go and what to do. He is more controlling than a street pimp, but the folks at Disney/buena vista butter it up to make it easier to swallow.<br /><br />Had Richard Gere been a black man with a gold tooth and an AK-47 at his side instead of an attaché case, this movie would be about how a woman has to struggle to get away from the harshness of prostitution. Same story, different characters will make a very different outlook.<br /><br />Oh yeah, change the white man for a black man or Asian or Spanish, have the land business deal be changed to a deal of weapons or narcotics and the entire concept of romantic comedy is thrown away.<br /><br />As far as I'm concerned, Pretty Woman is still trash, dressed with ribbons and bows.<br /><br />I didn't like it 15 years ago, when I didn't understand it and was led by the Hollywood hype. I hate it now that i can see past the pretty decorations that is called \"love\".<br /><br />This movie is NOT a romantic comedy. It's a story on how to control a woman as long as you have the means and income to do so.<br /><br />This is an insult to strong women, weak women and women in general, as well as to my television screen.<br /><br />Do I hate it? Yes. Does it suck? Yes Would I recommend it to you? NO...well maybe if I really hated you.<br /><br />Will this review get posted? We'll see.<br /><br />Anywayz, that's all for now.\n",
      "Sentiment:\n"
     ]
    },
    {
     "name": "stderr",
     "output_type": "stream",
     "text": [
      "933it [06:23,  3.25it/s]"
     ]
    },
    {
     "name": "stdout",
     "output_type": "stream",
     "text": [
      "Prompt is too long >512 (Max Length), prompt: The first time I had heard of Guest House Paridiso was in the, er... \"washroom\" after having just seen Fight Club. In each urinal was deposited a small, round black circle. When the circle came into contact with moisture (to put it delicately), it caused a colour picture to form, with photographs of the two stars and the tag line \"You'll P*** Yourself Laughing\". When you'd finished washing your hands, the circle had dried and faded to black again, waiting to spring it's surprise on the next \"victim\".<br /><br />Okay, maybe the punchline wasn't terribly sophisticated, but you have to admit it was innovative. In fact, I think I can honestly say I've never seen anything like it in my life before, and these days of over a century of cinema and marketing, that's a real feat. What a pity the film that went with it failed to live up to the promise.<br /><br />I hate to pan Guest House Paridiso and I am indebted to Rik Mayall (Richard Twat) and Adrian Edmondson (Eddie Elizabeth Ndingombaba) for many years of laughter through their appealing television series, be it the invention of The Young Ones (1982-1984), the sitting room plays of Bottom (1991-1995), or even solo work, such as Rik in the New Statesman (1988-1993). In fact, this would have made an hilarious 45 minute tv special. Unfortunately, its an 89 minute film.<br /><br />There's definitely some merit to be had, and I laughed continuously throughout the protracted finale, which spoofed the Exorcist and Raiders of the Lost Ark, and involved... well, you'll have to see that bit for yourself. Yet often the pace is leaden, and a sterile atmosphere is throughout. The two stars (Edmondson taking his usual backseat, this time due to the fact that he adequately directs) never really get into first gear, Mayall only sporadically showing the foul-mouthed mania that makes us love him on the small screen. Indeed, the writers' presumption that we are already familiar with the characters leads to them being underdelivered to the audience. The slight hints of depth seen in the series (Richie's effeminate, failed social-climbing for example) are not present here, and instead we are left with parodies of parodies.<br /><br />The Fawlty Towers accusation does pass water, complete with drunken chef and unseen, called-for waiter \"Pasquele\", which uncannily rhymes with Manuel. Some of the ideas, such a hotel next to a nuclear reactor with a childrens' swing hanging over a cliff face, are very, very funny, but ultimately the frenetic pace is stolen, the two constantly looking for a studio audience that isn't there, and all the \"dead laugh\" areas patched up with incidental \"comedy\" music that would have been dated in a Carry On film two decades ago.<br /><br />Paridiso's brand of puerile, sadistic, perverse humour IS funny, and I feel sure it will make you laugh ... just not as often as it should.\n",
      "Sentiment:\n"
     ]
    },
    {
     "name": "stderr",
     "output_type": "stream",
     "text": [
      "943it [06:27,  2.71it/s]"
     ]
    },
    {
     "name": "stdout",
     "output_type": "stream",
     "text": [
      "Prompt is too long >512 (Max Length), prompt: I went to see this movie with my boyfriend last night. I'm 20 years old and this movie was way too much for ME. I couldn't imagine taking a teenager, preteen, or (especially) a child to this movie. It was crude and offensive. I was totally misled by its PG-13 rating and the previews that I had seen for it. I had originally seen previews for it on Nickelodeon, and I thought that it looked pretty cute (maybe I just don't remember the preview correctly) . Plus, Drake Bell (the movie's main character) stars on a Nickelodeon television show that targets preteens and young teenagers. I really didn't think that the movie's content would be as risky as it was. I should have done more research about it before I went. However, I'm hoping that parents will read up on this movie before they take their kids to see it just because it has Drake Bell in it.<br /><br />Seriously, do NOT take your kids or teenagers to see this movie. The rating should have been R. There are tons of sexual references, drug references, and disturbing events throughout the movie. Examples: Drake Bell gets attacked by sexually charged animals, several scenes that involve men grabbing women's breasts, lots of profanity, Drake Bell uses a bong to smoke vanilla frosting (or something like that), people get stabbed, hit, and hurt in the movie, and an elderly lady and her dog get shredded. There are tons of other offensive and disgusting scenes throughout the movie. It was really demeaning to women in general. The movie is by the people that made the Scary Movie series, so that should tell you something right there. Please remember that seeing movies like this can give kids and teenagers all kinds of wrong ideas about sex, drugs, and violence. Most children and teenagers can't decipher between spoofs or comedy and reality.<br /><br />I do have a sense of humor. I also know that the humor that was in this film is typical of its genre. But I find the possibility of children and teenagers going to see this movie HORRIFYING.<br /><br />As for the overall quality of the movie, I didn't think it was that original or funny. It dragged in parts and some of the humor was just forced and painful. The acting wasn't TOO bad, considering how bad the script was. If you're an adult or older teen looking for a funny movie, skip this one or rent it.\n",
      "Sentiment:\n"
     ]
    },
    {
     "name": "stderr",
     "output_type": "stream",
     "text": [
      "952it [06:30,  2.69it/s]"
     ]
    },
    {
     "name": "stdout",
     "output_type": "stream",
     "text": [
      "Prompt is too long >512 (Max Length), prompt: ------ Spoilers----- Spoilers----- Spoilers--------just a few small ones <br /><br />Saw this on Satilite channel, missed the first 30 min of movie, will keep this comment short and informative.<br /><br />The movie is basically about 5 characters,The acting is very bad for afew characters. 1 girl with the help of another girl kidnaps 3 different people but it backfires and the 3 kidnap the 2. This is one of those types of movies where the script writers try to be thought provoking or philosophical, mysterious and ... you get the point; but do to their own, personal, lack in thinking they fall terribly short. Like one of the captives who is supposed to be some type of psychology nerd - looks the part but his tongue can't speak it. THe writers think that if the nerd uses a lot of 8 letter words amateurishly - unknowingly i believe - that the viewers will be ignorant enough to believe it. I wish i could give an example but i cant recall any - exactly as it was said. The ending was bad as well. But the one female captive acted her role as an old and relatively wise lady, although she, as well as the rest, had a lot of cliché s.<br /><br />So Why would i give this movie a 7 stars if I thought all the above? Simple, I give the entire seven stars to LISA KELLER - one sexy a$$ momma. SHE is FINE lol. I am an appreciator of beauty, and she is exactly that. But don't get me confused because I'm not a pervert and this movie is NOT a porno in any way. their is somethin about her I cant explain, but i like it. I remember the scene where a captive has broke free and as he looks for a way out, bumps into Keller. She tries to get way but she doesn't have a chance. He throws her down, kneeling on the stairs and he pulls her pants down, no panties ;). Now, although she has an AMAZING ass - and the this shot leaves little to the imagination for a long 30 seconds i think - it was her facial expression that got me. she wanted it, and that look had me thinking i was behind that. I would have torn that booty up! After that expression, i jus couldn't look at her objectively anymore, I WAS IN LOVE. lol. I am glad to have seen this movie but if Lisa Keller wasn't playing the lead role, I would have changed the channel.. well... after i had seen the scene i mentioned above. I am a LISA KELLER fan know, but is seems that she isn't a consistent actor, seeing this 2003 movie is her latest. But i am lookin forward to another movie with her in it.\n",
      "Sentiment:\n",
      "Prompt is too long >512 (Max Length), prompt: Alright, the first time I seen \"Talk Radio\" was in a video store for only $2.00 on VHS believe it or not, and I looked at it and I thought it might be about Howard Stern, because I just looked at it for about thirty seconds, then just didn't see it again. Then I went to another store about a month later and I found \"Talk Radio\" on DVD for only $5.00. So I see it was directed by Oliver Stone, and I picked it up. So after the film was over I was speechless. I have never seen such a film like this. Here's the main plot, then i'll tell ya what I thought of it.<br /><br />It is about a Dallas talk radio host Barry Champlain, a Jewish radio host who talks about whatever other people bring up and he interupts, and is taking everything seriously. Now, a network wants to put his show live everywhere in the U.S. So Barry's show gets a lot of interesting phone callers like Chet (a neo-natzi), Kent (a rock n roll drugged kid), John (rapist), and others. Now some of the callers sound like the same actor/actresses. But still I think it fits okay.<br /><br />Now what I love a lot about this film is the dark corners and the paranoid atmosphere of the radio station. The dark music in the background fits very nicely too. It has a flashback scene in the film also how he started with radio, which I think they did good on. <br /><br />But the great thing about the film is ending. I was surprised by it, and it kind of makes you feel paranoid a little about the phone callers off the air and everything about it is wonderful. It also tells you how to say the right things to people over a big city like Dallas. One of Oliver Stone's underrated/weakest films mentioned, but I think it's his best in my opinion.<br /><br />But definitely get this film if you like films with paranoia-feel like films with a dark atmosphere with sinister music in the background. I still watch this film a lot of the times now when i'm bored, as matter fact I watched it tonight. Yeah, if ya wanna really get the sinister feel to the film, watch it at nightime with the lights off. I may sound crazy, but it makes the film better!<br /><br />Another thing I forgot to mention is that the reason I don't think the film did so well was maybe in my point of view because of the title. 'Talk Radio.' It doesn't sound very tricky or anything, it's kind of plain. A better title like the book \"Talked To Death\" or maybe \"The Abusive Radio Host\" or something catchy and not plain \"Talk Radio\". Or maybe because of Universal Pictures? Oliver Stone usually didn't do Universal I don't think. Paramount might have been a good company. I don't know, something about this film didn't do so well, but I love it.<br /><br />\"Sticks and stones can break your bones, but words can cause permanent damage.\"\n",
      "Sentiment:\n"
     ]
    },
    {
     "name": "stderr",
     "output_type": "stream",
     "text": [
      "961it [06:32,  2.85it/s]"
     ]
    },
    {
     "name": "stdout",
     "output_type": "stream",
     "text": [
      "Prompt is too long >512 (Max Length), prompt: HUNT FOR JUSTICE is a Canadian television drama that has made it to DVD and that is reason for gratitude for those who hunger for educational dramas that inform us about facts of current history that somehow get buried in the media. The film is not a Hollywood production, it relies heavily on footage from court files, but it also introduces to many of us the act of heroism of Louise Arbour in bringing about the trial of Yugoslavian President Slobodan Milosevic.<br /><br />Louise Arbour (veteran Canadian actor Wendy Crewson) is a Canadian judge appointed by NATO as the Chief War Crimes Prosecutor at the International Criminal Tribunal in The Hague. The film begins in 1996 when Arbour travels to The Hague to face the political obstacles that are preventing the Tribunal to bringing to justice the war criminals in the war Yugoslavia has been waging in Serbia, Croatia, and Bosnia, a war that has gross evidence of crimes against humanity in the form of genocide, extermination camps, and other heinous abuses. The progress toward bringing the criminals to justice is hampered by generals (including one played by William Hurt) who fear a major World War if precautions against same are infringed upon. Arbour, with the keen help of her translator Pasko Odsak (Stipe Erceg), her staff including Keller (Heino Ferch) and the unexpected assistance from British Capt. John Tanner (John Corbett), forges ahead, focusing the impossible task of bringing all responsible parties to justice on three specific events. Two of the three top suspects are captured but during their trials each meets his end. This leaves only Slobodan Milosevic himself, and Arbour and her colleagues are successful in bringing the war criminal to justice in 1999.<br /><br />There are several touching side plots employed in the telling of this well-documented tale, stories that make the point in history more personal. Some may find the film footage of corpses and prisoners and death camps too strong to watch, but they are necessary to bring home the purpose of the film. Wendy Crewson carries the power to drive the message home - the message that war crimes must never go unpunished. There is much current history to be learned from this film: writers Ian Adams, Riley Adams and M.A. Lovretta have condensed the information and made it dramatic as well. Director Charles Binamé balances the docudrama with the story progress, never forgetting that he has a tale of intrigue to tell as well. HUNT FOR JUSTICE is worth watching! Grady Harp\n",
      "Sentiment:\n"
     ]
    },
    {
     "name": "stderr",
     "output_type": "stream",
     "text": [
      "968it [06:35,  2.80it/s]"
     ]
    },
    {
     "name": "stdout",
     "output_type": "stream",
     "text": [
      "Prompt is too long >512 (Max Length), prompt: I really enjoyed North and South very much. I think it is one of the best and most lavish television series I have ever seen. The calibre of the cast is amazing, you have actors from \"the golden age of cinema\", people like James Stewart, Gene Kelly, Elizabeth Taylor, Robert Mitchum and Jean Simmons with other actors who were the new faces of the 80's like Patrick Swayze, James Read, Jonathan Frakes, Genie Francis, Philip Casnoff and Lesley-Anne Down.<br /><br />At the heart of the story is the friendship of two completely different men,there is Orry Main (Patrick Swayze) who is from the south and George Hazard (James Read) who is from the North. Throughout the series, their friendship is continually threatened with the differences in their backgrounds, particularly about the treatment of slaves in the South (especially at Orry's plantation) but when each needs the other, they will forget the arguments and go and help their friend. I really liked the chemistry between the two men and was really interested to see if their friendship could survive the war.<br /><br />I liked how the series showed what life was like before the war so the audience could see what were the factors that lead up to the war, what was going on at the time, then the devastation of a nation that was being torn apart and then the nation having to rebuild the country again. The war scenes were very well choreographed and very realistic to me.<br /><br />I think what is great about it, is it has so many elements running through it, romance, history, battles that would interest most of the audience, there is something for everyone. I particularly enjoyed the romance between Brett (Genie Francis) and Billy (Parker Stevenson/John Stockwell) especially when she stood up to her sister Ashton for the first time. The other romances were interesting as there were not all the same, each had something different to the others which kept me watching particularly the Madeline and Orry story strand to see if they would be together in the end.<br /><br />It is one of the best American mini series that I have watched, the story had the right balance of romance and the more serious history side that was happening in the country at the time but it is paced just right. The characters are very watchable and the locations are beautiful and the music particularly at the start and end of the episode is so toe-tapping good and works with the mood of the story.\n",
      "Sentiment:\n"
     ]
    },
    {
     "name": "stderr",
     "output_type": "stream",
     "text": [
      "970it [06:35,  3.52it/s]"
     ]
    },
    {
     "name": "stdout",
     "output_type": "stream",
     "text": [
      "Prompt is too long >512 (Max Length), prompt: Why did I have to go out and buy (yes buy!) JACK FROST 2: REVENGE OF THE MUTANT KILLER SNOWMAN??? Maybe it was a burst of temporary mental derangement? But I'm guessing it's because I kind of enjoyed the first JACK FROST. It was a silly but funny horror-comedy which had some okay effects by Screaming Mad George. That and the fact that on the back-cover of the sequel there was this nice picture of this guy impaled by this giant icicle (coming out of his mouth with a lot of blood and all). So I thought: if it's as idiotic as the first and has some nice splatter/gore in it, it should be fun, right? Well, I was so dead wrong! <br /><br />Let me first say that the movie deserves some credit for having an immensely insane and retarded plot. I mean, a mutant killer snowman on a tropical island that spawns mutant killer baby snowballs which can only be killed or harmed by bananas??? As much as I love the premise, I really hated the movie. First of all: while the first JACK FROST looked like an actual movie (seemingly being shot on real film and all), this sequel has the look and feel of a third-rate soap-opera. It has this way too slick shot-on-video look. The lighting is just plain awful (bright white spots for the day look, and stupid colors like blue and green at night). The acting... well don't even go there. The dialogues range from stiff to extremely senile (that Jamaican man was just moronic, saying \"man\" after every sentence). And when it comes to the voice of the killer snowman, all I could think of was a seventh-rate Chucky from CHILD'S PLAY spewing dumb and supposedly witty one-liners before he kills someone.<br /><br />The best joke was were one guy asks \"Why are you talking to your watch?\". And the best scene was undoubtedly the one with that beautiful Asian chick popping up out of nowhere and taking a swim in the pool totally naked (thank god for that!). Oh, yeah, and that little scene over the end-credits with those two Japanese dudes on a miniature ship being badly dubbed had me laughing too. But the worst thing about this movie was: Where was the gore and splatter action everyone is talking about? There were plenty of occasions to show some decent gory killings. A lot of people were killed off in original ways here, but all off-screen. Like I've read in many other comments, there were indeed nice set-ups to a head explosion, a crushed body, eyes being poked out, tongue ripped out,... but on the crucial moments the editor cuts away to some blood splatters on the floor or nothing at all. That frontal shot of that British guy being impaled (from the back-cover of the DVD) wasn't even in the movie. I only saw that particular killing filmed from the back (meaning I didn't see sh!t!). I was waiting throughout the whole movie for that to happen, and then I get to see nothing?!?! What a let-down! Could it be that I saw a cut version of the movie? That would be a shame, 'cause only a decent amount of splatter-fun could have saved this movie if you ask me. Seeing a lot of killer snowballs reduced to bloody pulp just didn't cut it for me. Speaking of those snowballs: they were done very poorly. They made MUNCHIES look like state-of-the-art 'animatronics'. But I guess that was the whole point of it. At some point, the special effects crew even turned to some laughably bad CGI. Boy, you really have to see it to believe it. Best is to not see it, actually, 'cause this flick is just too bad (okay, I did laugh with it, for it kept getting worse and worse). Just stick with the first JACK FROST (1996) and you'll be okay (just bare in mind that it's a pretty silly horror-comedy but fun in it's own right).<br /><br />It's funny, but writer/director Michael Cooney somehow must have realized that he was a pretty bad director after JACK FROST 2, and then focused on writing. Turns out he then wrote two pretty good thriller screenplays for THE I INSIDE (starring Ryan Phillippe) and IDENTITY (starring John Cusack). So the man seems to have some talent after all.<br /><br />Now it would be far too easy to give JACK FROST 2 the lowest rating possible. So I say one point for that naked Asian babe doing the skinny dipping and one point for those completely retarded snowball babies. Way to go Mr. Cooney!\n",
      "Sentiment:\n"
     ]
    },
    {
     "name": "stderr",
     "output_type": "stream",
     "text": [
      "1000it [06:46,  2.62it/s]"
     ]
    },
    {
     "name": "stdout",
     "output_type": "stream",
     "text": [
      "Prompt is too long >512 (Max Length), prompt: This was one of the most dishonest, meaningless, and non-peaceful of the films I have ever seen. The representation of the other, of the Israelis, was racist, backward, and unfair. For one, the song played on E.S' car radio when pulled up alongside a very right-wing Israeli driver was \"I put a spell on you\" by Natacha Atlas. The song's style is quite Arabic, but it was released on an Israeli compilation CD, and I have even heard it on the radio in Israel. Many Israeli songs (as well as architecture, foods, and slang) are influenced by Arabic culture, and there is no reason an Israeli Jew would be offended or angered by a nearby car playing that song. The way E.S. appears so calm and collected with his sunglasses and cool glare, via a long, still shot, is meant to force the viewer into seeing the Jew as haggard and racist, and E.S. as noble and temperate.<br /><br />I have traveled all over Israel, and I have never seen an IDF recruitment poster, since service is mandatory. But in the film, not only is there a recruitment poster, but it depicts a stereotypical image of an Arab terrorist and the words \"want to shoot?\" This is an extremely inaccurate depiction of the mentality of the majority of Israelis as well as Israeli soldiers, and such an \"advertisement\" wouldn't even exist on a random Israeli highway. In including it, the director aims to convince the audience that Israel is a society of anti-Arab racists hell-bent on murder.<br /><br />The ninja scene was gratuitous and needlessly violent. A Hollywood-style action scene involving Israeli soldiers shooting Palestinians would be just as unwelcome in an Israeli-directed film as the ninja scene should have been. But for some reason, images of an unrealistic, non-comic, and violent scenario manage to elicit applause from the audience since the director has smeared the Israeli side so much beforehand, that any shot of Israeli soldiers being killed would be welcome. The director shows absolutely no attempt at building bridges, portraying the \"other\" as human, or working towards peace; violence is made to be the only solution. This is furthered by scenes of exploding tanks, falling guard towers, and other random acts of destruction. One of my best friends serves in the Israeli military, and the targets in firing ranges are never Arab women dressed in black, or any other quasi-civilian on canvas. Soldiers at checkpoints are instructed not to fire at the head of an approaching Palestinian unless it is clear that their own lives are in danger; the method, according to my friend, is to provide a warning shout, fire into the air or around the area, and then if all else fails, shoot in the leg and then interrogate and hospitalize. Arbitrarily targeting a woman in the head, as shown in the film, is not the proper procedure.<br /><br />Besides these inaccuracies, the directing style was also poor. Repetition became repetitious, and no longer captivating. Symbols, such as the balloon with Arafat drawn on it, are forced outside any plot structure or effective integration in the setting; the balloon is Palestine penetrating and regaining Jerusalem, and it is created for no reason by E.S. The ambulance being checked for permits by Israeli soldiers followed by subsequent Israeli ambulances flying past the checkpoint is an overly-overt claim of an Israeli double standard by the director. The attempt by the director to show life in Nazareth as dreary and pointless is done with overkill; showing the routines of random people over and over again, even with a slight change each time, and emphasizing that not one member of the cast ever smiles and is minimalist in dialogue almost screams out the purpose of such scenes, the dreariness of life, without allowing much room for personal interpretation. By contrasting one \"section\" of the movie, daily life in Nazareth, with the second section, the checkpoint between Ramallah and Israel, the director subtly blames this dreariness on Israel, but never provides any direct evidence as to why such blame can be properly argued.<br /><br />I spent hours trying to figure out why music ended abruptly and began abruptly, and why many modern fashion-show-like and metal-action tracks were included in the score. I still cannot come up with an answer. I felt that the music was out of place in this film; the contrast between more silent scenes and intense scenes was actually annoying and not affecting or thought-provoking. I can understand if the director intended for the music to provide some comic aspect to certain scenes, but I found that there was nothing comic to be found in Israeli soldiers shooting at targets or fighting a ninja, or a woman having to suffer another walk through a checkpoint, albeit defiantly. In fact, I was tempted to close my ears during intense scenes, and annoyed by the lack of a score during quiet scenes. Whatever the director's intent, it provided only an audial displeasure throughout the film.<br /><br />This film has no legitimate political message because it provides an inaccurate and extreme representation of the other, and neglects to actually address any issues. It is a propaganda film, because the director intends various symbols, styles, and scenes to draw sympathy for the Palestinian side, while displaying the Israeli side as cruel and inhuman without exception; the vibrant atmosphere of an action-packed Hollywood scene or of intense music is displayed in every act of violence by Palestinians against Israelis, such that the almost inevitably positive and thrilled feelings the music and cinematography elicit from the audience are directed to one side. There is no thought, reflection, or deepening of the understanding of the conflict by the audience; emotions are simply pulled to one side, and kept there, in a \"good vs bad\" cliché scenario. I believe this film lacked the depth, quality, and power of other Palestinian films, such as \"Paradise Now\" and \"Wedding in the Galilee.\"\n",
      "Sentiment:\n"
     ]
    },
    {
     "name": "stderr",
     "output_type": "stream",
     "text": [
      "1007it [06:48,  2.72it/s]"
     ]
    },
    {
     "name": "stdout",
     "output_type": "stream",
     "text": [
      "Prompt is too long >512 (Max Length), prompt: So here's a bit of background on how I came to see this movie. As you probably know, this is the original French film, that was then remade (quelle surprise) by Hollywood as Wicker Park. Well I avoided that movie like the plague when it was first released, simply because, a) I knew it had absolutely nothing to do with Wicker Park, and living in Chicago, I didn't see why they called it that - it was filmed in fricking Canada for a start! - b) I have a very hard time bothering with pointless remakes, done purely because Hollywood thinks we're too bone idle to read a few subtitles (I am dreading the remake of Infernal Affairs by the way) and c) I can't stand Josh Hartnett, 'nuff said there. <br /><br />However, I came across WP on TV the other day, probably about half an hour in, and I have to say initially, it made no sense at all, until about half an hour from the end, when it started coming together. By the end, I was really surprised to find myself really into it, and then the ending just seemed so good - a perfect combination of story, passion and ending with possibly one of the greatest musical choices I've ever seen (heard??).<br /><br />Since then I've heard a lot about the L'Appartement vs. Wicker Park argument and looking at WP, I still say it has bugger all to do with Chicago, but there seemed something about it that I liked, so when it was on again, I watched it again - unfortunately, still missing the first chunk (I've still yet to see it!), and I still thought it was pretty good. Heck, even Josh Hartnett seemed good! But I was curious about L'Appartement and wanted to see what all the fuss was about. So I waited and waited to catch l'Appartement somewhere somehow. Netflix let me down, so I ended up getting a copy from some website in Ireland. And I've just watched it. <br /><br />It's really kind of weird, but a good weird. A classic French film. Great acting, Romane Bohringer is an absolute gem - sorry, but she acts Monica Bellucci off the screen in every scene. Vincent Cassel was a weird choice for the lead but by the end he works. And I've seen Jean-Philippe Ecoffey in a lot of movies and I just love him - the scene where Alice dumps him in the restaurant and he just looks like someone's told him his puppy's been run over was excruciating! But, I can honestly say, having seen WP and pretty much expecting that to have been a scene for scene copy (as about 75% of the rest of the movie had been - maybe in a different order, but come on, the scene with the coffee in the glasses?? Word for word!!), you can imagine my surprise when I watched the ending of L'Appartement!! I can literally say I was blown away - hmm, a bit like poor old Lucien was through the cafe window really! So, be prepared, if you've seen Wicker Park and you fancy taking a look at the original like I did, do not make the mistake of expecting an identical movie, because you'll either be disappointed, or exhilarated at a piece of French movie history - a prime example of how you can watch a movie, think you're going to watch a pithy happy ending, and get whiplash from the total spin in the opposite direction right at the end. Definitely catch this movie. Oh and while you're at, maybe not too near the same time, but down the road, take a look at Wicker Park, it'll surprise you too.\n",
      "Sentiment:\n"
     ]
    },
    {
     "name": "stderr",
     "output_type": "stream",
     "text": [
      "1014it [06:51,  2.78it/s]"
     ]
    },
    {
     "name": "stdout",
     "output_type": "stream",
     "text": [
      "Prompt is too long >512 (Max Length), prompt: Aslan Adam, or Lionman as it's more commonly known amongst English speaking audiences, starts with an epic battle as King Solomon & his army defeats a load of guys although I'm not sure who they were & the film itself isn't too helpful in establishing the fact. Anyway, after King Solomon has slaughtered all these guys Princess Maria, Bishop Osorio & Commander Antoine are forced to sign a treaty which lets King Solomon rule just about everything in sight. Soon after Princess Maria seduces Solomon & they have sex, meanwhile in the shortest wedding ceremony ever (just two sentences long) Antoine weds Princess Maria & is planning to rebel against Solomon & gain some sweet revenge in the process. Antoine & his guards attack & kill Solomon even though his pregnant wife Princess Almunia escapes with her protector Rostin with Antoine's guards in hot pursuit, after the shortest labour ever (less than 5 minutes or the time it takes to run around a bush) Princess Almunia gives birth to a young baby boy who is hidden in some bushes away from Antoine's guards. Unfortunately when Rostin tries to retrieve the little fella he finds that the baby has been adopted by a pride of Lion's as one of their own! Year's later & the evil Antoine now rules treating his subjects with no mercy, Princess Maria has given birth & he has a son but Rostin is also still kicking around trying to put together a gang of rebels to overthrow Antoine, the task seems hopeless unless they can enlist the help of the legendary Lionman who is more beast than man...<br /><br />This Turkish Greek co-production was directed by Natuk Baytan as Natuch Baitan & is a one of a kind type of film, I found it hilariously bad but at the same time immensely entertaining. The script never seems to take itself seriously, it is a pretty funny film at times, it moves along like a rocket & is never dull or boring & some of the English dubbed dialogue is just hilarious in context with what's happening on screen. None of it makes any sense, we get a boy raised by Lion's, an evil king, betrayal, dark family secrets, birthmarks that form the shape of Lion's in an element of the story that was present before the kid was raised by Lion's, crazy fight scenes, torture scenes where the posts people are supposed to be tied to wobble, ancient castle interiors that randomly contain zip wires & gymnastic rings, idiotic bad guys who all seem to have extensive facial hair & a central character who has a jaw line resembling a house-brick, can be stabbed twice, have his hands covered in acid (this acid can eat it's way through steel trapdoors but is kept in a ceramic jug!) & fall over 20 feet onto a concrete floor & yet maintain no serious injury! Aslan Adam is a terrifically entertaining film, I don't think I've seen another film quite like it that I can compare it too, if your looking for something serious then forget this but if you like 'so-bad-they're-good' type films & want to have fun, laugh & be entertained then Aslan Adam should be at the VERY top of your list. Total 100% gold for bad film fans & those with a taste for the different & bizarre. On the disappointing side Lionman only gets his steel claws 10 minutes before the end which is a shame.<br /><br />Director Bayten certainly keeps things moving along at a brisk pace although it's far from well made, during the opening battle one moment guys are fighting on a sand dune the next their on a grassy hill with trees in the background! There is one point where Lionman uses a 'branch' to pole vault but it's obviously just a long tube with a vine wrapped around it! Then there's the scene when a bloodthirsty pack of bloodhounds are supposed the chasing Lionman down but the dogs used are obviously different breeds including some of the most harmless looking dogs ever! There are just so many individual scenes in Aslan Adam that are just hilarious, stupid, bizarre or all three that I could go on forever. Just check the ending out when Lionman is jumping & flying about everywhere like he can fly. There's lots of blood in Aslan Adam although not much actual graphic gore or violence, a few stabbings & someone has their hands cut off is as graphic as it gets.<br /><br />Technically Aslan Adam is pretty ropey, the period costumes are bright & garish featuring purples, yellows, reds & various other bright colours. The fight scenes are cheap but at least the filmmakers tried to put as much action in as they could. The music seemed like it was more suited to a classical ballet rather than an action film & is yet another bizarre aspect to Aslan Adam. The acting was bad, even dubbed you could tell the acting was bad.<br /><br />Aslan Adam is pure gold from start to finish, there are so many things to like, laugh at & enjoy in this film that I just ended up really liking it. In no way whatsoever can Aslan Adam be considered a good film in any sense of the word but it's one hell of an entertaining one. I may have have to watch this one again sometime soon just to prove to myself that I didn't dream it all! The best Turkish action film about a man raised by Lion's you will ever see, period. Proved popular enough to spawn a sequel, Lionman II: The Witchqueen (1979).\n",
      "Sentiment:\n"
     ]
    },
    {
     "name": "stderr",
     "output_type": "stream",
     "text": [
      "1020it [06:52,  2.84it/s]"
     ]
    },
    {
     "name": "stdout",
     "output_type": "stream",
     "text": [
      "Prompt is too long >512 (Max Length), prompt: The Time Machine starts in New York during 1899 where Professor Alexander Hartdegen (Guy Pearce) proposes to his beloved girlfriend Emma (Sienna Guillory) who accepts, unfortunately just after they are attacked by a mugger & Emma is shot dead & dies in Alexander's arms. Jump forward 'Four Years Later' & Alexander has built a time machine which he uses to travel back to the night Emma was killed in order to save her but she is still killed, only a different way this time. Alexander realises whatever he does, however many times he goes back Emma will always end up dead one way or another & he yearns to know the answer why so he travels far into the future to discover the truth. However after having destroyed the moon two new races have evolved on Earth, the human like Eloi & the monstrous Morlock's that eat the Eloi. Alexander decides to stick around & save the Eloi.<br /><br />Directed by Simon Wells who is actually the great grandson of author H.G. Wells who wrote the original The Time Machine book on which the original The Time Machine (1960) film was based & it is in fact the 1960 film that producer John Logan's script is based upon here rather than Wells original literally source. While all three share the same basic story & ideas this remake adds the subplot about Alexander's fiancé Emma being killed & that's the reason he invents a time machine rather than just because he is clever & he can. The script is a mixture of sci-fi, action adventure & drama none of which really grabbed me or engaged me that much, sure there are a few pretty special effects, a few nice action scenes & the moment when Alexander's question is answered regarding why he can't save Emma is actually quite intelligent & makes sense it never really captured my imagination & I was never really moved by it either. The time travel aspects of The Time Machine feel very similar to Terminator 2: Judgment Day (1992) in the sense you can't change the past but at the same time the future is not set only The Time Machine isn't anywhere near as good a film as Terminator 2: Judgment Day. The character's are alright although I thought Guy Pearce just looked too young to be a brainy scientist capable of inventing a time machine & there's never any real explanation behind it's mechanics either as it's like one moment there's no time machine the next he has invented & made one & it works perfectly. I reckon the Back to the Future trilogy offer far more thrills, laughs, excitement & general entertainment value than The Time Machine ever does & while I will stop short of calling it a bad film since it moves along at a decent pace, tells a reasonable story & has it's moments I wouldn't call it brilliant or even particularly good. There is also a cheeky little reference to the book & original film which are both name-checked here.<br /><br />The benefit this modern version has over the original is the development of special effects & in particular CGI which leads to scenes of time rapidly passing around Alexander in his time machine complete with huge buildings being built, new ridges, canyons & mountains being formed & a elaborate pan back which ends up in space as we see passenger rockets orbiting the moon. The effects work is good, there are one or two moments that look a little below par but generally speaking the effects are good. I saw The Time Machine on telly & the station playing it badly pan and scanned it so the left & right edges of the frame were cut off the screen thus cutting off part of the year on Alexander's time machine dial so I actually didn't know what year he went to. Apparently director Gore Verbinski took over the last eighteen days of filming as Wells was suffering from 'extreme exhaustion' while the IMDb says that the time machine itself was the biggest & most expensive prop ever built for a film at that point which I find hard to believe & Guy Pearce broke a rib during a fight scene but like a trooper carried on.<br /><br />With a supposed budget of about $80,000,000 the production values are high with a lovingly recreated period New York & good effects work although amazingly The Time Machine was nominated for an Oscar for best make-up but lost out to Frida (2002). The acting is mixed, Jermey Irons puts in a good performance in a terrible make-up job that has him looking like a reject from a Lord of the Rings film while singer Samantha Mumba makes her big screen debut here & is simply terrible although Guy Pearce is quite good & fairly likable.<br /><br />The Time Machine isn't a particularly bad film or a particularly good one, just a somewhat unremarkable one that is watchable & passes an hour and a half but not much else. Watch Back to the Future (1985) again instead.\n",
      "Sentiment:\n"
     ]
    },
    {
     "name": "stderr",
     "output_type": "stream",
     "text": [
      "1031it [06:56,  2.73it/s]"
     ]
    },
    {
     "name": "stdout",
     "output_type": "stream",
     "text": [
      "Prompt is too long >512 (Max Length), prompt: I think the filmographic lineage may run like this. Pay attention, please, because I had to look this up. In 1967 Peter Yates, an ex auto racer, directs the English caper movie \"Robbery,\" the most thrilling part of which is a car chase through the streets of London, down alleys where there are crowds of children playing and all that. It's a success.<br /><br />A year later, Yates directs \"Bullet\", starring Steve McCool, I mean McQueen, featuring another even more spectacular car chase up and down the San Francisco Hills, with dumbfoundingly authentic engine sounds that seem to include double clutching, full race cams, no mufflers, twelve-cylinder engines under forty-foot hoods, supercharged, superdupercharged, and all five-thousand horsepower running at full tilt. Lots of shots of McQueen's gum-chewing visage scowling with concentration as he tries to bump another car off the highway, though a passenger in the other vehicle totes a shotgun. The chase is staged by Philip D'Antoni. Bill Hopkins drives the criminal vehicle.<br /><br />A year or two later, sensing a good thing, Bill Friedkin directs \"The French Connection,\" featuring a chase between a commandeered cop car(Gene Hackman) and an elevated train in New York City. Lots of shots of Hackman's cursing face as he wrestles the battered car through the streets. The chase is staged by Philip D'Antoni. Academy Awards follow.<br /><br />Sensing a good thing, a year or two more brings us \"The Seven Ups,\" featuring a chase between a car driven by Roy Scheider, with lots of shots of Scheider's cursing face as he tries to bump the other car, which is driven by Bill Hopkins, off the road, although the criminal car, to be sure, carries a shotgun-toting passenger. No hills in New York City, just bumps, but they are still sharp enough to elevate the cars a few feet. The pursued car screeches around a corner and dashes down a street on which a dozen children are playing. Shots of the screaming kids as they scatter off the pavement and allows the car to zoom through. But once is not enough. The children immediately run back into the street and must repeat the retreat for the pursuing cop car carrying Scheider.<br /><br />I once witnessed a pursuit at high speed on the streets of Philadelphia. Both the criminal and the cops drove through the streets at about 25 miles an hour, coming to rolling stops at each Stop sign and red light -- very dull stuff compared to this movie.<br /><br />Speaking of this movie, it's pretty good. \"Robbery\" and \"Bullet\" were cool. Everyone dressed neatly. But the New York movies are filthy. There's garbage all over the place and the subway cars are covered with graffiti. Shoot outs and beat ups take place in vacant lots surrounded by crumbling brick buildings, or in disposal dumps for industrial-sized freezers.<br /><br />The acting is pretty good too. Roy Scheider seems whippet sleek. The other actors have faces made for the camera, especially Richard Welsh. And the story is engaging, if not entirely unfamiliar. What's best about the film is the way it captures New York City in its almost total indifference to human depravity and nobility. At a funeral, the limo drivers stand around with their collars up, butts hanging out of their mouths, kicking their cold feet together, utterly bored at the ritual goings on. The film wants us to believe that The Seven Ups are an elite group of untouchable cops who stop at nothing to get the job done, and here it's a bit of a sell out. They always seems to be threatening to do something unethical and illegal -- beat hell out of a suspect or physically damage a hospitalized and helpless hood -- but they always manage to avoid doing it. (If they actually did it, their characters would become lifelike and ambiguous and we'd rather have our heroes and villains of a more Biblical nature.) Very enjoyable, even if you've seen it before, and you very well may have in one or another of its previous incarnations.\n",
      "Sentiment:\n"
     ]
    },
    {
     "name": "stderr",
     "output_type": "stream",
     "text": [
      "1037it [06:58,  2.85it/s]"
     ]
    },
    {
     "name": "stdout",
     "output_type": "stream",
     "text": [
      "Prompt is too long >512 (Max Length), prompt: Jon Good's Wife (simply one of the worst titles for a film ever), or The Red Right Hand (another absolutely awful sounding title that means nothing & has no relevance to the film) under which I saw it, is set in 'Salem, Massachusettes 1978' (incidently the year I was born which was quite possibly the best thing to happen during those 365 days) where five old college friends meet up for a school reunion, gay-boy fagot Roger Mather (John Kuntz, is that surname for real? Just say it out loud...), Martha Alden (Kim Brockington), Rebecca Lawson (Jenna Stern) & her boyfriend Jake Stabler (John Doe), Alan Hobbes (Michael Kevin Walker) & his wife Sandy (Megan Rawa) plus John Good (Marc Ardito, why is the spelling of 'John' different in the title?) & his wife Sara (Abigail Morgan). From the word go there is an uneasy tension in the air & when someone mentions their 'missing' friend Calef (Jason Winther) lots of unpleasant memories come flooding back. Then comes the phone calls, the mysterious nose-bleeds, hallucinations & guilt as the true horror of the events all those years ago finally comes to light...<br /><br />Produced, executive produced & directed by Kurt Gioscia who also wrote the thing & Kurt St. Thomas who gets the art direction credit too & if that wasn't enough they both act in the film as well! Personally I thought Jon Good's Wife was awful, I mean she can't cook or anything! Ha ha ha, only joking! Seriously though I didn't think much of the film overall, for a start it's pretty slow going & the entire first 30 minutes is solid snooze material of the reunion consisting of lots of catching up with each other & dull character building exposition. The film never explains itself, what's with those weird nose-bleeds for god's sake, the mysterious phone calls, the almost inconsequential death of one of the group that might or might not be natural & what the hell was Sara all about? She comes across as some nosey, sex crazed, dirty talking, shameless, bitter blackmailing know-it-all whore who apparently sleeps with just about every man she meets! Some of the dialogue she spouts wouldn't be out of place in a porno & it just seems totally at odds with the rest of the film which plays out more like a drama than the horror/thriller it was supposedly meant to be. Then there's the ending, if there's a worse way to end a film then to just leave literally everything hanging in the air with no closure whatsoever I have yet to see it. The whole thing was very predictable as well, I mean is anyone watching this not going to know that when they all mention their friend Calef went 'missing' there wouldn't be more to it?<br /><br />Directors Gioscia & Thomas make an infuriating film, on top of the predictability & annoying climax there is a retrospective narration by Alan which I simply don't understand as he has no more or less significance than anyone else & at what point in time is he narrating from? The reasons behind this narration is never made clear or elaborated upon. There's no tension because the whole things so by-the-numbers.<br /><br />Technically the film is OK but nothing special & some of the locations & clothes didn't look particularly authentic to me, this never convinced me it was taking place during the late 70's. The acting was alright & what about actor John Kuntz last name? I suppose if his wife was standing next to him we could describe them as a couple of Kuntz, right?!<br /><br />I really didn't think much of Jon Good's Wife (a blow up doll would have been better! Ha ha ha) & I'm not sure who it would appeal to. Forget about any gore, horror, violence, scares, atmosphere or excitement, in fact forget about everything that would have made this film watchable because it ain't here. Not recommended.\n",
      "Sentiment:\n"
     ]
    },
    {
     "name": "stderr",
     "output_type": "stream",
     "text": [
      "1053it [07:04,  2.62it/s]"
     ]
    },
    {
     "name": "stdout",
     "output_type": "stream",
     "text": [
      "Prompt is too long >512 (Max Length), prompt: \"TNT Jackson\" isn't completely unwatchable. But either the version I saw on DVD was edited with a weed-whacker, or the screenplay itself is the lowest level of grind-house/blaxploitation sausage. Or maybe both.<br /><br />Jeanne Bell is supposed to have been a Playmate at one point in her career,and the movie makes the most of the connection by displaying her breasts at least two times more than was really necessary (including a hilarious topless fight scene that I am pretty sure was meant to be funny). I will admit, they are quite nice. Still, she's sort of average looking and doesn't have the charisma of a Foxy Brown, of even a Cleopatra Jones. She does have her moments as an actress in the film, though, but it would have been nice if the director had pushed her a little harder or the screenplay had given her a chance to do more than emote \"attitude\" and kick people.<br /><br />Speaking of kicking people, the fight scenes (the other putative reason to watch a film like this) are pretty poorly done.There's no real choreography to speak of here, just people posing and sticking feet and fists in the general direction of their opponents. One minor exception is a nice moment with an opponent equipped with butterfly folding knives; another is a sequence near the very end where an obvious stunt double for Bell (and maybe for Stan Shaw) leap around and do some decent sweeps and groundwork for a minute or two before Bell/\"Jackson\" punches her enemy's liver out, Shaw collapses and the screenplay just stops. (Again, I will admit that this is very much in the tradition of Shaw Brother quickies since time immemorial).<br /><br />There are a couple of supporting actors who are actually better than the film deserves (I'm thinking of \"Joe\" and the fellow playing the drug lord's right hand man). There's a halfway decent funk laden soundtrack that complements the action on the screen and add a star to the rating by itself. There's a semi-dodgy sex scene that manages to be effective almost in spite of itself.<br /><br />This one is strictly for hardcore fans of blaxploitation. I saw it out of sheer curiosity, and I'm not sorry I took the time. But I can't imagine wanting to take the time to see it again unless I decide to write a dissertation on the pop culture intersections of \"Kung Fu Theater\" and \"Foxy Brown\".\n",
      "Sentiment:\n"
     ]
    },
    {
     "name": "stderr",
     "output_type": "stream",
     "text": [
      "1068it [07:09,  2.62it/s]"
     ]
    },
    {
     "name": "stdout",
     "output_type": "stream",
     "text": [
      "Prompt is too long >512 (Max Length), prompt: This is a bad film, as its central message is very muddled and the plot seems like it was the result of merging several disparate scripts. As a result, it often makes absolutely no sense at all and certainly is not a film Miss Dunne or Mr. Huston should have been proud of making. However, the film IS worth watching if you are a fan of \"Pre-Code\" films because it features an amazingly sleazy plot that strongly says that nice girls DO put out--even if they aren't married and even if their partner IS!! <br /><br />The film begins with Miss Dunne as a social worker assisting troops heading to Europe for WWI. In the process, she meets a scalawag (Bruce Cabot) who eventually convinces her to sleep with him. She becomes pregnant and he then goes on to the next unsuspecting woman. However, Miss Dunne does NOT want him back, as she realizes he's not worth it, but later her baby dies at child birth. While all these very controversial plot elements are used, they are always alluded to--almost like they wanted the adults in the audience to know but hoped that if they phrase it or film it in just the right way, kids in the audience will be clueless (after all, films were not rated and kids might attend any film at this time).<br /><br />Surprisingly, this entire plot involving a stillborn baby and Cabot ends about 1/4 of the way through the film and is never mentioned again or alluded to. It was as if they filmed part of a movie and abandoned it--tacking it on to still another film. In this second phase of the film, Miss Dunne unexpectedly begins working at a women's prison (though we actually never really get to see her doing anything there). What we do see are countless horrible scenes of severe abuse and torture that were probably designed to titillate. And, as a result of all this violence, Miss Dunne goes on a crusade to clean up the prison and becomes a reformer and famous writer.<br /><br />But then, out of the blue, another type of film emerges and the women's prison reform business goes by the wayside. Dunne meets a judge (Walter Huston) who is married but he desperately wants her. Now throughout the film, Dunne is portrayed as a very good girl--even though she did have unmarried sex with Cabot (she was more or less tricked into it). But now, single Irene, who is a tireless reformer and good lady begins sleeping with a married man. He tells her that he and his wife are estranged and are married in name only, but she never thinks to investigate if this is true, and with his assurance, off flies her clothes and they are in the baby making business! BUT, while she's pregnant with his love child, he's indicted for being a crooked judge. He assures her he's innocent, but he's convicted and it sure sounds like he's a scoundrel--using inside information from people that have come before his bench in order to amass a fortune. Then, in the final moments of the film, Miss Dunne tries in vain to get him freed and vows to wait with the child until Huston is released. The film then ends.<br /><br />So, we basically have three separate films AND a bizarre early 30s idea of what a nice girl should be like. I gathered that she should be a strong-minded working girl who instantly becomes an idiot in her personal relationships! This really undoes all the positives about Dunne's character and it's really hard to imagine anyone liking the film. A strong women's rights advocate might easily be offended at how weak-minded and needy she was and religious people might see her as totally amoral or at least morally suspect! With a decent re-write, this could have been a good film or at least interesting as a lewd and salacious film, but it couldn't make up its mind WHAT it wanted to be and was just another dull Pre-Code film.\n",
      "Sentiment:\n"
     ]
    },
    {
     "name": "stderr",
     "output_type": "stream",
     "text": [
      "1088it [07:16,  2.64it/s]"
     ]
    },
    {
     "name": "stdout",
     "output_type": "stream",
     "text": [
      "Prompt is too long >512 (Max Length), prompt: I have been a Mario fan for as long as I can remember, I have very fond memories of playing Super Mario World as a kid, this game has brought back many of those memories while adding something new. Super Mario Galaxy is the latest installment in the amazing Mario franchise. There is much very different about this game from any other Mario before it, while still keeping intact the greatest elements of Mario, the first noticeable difference is that the story takes place in space.<br /><br />The story begins much like any other Mario game, Mario receives a letter from Princess Peach inviting him to a celebration at her castle in the Mushroom Kingdom. Upon arriving at Peach's castle Mario finds Bowser and his son (Bowser Jr.) attacking the castle with their airships. Bowser kidnaps Princess Peach and then lifts her castle up into space. In the midst of the castle being lifted into space Mario falls off and lands on an unknown planet. Mario is found by a talking star named Luma and is taken back to the Luma's home, a floating space station, here Mario meets many other Lumas and also meets their leader, a woman named Rosalina. Rosalina tells Mario that Bowser has taken away the space station's Power Stars and scattered them across the universe, it is up to Mario to help the Lumas find them and save Peach, thus the adventure begins.<br /><br />The way you play the game is by flying from the space station to other galaxies, each galaxy consists of multiple planets that Mario travels amongst in levels via these shooting stars to retrieve the Power Stars. Mario can at many times walk all the way around planets without losing gravity, some planets are small and others are big, many planets are similar to classic Mario environments. The best thing about the game are the controls, all of the stuff like jumping and such is still the same, but the wiimote is used in many unique ways in this game. You shake the remote Mario will perform a spin that is used as the primary attack in the game, and it will as well activate the shooting stars. You can also point the remote at the screen and use the pointer to fire star bits at enemies or objects in the environment. Then there is the graphics, these are by far the best graphics on the Wii, it is just so hard to describe how great this game looks, you could probably almost say it looks as good as some 360 games.<br /><br />My only minor gripes is that the going upside down effect takes some getting used to, and also the story is pretty weak. The worst part is that you lose all of your lives when you turn off the game, no matter how many you had when you last quit you restart at 4 lives. Still these minor problems aside it's a superb game that is highly entertaining and is very challenging. This is the type of game that we've been waiting for on the Wii.<br /><br />A perfect 10 out of 10!\n",
      "Sentiment:\n"
     ]
    },
    {
     "name": "stderr",
     "output_type": "stream",
     "text": [
      "1100it [07:21,  2.66it/s]"
     ]
    },
    {
     "name": "stdout",
     "output_type": "stream",
     "text": [
      "Prompt is too long >512 (Max Length), prompt: I finally saw this on video, after years of hearing about it. It is by no means a perfect movie, but it is oddly hypnotic - one of those rare, special films that creates its own world. <br /><br />***SPOILERS*** First, the bad stuff. The scenes in Burkewaite's class are excruciating. Even if the subject is Social Studies, this guy is WAY over the top. His speeches are so overwrought they are laughable. And no teachers I ever had would grill their students like that, and tell the ones who protest to \"Shut up!\". These scenes are brief, but they break the mood and pull the viewer out of the story. Next, how the heck does Layne just walk out of the police station near the end? Also, what happened to Samson's car after the first scene of him riding into town? He spends the rest of the film being chaffeured around by Layne or Feck. ***END SPOILERS***<br /><br /> Ahhh, Feck...this guy is great. Dennis Hopper effortlessly steals the movie. \"Check's in the mail\", \"I love company\", \"you're my friend\" - every line is a classic. He gives Feck an internal logic that makes the story work. Incredibly, he actually makes the audience feel empathy for this guy, especially when Samson talks about his (Samson's) future. <br /><br /> By contrast, Crispin Glover is hard to take sometimes. Yet the scenes of him driving around in the Beetle are perfect - kids with cars in high school always have something to do, and buds to do it with. Matt's low-key attitude makes a good foil for Layne - their friendship is believable. Glover's mannerisms are a little much, but he is consistent throughout. He drives the plot and exudes a sense of urgency that no one else does - just try to imagine this flick if Layne were as much of a zombie as Matt or Samson - snoozefest! <br /><br />***SPOILERS*** What makes \"River's Edge\" unsettling is the fact that Samson is not really evil, in the usual sense. He is kind of a boring guy who got sick of being taken for granted - in other words, he is like thousands of other boring guys. After he kills Jamie, he starts to unravel, which creates some suspense as we wait to see when he will snap again. ***END SPOILERS***<br /><br />Part of this movie's appeal is the way the action stays centered around the teens and their point of view. The parents are comic relief - Clarissa's mom, Tony's dad - or overwhelmed - Matt's mom. This underlines how the kids hang together for the attention no one else gives them. It keeps the story focused on the relationships within the clique, and emphasizes that the only adult they can relate to is Feck. \"River's Edge\" is a textbook on alienation. It conveys how awkward, mysterious, and disconcerting adolescence is like no other film.\n",
      "Sentiment:\n",
      "Prompt is too long >512 (Max Length), prompt: I first saw this film by chance when I was visiting my uncle in Arizona about 3 and 1/2 years ago. The VHS print was a little faded looking, but I was very haunted by what I had watched. Did it all make sense? Well, honestly, no it didn't. However, this is a film that requires more than one viewing to understand all of its aspects. The beautifully tragic score haunted me and the bizarre images made quiet an impression.<br /><br />Well, when I found out that Anchor Bay had released this oddity on DVD, I picked it up immediately. I was very pleased by the transfer, though I felt the extras rather lacking. Though the film concerns the \"O\" and Sir Stephen characters, it really has nothing to do with Pauline Reage's original novel or the 1974 film The Story of O. However, the film does pay attention to artistic detail and symbolism of an almost mystic kind. \"O\" decides to prostitute herself for Sir Stephen in violent 1920s Hong Kong. Her mission is to prove her unending devotion and love for her master through giving her body to other men. Naturally, Sir Stephen enjoys watching her during her unpleasant sexual escapades and even finds himself a mistress. However, the tables are turned when \"O\" actually finds a kind of love with a young male admirer. Suddenly, Sir Stephen feels the threat...<br /><br />I feel that the deep meaning behind the film (including the tragic score and artistic direction) really make this film a classic. The viewer is introduced not only to the lives and pasts of \"O\"'s fellow brothel mates, but the turmoil of 1920s Hong Kong is also explored. Like the political setting, the prostitutes all find themselves in need of belonging. No one is happy in the film, even if they believe that they are. (However, \"O\" does find a sense of happiness with her young admirer). One prostitute tearfully remembers how her father used to act like a dog when she was drunk, naturally leading to a fetish for having her customers act like a dog. Another older prostitute is obsessed with her past as an actress. She cannot let that vision go. She treats her clients as co-stars and even swears she hears a piano in the river. <br /><br />As for \"O\", she has a flashback about her father leaving her in a chalk circle. When he leaves, she feels a sense of abandonment. Of course, in that same flashback Kinski suddenly becomes her father. I was very, very disturbed by this image. I truly felt for \"O\" at this point in the film. She hardly ever smiles and this scene really explains why. Her fear of abandonment is so great that she sees Sir Stephen as her father and caters to his every obscene demand in hopes of proving her love. <br /><br />Another curious aspect of the film is the young child (that ages at the end) that sells fortune in a box. It is a very random character, but somehow it just adds to the sense of loss and emptiness in the film. At one point, the director even uses painted cardboard figures to represent people. Now, if that isn't symbolism for you! (Laugh) <br /><br />All in all, I really love this film. I feel that it is a very deep and somewhat moving experience. It has erotic scenes, but the scenes aren't really meant to arouse. Like the lives of the characters, the sex acts are empty. They are motions, but lack feeling and tenderness. (Once again, the only tender scene is between \"O\" and the young man). \"O\" believes she is in love and that lowering herself is an honor, however, she finds in the end that she has choices. She too can be her own person and pursue her own happiness, however, she also has the option to stay in that circle that her father drew. The director leaves a lot of unanswered questions, however, some things don't need answers. The viewer will make the judgment that works for them. <br /><br />I must say that I wish a special edition of this DVD would be released that had director commentary. I think it would be fascinating to hear his opinion of the film and its message years later. It is a shame that the soundtrack was never released. This film has a truly haunting and heart breaking score. There is something about the lingering vocals that send a chill up my spine. I can truly feel the sense of loneliness in the film by just listening to the music.\n",
      "Sentiment:\n"
     ]
    },
    {
     "name": "stderr",
     "output_type": "stream",
     "text": [
      "1106it [07:22,  3.15it/s]"
     ]
    },
    {
     "name": "stdout",
     "output_type": "stream",
     "text": [
      "Prompt is too long >512 (Max Length), prompt: In a future where an industrious travel agency uses time travel technology to send wealthy clients back in time for explorations to the age of dinosaurs, the future is inexplicably changed when one of their clients breaks the cardinal rule not to stray off the path. In an attempt to fix the damage done, a seasoned time scout (Edward Burns) teams with the inventor of the technology (Catherine McCormack).<br /><br />The premise is pretty good and engaging. It may have a few flaws in it but it could still make for an interesting movie. Unfortunately, A Sound of Thunder fails to really hook the audience in. It suffers from a number of problems and it takes itself way too seriously so it's hard to actually have any fun while watching the movie. Personally, I thought the script was the film's biggest problem. The were more plot holes than expected and the movie was kind of lazy in explaining things. I was hoping for a more in depth look into \"the butterfly effect\" but the film was more escapist fun than anything else. That's okay with me since 90 minutes of mindless fun is still a nice way to spend an evening. However, all the fun this film offered was unintentional and lame. There were a few scenes that kept me entertained but I was pretty bored.<br /><br />The acting isn't much better since most of them seem more interested in a paycheck than anything else. The only person that gave a good performance was Ben Kingsley. He kept the first half of the film enjoyable and he seemed to be having the most fun as well. Edwards Burns was pretty pale and bland. I don't think he has what it takes to be a leading man. However, he could make for a decent supporting actor. Catherine McCormack was just really annoying and not very believable. I haven't really seen her in anything else but she could have potential. The rest of the actors also give bad performances though most of them are relatively unknown so it shouldn't effect their careers too much.<br /><br />Looking at the message boards, most people are complaining about the special effects. There's no way to sugarcoat them and they are terrible. All the dinosaurs look really bad. The Gibbon-lizards (part monkey, part dino), while a creative idea, become stale after awhile and they are most likely to encourage laughter rather than fear. The green screen work just looks awful and unprofessional. I was really wondering what director Peter Hyams was trying to accomplish here. He fails to deliver the suspense, action and thrills and makes this movie a long sit. For the most part though, the film is pretty harmless and it's far from the worst movie of 2005. Hopefully they will remake this film in the future. There is potential in this project but for now this is the best we got. In the end, unless curiosity gets the better of you, there is no reason to see A Sound of Thunder. Rating 4/10\n",
      "Sentiment:\n"
     ]
    },
    {
     "name": "stderr",
     "output_type": "stream",
     "text": [
      "1114it [07:25,  2.76it/s]"
     ]
    },
    {
     "name": "stdout",
     "output_type": "stream",
     "text": [
      "Prompt is too long >512 (Max Length), prompt: Film follows four friends from the 1950s (when they're in high school) up to 1981. They are Danilo (Craig Wasson) a Yugoslavian immigrant; Georgia (Jodi Thelan) a \"free spirit\"; David (Michael Huddleston) who has no personality and Tom (Jim Metzler) a big, strong, handsome, rugged guy. All three of them are in love with Georgia but she only loves Danilo. The film mostly focuses on those two--it chronicles their lives, love and attraction to each other over the years. It also gets into Danilo trying to win the love of his tough immigrant father. <br /><br />I love this film but it's not without its bad points. Thelan's high, squeaky voice is annoying (but you get used to it); the story jumps around very quickly; Tom and David's lives are never explained (Tom shows up with a Vietnamese wife and kids and David has a wife we never meet until the end); some crucial scenes are badly written and there's some obvious pre-release cutting (probably to keep the film at 2 hours).<br /><br />But everything else is so good you can easily forget the problems. The story is compelling--you really get to know and understand the characters and always get caught up in the lives. With a few exceptions, the script (by Steve Tesich) is good--in fact, Tesich was a Yugoslavian immigrant himself and based much of the script on his own experiences. All the acting is great--especially Thelan and Wasson--also Reed Birney throws in a strong, likable performance as Louie, Danilo's college roommate. And Lois Smith is very interesting in her role. And look quick for Mercedes Ruehl and Glenne Headly!<br /><br />Basically, it's a real great story about immigrants, coming of age, love of America and covers the 50-80s perfectly.<br /><br />This film was (unjustly) maligned on its release. The studio didn't know how to advertise it (it IS a hard film to market) and the critics stomped on it (Pauline Kaels' review in \"The New Yorker\" was particularly harsh). It barely played in theaters (I was lucky enough to catch it in 1981 in its short theatrical run) and has simply disappeared. That's a shame. This is a movie that is just ripe for reissue. I'm not betting on it--but you never know! A definite 10 all the way!\n",
      "Sentiment:\n"
     ]
    },
    {
     "name": "stderr",
     "output_type": "stream",
     "text": [
      "1120it [07:27,  2.81it/s]"
     ]
    },
    {
     "name": "stdout",
     "output_type": "stream",
     "text": [
      "Prompt is too long >512 (Max Length), prompt: Bog Creatures shows exactly what can happen when very enthusiastic people get together with a little cash, some knowledge of movie making, a mixed bag of aspiring actors, and a lot of determination, yet all without the necessary knowledge and skills to pull off anything more than a fairly poor looking After School Special (in a bad way, not a nostalgic good way). I mean this is so-so quality home movie / student film stuff if you want to pass it around to family and friends for free. Thankfully, I found it in a discount bin somewhere. Sure, there may be some sort of market out there for this kind of thing, but it is a market that seems to only exist by default because there are so many poor B movies out there. Even more so now in this day and age.<br /><br />The only people I would recommend this move to is aspiring guerrilla filmmakers. First, I would recommend that they watch the special feature MAKING OF thing included on the disc. See the film crews enthusiasm, their hard work, joy, and very high opinions of their own product. THEN watch the movie. Within a few frames you will hopefully understand what went wrong. Bored, I went through the whole thing and clearly the director and cinematographer tried, but just don't know enough about what they are doing. They knew enough to have fun, but in the long run, without necessary skills, this interprets to: They knew enough to be dangerous. This is like a bad Nickelodeon movie (as apposed to a more decent one I guess). A couple of the actors did ok, and the cool stoner looking dude with the tattoo (real or fake tattoo I know not) was probably the best and most natural and I hope he makes it. But their natural acting talent was what was coming through despite the bad movie, bad script, and so-so directing principles. If the director had spent more time helping these aspiring actors to develop their characters, studying successfully proven camera techniques and lighting principles to direct his crew better, and if the script had been actually worked on instead of written in a week or so (according to the very indulgent documentary) then maybe this could have been more of a film. Instead, it's a film that has a feeling of some potential, and has a few moments in it (due more to the genre than the film itself), but ends up showing nearly every frame, WHAT NOT TO DO. If you want to see what a decent low budget horror movie can really look like, watch Phantasm or even Laserblast. If you want a glorified home movie (no joke), get Bog Creatures.\n",
      "Sentiment:\n",
      "Prompt is too long >512 (Max Length), prompt: America's Next Top Model is a great reality show in every sense. It has a great hostess, has great guests, a great production and some of the best professionals of the modeling world contributing for something they hadn't achieved yet: present a true America's Next Top Model. Of course this is not something easy to do, therefore USA and the world already would have 10 top models concurring and fighting between themselves in this cruel world.<br /><br />But it's obvious that its intention is not to present the America's next top model, but yes, the America's Next Pop Model. The show gets together a bunch of models without any experience with different personalities and big personal, professional and financial problems, giving them a chance for bringing to life a dream or to make their lives something worthy. It's obvious that Tyra Banks uses all that for her advantage, she gives the dream, but in exchange for that she gains audience and more popularity. Anyway, she deserves it, because she is intelligent and, if I might say that, a pioneer to this kind of show. Tyra also is a great observer and knows how to give based opinions, differing herself of other models and hostess of foreign versions of the NEXT TOP MODEL franchise. In Brazil, as an example, Fernanda Motta is its hostess and \"once-upon-a-time\"-Top Model. She doesn't have even 1/10 of Tyra's professional skills, which keeps Tyra Banks on the top. Tyra have professional and personal knowledge about what she says and she's a great mentor because she not only criticizes but she points the mistake and teaches the right way with wisdom.<br /><br />The show doesn't suffer from big problems, it does and fulfills what it promises during the cycles. The models chosen to work on the show in fact are not the best unknown models of entire country because Tyra Banks bets with the difference, and she is right, because she (and also good part of her audience) believes that it's time for the modeling world to change some straight parameters. During the cycles, she and her team really makes fair deliberations, where the weakest go away and the promising ones have new chances to prove their capacities but must be fast to do that, otherwise they lose it.<br /><br />Other very interesting thing is that Tyra also knows to decide who should or shouldn't win even when she's against people's opinion. She knows that whoever wins will be famous, but has a very few possibilities to truly be a worldwide recognized top model. At the same way she knows that, some times, the second place is more valuable than the first, because 1st place wins the title, but second doesn't gets the title stigma. Hardly she makes mistakes when she decides the future of any model during the show.<br /><br />After 9 cycles the show is getting a little tired with some old ideas, it's time for Tyra to change some things and lines because it's getting boring and comparing to the firsts cycles we can see that she's getting bored too, so she needs to do that if she wants the show to live a little longer.<br /><br />Anyway, the show explores the fashion and modeling world, but it's also entertaining for those ones that live outside all of that. It gives the opportunity for some girls and also the market, and also gives great tips for those ones from the audience who shares the same dream.\n",
      "Sentiment:\n"
     ]
    },
    {
     "name": "stderr",
     "output_type": "stream",
     "text": [
      "1125it [07:28,  3.42it/s]"
     ]
    },
    {
     "name": "stdout",
     "output_type": "stream",
     "text": [
      "Prompt is too long >512 (Max Length), prompt: Based on the true story of two young Americans who sold national secrets to the Soviet Union in the height of the Cold War, \"Falcon And The Snowman\" wants to be both suspenseful and philosophical, and winds up falling short in both departments. It's less le Carré than who cares.<br /><br />Timothy Hutton stars as Christopher Boyce, a former seminarian who, disgusted by Watergate and the middle-class values around him, is probably the wrong guy to be hired by a company running spy satellites for the CIA. Sean Penn plays his drug-dealing pal, Daulton Lee, who makes himself Boyce's courier, delivering secret files to the Soviet embassy in Mexico City. An offbeat synth-jazz score, lack of sympathy or emotional attachment for anyone, and lots of scenes of guys getting angry in rooms all combine to deaden what could have a decent moral-dilemma thriller.<br /><br />It's really Penn's movie despite the second billing; his character gets to talk turkey with the Russians while Hutton plays with his pet falcon. Hutton looks like they woke him up five minutes before they called \"action\". With Penn, it's a crapshoot whether you get a brilliant performance or an over-the-top one. Here, it's a bit of both, but more the latter, especially in the second half when Lee switches from coke to heroin. He screeches. He snorts. He crashes Russian embassy parties. He gets pummeled with telephone books. He spits at himself in a mirror, a big goober he must have been saving for a paparazzi. \"I don't know who my friends are anymore!\" he cries out. It's exhausting to just watch him.<br /><br />Penn seems to have modeled Lee somewhat on Dustin Hoffman's Ratso Rizzo from \"Midnight Cowboy\", complete with overly nasal line readings and constant eye shifting. John Schlesinger directed this film as well as \"Midnight Cowboy\", but he seems to have had another Hoffman film in mind, \"The Graduate\", throwing up scene after scene of Boyce and Lee poolside, trying to decide how to live their lives in their gilded cage. Too bad no one suggested plastics.<br /><br />From the opening shots, news footage of American decline juxtaposed with Boyce and his bird, \"Falcon\" makes clear it is a message movie, though the message itself is far from clear, probably because the characters never come into focus. Is Boyce supposed to be an idealist? Or is he just a mercenary? Hutton and Schlesinger don't seem to know, which makes it harder for us. Meanwhile, opportunities to establish some suspense, like Boyce stealing documents from the top secret \"Black Vault\" where he works or Lee playing games with the Russians, are interrupted by jump cuts to scenes of the pair with their families and friends. It's the normalcy of the story that Schlesinger finds interesting, but it's the least interesting aspect for us.<br /><br />Good stuff: It's interesting to see a film that works the 1970s vibe so early as this one, referencing Maria Muldaur and Tang. Dorian Harewood, memorable in \"Full Metal Jacket\", has a nice turn as Boyce's paranoid colleague Gene, who shows Boyce how to make margaritas with a shredder but has some serious 'Nam issues beneath his partying exterior. Macon McCalman is also fine in a totally different way as the no-nonsense boss who gives Boyce his high-security job. David Suchet as the Russian embassy official who deals with Lee makes for a fascinating blend of menace and amiability.<br /><br />But \"Falcon And The Snowman\" stands or falls on the the question of the two title characters, and neither the actors nor Schlesinger are able to mine much in the way of answers. Worse, after more than two hours in their alternately feral and catatonic company, you don't really want answers. You just want those credits to roll.\n",
      "Sentiment:\n"
     ]
    },
    {
     "name": "stderr",
     "output_type": "stream",
     "text": [
      "1130it [07:29,  3.04it/s]"
     ]
    },
    {
     "name": "stdout",
     "output_type": "stream",
     "text": [
      "Prompt is too long >512 (Max Length), prompt: This is one creepy underrated Gem with chilling performances and a fantastic finale!. All the characters are great, and the story was awesome, plus i thought the ending was really cool!. The plot was great, and it never bored me, plus while the child actors were bad, they gave me the creeps!. This happened to be on the space channel a while ago, so i decided to check it out and tape it, i read some good reviews from fellow horror fans, i must say i agree with them, it's very creepy, and suspenseful, plus Strother Martin, was fantastic in his role, as the Satan worshiper. It has tons of creepy atmosphere, and it keeps you guessing throughout, plus all the characters were very likable, and you really start to root for Ben and his family!. It has plenty of disturbing moments, and the film really shocked me at times, plus, it's extremely well made on a low budget!. This is one creepy underrated gem, with chilling performances and a fantastic finale!, i highly recommend this one!. The Direction is very good!. Bernard McEveety does a very good job here, with great camera work, creating a lot of creepy atmosphere, and keeping the film at a very fast pace!. Ther is a little bit of blood and gore. We get a severed leg,lots of bloody corpses,bloody slit throat, slicing and dicing,decapitation, and an impaling. The Acting is excellent!. Strother Martin is fantastic here! as the Satan worshiper, he is extremely creepy, very convincing, was quite chilling, was extremely intense, seemed to be enjoying himself, and just did a fantastic job overall!. Charles Bateman is great as the Dad, he was very caring, very likable, and gave a good show!, i liked him lots. L.Q. Jones is awesome as the Sheriff, he was funny, on top of things, looked very young, had a cool character, and just did an awesome job overall!. Ahna Capri is good as the girlfriend and did what she had to do pretty well. Charles Robinson overacted to the extreme as the Priest and didn't convince me one bit!, and that laugh of his was especially bad. Geri Reischl is actually decent as the daughter, she was somewhat likable, and only got on my nerves a couple times, i rather liked her. Alvy Moore was goofy, but very likable in his role as Tobey i dug him!. Rest of the cast do good. Overall i highly recommend it!. ***1/2 out of 5\n",
      "Sentiment:\n"
     ]
    },
    {
     "name": "stderr",
     "output_type": "stream",
     "text": [
      "1134it [07:31,  2.51it/s]\n"
     ]
    }
   ],
   "source": [
    "from tqdm import tqdm\n",
    "\n",
    "y_true = []\n",
    "y_pred = []\n",
    "for i, sample in tqdm(enumerate(test_ds_iter)):\n",
    "    parts = sample[0].numpy().decode(\"utf-8\").split(SEPARATOR.strip())\n",
    "    query = parts[0] + SEPARATOR.strip()\n",
    "\n",
    "    response_text = llm.generate(query, max_length=MAX_SEQ_LENGTH, verbose=False)\n",
    "    response_text = response_text.numpy().decode(\"utf-8\")\n",
    "    if len(response_text) > 0:\n",
    "        y_true.append(parts[1])\n",
    "        y_pred.append(response_text)\n",
    "\n",
    "    if len(y_pred) >= 1000:\n",
    "        break"
   ]
  },
  {
   "cell_type": "code",
   "execution_count": 18,
   "metadata": {},
   "outputs": [
    {
     "data": {
      "text/plain": [
       "0.947"
      ]
     },
     "execution_count": 18,
     "metadata": {},
     "output_type": "execute_result"
    }
   ],
   "source": [
    "import numpy as np\n",
    "(np.array(y_true) == np.array(y_pred)).mean()"
   ]
  },
  {
   "cell_type": "code",
   "execution_count": null,
   "metadata": {},
   "outputs": [],
   "source": []
  }
 ],
 "metadata": {
  "kernelspec": {
   "display_name": "ml3.11",
   "language": "python",
   "name": "python3"
  },
  "language_info": {
   "codemirror_mode": {
    "name": "ipython",
    "version": 3
   },
   "file_extension": ".py",
   "mimetype": "text/x-python",
   "name": "python",
   "nbconvert_exporter": "python",
   "pygments_lexer": "ipython3",
   "version": "3.11.9"
  }
 },
 "nbformat": 4,
 "nbformat_minor": 2
}
