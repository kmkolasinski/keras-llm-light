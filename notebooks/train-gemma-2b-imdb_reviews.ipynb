{
 "cells": [
  {
   "cell_type": "code",
   "execution_count": 1,
   "metadata": {},
   "outputs": [
    {
     "name": "stdout",
     "output_type": "stream",
     "text": [
      "The autoreload extension is already loaded. To reload it, use:\n",
      "  %reload_ext autoreload\n"
     ]
    }
   ],
   "source": [
    "%load_ext autoreload\n",
    "%autoreload 2"
   ]
  },
  {
   "cell_type": "code",
   "execution_count": 2,
   "metadata": {},
   "outputs": [
    {
     "name": "stderr",
     "output_type": "stream",
     "text": [
      "2024-06-15 17:51:35.841686: I tensorflow/core/util/port.cc:113] oneDNN custom operations are on. You may see slightly different numerical results due to floating-point round-off errors from different computation orders. To turn them off, set the environment variable `TF_ENABLE_ONEDNN_OPTS=0`.\n",
      "2024-06-15 17:51:35.875523: I tensorflow/core/platform/cpu_feature_guard.cc:210] This TensorFlow binary is optimized to use available CPU instructions in performance-critical operations.\n",
      "To enable the following instructions: AVX2 AVX512F AVX512_VNNI FMA, in other operations, rebuild TensorFlow with the appropriate compiler flags.\n",
      "2024-06-15 17:51:36.445429: W tensorflow/compiler/tf2tensorrt/utils/py_utils.cc:38] TF-TRT Warning: Could not find TensorRT\n"
     ]
    }
   ],
   "source": [
    "import tensorflow_datasets as tfds\n",
    "import tensorflow as tf\n",
    "import numpy as np\n",
    "import keras"
   ]
  },
  {
   "cell_type": "code",
   "execution_count": 3,
   "metadata": {},
   "outputs": [
    {
     "data": {
      "text/plain": [
       "('2.16.1', '3.3.3')"
      ]
     },
     "execution_count": 3,
     "metadata": {},
     "output_type": "execute_result"
    }
   ],
   "source": [
    "tf.__version__, keras.__version__"
   ]
  },
  {
   "cell_type": "code",
   "execution_count": 4,
   "metadata": {},
   "outputs": [],
   "source": [
    "# This is required to download Gemma model\n",
    "# import kagglehub\n",
    "# kagglehub.login()"
   ]
  },
  {
   "cell_type": "markdown",
   "metadata": {},
   "source": [
    "# Build model"
   ]
  },
  {
   "cell_type": "code",
   "execution_count": 5,
   "metadata": {},
   "outputs": [
    {
     "name": "stderr",
     "output_type": "stream",
     "text": [
      "2024-06-15 17:51:44.380697: I external/local_xla/xla/stream_executor/cuda/cuda_executor.cc:998] successful NUMA node read from SysFS had negative value (-1), but there must be at least one NUMA node, so returning NUMA node zero. See more at https://github.com/torvalds/linux/blob/v6.0/Documentation/ABI/testing/sysfs-bus-pci#L344-L355\n",
      "2024-06-15 17:51:44.407744: I external/local_xla/xla/stream_executor/cuda/cuda_executor.cc:998] successful NUMA node read from SysFS had negative value (-1), but there must be at least one NUMA node, so returning NUMA node zero. See more at https://github.com/torvalds/linux/blob/v6.0/Documentation/ABI/testing/sysfs-bus-pci#L344-L355\n",
      "2024-06-15 17:51:44.407889: I external/local_xla/xla/stream_executor/cuda/cuda_executor.cc:998] successful NUMA node read from SysFS had negative value (-1), but there must be at least one NUMA node, so returning NUMA node zero. See more at https://github.com/torvalds/linux/blob/v6.0/Documentation/ABI/testing/sysfs-bus-pci#L344-L355\n",
      "2024-06-15 17:51:44.408855: I external/local_xla/xla/stream_executor/cuda/cuda_executor.cc:998] successful NUMA node read from SysFS had negative value (-1), but there must be at least one NUMA node, so returning NUMA node zero. See more at https://github.com/torvalds/linux/blob/v6.0/Documentation/ABI/testing/sysfs-bus-pci#L344-L355\n",
      "2024-06-15 17:51:44.408975: I external/local_xla/xla/stream_executor/cuda/cuda_executor.cc:998] successful NUMA node read from SysFS had negative value (-1), but there must be at least one NUMA node, so returning NUMA node zero. See more at https://github.com/torvalds/linux/blob/v6.0/Documentation/ABI/testing/sysfs-bus-pci#L344-L355\n",
      "2024-06-15 17:51:44.409056: I external/local_xla/xla/stream_executor/cuda/cuda_executor.cc:998] successful NUMA node read from SysFS had negative value (-1), but there must be at least one NUMA node, so returning NUMA node zero. See more at https://github.com/torvalds/linux/blob/v6.0/Documentation/ABI/testing/sysfs-bus-pci#L344-L355\n",
      "2024-06-15 17:51:44.463149: I external/local_xla/xla/stream_executor/cuda/cuda_executor.cc:998] successful NUMA node read from SysFS had negative value (-1), but there must be at least one NUMA node, so returning NUMA node zero. See more at https://github.com/torvalds/linux/blob/v6.0/Documentation/ABI/testing/sysfs-bus-pci#L344-L355\n",
      "2024-06-15 17:51:44.463285: I external/local_xla/xla/stream_executor/cuda/cuda_executor.cc:998] successful NUMA node read from SysFS had negative value (-1), but there must be at least one NUMA node, so returning NUMA node zero. See more at https://github.com/torvalds/linux/blob/v6.0/Documentation/ABI/testing/sysfs-bus-pci#L344-L355\n",
      "2024-06-15 17:51:44.463350: W tensorflow/core/common_runtime/gpu/gpu_bfc_allocator.cc:47] Overriding orig_value setting because the TF_FORCE_GPU_ALLOW_GROWTH environment variable is set. Original config value was 0.\n",
      "2024-06-15 17:51:44.463378: I external/local_xla/xla/stream_executor/cuda/cuda_executor.cc:998] successful NUMA node read from SysFS had negative value (-1), but there must be at least one NUMA node, so returning NUMA node zero. See more at https://github.com/torvalds/linux/blob/v6.0/Documentation/ABI/testing/sysfs-bus-pci#L344-L355\n",
      "2024-06-15 17:51:44.463452: I tensorflow/core/common_runtime/gpu/gpu_device.cc:1928] Created device /job:localhost/replica:0/task:0/device:GPU:0 with 5439 MB memory:  -> device: 0, name: NVIDIA RTX A4000 Laptop GPU, pci bus id: 0000:01:00.0, compute capability: 8.6\n"
     ]
    },
    {
     "name": "stdout",
     "output_type": "stream",
     "text": [
      "Building Gemma 2B model on CPU ...\n"
     ]
    },
    {
     "name": "stderr",
     "output_type": "stream",
     "text": [
      "normalizer.cc(51) LOG(INFO) precompiled_charsmap is empty. use identity normalization.\n"
     ]
    },
    {
     "data": {
      "text/html": [
       "<pre style=\"white-space:pre;overflow-x:auto;line-height:normal;font-family:Menlo,'DejaVu Sans Mono',consolas,'Courier New',monospace\"><span style=\"font-weight: bold\">Preprocessor: \"gemma_causal_lm_preprocessor\"</span>\n",
       "</pre>\n"
      ],
      "text/plain": [
       "\u001b[1mPreprocessor: \"gemma_causal_lm_preprocessor\"\u001b[0m\n"
      ]
     },
     "metadata": {},
     "output_type": "display_data"
    },
    {
     "data": {
      "text/html": [
       "<pre style=\"white-space:pre;overflow-x:auto;line-height:normal;font-family:Menlo,'DejaVu Sans Mono',consolas,'Courier New',monospace\">┏━━━━━━━━━━━━━━━━━━━━━━━━━━━━━━━━━━━━━━━━━━━━━━━━━━━━┳━━━━━━━━━━━━━━━━━━━━━━━━━━━━━━━━━━━━━━━━━━━━━━━━━━━━━┓\n",
       "┃<span style=\"font-weight: bold\"> Tokenizer (type)                                   </span>┃<span style=\"font-weight: bold\">                                             Vocab # </span>┃\n",
       "┡━━━━━━━━━━━━━━━━━━━━━━━━━━━━━━━━━━━━━━━━━━━━━━━━━━━━╇━━━━━━━━━━━━━━━━━━━━━━━━━━━━━━━━━━━━━━━━━━━━━━━━━━━━━┩\n",
       "│ gemma_tokenizer (<span style=\"color: #0087ff; text-decoration-color: #0087ff\">GemmaTokenizer</span>)                   │                                             <span style=\"color: #00af00; text-decoration-color: #00af00\">256,000</span> │\n",
       "└────────────────────────────────────────────────────┴─────────────────────────────────────────────────────┘\n",
       "</pre>\n"
      ],
      "text/plain": [
       "┏━━━━━━━━━━━━━━━━━━━━━━━━━━━━━━━━━━━━━━━━━━━━━━━━━━━━┳━━━━━━━━━━━━━━━━━━━━━━━━━━━━━━━━━━━━━━━━━━━━━━━━━━━━━┓\n",
       "┃\u001b[1m \u001b[0m\u001b[1mTokenizer (type)                                  \u001b[0m\u001b[1m \u001b[0m┃\u001b[1m \u001b[0m\u001b[1m                                            Vocab #\u001b[0m\u001b[1m \u001b[0m┃\n",
       "┡━━━━━━━━━━━━━━━━━━━━━━━━━━━━━━━━━━━━━━━━━━━━━━━━━━━━╇━━━━━━━━━━━━━━━━━━━━━━━━━━━━━━━━━━━━━━━━━━━━━━━━━━━━━┩\n",
       "│ gemma_tokenizer (\u001b[38;5;33mGemmaTokenizer\u001b[0m)                   │                                             \u001b[38;5;34m256,000\u001b[0m │\n",
       "└────────────────────────────────────────────────────┴─────────────────────────────────────────────────────┘\n"
      ]
     },
     "metadata": {},
     "output_type": "display_data"
    },
    {
     "data": {
      "text/html": [
       "<pre style=\"white-space:pre;overflow-x:auto;line-height:normal;font-family:Menlo,'DejaVu Sans Mono',consolas,'Courier New',monospace\"><span style=\"font-weight: bold\">Model: \"gemma_causal_lm\"</span>\n",
       "</pre>\n"
      ],
      "text/plain": [
       "\u001b[1mModel: \"gemma_causal_lm\"\u001b[0m\n"
      ]
     },
     "metadata": {},
     "output_type": "display_data"
    },
    {
     "data": {
      "text/html": [
       "<pre style=\"white-space:pre;overflow-x:auto;line-height:normal;font-family:Menlo,'DejaVu Sans Mono',consolas,'Courier New',monospace\">┏━━━━━━━━━━━━━━━━━━━━━━━━━━━━━━━┳━━━━━━━━━━━━━━━━━━━━━━━━━━━┳━━━━━━━━━━━━━━━━━┳━━━━━━━━━━━━━━━━━━━━━━━━━━━━┓\n",
       "┃<span style=\"font-weight: bold\"> Layer (type)                  </span>┃<span style=\"font-weight: bold\"> Output Shape              </span>┃<span style=\"font-weight: bold\">         Param # </span>┃<span style=\"font-weight: bold\"> Connected to               </span>┃\n",
       "┡━━━━━━━━━━━━━━━━━━━━━━━━━━━━━━━╇━━━━━━━━━━━━━━━━━━━━━━━━━━━╇━━━━━━━━━━━━━━━━━╇━━━━━━━━━━━━━━━━━━━━━━━━━━━━┩\n",
       "│ padding_mask (<span style=\"color: #0087ff; text-decoration-color: #0087ff\">InputLayer</span>)     │ (<span style=\"color: #00d7ff; text-decoration-color: #00d7ff\">None</span>, <span style=\"color: #00d7ff; text-decoration-color: #00d7ff\">None</span>)              │               <span style=\"color: #00af00; text-decoration-color: #00af00\">0</span> │ -                          │\n",
       "├───────────────────────────────┼───────────────────────────┼─────────────────┼────────────────────────────┤\n",
       "│ token_ids (<span style=\"color: #0087ff; text-decoration-color: #0087ff\">InputLayer</span>)        │ (<span style=\"color: #00d7ff; text-decoration-color: #00d7ff\">None</span>, <span style=\"color: #00d7ff; text-decoration-color: #00d7ff\">None</span>)              │               <span style=\"color: #00af00; text-decoration-color: #00af00\">0</span> │ -                          │\n",
       "├───────────────────────────────┼───────────────────────────┼─────────────────┼────────────────────────────┤\n",
       "│ gemma_backbone                │ (<span style=\"color: #00d7ff; text-decoration-color: #00d7ff\">None</span>, <span style=\"color: #00d7ff; text-decoration-color: #00d7ff\">None</span>, <span style=\"color: #00af00; text-decoration-color: #00af00\">2048</span>)        │   <span style=\"color: #00af00; text-decoration-color: #00af00\">2,506,172,416</span> │ padding_mask[<span style=\"color: #00af00; text-decoration-color: #00af00\">0</span>][<span style=\"color: #00af00; text-decoration-color: #00af00\">0</span>],        │\n",
       "│ (<span style=\"color: #0087ff; text-decoration-color: #0087ff\">GemmaBackbone</span>)               │                           │                 │ token_ids[<span style=\"color: #00af00; text-decoration-color: #00af00\">0</span>][<span style=\"color: #00af00; text-decoration-color: #00af00\">0</span>]            │\n",
       "├───────────────────────────────┼───────────────────────────┼─────────────────┼────────────────────────────┤\n",
       "│ token_embedding               │ (<span style=\"color: #00d7ff; text-decoration-color: #00d7ff\">None</span>, <span style=\"color: #00d7ff; text-decoration-color: #00d7ff\">None</span>, <span style=\"color: #00af00; text-decoration-color: #00af00\">256000</span>)      │     <span style=\"color: #00af00; text-decoration-color: #00af00\">524,288,000</span> │ gemma_backbone[<span style=\"color: #00af00; text-decoration-color: #00af00\">0</span>][<span style=\"color: #00af00; text-decoration-color: #00af00\">0</span>]       │\n",
       "│ (<span style=\"color: #0087ff; text-decoration-color: #0087ff\">ReversibleEmbedding</span>)         │                           │                 │                            │\n",
       "└───────────────────────────────┴───────────────────────────┴─────────────────┴────────────────────────────┘\n",
       "</pre>\n"
      ],
      "text/plain": [
       "┏━━━━━━━━━━━━━━━━━━━━━━━━━━━━━━━┳━━━━━━━━━━━━━━━━━━━━━━━━━━━┳━━━━━━━━━━━━━━━━━┳━━━━━━━━━━━━━━━━━━━━━━━━━━━━┓\n",
       "┃\u001b[1m \u001b[0m\u001b[1mLayer (type)                 \u001b[0m\u001b[1m \u001b[0m┃\u001b[1m \u001b[0m\u001b[1mOutput Shape             \u001b[0m\u001b[1m \u001b[0m┃\u001b[1m \u001b[0m\u001b[1m        Param #\u001b[0m\u001b[1m \u001b[0m┃\u001b[1m \u001b[0m\u001b[1mConnected to              \u001b[0m\u001b[1m \u001b[0m┃\n",
       "┡━━━━━━━━━━━━━━━━━━━━━━━━━━━━━━━╇━━━━━━━━━━━━━━━━━━━━━━━━━━━╇━━━━━━━━━━━━━━━━━╇━━━━━━━━━━━━━━━━━━━━━━━━━━━━┩\n",
       "│ padding_mask (\u001b[38;5;33mInputLayer\u001b[0m)     │ (\u001b[38;5;45mNone\u001b[0m, \u001b[38;5;45mNone\u001b[0m)              │               \u001b[38;5;34m0\u001b[0m │ -                          │\n",
       "├───────────────────────────────┼───────────────────────────┼─────────────────┼────────────────────────────┤\n",
       "│ token_ids (\u001b[38;5;33mInputLayer\u001b[0m)        │ (\u001b[38;5;45mNone\u001b[0m, \u001b[38;5;45mNone\u001b[0m)              │               \u001b[38;5;34m0\u001b[0m │ -                          │\n",
       "├───────────────────────────────┼───────────────────────────┼─────────────────┼────────────────────────────┤\n",
       "│ gemma_backbone                │ (\u001b[38;5;45mNone\u001b[0m, \u001b[38;5;45mNone\u001b[0m, \u001b[38;5;34m2048\u001b[0m)        │   \u001b[38;5;34m2,506,172,416\u001b[0m │ padding_mask[\u001b[38;5;34m0\u001b[0m][\u001b[38;5;34m0\u001b[0m],        │\n",
       "│ (\u001b[38;5;33mGemmaBackbone\u001b[0m)               │                           │                 │ token_ids[\u001b[38;5;34m0\u001b[0m][\u001b[38;5;34m0\u001b[0m]            │\n",
       "├───────────────────────────────┼───────────────────────────┼─────────────────┼────────────────────────────┤\n",
       "│ token_embedding               │ (\u001b[38;5;45mNone\u001b[0m, \u001b[38;5;45mNone\u001b[0m, \u001b[38;5;34m256000\u001b[0m)      │     \u001b[38;5;34m524,288,000\u001b[0m │ gemma_backbone[\u001b[38;5;34m0\u001b[0m][\u001b[38;5;34m0\u001b[0m]       │\n",
       "│ (\u001b[38;5;33mReversibleEmbedding\u001b[0m)         │                           │                 │                            │\n",
       "└───────────────────────────────┴───────────────────────────┴─────────────────┴────────────────────────────┘\n"
      ]
     },
     "metadata": {},
     "output_type": "display_data"
    },
    {
     "data": {
      "text/html": [
       "<pre style=\"white-space:pre;overflow-x:auto;line-height:normal;font-family:Menlo,'DejaVu Sans Mono',consolas,'Courier New',monospace\"><span style=\"font-weight: bold\"> Total params: </span><span style=\"color: #00af00; text-decoration-color: #00af00\">2,506,172,416</span> (9.34 GB)\n",
       "</pre>\n"
      ],
      "text/plain": [
       "\u001b[1m Total params: \u001b[0m\u001b[38;5;34m2,506,172,416\u001b[0m (9.34 GB)\n"
      ]
     },
     "metadata": {},
     "output_type": "display_data"
    },
    {
     "data": {
      "text/html": [
       "<pre style=\"white-space:pre;overflow-x:auto;line-height:normal;font-family:Menlo,'DejaVu Sans Mono',consolas,'Courier New',monospace\"><span style=\"font-weight: bold\"> Trainable params: </span><span style=\"color: #00af00; text-decoration-color: #00af00\">2,506,172,416</span> (9.34 GB)\n",
       "</pre>\n"
      ],
      "text/plain": [
       "\u001b[1m Trainable params: \u001b[0m\u001b[38;5;34m2,506,172,416\u001b[0m (9.34 GB)\n"
      ]
     },
     "metadata": {},
     "output_type": "display_data"
    },
    {
     "data": {
      "text/html": [
       "<pre style=\"white-space:pre;overflow-x:auto;line-height:normal;font-family:Menlo,'DejaVu Sans Mono',consolas,'Courier New',monospace\"><span style=\"font-weight: bold\"> Non-trainable params: </span><span style=\"color: #00af00; text-decoration-color: #00af00\">0</span> (0.00 B)\n",
       "</pre>\n"
      ],
      "text/plain": [
       "\u001b[1m Non-trainable params: \u001b[0m\u001b[38;5;34m0\u001b[0m (0.00 B)\n"
      ]
     },
     "metadata": {},
     "output_type": "display_data"
    },
    {
     "name": "stderr",
     "output_type": "stream",
     "text": [
      "2024-06-15 17:51:55.973107: E tensorflow/core/util/util.cc:131] oneDNN supports DT_HALF only on platforms with AVX-512. Falling back to the default Eigen-based implementation if present.\n"
     ]
    },
    {
     "name": "stdout",
     "output_type": "stream",
     "text": [
      "Single block trainable weights:\n",
      "- decoder_block/attention/query/lora_A/kernel [2048, 4]\n",
      "- decoder_block/attention/query/lora_B/kernel [8, 4, 256]\n",
      "- decoder_block/attention/value/lora_A/kernel [2048, 4]\n",
      "- decoder_block/attention/value/lora_B/kernel [1, 4, 256]\n",
      "Collecting transformer block weights ...\n"
     ]
    },
    {
     "name": "stderr",
     "output_type": "stream",
     "text": [
      "Preparing/Quantizing weights: 100%|██████████| 18/18 [00:32<00:00,  1.83s/it]\n"
     ]
    },
    {
     "data": {
      "text/html": [
       "<pre style=\"white-space:pre;overflow-x:auto;line-height:normal;font-family:Menlo,'DejaVu Sans Mono',consolas,'Courier New',monospace\"><span style=\"font-style: italic\">                                        Block Memory Usage (Num blocks 18)                                         </span>\n",
       "┏━━━━━━━━━━━━━━━━━━━━━━━━━━━━━━━━━━━━━━━━━━━━━━━━━┳━━━━━━━━━━━━━┳━━━━━━━━━┳━━━━━━━━━━━━━┳━━━━━━━━━━━━━┳━━━━━━━━━━━┓\n",
       "┃<span style=\"font-weight: bold\">                                                 </span>┃<span style=\"font-weight: bold\">             </span>┃<span style=\"font-weight: bold\">         </span>┃<span style=\"font-weight: bold\">   Mem Usage </span>┃<span style=\"font-weight: bold\">    FP32 Mem </span>┃<span style=\"font-weight: bold\">           </span>┃\n",
       "┃<span style=\"font-weight: bold\">                                          Tensor </span>┃<span style=\"font-weight: bold\">       Shape </span>┃<span style=\"font-weight: bold\">   dtype </span>┃<span style=\"font-weight: bold\">        [MB] </span>┃<span style=\"font-weight: bold\">  Usage [MB] </span>┃<span style=\"font-weight: bold\"> Trainable </span>┃\n",
       "┡━━━━━━━━━━━━━━━━━━━━━━━━━━━━━━━━━━━━━━━━━━━━━━━━━╇━━━━━━━━━━━━━╇━━━━━━━━━╇━━━━━━━━━━━━━╇━━━━━━━━━━━━━╇━━━━━━━━━━━┩\n",
       "│<span style=\"color: #008080; text-decoration-color: #008080\">          decoder_block/pre_attention_norm/scale </span>│<span style=\"color: #800080; text-decoration-color: #800080\">      [2048] </span>│<span style=\"color: #008000; text-decoration-color: #008000\"> float16 </span>│<span style=\"color: #008000; text-decoration-color: #008000\">       0.004 </span>│<span style=\"color: #008000; text-decoration-color: #008000\">       0.008 </span>│<span style=\"color: #008000; text-decoration-color: #008000\">     False </span>│\n",
       "│<span style=\"color: #008080; text-decoration-color: #008080\">            decoder_block/attention/query/kernel </span>│<span style=\"color: #800080; text-decoration-color: #800080\">   [8, 2048, </span>│<span style=\"color: #008000; text-decoration-color: #008000\"> float16 </span>│<span style=\"color: #008000; text-decoration-color: #008000\">       8.000 </span>│<span style=\"color: #008000; text-decoration-color: #008000\">      16.000 </span>│<span style=\"color: #008000; text-decoration-color: #008000\">     False </span>│\n",
       "│<span style=\"color: #008080; text-decoration-color: #008080\">                                                 </span>│<span style=\"color: #800080; text-decoration-color: #800080\">        256] </span>│<span style=\"color: #008000; text-decoration-color: #008000\">         </span>│<span style=\"color: #008000; text-decoration-color: #008000\">             </span>│<span style=\"color: #008000; text-decoration-color: #008000\">             </span>│<span style=\"color: #008000; text-decoration-color: #008000\">           </span>│\n",
       "│<span style=\"color: #008080; text-decoration-color: #008080\">              decoder_block/attention/key/kernel </span>│<span style=\"color: #800080; text-decoration-color: #800080\">   [1, 2048, </span>│<span style=\"color: #008000; text-decoration-color: #008000\"> float16 </span>│<span style=\"color: #008000; text-decoration-color: #008000\">       1.000 </span>│<span style=\"color: #008000; text-decoration-color: #008000\">       2.000 </span>│<span style=\"color: #008000; text-decoration-color: #008000\">     False </span>│\n",
       "│<span style=\"color: #008080; text-decoration-color: #008080\">                                                 </span>│<span style=\"color: #800080; text-decoration-color: #800080\">        256] </span>│<span style=\"color: #008000; text-decoration-color: #008000\">         </span>│<span style=\"color: #008000; text-decoration-color: #008000\">             </span>│<span style=\"color: #008000; text-decoration-color: #008000\">             </span>│<span style=\"color: #008000; text-decoration-color: #008000\">           </span>│\n",
       "│<span style=\"color: #008080; text-decoration-color: #008080\">            decoder_block/attention/value/kernel </span>│<span style=\"color: #800080; text-decoration-color: #800080\">   [1, 2048, </span>│<span style=\"color: #008000; text-decoration-color: #008000\"> float16 </span>│<span style=\"color: #008000; text-decoration-color: #008000\">       1.000 </span>│<span style=\"color: #008000; text-decoration-color: #008000\">       2.000 </span>│<span style=\"color: #008000; text-decoration-color: #008000\">     False </span>│\n",
       "│<span style=\"color: #008080; text-decoration-color: #008080\">                                                 </span>│<span style=\"color: #800080; text-decoration-color: #800080\">        256] </span>│<span style=\"color: #008000; text-decoration-color: #008000\">         </span>│<span style=\"color: #008000; text-decoration-color: #008000\">             </span>│<span style=\"color: #008000; text-decoration-color: #008000\">             </span>│<span style=\"color: #008000; text-decoration-color: #008000\">           </span>│\n",
       "│<span style=\"color: #008080; text-decoration-color: #008080\"> decoder_block/attention/attention_output/kernel </span>│<span style=\"color: #800080; text-decoration-color: #800080\">    [8, 256, </span>│<span style=\"color: #008000; text-decoration-color: #008000\"> float16 </span>│<span style=\"color: #008000; text-decoration-color: #008000\">       8.000 </span>│<span style=\"color: #008000; text-decoration-color: #008000\">      16.000 </span>│<span style=\"color: #008000; text-decoration-color: #008000\">     False </span>│\n",
       "│<span style=\"color: #008080; text-decoration-color: #008080\">                                                 </span>│<span style=\"color: #800080; text-decoration-color: #800080\">       2048] </span>│<span style=\"color: #008000; text-decoration-color: #008000\">         </span>│<span style=\"color: #008000; text-decoration-color: #008000\">             </span>│<span style=\"color: #008000; text-decoration-color: #008000\">             </span>│<span style=\"color: #008000; text-decoration-color: #008000\">           </span>│\n",
       "│<span style=\"color: #008080; text-decoration-color: #008080\">     decoder_block/attention/query/lora_A/kernel </span>│<span style=\"color: #800080; text-decoration-color: #800080\">   [2048, 4] </span>│<span style=\"color: #008000; text-decoration-color: #008000\"> float32 </span>│<span style=\"color: #008000; text-decoration-color: #008000\">       0.031 </span>│<span style=\"color: #008000; text-decoration-color: #008000\">       0.031 </span>│<span style=\"color: #008000; text-decoration-color: #008000\">      True </span>│\n",
       "│<span style=\"color: #008080; text-decoration-color: #008080\">     decoder_block/attention/query/lora_B/kernel </span>│<span style=\"color: #800080; text-decoration-color: #800080\"> [8, 4, 256] </span>│<span style=\"color: #008000; text-decoration-color: #008000\"> float32 </span>│<span style=\"color: #008000; text-decoration-color: #008000\">       0.031 </span>│<span style=\"color: #008000; text-decoration-color: #008000\">       0.031 </span>│<span style=\"color: #008000; text-decoration-color: #008000\">      True </span>│\n",
       "│<span style=\"color: #008080; text-decoration-color: #008080\">     decoder_block/attention/value/lora_A/kernel </span>│<span style=\"color: #800080; text-decoration-color: #800080\">   [2048, 4] </span>│<span style=\"color: #008000; text-decoration-color: #008000\"> float32 </span>│<span style=\"color: #008000; text-decoration-color: #008000\">       0.031 </span>│<span style=\"color: #008000; text-decoration-color: #008000\">       0.031 </span>│<span style=\"color: #008000; text-decoration-color: #008000\">      True </span>│\n",
       "│<span style=\"color: #008080; text-decoration-color: #008080\">     decoder_block/attention/value/lora_B/kernel </span>│<span style=\"color: #800080; text-decoration-color: #800080\"> [1, 4, 256] </span>│<span style=\"color: #008000; text-decoration-color: #008000\"> float32 </span>│<span style=\"color: #008000; text-decoration-color: #008000\">       0.004 </span>│<span style=\"color: #008000; text-decoration-color: #008000\">       0.004 </span>│<span style=\"color: #008000; text-decoration-color: #008000\">      True </span>│\n",
       "│<span style=\"color: #008080; text-decoration-color: #008080\">                decoder_block/pre_ffw_norm/scale </span>│<span style=\"color: #800080; text-decoration-color: #800080\">      [2048] </span>│<span style=\"color: #008000; text-decoration-color: #008000\">   uint8 </span>│<span style=\"color: #008000; text-decoration-color: #008000\">       0.002 </span>│<span style=\"color: #008000; text-decoration-color: #008000\">       0.008 </span>│<span style=\"color: #008000; text-decoration-color: #008000\">     False </span>│\n",
       "│<span style=\"color: #008080; text-decoration-color: #008080\">                 decoder_block/ffw_gating/kernel </span>│<span style=\"color: #800080; text-decoration-color: #800080\">      [2048, </span>│<span style=\"color: #008000; text-decoration-color: #008000\">   uint8 </span>│<span style=\"color: #008000; text-decoration-color: #008000\">      33.130 </span>│<span style=\"color: #008000; text-decoration-color: #008000\">     128.000 </span>│<span style=\"color: #008000; text-decoration-color: #008000\">     False </span>│\n",
       "│<span style=\"color: #008080; text-decoration-color: #008080\">                                                 </span>│<span style=\"color: #800080; text-decoration-color: #800080\">      16384] </span>│<span style=\"color: #008000; text-decoration-color: #008000\">         </span>│<span style=\"color: #008000; text-decoration-color: #008000\">             </span>│<span style=\"color: #008000; text-decoration-color: #008000\">             </span>│<span style=\"color: #008000; text-decoration-color: #008000\">           </span>│\n",
       "│<span style=\"color: #008080; text-decoration-color: #008080\">               decoder_block/ffw_gating_2/kernel </span>│<span style=\"color: #800080; text-decoration-color: #800080\">      [2048, </span>│<span style=\"color: #008000; text-decoration-color: #008000\">   uint8 </span>│<span style=\"color: #008000; text-decoration-color: #008000\">      33.131 </span>│<span style=\"color: #008000; text-decoration-color: #008000\">     128.000 </span>│<span style=\"color: #008000; text-decoration-color: #008000\">     False </span>│\n",
       "│<span style=\"color: #008080; text-decoration-color: #008080\">                                                 </span>│<span style=\"color: #800080; text-decoration-color: #800080\">      16384] </span>│<span style=\"color: #008000; text-decoration-color: #008000\">         </span>│<span style=\"color: #008000; text-decoration-color: #008000\">             </span>│<span style=\"color: #008000; text-decoration-color: #008000\">             </span>│<span style=\"color: #008000; text-decoration-color: #008000\">           </span>│\n",
       "│<span style=\"color: #008080; text-decoration-color: #008080\">                 decoder_block/ffw_linear/kernel </span>│<span style=\"color: #800080; text-decoration-color: #800080\">     [16384, </span>│<span style=\"color: #008000; text-decoration-color: #008000\">   uint8 </span>│<span style=\"color: #008000; text-decoration-color: #008000\">      33.138 </span>│<span style=\"color: #008000; text-decoration-color: #008000\">     128.000 </span>│<span style=\"color: #008000; text-decoration-color: #008000\">     False </span>│\n",
       "│<span style=\"color: #008080; text-decoration-color: #008080\">                                                 </span>│<span style=\"color: #800080; text-decoration-color: #800080\">       2048] </span>│<span style=\"color: #008000; text-decoration-color: #008000\">         </span>│<span style=\"color: #008000; text-decoration-color: #008000\">             </span>│<span style=\"color: #008000; text-decoration-color: #008000\">             </span>│<span style=\"color: #008000; text-decoration-color: #008000\">           </span>│\n",
       "└─────────────────────────────────────────────────┴─────────────┴─────────┴─────────────┴─────────────┴───────────┘\n",
       "</pre>\n"
      ],
      "text/plain": [
       "\u001b[3m                                        Block Memory Usage (Num blocks 18)                                         \u001b[0m\n",
       "┏━━━━━━━━━━━━━━━━━━━━━━━━━━━━━━━━━━━━━━━━━━━━━━━━━┳━━━━━━━━━━━━━┳━━━━━━━━━┳━━━━━━━━━━━━━┳━━━━━━━━━━━━━┳━━━━━━━━━━━┓\n",
       "┃\u001b[1m                                                 \u001b[0m┃\u001b[1m             \u001b[0m┃\u001b[1m         \u001b[0m┃\u001b[1m \u001b[0m\u001b[1m  Mem Usage\u001b[0m\u001b[1m \u001b[0m┃\u001b[1m \u001b[0m\u001b[1m   FP32 Mem\u001b[0m\u001b[1m \u001b[0m┃\u001b[1m           \u001b[0m┃\n",
       "┃\u001b[1m \u001b[0m\u001b[1m                                         Tensor\u001b[0m\u001b[1m \u001b[0m┃\u001b[1m \u001b[0m\u001b[1m      Shape\u001b[0m\u001b[1m \u001b[0m┃\u001b[1m \u001b[0m\u001b[1m  dtype\u001b[0m\u001b[1m \u001b[0m┃\u001b[1m \u001b[0m\u001b[1m       [MB]\u001b[0m\u001b[1m \u001b[0m┃\u001b[1m \u001b[0m\u001b[1m Usage [MB]\u001b[0m\u001b[1m \u001b[0m┃\u001b[1m \u001b[0m\u001b[1mTrainable\u001b[0m\u001b[1m \u001b[0m┃\n",
       "┡━━━━━━━━━━━━━━━━━━━━━━━━━━━━━━━━━━━━━━━━━━━━━━━━━╇━━━━━━━━━━━━━╇━━━━━━━━━╇━━━━━━━━━━━━━╇━━━━━━━━━━━━━╇━━━━━━━━━━━┩\n",
       "│\u001b[36m \u001b[0m\u001b[36m         decoder_block/pre_attention_norm/scale\u001b[0m\u001b[36m \u001b[0m│\u001b[35m \u001b[0m\u001b[35m     [2048]\u001b[0m\u001b[35m \u001b[0m│\u001b[32m \u001b[0m\u001b[32mfloat16\u001b[0m\u001b[32m \u001b[0m│\u001b[32m \u001b[0m\u001b[32m      0.004\u001b[0m\u001b[32m \u001b[0m│\u001b[32m \u001b[0m\u001b[32m      0.008\u001b[0m\u001b[32m \u001b[0m│\u001b[32m \u001b[0m\u001b[32m    False\u001b[0m\u001b[32m \u001b[0m│\n",
       "│\u001b[36m \u001b[0m\u001b[36m           decoder_block/attention/query/kernel\u001b[0m\u001b[36m \u001b[0m│\u001b[35m \u001b[0m\u001b[35m  [8, 2048,\u001b[0m\u001b[35m \u001b[0m│\u001b[32m \u001b[0m\u001b[32mfloat16\u001b[0m\u001b[32m \u001b[0m│\u001b[32m \u001b[0m\u001b[32m      8.000\u001b[0m\u001b[32m \u001b[0m│\u001b[32m \u001b[0m\u001b[32m     16.000\u001b[0m\u001b[32m \u001b[0m│\u001b[32m \u001b[0m\u001b[32m    False\u001b[0m\u001b[32m \u001b[0m│\n",
       "│\u001b[36m                                                 \u001b[0m│\u001b[35m \u001b[0m\u001b[35m       256]\u001b[0m\u001b[35m \u001b[0m│\u001b[32m         \u001b[0m│\u001b[32m             \u001b[0m│\u001b[32m             \u001b[0m│\u001b[32m           \u001b[0m│\n",
       "│\u001b[36m \u001b[0m\u001b[36m             decoder_block/attention/key/kernel\u001b[0m\u001b[36m \u001b[0m│\u001b[35m \u001b[0m\u001b[35m  [1, 2048,\u001b[0m\u001b[35m \u001b[0m│\u001b[32m \u001b[0m\u001b[32mfloat16\u001b[0m\u001b[32m \u001b[0m│\u001b[32m \u001b[0m\u001b[32m      1.000\u001b[0m\u001b[32m \u001b[0m│\u001b[32m \u001b[0m\u001b[32m      2.000\u001b[0m\u001b[32m \u001b[0m│\u001b[32m \u001b[0m\u001b[32m    False\u001b[0m\u001b[32m \u001b[0m│\n",
       "│\u001b[36m                                                 \u001b[0m│\u001b[35m \u001b[0m\u001b[35m       256]\u001b[0m\u001b[35m \u001b[0m│\u001b[32m         \u001b[0m│\u001b[32m             \u001b[0m│\u001b[32m             \u001b[0m│\u001b[32m           \u001b[0m│\n",
       "│\u001b[36m \u001b[0m\u001b[36m           decoder_block/attention/value/kernel\u001b[0m\u001b[36m \u001b[0m│\u001b[35m \u001b[0m\u001b[35m  [1, 2048,\u001b[0m\u001b[35m \u001b[0m│\u001b[32m \u001b[0m\u001b[32mfloat16\u001b[0m\u001b[32m \u001b[0m│\u001b[32m \u001b[0m\u001b[32m      1.000\u001b[0m\u001b[32m \u001b[0m│\u001b[32m \u001b[0m\u001b[32m      2.000\u001b[0m\u001b[32m \u001b[0m│\u001b[32m \u001b[0m\u001b[32m    False\u001b[0m\u001b[32m \u001b[0m│\n",
       "│\u001b[36m                                                 \u001b[0m│\u001b[35m \u001b[0m\u001b[35m       256]\u001b[0m\u001b[35m \u001b[0m│\u001b[32m         \u001b[0m│\u001b[32m             \u001b[0m│\u001b[32m             \u001b[0m│\u001b[32m           \u001b[0m│\n",
       "│\u001b[36m \u001b[0m\u001b[36mdecoder_block/attention/attention_output/kernel\u001b[0m\u001b[36m \u001b[0m│\u001b[35m \u001b[0m\u001b[35m   [8, 256,\u001b[0m\u001b[35m \u001b[0m│\u001b[32m \u001b[0m\u001b[32mfloat16\u001b[0m\u001b[32m \u001b[0m│\u001b[32m \u001b[0m\u001b[32m      8.000\u001b[0m\u001b[32m \u001b[0m│\u001b[32m \u001b[0m\u001b[32m     16.000\u001b[0m\u001b[32m \u001b[0m│\u001b[32m \u001b[0m\u001b[32m    False\u001b[0m\u001b[32m \u001b[0m│\n",
       "│\u001b[36m                                                 \u001b[0m│\u001b[35m \u001b[0m\u001b[35m      2048]\u001b[0m\u001b[35m \u001b[0m│\u001b[32m         \u001b[0m│\u001b[32m             \u001b[0m│\u001b[32m             \u001b[0m│\u001b[32m           \u001b[0m│\n",
       "│\u001b[36m \u001b[0m\u001b[36m    decoder_block/attention/query/lora_A/kernel\u001b[0m\u001b[36m \u001b[0m│\u001b[35m \u001b[0m\u001b[35m  [2048, 4]\u001b[0m\u001b[35m \u001b[0m│\u001b[32m \u001b[0m\u001b[32mfloat32\u001b[0m\u001b[32m \u001b[0m│\u001b[32m \u001b[0m\u001b[32m      0.031\u001b[0m\u001b[32m \u001b[0m│\u001b[32m \u001b[0m\u001b[32m      0.031\u001b[0m\u001b[32m \u001b[0m│\u001b[32m \u001b[0m\u001b[32m     True\u001b[0m\u001b[32m \u001b[0m│\n",
       "│\u001b[36m \u001b[0m\u001b[36m    decoder_block/attention/query/lora_B/kernel\u001b[0m\u001b[36m \u001b[0m│\u001b[35m \u001b[0m\u001b[35m[8, 4, 256]\u001b[0m\u001b[35m \u001b[0m│\u001b[32m \u001b[0m\u001b[32mfloat32\u001b[0m\u001b[32m \u001b[0m│\u001b[32m \u001b[0m\u001b[32m      0.031\u001b[0m\u001b[32m \u001b[0m│\u001b[32m \u001b[0m\u001b[32m      0.031\u001b[0m\u001b[32m \u001b[0m│\u001b[32m \u001b[0m\u001b[32m     True\u001b[0m\u001b[32m \u001b[0m│\n",
       "│\u001b[36m \u001b[0m\u001b[36m    decoder_block/attention/value/lora_A/kernel\u001b[0m\u001b[36m \u001b[0m│\u001b[35m \u001b[0m\u001b[35m  [2048, 4]\u001b[0m\u001b[35m \u001b[0m│\u001b[32m \u001b[0m\u001b[32mfloat32\u001b[0m\u001b[32m \u001b[0m│\u001b[32m \u001b[0m\u001b[32m      0.031\u001b[0m\u001b[32m \u001b[0m│\u001b[32m \u001b[0m\u001b[32m      0.031\u001b[0m\u001b[32m \u001b[0m│\u001b[32m \u001b[0m\u001b[32m     True\u001b[0m\u001b[32m \u001b[0m│\n",
       "│\u001b[36m \u001b[0m\u001b[36m    decoder_block/attention/value/lora_B/kernel\u001b[0m\u001b[36m \u001b[0m│\u001b[35m \u001b[0m\u001b[35m[1, 4, 256]\u001b[0m\u001b[35m \u001b[0m│\u001b[32m \u001b[0m\u001b[32mfloat32\u001b[0m\u001b[32m \u001b[0m│\u001b[32m \u001b[0m\u001b[32m      0.004\u001b[0m\u001b[32m \u001b[0m│\u001b[32m \u001b[0m\u001b[32m      0.004\u001b[0m\u001b[32m \u001b[0m│\u001b[32m \u001b[0m\u001b[32m     True\u001b[0m\u001b[32m \u001b[0m│\n",
       "│\u001b[36m \u001b[0m\u001b[36m               decoder_block/pre_ffw_norm/scale\u001b[0m\u001b[36m \u001b[0m│\u001b[35m \u001b[0m\u001b[35m     [2048]\u001b[0m\u001b[35m \u001b[0m│\u001b[32m \u001b[0m\u001b[32m  uint8\u001b[0m\u001b[32m \u001b[0m│\u001b[32m \u001b[0m\u001b[32m      0.002\u001b[0m\u001b[32m \u001b[0m│\u001b[32m \u001b[0m\u001b[32m      0.008\u001b[0m\u001b[32m \u001b[0m│\u001b[32m \u001b[0m\u001b[32m    False\u001b[0m\u001b[32m \u001b[0m│\n",
       "│\u001b[36m \u001b[0m\u001b[36m                decoder_block/ffw_gating/kernel\u001b[0m\u001b[36m \u001b[0m│\u001b[35m \u001b[0m\u001b[35m     [2048,\u001b[0m\u001b[35m \u001b[0m│\u001b[32m \u001b[0m\u001b[32m  uint8\u001b[0m\u001b[32m \u001b[0m│\u001b[32m \u001b[0m\u001b[32m     33.130\u001b[0m\u001b[32m \u001b[0m│\u001b[32m \u001b[0m\u001b[32m    128.000\u001b[0m\u001b[32m \u001b[0m│\u001b[32m \u001b[0m\u001b[32m    False\u001b[0m\u001b[32m \u001b[0m│\n",
       "│\u001b[36m                                                 \u001b[0m│\u001b[35m \u001b[0m\u001b[35m     16384]\u001b[0m\u001b[35m \u001b[0m│\u001b[32m         \u001b[0m│\u001b[32m             \u001b[0m│\u001b[32m             \u001b[0m│\u001b[32m           \u001b[0m│\n",
       "│\u001b[36m \u001b[0m\u001b[36m              decoder_block/ffw_gating_2/kernel\u001b[0m\u001b[36m \u001b[0m│\u001b[35m \u001b[0m\u001b[35m     [2048,\u001b[0m\u001b[35m \u001b[0m│\u001b[32m \u001b[0m\u001b[32m  uint8\u001b[0m\u001b[32m \u001b[0m│\u001b[32m \u001b[0m\u001b[32m     33.131\u001b[0m\u001b[32m \u001b[0m│\u001b[32m \u001b[0m\u001b[32m    128.000\u001b[0m\u001b[32m \u001b[0m│\u001b[32m \u001b[0m\u001b[32m    False\u001b[0m\u001b[32m \u001b[0m│\n",
       "│\u001b[36m                                                 \u001b[0m│\u001b[35m \u001b[0m\u001b[35m     16384]\u001b[0m\u001b[35m \u001b[0m│\u001b[32m         \u001b[0m│\u001b[32m             \u001b[0m│\u001b[32m             \u001b[0m│\u001b[32m           \u001b[0m│\n",
       "│\u001b[36m \u001b[0m\u001b[36m                decoder_block/ffw_linear/kernel\u001b[0m\u001b[36m \u001b[0m│\u001b[35m \u001b[0m\u001b[35m    [16384,\u001b[0m\u001b[35m \u001b[0m│\u001b[32m \u001b[0m\u001b[32m  uint8\u001b[0m\u001b[32m \u001b[0m│\u001b[32m \u001b[0m\u001b[32m     33.138\u001b[0m\u001b[32m \u001b[0m│\u001b[32m \u001b[0m\u001b[32m    128.000\u001b[0m\u001b[32m \u001b[0m│\u001b[32m \u001b[0m\u001b[32m    False\u001b[0m\u001b[32m \u001b[0m│\n",
       "│\u001b[36m                                                 \u001b[0m│\u001b[35m \u001b[0m\u001b[35m      2048]\u001b[0m\u001b[35m \u001b[0m│\u001b[32m         \u001b[0m│\u001b[32m             \u001b[0m│\u001b[32m             \u001b[0m│\u001b[32m           \u001b[0m│\n",
       "└─────────────────────────────────────────────────┴─────────────┴─────────┴─────────────┴─────────────┴───────────┘\n"
      ]
     },
     "metadata": {},
     "output_type": "display_data"
    }
   ],
   "source": [
    "from keras_llm_light.models import gemma\n",
    "\n",
    "LORA_RANK = 4\n",
    "LORA_APLHA = 32.0\n",
    "MAX_SEQ_LENGTH = 1024\n",
    "\n",
    "optimizer = keras.optimizers.Adam(learning_rate=0.0001)\n",
    "\n",
    "trainer, llm = gemma.build_gemma_llm(\n",
    "    lora_rank=LORA_RANK,\n",
    "    lora_alpha=LORA_APLHA,\n",
    "    max_sequence_len=MAX_SEQ_LENGTH,\n",
    "    optimizer=optimizer,\n",
    ")"
   ]
  },
  {
   "cell_type": "markdown",
   "metadata": {},
   "source": [
    "# Train model"
   ]
  },
  {
   "cell_type": "code",
   "execution_count": 6,
   "metadata": {},
   "outputs": [
    {
     "name": "stderr",
     "output_type": "stream",
     "text": [
      "2024-06-15 17:52:41.253022: W tensorflow/core/kernels/data/cache_dataset_ops.cc:858] The calling iterator did not fully read the dataset being cached. In order to avoid unexpected truncation of the dataset, the partially cached contents of the dataset  will be discarded. This can happen if you have an input pipeline similar to `dataset.cache().take(k).repeat()`. You should use `dataset.take(k).cache().repeat()` instead.\n"
     ]
    },
    {
     "data": {
      "text/plain": [
       "{'label': <tf.Tensor: shape=(), dtype=int64, numpy=0>,\n",
       " 'text': <tf.Tensor: shape=(), dtype=string, numpy=b\"This was an absolutely terrible movie. Don't be lured in by Christopher Walken or Michael Ironside. Both are great actors, but this must simply be their worst role in history. Even their great acting could not redeem this movie's ridiculous storyline. This movie is an early nineties US propaganda piece. The most pathetic scenes were those when the Columbian rebels were making their cases for revolutions. Maria Conchita Alonso appeared phony, and her pseudo-love affair with Walken was nothing but a pathetic emotional plug in a movie that was devoid of any real meaning. I am disappointed that there are movies like this, ruining actor's like Christopher Walken's good name. I could barely sit through it.\">}"
      ]
     },
     "execution_count": 6,
     "metadata": {},
     "output_type": "execute_result"
    }
   ],
   "source": [
    "ds = tfds.load(\"imdb_reviews\", split=\"train\")\n",
    "\n",
    "for document in ds:\n",
    "    break\n",
    "\n",
    "document"
   ]
  },
  {
   "cell_type": "code",
   "execution_count": 7,
   "metadata": {},
   "outputs": [],
   "source": [
    "SEPARATOR  = \"Sentiment: \"\n",
    "LABEL_TO_SENTIMENT = tf.constant([\"Negative\", \"Positive\"])\n",
    "\n",
    "def prepare_text(document):\n",
    "    text = document['text']\n",
    "    sentiment = LABEL_TO_SENTIMENT[document['label']]\n",
    "    return text + f\"\\n{SEPARATOR}\" + sentiment"
   ]
  },
  {
   "cell_type": "code",
   "execution_count": 8,
   "metadata": {},
   "outputs": [],
   "source": [
    "BATCH_SIZE = 1\n",
    "\n",
    "train_ds = (\n",
    "    ds.map(prepare_text)\n",
    "    .repeat(-1)\n",
    "    .shuffle(2000)\n",
    "    .batch(BATCH_SIZE)\n",
    "    .prefetch(tf.data.AUTOTUNE)\n",
    ")"
   ]
  },
  {
   "cell_type": "code",
   "execution_count": 9,
   "metadata": {},
   "outputs": [],
   "source": [
    "train_ds_processed = train_ds.map(llm.preprocessor)\n",
    "train_ds_processed_iter = iter(train_ds_processed)"
   ]
  },
  {
   "cell_type": "code",
   "execution_count": 10,
   "metadata": {},
   "outputs": [
    {
     "name": "stdout",
     "output_type": "stream",
     "text": [
      "You could stage a version of Charles Dickens' \"A Christmas Carol\" with sock puppets and I'll probably watch it. Ever since I was a child, this has been one of my favorite stories. Maybe it's the idea that there is good in everyone, and that therefore no one is beyond redemption, that appeals to me, but for whatever reason I never miss an opportunity to watch one of the many screen adaptations of this timeless classic when they're on TV as they inevitably are this time of year.<br /><br />What makes this version really stand out is the somber gravitas that the cast bring to their respective roles. Lines we've heard dozens of times in the past take on a whole new intensity, and each character becomes more real and believable in the hands of this wonderful ensemble.<br /><br />George C. Scott was nominated for an Emmy in 1985 for this role. It is to his everlasting credit that rather than sleepwalking through this oft-portrayed role of Scrooge, he instead gave it a fresh interpretation that was, in my opinion, one of his finest performances ever. He wisely did not attempt a British accent, instead delivering his lines in that famous gravelly voice. His Scrooge is not merely a cranky old man (as he is so often portrayed), but a man who harbors a profound anger against the world. As he is visited in turn by each of the Three Spirits, we understand how this anger took root, grew, and ultimately strangled his soul. As he is forced to review his life, we see him alternately softening, and then relapsing again into unrepentant obstinacy. And in the great dramatic scene when he, kneeling and weeping at his own grave, begs for mercy as he attempts to convince the third spirit of his repentance and desire to alter his life, we see a man who has been utterly broken and brought to his knees literally and figuratively. Scott has made Scrooge utterly believable and painfully human.<br /><br />Impressive as Scott's performance is, the ensemble of supporting actors contributes significantly the this version's dark beauty. Fred Holywell, Scrooge's nephew, is an excellent example of this. Often portrayed as an affable buffoon, here he is played by Roger Rees with an emotional intensity missing from earlier portrayals. When he implores Scrooge, \"I ask nothing of you. I want nothing from you. Why can't we be friends?\", we see in his face not only his frustration, but his pain at Scrooge's self-imposed separation from his only living relative. It is a moving performance, and one of the movie's most dramatic scenes.<br /><br />Even more magnificent is the performance given by the wonderful English actor Frank Finlay as Scrooge's late partner, Jacob Marley. In most versions of this tale, the scene with Marley tends to be a bit of a low point in the film, simply because it's difficult to portray a dead man convincingly, and the results are usually just plain silly (ooooh, look, it's a scary ghost.......not!) In this version, it is perhaps the most riveting scene in the whole movie. Marley's entrance, as the locks on Scrooge's door fly open of their own accord and the sound of chains rattling echo throughout the house, is wonderfully creepy. But Finlay's Marley is no ethereal spirit. He is a tortured soul, inspiring both horror and pity. Marley may be a ghost, but his rage and regret over a life wasted on the pursuit of wealth, and his despair at his realization that his sins are now beyond redress, are still very human. As portrayed by Finlay, we have no problem believing that even the flinty Scrooge would be shaken by this nightmarish apparition. Finlay really steals the scene here, something not easy to do when you're opposite George C. Scott.<br /><br />And it just goes on and on, one remarkable performance after another, making it seem like you're experiencing this story for the first time. Edward Woodward (remember him from the Equalizer?) is by turns both jovial and menacing as the Ghost of Christmas Present. When he delivers the famous line, \"it may well be that in the sight of Heaven you are more worthless and less fit to live than MILLIONS like this poor man's child\" he is no longer a jolly Santa Claus surrogate, but an avenging angel who gives Scrooge a much needed verbal spanking.<br /><br />Susannah York is a wonderfully tart tongued Mrs. Cratchit, and David Warner brings marvelous depth to the long suffering Bob Cratchit, a man who goes through life bearing the triple crosses of poverty, a sick child, and an insufferable boss. His face alternately shows his cheerful courage, and also, at times, his weariness, in the face of intolerable circumstances. Later, in the scene in which Scrooge is shown by the Ghost of Christmas Yet to Come the Cratchit family after the death of Tiny Tim, Warner's performance, while hardly uttering a word, will move you to tears.\n",
      "Sentiment: \n",
      "Positive\n"
     ]
    },
    {
     "name": "stderr",
     "output_type": "stream",
     "text": [
      "2024-06-15 17:52:43.711136: W tensorflow/core/kernels/data/cache_dataset_ops.cc:858] The calling iterator did not fully read the dataset being cached. In order to avoid unexpected truncation of the dataset, the partially cached contents of the dataset  will be discarded. This can happen if you have an input pipeline similar to `dataset.cache().take(k).repeat()`. You should use `dataset.take(k).cache().repeat()` instead.\n"
     ]
    }
   ],
   "source": [
    "for sample in train_ds:\n",
    "    break\n",
    "\n",
    "parts = sample[0].numpy().decode(\"utf-8\").split(SEPARATOR)\n",
    "query = parts[0] + SEPARATOR\n",
    "print(query)\n",
    "print(parts[1])"
   ]
  },
  {
   "cell_type": "code",
   "execution_count": 11,
   "metadata": {},
   "outputs": [
    {
     "name": "stdout",
     "output_type": "stream",
     "text": [
      "Prompt is too long >256 (Max Length), prompt: You could stage a version of Charles Dickens' \"A Christmas Carol\" with sock puppets and I'll probably watch it. Ever since I was a child, this has been one of my favorite stories. Maybe it's the idea that there is good in everyone, and that therefore no one is beyond redemption, that appeals to me, but for whatever reason I never miss an opportunity to watch one of the many screen adaptations of this timeless classic when they're on TV as they inevitably are this time of year.<br /><br />What makes this version really stand out is the somber gravitas that the cast bring to their respective roles. Lines we've heard dozens of times in the past take on a whole new intensity, and each character becomes more real and believable in the hands of this wonderful ensemble.<br /><br />George C. Scott was nominated for an Emmy in 1985 for this role. It is to his everlasting credit that rather than sleepwalking through this oft-portrayed role of Scrooge, he instead gave it a fresh interpretation that was, in my opinion, one of his finest performances ever. He wisely did not attempt a British accent, instead delivering his lines in that famous gravelly voice. His Scrooge is not merely a cranky old man (as he is so often portrayed), but a man who harbors a profound anger against the world. As he is visited in turn by each of the Three Spirits, we understand how this anger took root, grew, and ultimately strangled his soul. As he is forced to review his life, we see him alternately softening, and then relapsing again into unrepentant obstinacy. And in the great dramatic scene when he, kneeling and weeping at his own grave, begs for mercy as he attempts to convince the third spirit of his repentance and desire to alter his life, we see a man who has been utterly broken and brought to his knees literally and figuratively. Scott has made Scrooge utterly believable and painfully human.<br /><br />Impressive as Scott's performance is, the ensemble of supporting actors contributes significantly the this version's dark beauty. Fred Holywell, Scrooge's nephew, is an excellent example of this. Often portrayed as an affable buffoon, here he is played by Roger Rees with an emotional intensity missing from earlier portrayals. When he implores Scrooge, \"I ask nothing of you. I want nothing from you. Why can't we be friends?\", we see in his face not only his frustration, but his pain at Scrooge's self-imposed separation from his only living relative. It is a moving performance, and one of the movie's most dramatic scenes.<br /><br />Even more magnificent is the performance given by the wonderful English actor Frank Finlay as Scrooge's late partner, Jacob Marley. In most versions of this tale, the scene with Marley tends to be a bit of a low point in the film, simply because it's difficult to portray a dead man convincingly, and the results are usually just plain silly (ooooh, look, it's a scary ghost.......not!) In this version, it is perhaps the most riveting scene in the whole movie. Marley's entrance, as the locks on Scrooge's door fly open of their own accord and the sound of chains rattling echo throughout the house, is wonderfully creepy. But Finlay's Marley is no ethereal spirit. He is a tortured soul, inspiring both horror and pity. Marley may be a ghost, but his rage and regret over a life wasted on the pursuit of wealth, and his despair at his realization that his sins are now beyond redress, are still very human. As portrayed by Finlay, we have no problem believing that even the flinty Scrooge would be shaken by this nightmarish apparition. Finlay really steals the scene here, something not easy to do when you're opposite George C. Scott.<br /><br />And it just goes on and on, one remarkable performance after another, making it seem like you're experiencing this story for the first time. Edward Woodward (remember him from the Equalizer?) is by turns both jovial and menacing as the Ghost of Christmas Present. When he delivers the famous line, \"it may well be that in the sight of Heaven you are more worthless and less fit to live than MILLIONS like this poor man's child\" he is no longer a jolly Santa Claus surrogate, but an avenging angel who gives Scrooge a much needed verbal spanking.<br /><br />Susannah York is a wonderfully tart tongued Mrs. Cratchit, and David Warner brings marvelous depth to the long suffering Bob Cratchit, a man who goes through life bearing the triple crosses of poverty, a sick child, and an insufferable boss. His face alternately shows his cheerful courage, and also, at times, his weariness, in the face of intolerable circumstances. Later, in the scene in which Scrooge is shown by the Ghost of Christmas Yet to Come the Cratchit family after the death of Tiny Tim, Warner's performance, while hardly uttering a word, will move you to tears.\n",
      "Sentiment: \n",
      "You could stage a version of Charles Dickens' \"A Christmas Carol\" with sock puppets and I'll probably watch it. Ever since I was a child, this has been one of my favorite stories. Maybe it's the idea that there is good in everyone, and that therefore no one is beyond redemption, that appeals to me, but for whatever reason I never miss an opportunity to watch one of the many screen adaptations of this timeless classic when they're on TV as they inevitably are this time of year.<br /><br />What makes this version really stand out is the somber gravitas that the cast bring to their respective roles. Lines we've heard dozens of times in the past take on a whole new intensity, and each character becomes more real and believable in the hands of this wonderful ensemble.<br /><br />George C. Scott was nominated for an Emmy in 1985 for this role. It is to his everlasting credit that rather than sleepwalking through this oft-portrayed role of Scrooge, he instead gave it a fresh interpretation that was, in my opinion, one of his finest performances ever. He wisely did not attempt a British accent, instead delivering his lines in that famous gravelly voice. His Scrooge is not merely a cranky old man (as he is so often portrayed), but a man who harbors a profound anger against the world. As he is visited in turn by each of the Three Spirits, we understand how this anger took root, grew, and ultimately strangled his soul. As he is forced to review his life, we see him alternately softening, and then relapsing again into unrepentant obstinacy. And in the great dramatic scene when he, kneeling and weeping at his own grave, begs for mercy as he attempts to convince the third spirit of his repentance and desire to alter his life, we see a man who has been utterly broken and brought to his knees literally and figuratively. Scott has made Scrooge utterly believable and painfully human.<br /><br />Impressive as Scott's performance is, the ensemble of supporting actors contributes significantly the this version's dark beauty. Fred Holywell, Scrooge's nephew, is an excellent example of this. Often portrayed as an affable buffoon, here he is played by Roger Rees with an emotional intensity missing from earlier portrayals. When he implores Scrooge, \"I ask nothing of you. I want nothing from you. Why can't we be friends?\", we see in his face not only his frustration, but his pain at Scrooge's self-imposed separation from his only living relative. It is a moving performance, and one of the movie's most dramatic scenes.<br /><br />Even more magnificent is the performance given by the wonderful English actor Frank Finlay as Scrooge's late partner, Jacob Marley. In most versions of this tale, the scene with Marley tends to be a bit of a low point in the film, simply because it's difficult to portray a dead man convincingly, and the results are usually just plain silly (ooooh, look, it's a scary ghost.......not!) In this version, it is perhaps the most riveting scene in the whole movie. Marley's entrance, as the locks on Scrooge's door fly open of their own accord and the sound of chains rattling echo throughout the house, is wonderfully creepy. But Finlay's Marley is no ethereal spirit. He is a tortured soul, inspiring both horror and pity. Marley may be a ghost, but his rage and regret over a life wasted on the pursuit of wealth, and his despair at his realization that his sins are now beyond redress, are still very human. As portrayed by Finlay, we have no problem believing that even the flinty Scrooge would be shaken by this nightmarish apparition. Finlay really steals the scene here, something not easy to do when you're opposite George C. Scott.<br /><br />And it just goes on and on, one remarkable performance after another, making it seem like you're experiencing this story for the first time. Edward Woodward (remember him from the Equalizer?) is by turns both jovial and menacing as the Ghost of Christmas Present. When he delivers the famous line, \"it may well be that in the sight of Heaven you are more worthless and less fit to live than MILLIONS like this poor man's child\" he is no longer a jolly Santa Claus surrogate, but an avenging angel who gives Scrooge a much needed verbal spanking.<br /><br />Susannah York is a wonderfully tart tongued Mrs. Cratchit, and David Warner brings marvelous depth to the long suffering Bob Cratchit, a man who goes through life bearing the triple crosses of poverty, a sick child, and an insufferable boss. His face alternately shows his cheerful courage, and also, at times, his weariness, in the face of intolerable circumstances. Later, in the scene in which Scrooge is shown by the Ghost of Christmas Yet to Come the Cratchit family after the death of Tiny Tim, Warner's performance, while hardly uttering a word, will move you to tears.\n",
      "Sentiment: \n"
     ]
    }
   ],
   "source": [
    "response_text = llm.generate(query, max_length=256)\n",
    "print(query + response_text.numpy().decode(\"utf-8\"))"
   ]
  },
  {
   "cell_type": "code",
   "execution_count": 12,
   "metadata": {},
   "outputs": [
    {
     "name": "stderr",
     "output_type": "stream",
     "text": [
      "Epoch 1/1:   0%|          | 0/2000 [00:00<?, ?it/s]"
     ]
    },
    {
     "name": "stdout",
     "output_type": "stream",
     "text": [
      "Tracing assign_block_weights\n"
     ]
    },
    {
     "name": "stderr",
     "output_type": "stream",
     "text": [
      "WARNING: All log messages before absl::InitializeLog() is called are written to STDERR\n",
      "I0000 00:00:1718466781.721379  126967 service.cc:145] XLA service 0x289031c0 initialized for platform CUDA (this does not guarantee that XLA will be used). Devices:\n",
      "I0000 00:00:1718466781.721413  126967 service.cc:153]   StreamExecutor device (0): NVIDIA RTX A4000 Laptop GPU, Compute Capability 8.6\n",
      "2024-06-15 17:53:01.733041: I external/local_xla/xla/stream_executor/cuda/cuda_dnn.cc:465] Loaded cuDNN version 8905\n",
      "I0000 00:00:1718466781.816251  126967 device_compiler.h:188] Compiled cluster using XLA!  This line is logged at most once for the lifetime of the process.\n"
     ]
    },
    {
     "name": "stdout",
     "output_type": "stream",
     "text": [
      "Tracing block_forward\n"
     ]
    },
    {
     "name": "stderr",
     "output_type": "stream",
     "text": [
      "2024-06-15 17:53:01.985031: I tensorflow/compiler/mlir/tensorflow/utils/dump_mlir_util.cc:268] disabling MLIR crash reproducer, set env var `MLIR_CRASH_REPRODUCER_DIRECTORY` to enable.\n",
      "WARNING: All log messages before absl::InitializeLog() is called are written to STDERR\n",
      "I0000 00:00:1718466783.523784  127674 asm_compiler.cc:369] ptxas warning : Registers are spilled to local memory in function 'triton_gemm_dot_7', 16 bytes spill stores, 16 bytes spill loads\n",
      "\n",
      "I0000 00:00:1718466783.556201  127676 asm_compiler.cc:369] ptxas warning : Registers are spilled to local memory in function 'triton_gemm_dot_10', 4 bytes spill stores, 4 bytes spill loads\n",
      "\n",
      "I0000 00:00:1718466784.413641  127681 asm_compiler.cc:369] ptxas warning : Registers are spilled to local memory in function 'triton_gemm_dot_8', 24 bytes spill stores, 24 bytes spill loads\n",
      "\n"
     ]
    },
    {
     "name": "stdout",
     "output_type": "stream",
     "text": [
      "Tracing assign_block_weights\n",
      "Tracing assign_block_weights\n",
      "Tracing assign_block_weights\n",
      "Tracing assign_block_weights\n",
      "WARNING:tensorflow:5 out of the last 5 calls to <function ModelBlock.assign_block_weights at 0x7107ac38aca0> triggered tf.function retracing. Tracing is expensive and the excessive number of tracings could be due to (1) creating @tf.function repeatedly in a loop, (2) passing tensors with different shapes, (3) passing Python objects instead of tensors. For (1), please define your @tf.function outside of the loop. For (2), @tf.function has reduce_retracing=True option that can avoid unnecessary retracing. For (3), please refer to https://www.tensorflow.org/guide/function#controlling_retracing and https://www.tensorflow.org/api_docs/python/tf/function for  more details.\n"
     ]
    },
    {
     "name": "stderr",
     "output_type": "stream",
     "text": [
      "WARNING:tensorflow:5 out of the last 5 calls to <function ModelBlock.assign_block_weights at 0x7107ac38aca0> triggered tf.function retracing. Tracing is expensive and the excessive number of tracings could be due to (1) creating @tf.function repeatedly in a loop, (2) passing tensors with different shapes, (3) passing Python objects instead of tensors. For (1), please define your @tf.function outside of the loop. For (2), @tf.function has reduce_retracing=True option that can avoid unnecessary retracing. For (3), please refer to https://www.tensorflow.org/guide/function#controlling_retracing and https://www.tensorflow.org/api_docs/python/tf/function for  more details.\n"
     ]
    },
    {
     "name": "stdout",
     "output_type": "stream",
     "text": [
      "Tracing assign_block_weights\n",
      "WARNING:tensorflow:6 out of the last 6 calls to <function ModelBlock.assign_block_weights at 0x7107ac38aca0> triggered tf.function retracing. Tracing is expensive and the excessive number of tracings could be due to (1) creating @tf.function repeatedly in a loop, (2) passing tensors with different shapes, (3) passing Python objects instead of tensors. For (1), please define your @tf.function outside of the loop. For (2), @tf.function has reduce_retracing=True option that can avoid unnecessary retracing. For (3), please refer to https://www.tensorflow.org/guide/function#controlling_retracing and https://www.tensorflow.org/api_docs/python/tf/function for  more details.\n"
     ]
    },
    {
     "name": "stderr",
     "output_type": "stream",
     "text": [
      "WARNING:tensorflow:6 out of the last 6 calls to <function ModelBlock.assign_block_weights at 0x7107ac38aca0> triggered tf.function retracing. Tracing is expensive and the excessive number of tracings could be due to (1) creating @tf.function repeatedly in a loop, (2) passing tensors with different shapes, (3) passing Python objects instead of tensors. For (1), please define your @tf.function outside of the loop. For (2), @tf.function has reduce_retracing=True option that can avoid unnecessary retracing. For (3), please refer to https://www.tensorflow.org/guide/function#controlling_retracing and https://www.tensorflow.org/api_docs/python/tf/function for  more details.\n"
     ]
    },
    {
     "name": "stdout",
     "output_type": "stream",
     "text": [
      "Tracing assign_block_weights\n",
      "Tracing assign_block_weights\n",
      "Tracing assign_block_weights\n",
      "Tracing assign_block_weights\n",
      "Tracing assign_block_weights\n",
      "Tracing assign_block_weights\n",
      "Tracing assign_block_weights\n",
      "Tracing assign_block_weights\n",
      "Tracing assign_block_weights\n",
      "Tracing assign_block_weights\n",
      "Tracing assign_block_weights\n",
      "Tracing assign_block_weights\n",
      "Tracing block_backward\n"
     ]
    },
    {
     "name": "stderr",
     "output_type": "stream",
     "text": [
      "I0000 00:00:1718466790.188597  128068 asm_compiler.cc:369] ptxas warning : Registers are spilled to local memory in function 'triton_gemm_dot_31', 4 bytes spill stores, 4 bytes spill loads\n",
      "\n",
      "I0000 00:00:1718466790.887174  128065 asm_compiler.cc:369] ptxas warning : Registers are spilled to local memory in function 'triton_gemm_dot_15', 12 bytes spill stores, 12 bytes spill loads\n",
      "\n",
      "I0000 00:00:1718466791.021751  128064 asm_compiler.cc:369] ptxas warning : Registers are spilled to local memory in function 'triton_gemm_dot_29', 4 bytes spill stores, 4 bytes spill loads\n",
      "\n",
      "I0000 00:00:1718466791.096614  128075 asm_compiler.cc:369] ptxas warning : Registers are spilled to local memory in function 'triton_gemm_dot_27', 80 bytes spill stores, 80 bytes spill loads\n",
      "\n"
     ]
    },
    {
     "name": "stdout",
     "output_type": "stream",
     "text": [
      "Trace apply gradients\n",
      "Trace apply gradients\n"
     ]
    },
    {
     "name": "stderr",
     "output_type": "stream",
     "text": [
      "I0000 00:00:1718466797.325899  126967 asm_compiler.cc:369] ptxas warning : Registers are spilled to local memory in function 'copy_fusion_4', 44 bytes spill stores, 44 bytes spill loads\n",
      "ptxas warning : Registers are spilled to local memory in function 'copy_fusion_3', 8 bytes spill stores, 24 bytes spill loads\n",
      "ptxas warning : Registers are spilled to local memory in function 'loop_add_subtract_fusion_20', 8 bytes spill stores, 8 bytes spill loads\n",
      "\n",
      "2000it [22:21,  1.49it/s]█| 2000/2000 [22:21<00:00,  1.53it/s, loss=0.441, accuracy=0.418] \n",
      "2024-06-15 18:15:22.658504: W tensorflow/core/kernels/data/cache_dataset_ops.cc:858] The calling iterator did not fully read the dataset being cached. In order to avoid unexpected truncation of the dataset, the partially cached contents of the dataset  will be discarded. This can happen if you have an input pipeline similar to `dataset.cache().take(k).repeat()`. You should use `dataset.take(k).cache().repeat()` instead.\n",
      "Epoch 1/1: 100%|██████████| 2000/2000 [22:21<00:00,  1.49it/s, loss=0.441, accuracy=0.418]\n"
     ]
    }
   ],
   "source": [
    "metrics = trainer.fit(llm, train_ds_processed, epochs=1, steps_per_epoch=2000)"
   ]
  },
  {
   "cell_type": "code",
   "execution_count": 13,
   "metadata": {},
   "outputs": [
    {
     "data": {
      "text/plain": [
       "[<matplotlib.lines.Line2D at 0x7103060fce10>]"
      ]
     },
     "execution_count": 13,
     "metadata": {},
     "output_type": "execute_result"
    },
    {
     "data": {
      "image/png": "[encoded data removed]",
      "text/plain": [
       "<Figure size 1000x500 with 2 Axes>"
      ]
     },
     "metadata": {},
     "output_type": "display_data"
    }
   ],
   "source": [
    "import pandas as pd\n",
    "import matplotlib.pyplot as plt\n",
    "metrics_df = pd.DataFrame(metrics)\n",
    "plt.figure(figsize=(10, 5))\n",
    "plt.subplot(121)\n",
    "plt.plot(metrics_df[\"loss\"], label=\"loss\")\n",
    "plt.subplot(122) \n",
    "plt.plot(metrics_df[\"accuracy\"], label=\"accuracy\")"
   ]
  },
  {
   "cell_type": "markdown",
   "metadata": {},
   "source": [
    "# Evaluate model"
   ]
  },
  {
   "cell_type": "code",
   "execution_count": 14,
   "metadata": {},
   "outputs": [],
   "source": [
    "test_ds = tfds.load(\"imdb_reviews\", split=\"test\")\n",
    "test_ds = (\n",
    "    test_ds.map(prepare_text)\n",
    "    .batch(BATCH_SIZE)\n",
    "    .prefetch(tf.data.AUTOTUNE)\n",
    ")\n",
    "test_ds_processed = test_ds.map(llm.preprocessor)\n",
    "test_ds_iter = iter(test_ds)"
   ]
  },
  {
   "cell_type": "code",
   "execution_count": 15,
   "metadata": {},
   "outputs": [
    {
     "name": "stdout",
     "output_type": "stream",
     "text": [
      "There are films that make careers. For George Romero, it was NIGHT OF THE LIVING DEAD; for Kevin Smith, CLERKS; for Robert Rodriguez, EL MARIACHI. Add to that list Onur Tukel's absolutely amazing DING-A-LING-LESS. Flawless film-making, and as assured and as professional as any of the aforementioned movies. I haven't laughed this hard since I saw THE FULL MONTY. (And, even then, I don't think I laughed quite this hard... So to speak.) Tukel's talent is considerable: DING-A-LING-LESS is so chock full of double entendres that one would have to sit down with a copy of this script and do a line-by-line examination of it to fully appreciate the, uh, breadth and width of it. Every shot is beautifully composed (a clear sign of a sure-handed director), and the performances all around are solid (there's none of the over-the-top scenery chewing one might've expected from a film like this). DING-A-LING-LESS is a film whose time has come.\n",
      "Sentiment:\n",
      " Positive\n"
     ]
    }
   ],
   "source": [
    "for sample in test_ds_iter:\n",
    "    break\n",
    "\n",
    "parts = sample[0].numpy().decode(\"utf-8\").split(SEPARATOR.strip())\n",
    "query = parts[0] + SEPARATOR.strip()\n",
    "print(query)\n",
    "print(parts[1])"
   ]
  },
  {
   "cell_type": "code",
   "execution_count": 16,
   "metadata": {},
   "outputs": [
    {
     "name": "stderr",
     "output_type": "stream",
     "text": [
      "Generating text:  24%|██▎       | 243/1024 [00:00<00:01, 396.60it/s]"
     ]
    },
    {
     "name": "stdout",
     "output_type": "stream",
     "text": [
      "('There are films that make careers. For George Romero, it was NIGHT OF THE '\n",
      " 'LIVING DEAD; for Kevin Smith, CLERKS; for Robert Rodriguez, EL MARIACHI. Add '\n",
      " \"to that list Onur Tukel's absolutely amazing DING-A-LING-LESS. Flawless \"\n",
      " 'film-making, and as assured and as professional as any of the aforementioned '\n",
      " \"movies. I haven't laughed this hard since I saw THE FULL MONTY. (And, even \"\n",
      " \"then, I don't think I laughed quite this hard... So to speak.) Tukel's \"\n",
      " 'talent is considerable: DING-A-LING-LESS is so chock full of double '\n",
      " 'entendres that one would have to sit down with a copy of this script and do '\n",
      " 'a line-by-line examination of it to fully appreciate the, uh, breadth and '\n",
      " 'width of it. Every shot is beautifully composed (a clear sign of a '\n",
      " \"sure-handed director), and the performances all around are solid (there's \"\n",
      " \"none of the over-the-top scenery chewing one might've expected from a film \"\n",
      " 'like this). DING-A-LING-LESS is a film whose time has come.\\n'\n",
      " 'Sentiment: Positive')\n"
     ]
    },
    {
     "name": "stderr",
     "output_type": "stream",
     "text": [
      "\n"
     ]
    }
   ],
   "source": [
    "import pprint\n",
    "\n",
    "response_text = llm.generate(query, max_length=MAX_SEQ_LENGTH)\n",
    "pprint.pprint(query + response_text.numpy().decode(\"utf-8\"))"
   ]
  },
  {
   "cell_type": "code",
   "execution_count": 17,
   "metadata": {},
   "outputs": [
    {
     "name": "stderr",
     "output_type": "stream",
     "text": [
      "63it [00:29,  2.14it/s]"
     ]
    },
    {
     "name": "stdout",
     "output_type": "stream",
     "text": [
      "Prompt is too long >1024 (Max Length), prompt: Favela Rising is a documentary about the slums of Rio, the favelas, specifically the most violent one, Vigário Geral. According to this film, a lot more kids have died violently in Rio's favelas over the last decade or so than in Israel/Palestine during the same period -- a fact astonishing if true, which shows how under-recognized this social problem is in the rest of the world. This is an important topic, especially for those who see hope in grassroots efforts to marshal the neediest and most at risk through a vibrant cultural program. This is a compelling documentary, if occasionally marred by a somewhat too personality-based version of events and by grainy digital video and film that sometimes may make you think you need to have your eyes examined.<br /><br />Drug lords rule in the favelas and gun-toting teenage boys are the main drug dealers, like in parts of Colombia. Fernando Meirelles' movie City of God/Cidade de Deus has been accused of celebrating violence (Cidade de Deus is another of Rio's many favelas). But the early section of Favela Rising shows that in fact favela boys do celebrate violence and want to deal drugs where the money and the action are. It's cool to carry a gun there, cool to work as a drug trafficker: it's fifty times more profitable than the earnings available by other means.<br /><br />Mochary first discovered the AfroReggae movement and its leaders Anderson Sá and José Junior while visiting Rio for a conference and quickly persuaded his friend and mentor Zimbalist to quit his job and come down to help make a film with his own promise to fund it. Sá's eloquence and charisma and a startling twist in his life make him the center of the film and its chief narrator, but like the favelas themselves the film teems with other people. No doubt about the fact that Sá is a remarkable leader, organizer, and artist.<br /><br />Vigário Geral is compared to Bosnia: shooting there was very dangerous. Anderson Sá's friendship and protection and caution and diplomacy in the shooting enabled the filmmakers to gain access and shoot detailed footage of their subject matters while (mostly: there were close calls) avoiding any serious confrontations with drug lords or drug-dealing cops. They also trained boys to use cameras and left them there on trips home. That resulted in 10% of the footage, including rare shots of violent incidents including police beatings. It's hard for an outsider to keep track of police massacres in Rio. There was one in the early 1990's that looms over the story and inspired Sá, who ended his own early involvement in drug trafficking to lead his cultural movement. The cops are all over the drug trade and if anybody doesn't like that the ill trained police paramilitaries come in (often wearing black ski masks) and shoot up a neighborhood, killing a lot of innocents.<br /><br />This is pretty much the picture we get in Meirelles' City of God, except that this time Sá, Junior, and the other guys come in, starting in Vigário Geral but spreading out eventually to a number of other favelas to give percussion classes that attract dozens of youth -- girls as well as boys. Their AfroReggae (Grupo Cultural AfroReggae or GCAR) program, formed in 1993, is a new alternative way of life for young black men in the Rio ghettos. It leads them to leave behind smoking, alcohol, and drugs (that's the rule) to explode into rap, song, percussion, and gymnastics in expressive, galvanic performances. Eventually the best of the performers led by Sá wind up appearing before big local audiences with local producers, and their Banda AfroReggae has an international recording contract.<br /><br />Other centers and groups have been created by or through the GCAR over the years in Vigário Geral and other favelas to seek the betterment of youth by providing training and staging performances of music, capoeira, theater, hiphop and dance at GCAR centers.<br /><br />The performance arts aren't everything, just the focal point. GCAR is also a movement for broader social change Gathering public awareness through such performances, the centers also provide training in information (newspaper, radio, Internet, e-mail links), hygiene and sex education, to seek to bridge gaps between rich and poor, black and white, and to offer workshops in audio-visual work, including production of documentaries. The program is currently active in four other favelas.<br /><br />There are many scenes of favela street and home life in Favela Rising and they look very much like the images in City of God with the important difference that the focus and outcome are very, very much more positive. Not that it isn't an uphill battle. And the corruption of the police, the inequities of the social system, and the indifference of the general population of Brazil are not directly addressed by any of this. But there's a scene where Sá talks to some young kids in another favela, cynical boys not enthusiastic about AfroReggae and determined to work in the drug trade as Sá himself did as a boy. Sá doesn't seem to be convincing any of them despite pointing out that traffickers don't make it to the age of fifty. But we learn that the most negative boy in this group, Richard Morales, joined the movement five months later. There's also the account of a freak accident that disabled Sá, but with a positive outcome.<br /><br />It would be great if the images were sharper and clearer and if the story were edited down a little, but this is vibrant, inspiring material and represents committed, risk-taking documentary film-making and it's nice that Favela Rising has been included in seven film festivals and won a number of awards, including Best New Documentary Filmmaker at the Tribeca Film Festival. It's currently being shown at the Institute of Contemporary Arts (ICA) in London. However, a wide art house audience in the US seems somewhat unlikely.<br /><br />Included in the SFIFF 2006.\n",
      "Sentiment:\n"
     ]
    },
    {
     "name": "stderr",
     "output_type": "stream",
     "text": [
      "136it [01:02,  2.18it/s]"
     ]
    },
    {
     "name": "stdout",
     "output_type": "stream",
     "text": [
      "Prompt is too long >1024 (Max Length), prompt: I remember the events of this movie, the ill fated cruise of Donald Crowhurst in 1968, in the Golden Globe single handed around the world yacht race. I was a 13 year old, living in England. The previous year Francis Chichester (later Sir Francis; he was knighted for his exploits) had completed the first solo circumnavigation of the globe. I remember it mostly because we were given time off school to watch his return (on a grainy black and white TV!) and then his knighting by the Queen. It provoked a huge outpouring of patriotic fervor in the UK. It all seems so quaint now. Chichester became a national hero, but he had stopped half way, in Australia, to re-fit his yacht, so the next logical step for yachtsmen was to attempt the journey without stopping.<br /><br />It's important to remember that this was a world pre-GPS, when communications on land were still pretty erratic, never mind in the middle of the ocean. Now with GPS receivers that fit on a key chain and calculate a position within a metre anywhere on earth, it's hard to recall a time when you could go to sea and quite literally, vanish. As Donald Crowhurst did. <br /><br />A number of yachtsmen signed up (all men back then), including mystery man, Crowhurst. Essentially a weekend sailor, Crowhurst had not been a spectacular success in any previous enterprise, including careers in the British Army, the Air Force and as an electronics entrepreneur selling navigation aids. He wanted to do something big with his life, and he saw the five thousand pound first prize (well over $100,000 in today's money) and the ensuing publicity as a means of kick starting his business. He signed a deal with a sponsor that proved more watertight than his boat, and which meant failure would bankrupt him, and soon found himself a popular figure with journalists as he prepared for the race. Now the Brits always love the idea of the gutsy amateur taking on the 'pros'. (Think Eddie the Eagle losing endless Olympic ski jump competitions, and the amateur riders who regularly start the Grand National horse race.) The public queued up to see him set off, but his boat wasn't really ready, and even as he started (the last competitor to leave the UK) Crowhurst must have known he didn't seriously have a chance. But too much was riding on him to quit.<br /><br />In the wonderful archive footage we see doubt written all over his poor wife's face. Left behind with their 4 children, she is interviewed movingly throughout the film, together with one of Crowhurst's sons. She was in a no-win situation. Had she attempted to stop him, she would have been considered a spoiler, but afterward she was riven with doubt, as to whether she could have saved his life by stopping him. Faced with the certain truth that his boat was leaking and would never make it through the southern oceans, and unable to turn around and face ridicule, bankruptcy and ignominy, Crowhurst devised a plan to cheat. Laid up offshore Argentina and Brazil, out of radio contact, he waited for the leaders to round Cape Horn and start back up the Atlantic, thinking he could sneak in at the end of the line and pretend he had sailed all the way around the globe. He elaborately falsified his logs, and made 16mm films and audio recordings to back up his plan. But as one after another the other competitors dropped out, he realized that in fact he would come in 2nd and his logs would be scrutinized. Unable to face certain detection, his journal suggests he lost his grip on reality and eventually committed suicide. His yacht was found. He never was. <br /><br />This beautifully edited film also follows the journey of Bernard Moitessier, an experienced and enigmatic French sailor, who was in second place and certain of the fastest journey prize, when he abruptly left the race, unable to deal with the clamour and publicity he knew he would face, and sailed into the wide blue yonder, eventually pulling up some 10 months later in Tahiti. Having spent some seven years working at sea myself, (albeit on very different ships to these) I well understand the pull of the ocean. Standing on deck, seeing water in every direction to the horizon, knowing there's a couple of miles of water below you, nothing between you and oblivion but a thin metal hull, without easy access to TV or radio (even nowadays on most working ships, you feel pretty isolated), it's possible to truly escape from the responsibilities of everyday life for a while. There is some thoughtful analysis of what drives people to attempt this kind of very long, lonely journey and the effect it has on the human mind. Most people would think that attempting to raise 4 children is adventure enough, but much is made of the need for self discovery in the hardships at sea, the search for self. <br /><br />I strongly suspect that Robin Knox Johnston, the ex navy guy who won the race (and many since) probably knew pretty well who he was before he set off, which was why he succeeded not just in winning the race but also retaining his sanity en route. Those who went searching for something profound within themselves, may not have entirely liked what they found. <br /><br />The marvelous archive footage of Britain in the late 60s is almost reason enough to watch this, (did it really look quite that bad? I don't remember it looking quite so dowdy, but perhaps we blot out the worst aspects of the past?) but overall, it is an excellently well made and engrossing movie. Highly recommended.\n",
      "Sentiment:\n"
     ]
    },
    {
     "name": "stderr",
     "output_type": "stream",
     "text": [
      "203it [05:17,  2.15it/s]"
     ]
    },
    {
     "name": "stdout",
     "output_type": "stream",
     "text": [
      "Prompt is too long >1024 (Max Length), prompt: I really don't think producer George Lucas didn't really set out to make such a horrible sequel as \"More American Graffiti\" turned out to be. But in retrospect it was the first crack in his then-seemingly impenetrable armor. Coming straight off the huge success of \"American Graffiti\" and produced basically at the same time as \"Star Wars\", this film was the first that Lucas successfully took away from Coppola without having to bother directing it himself. The result is typical Lucas -- far more interesting in terms of its structure and the way it's edited than the actual material. The writer/director Bill Norton has been allowed to use a variety of different screen ratios and split screens to produce odd associations in the images. While it's interesting to see ironic juxtapositions of the 4 story lines, the style ultimately only epitomizes the fractured nature of the film itself.<br /><br />Lucas' brilliant original film was all about a group of friends on the archetypical \"last big night\" before school ends and Kurt (Ron Dreyfuss) and Steve (Ron Howard) are supposed to go off to college. One thing that made that film work, despite the fact that it's very episodic, is that you had the core characters together at the beginning and they come back together at the end. There's a disposition of time, like in Nick Ray's \"Rebel Without a Cause\" where a certain period of time becomes very elastic and takes on more meaning than such a specific time really would in actual life, but everything takes place in a static space. \"More American Graffiti\" is basically the opposite -- the space is very dynamic, with Toad (Charles Martin Smith) off in Vietnam, his former girlfriend Debbie (Candy Clark) partying with hippies in San Francisco, Steve and Laurie (Cindy Williams) involved in student protests in Berkeley, and John Miler (Paul Le Mat) drag racing on the semi-pro circuit. In a contrived meeting early in the film all the principles are brought together to watch John race, but after that the threads don't come back together and weave apart the way they do in the original. Instead they split off and we follow the characters through about 3 years' of time, just seeing various events on New Years Eve in what seems to be 1967, 68 and 69. It's easy for the audience to become confused, and I think it's fair to say that we do. While the original film seemed to condense important events and rites of passages into unreal theatrical time that produced an experience of nostalgia even for those who never experienced those events, this sequel drags and stretches the few plot points from the epilogue of the original and attempts to make them into a coherent film.<br /><br />The best parts of the movie to me are the ones with Candy Clark in SF and Charles Martin Smith in Nam. Some of the jokes do fall flat but the style of those sections is interesting and they form a neat contrast with each other. A good movie could maybe have been made if these parts were just a bit better, and if the other parts weren't such a drag. Speaking of drag racing, the whole plot with Milner talking to a foreign exchange student was really lame, unfunny, and throwing in Mackenzie Phillips for a cameo didn't help at all. It was just another contrived moment, like when they briefly explain why Curt isn't in the movie because he's already in Canada. Instead Laurie just has another brother who is basically identical to Curt but has a different name and is now played by a very boring actor. There's a black kind of satire to some of the Vietnam stuff, very similar to what I would imagine Lucas and John Milius' original idea for \"Apocalypse Now\" would have been like. And there's some of that manic fun in the San Francisco scenes that made the first movie fun. But still along with that fun stuff, you have the rest of the movie dragging it down, as if anyone wants to see Steve and Laurie argue in their horrible suburban abode as if they were auditioning for a Spielberg movie about divorce and child abandonment. I think even if those parts of the movie weren't so painful, it still wouldn't really be comparable to the first movie because there's no closure and no sense of coming back together or of anybody having learned anything. It just sort of ends at the point when they ran out of money or something, a cheap freeze frame imitation of \"Two-Lane Blacktop\" and so many better films.<br /><br />Like the original however, this film has a great soundtrack of period hits that is probably worth owning for its own sake and almost makes the movie itself palatable. The performances by Country Joe and the Fish are great, and Scott Glenn all duded up as a hippie in love with Candy Clark is a sight to see -- I wonder if even back then he had to use a wig? I couldn't possibly recommend this movie, and yet it has some small affection in my heart because I love the original so much. Every couple of decades I guess I have to give this movie a try just to make sure that it's really as worthless as I remember it being. It's a party killer but it's something that every fan of \"American Graffiti\" or George Lucas in general will want to see at least once or twice. It shows how a lot of effort can go into something and it can still turn out pretty half baked. It makes you reflect on how much of a miracle it is that Lucas actually made such a good movie as \"American Graffiti\" in the first place, as if all the elements were in place and all the appropriate gods had been placated. Unfortunately such was not the case for this film or for Bill Norton.\n",
      "Sentiment:\n"
     ]
    },
    {
     "name": "stderr",
     "output_type": "stream",
     "text": [
      "271it [05:47,  2.18it/s]"
     ]
    },
    {
     "name": "stdout",
     "output_type": "stream",
     "text": [
      "Prompt is too long >1024 (Max Length), prompt: Cuore Sacro combines glossy film effects with a story that leaves much to be desired. With a script that the screen-writers for \"Touched by an Angel\" might have passed up as being too impuissant, Ozpetek still keeps us interested at times. In fact, I wanted to focus on the positives but I found the last act so bafflingly bizarre and awful that I think the couple who jumped to their deaths in the very beginning might have been the fortunate ones.<br /><br />This movie is at heart (pun intended) a story built on a big twist-style ending. This kind of tenuous foundation can result in a tremendous success like Tornatore's Una Pura Formalità or god-awful garbage like the films of M. Night Shyamalan. Cuore Sacro falls somewhat closer to the latter. I found the cinematography in general to be above average. The tracking shots of Irene dutifully doing her quotidian laps in the pool were very impressive as was the atmosphere conjured by the interior of her mother's house. For me, the grotesque parody of Michelangelo's Pieta when Giancarlo comes in from the rain and Irene poses with him was a bit of a stretch. One big issue that I took exception to in this film was Ozpetek's method of simply turning the camera directly into the face of his protagonist and recording the emotions taking place. This worked to fantastic effect in Facing Windows, but when employed here it seems that Bubolova is no Mezzogiorno. In fact besides the ridiculous story, the main problem with this film is the milquetoast performance of it's main character. It made the final breakdown scene even more unconscionably bad. <br /><br />In this movie Ozpetek continues his crusade against our corporate-driven societies by urging us to be more spiritual (not necessarily religious) and more altruistic. And while I'm certainly one who is very sympathetic to this view, I felt as if the audience was being hit over the head with a blunt object. Could the characters have been anymore two-dimensional? I tended to find this movie very enervating and soulless. Was the \"evil\" aunt Eleonora anything more than a caricature? It goes for the people on the side of \"right\" too, like the \"good\" aunt Maria Clara and the elderly doorman Aurelio. And just in case we might have missed Ozpetek's point, he decided to clothe his opposing forces in their own liveries. <br /><br />This brings me to an interesting point about the director's use of color. He clothes the opening couple who briefly take flight in all black, as well as Irene (when we first meet her and after her life-conversion), the evil aunt Eleonora, and of course the good but confused Padre Carras. Black is a color that suggests a definite course, the wearer's mind is set and emotionless. It is the color of choice for that indispensable item of modern day armor, the business suit. It is also the color of mourning, such as the funerary finery sported by the suicidal duo. Finally, black is the color of piety, such as the simple robes of priests and nuns that Irene emulates in the second half of the film. <br /><br />The other main color, and a very appropriate choice for a movie about the sacred heart, is red. It is a color that has an extreme inherent emotional component. The character who wears red is bold, emotional, receptive to new ideas, and indulgent. Red is a risky color in modern times; it challenges our perceptions of the wearer and at the same time makes the wearer vulnerable. Yet red carries an enormous weight of history and mysticism, as the earliest members of Cro-Magnon man buried their dead in red ochre and indeed the first man named in the Torah, Adam, is named after the Hebrew word for red. Red also has an anachronistic flavor, looking back on the past where red (and by association a less self-driven attitude towards life) was more accepted. So when we encounter the red-filled room (the mysterious frieze covered walls complete with a red accented menorah and a red painting of a Whirling Dervish!) of Irene's mother, \"good\" characters Maria Clara and Aurelio wearing resplendent outfits of red, and finally the painting of Irene's mother in a formal red gown we can see where Ozpetek's sympathies lie.<br /><br />A word or two about the soundtrack, I found the original musical themes to be excellently suited to the story. The quasi-baroque theme that signified Irene was great for it's monotony and feeling of restive malaise (the absolute best use of a constantly repeated baroque theme such a this would have to be in Kubrick's Barry Lyndon, with it's masterful repetitions of an 8-bar sarabande attributed to Handel). One absolutely inspired choice was a couple of seconds of an opera aria we hear as the power is flickering while Irene is chasing Benny through the house. It is of the famous aria \"Ebben? ... Ne andrò lontano\" from Catalani's opera \"La Wally\". The aria is sung by the lead soprano who is leaving home forever. As Irene's mother was a dramatic soprano, we can guess that this is a recording of her singing and that she is saying a poignant farewell to her daughter, as in the movie Irene is soon destined to never again see Benny alive. I just have one minor question of the soundtrack, why include the famous tango Yo Soy Maria? I love the song and personally could hear it all the time, but it didn't really fit here.\n",
      "Sentiment:\n"
     ]
    },
    {
     "name": "stderr",
     "output_type": "stream",
     "text": [
      "447it [07:07,  2.20it/s]"
     ]
    },
    {
     "name": "stdout",
     "output_type": "stream",
     "text": [
      "Prompt is too long >1024 (Max Length), prompt: Describing this film is a difficult task. On the one hand, it's an over-the-top vampire spookfest, complete with cobwebs, eerie music, a hypnotic medallion, and of course a coffin with a creaky lid.<br /><br />On the other hand, this is one of the silliest scripts this side of Edward D. Wood, Jr. Produced by the same people who gave us \"The Bloody Vampire,\" \"Invasion of the Vampires,\" and this film's predecessor, the modestly-titled \"The Vampire,\" the movie sticks close to the lack of logic that characterizes the other films.<br /><br />As I mentioned, this film is a sequel to \"The Vampire,\" which I have not seen. But no matter...it's real easy to imagine what happened. Dr. Enrique, played by Abel \"The Brainiac\" Salazar, is befuddled when the well-intentioned but misguided Dr. Marion brings back the staked body of his vampiric enemy, Count Karol de Lavud (I suppose there is a rule somewhere that all vampires must be Counts of some sort). Dr. Marion complains that all important doctors throughout history have had to resort to some sort of grave robbing in order to advance their medical studies, and he hopes to use the vampire's corpse to study such phenomena as the vampire's lack of a normal reflection (at which point he holds a mirror up to the vampire and instead of no reflection, we see the vampire's skeleton. ???).<br /><br />Enrique is not pleased, and seems determined to pass off the events of the first film as mere fantasy and superstition. \"This man was no vampire...I'll admit that he liked to drink a little blood, but that's all!\" he states. Also confusing matters is the fragile Martha, a part-time nurse and part-time showgirl (!) who happens to be Enrique's object of affection. Martha narrowly escaped de Lavud's clutches in the first film, and apparently Enrique has spent a great deal of time \"healing her mind\" and getting her to think that everything that she experienced was not real.<br /><br />OK, so if you were the scriptwriter for this film, you would need a way to get someone dumb enough to pull the stake out of the vampire, right? Well, how about the greedy con man who helped Marion steal the coffin? After getting a glimpse de Lavud's body, he sets his sights on the expensive-looking brooch that the Count is wearing, and he conveniently returns to steal it when the doctors aren't looking. But darn it...he can't remove the brooch because of the stake, so...you guessed it. De Lavud is on the loose again, this time with the shady con as his human henchman.<br /><br />OK, so of course the vampire is after Martha again, and meanwhile the doctors are really confused about what they believe. At first they are determined to prove that there is no such thing as a real vampire, then by the end of the film they are trying to get the police to put an all-points bulletin out for \"a man who is dead but still alive!\".<br /><br />You can probably imagine the rest of the plot from here, but the filmmakers do throw in a few pleasing twists. One of the sets for the movie is a spooky wax museum (is there any other kind in these types of films?), complete with a fully-equipped torture chamber...with REAL torture and execution equipment. The movie has a very keen sense of style, and not just in the campy cobwebs. One effectively creepy sequence has de Lavud chasing a victim down a seemingly endless series of streets and alleyways, following their progress alongside vague buildings with no doors while lighting the scene like a German expressionist nightmare (\"The Cabinet of Dr. Caligari\" seems to be an influence).<br /><br />But the rest of the film is juvenile, particularly in the film's climax. The special effects are quite crude, even for the year that this was made, and the climactic fight with de Lavud in bat form is laughable enough...but the director feels the need to ask us to believe that Martha would faint and collapse directly over top of a guillotine, positioned so that her head was in the perfect location to be chopped off by the blade, which is in danger of falling because the restraining rope has suddenly begun to fray RIGHT AT THAT VERY MINUTE! What an unfortunate coincidence! To make matters worse, he cuts away from the fraying rope to scenes of Enrique trying to dodge the swooping rubber bat, basically standing still and waving his arms around. It's definitely an Ed Wood moment if ever there was one, especially when Martha seems to revive on her own and rises groggily to her feet just as the blade slams down. Whew! What a relief! In terms of kookiness, \"The Vampire's Coffin\" does not have the lunacy factor of \"The Bloody Vampire\" or \"Invasion of the Vampires\", but fans of these types of old horror films will appreciate the atmospheric photography, and the fact that the director manages to wring some real chills from this material has to \"Count\" for something (haw haw).\n",
      "Sentiment:\n"
     ]
    },
    {
     "name": "stderr",
     "output_type": "stream",
     "text": [
      "520it [11:05, 21.49s/it]"
     ]
    },
    {
     "name": "stdout",
     "output_type": "stream",
     "text": [
      "Prompt is too long >1024 (Max Length), prompt: This enjoyable Euro-western opens with a scene that predates a similar scene that Sergio Leone wanted to shoot for \"Once Upon A Time in the West\" but couldn't persuade Clint Eastwood to appear in. Three tough-looking gunfighters ride into a town. One is dressed like the Man with No Name in a poncho. Another is dressed like Colonel Mortimer from \"For A Few Dollars More,\" and the third is garbed like Django, except he rides a horse instead of pulls a coffin behind him with a machine gun in it. Our hero meets them in Main Street behind a wagon loaded with three coffins. \"Any Gun Can Play\" is a spaghetti western with an in-joke on spaghetti westerns since the hero here wipes out the three killers. Aside from a little too much comedy, especially in the acrobatic fight sequences, this is an above-average oater.<br /><br />The notorious Mexican outlaw Montero (Gilbert Roland of \"Barbarosa\") and his gang of trigger-happy pistoleros rob an army train transporting $300-thousand dollars in gold coins across the frontier. Director Enzo G. Castellari of \"Inglorious Bastards\" stages the hold up from a variety of camera angles that thrust you into the forefront of the action. The bandits seize the locomotive along with the coach carrying the gold and separate it from the rest of the train that houses the U.S. Cavalry. While Montero and his gunmen keep the Cavalry pinned down, Pajondo (Pedro Sanchez of \"Sabata\") commandeers the locomotive, kills the engineer and his crew and trundles it away, leaving the other pistoleros behind to fend for themselves. Essentially, Pajondo double-crosses Montero and steals the gold for himself. Later, Montero catches up with Pajondo at the Rio Grande. Before the bandit can reveal the whereabouts of the loot to Montero, however, a Cavalry sergeant shoots Pajondo dead. Before he dies, Pajondo tells Montero about a medallion that serves as a clue about where he stashed the treasure. The irate Cavalry captain (Ivano Staccioli of \"Commandos\") imprisons Montero, but he cannot loosen the bandit's tongue even after he uses his whip on him. Infuriated by Montero's reticence, the captain threatens to have the Mexican shot if he doesn't talk. Meanwhile, the jailers let a priest speak to Montero, but he really isn't a priest. The six-gun toting Stranger (George Hilton of \"The Ruthless Four\") masquerades as a man of the cloth and rescues Montero from a firing squad. Unfortunately, before Montero is rescued, Clayton (Edd Byrnes of TV's \"77 Sunset Strip\") takes the medallion away from him and keeps it for himself. Clayton is the bank representative that was sent to safeguard the gold. He is horrified that the Captain wants to shoot Montero. Clayton's career at the bank hinges on his ability to recover the gold. The Stranger stages a fire at the fort to distract the firing squad and Montero takes the Captain as hostage and tries to escape, but the Stranger shoots him off the horse. Before the authorities can verify that Montero is dead, the Stranger claims the body for the handsome reward he will receive and he rides out with the Captain's gracious thanks. No sooner have they left the fort than Montero's men show up to rescue him from the Stranger. From this point on, the Stranger, Montero, and Clayton forge short-lived alliances among each other as they search for the gold. Castellari and scenarist Tito Carpi, who has penned a number of spaghetti westerns such as \"A Few Dollars For Django\" and another Castellari oater \"Seven Winchesters for a Massacre,\" rely on clever humor and surprise reversals to keep the action fresh and fast-paced. One cool scene has Clayton seated at a table about to eat his meal when he hears some suspicious sounds from behind him. Clayton pours his drink on the table and sees the gunmen behind him with holstered six-guns.<br /><br />\"Any Gun Can Play\" lives up to its title. In fact, many guns do play, and at least twenty or more corpses pile up before fade-out. This western isn't so much a parody as it is a knock-off of Sergio Leone's \"The Good, the Bad, and the Ugly.\" Mind you, bad guys and good guys fall as frequently as ten-pins in a bowling alley, but their deaths aren't depicted in the brutal fashion of a Leone western. \"Any Gun Can Play\" doesn't take itself as seriously as the aforementioned Leone masterpiece. The three leads jockey back and forth for supremacy. Each has a piece of the puzzle that will lead them to the treasure, but they refuse to share their information until the shoot'em up finale. Lenser Giovanni Bergamini's colorful widescreen photography is spectacular, especially the opening shots of the train chuffing along railway tracks with distant mountain peaks rearing up dramatically in the background. Another great shot occurs when Montero tests the Stranger's imperturbable calm. This scene happens after the Stranger has rescued Montero and the Mexican's minions arrive to save their chieftain's bacon. Confiscating the Stranger's six-gun, Montero takes aim at the poncho-clad tough guy and empties the revolver, placing his well-aimed bullets harmlessly in and around the unflinching gunslinger. Bergamini, who photographed Castellari's World War II thriller \"Inglorious Bastards,\" frames the scene with the Stranger in the background and his pistol in Montero's hand in the foreground for a pleasing, three-dimensional style shot. Meanwhile, Francesco De Masi's lively orchestral soundtrack is as memorable for its own idiosyncratic melodies as Ennio Morricone's soundtracks were for the Leone westerns. The opening song is reminiscent of a 1950's Hollywood western with its catchy lyrics and guitar riffs. Although it isn't a major spaghetti western, \"Any Gun Can Play\" is always entertaining nonsense with interesting plot twists and good performances, especially the indefatigable Gilbert Roland who was 62 years old at the time!\n",
      "Sentiment:\n"
     ]
    },
    {
     "name": "stderr",
     "output_type": "stream",
     "text": [
      "528it [11:08,  2.12s/it]"
     ]
    },
    {
     "name": "stdout",
     "output_type": "stream",
     "text": [
      "Prompt is too long >1024 (Max Length), prompt: So many people loved this movie, yet there are a few of us IMDb reviewers who found Mirrormask excruciatingly uncomfortable to watch and arse-clenchingly boring. I fall into the latter of these two camps, and I will try to explain what it was that made my toenails curl so unpleasantly.<br /><br />Firstly, to set the record straight - I like Neil Gaiman's books. I sometimes find his knowing, sarcastic, 'wry asides' humour a little geeky, and I actually prefer his work when he is playing it straight and leaving the jokes alone - but, even with his occasional lapses into crap 'dad' gags, I find his creativity and imagination to be something a bit special.<br /><br />Interestingly, one of Gaiman's strongest works is Coraline, a Gothic fairy story for kids that is very low on jokes and high on tension and creepiness. His latest novel (Anansi Boys) overdoes the funnies, and tends to read at times like Terry Pratchett does the Sisters of Mercy (not the nuns but the band). Mirrormask inhabits similar territory to Coraline, and when I saw the stunning visuals in the trailer, I got a bit excited that somebody had managed to transfer Gaiman's spectacular vision and imagination to the screen.<br /><br />In praise of the film, some sequences do look stunning. However, the visual effects are occasionally ruined by CGI animation that looks like a Media Studies student project. Backgrounds and scenery are often incredible, but some of the character animation looks clumsy, amateur and cheap. In an early dream sequence, the spider is animated beautifully, but the book-eating cat-beast looks poorly rendered and very 'computer generated'. Compared with the standard of animation found in productions such as 'The Corpse Bride', Mirrormask occasionally looks very amateur indeed. However, in Mirrormask's defence, the budget was tiny for such a grand vision, and a few creaks in the effects can be understood and forgiven.<br /><br />What cannot be forgiven is the stilted, stagy, cringeworthy and pretentious dialogue. The actors struggle desperately with the dialogue - and there is so much of it that they are constantly hampered and stumbling over it. Conversation is rendered completely unnatural, the jokes fall flat time and time again, and the turgid speeches appear to be the writer's only method of plot exposition. Combined with the fact that the actors are working against a blue screen (which always adds an element of 'Phantom Menace') - this renders the film almost unwatchable. In such an unreal setting the actors need to work twice as hard to be believed, and in the main they fail terribly. The girl who plays the lead role puts in a valiant struggle against the impossible stage-school dialogue, and occasionally shows real promise, but it is never enough. The god-awful cod-'Oirish' of the Valentine character (with whom she is forced to spend an inordinate amount of screen time) puts paid to any chance of this young actress rising above the material. It appears to be Valentine's job to explain the plot to younger viewers, and to add a bit of light relief. Personally, I wouldn't want him anywhere near my 15 year old daughter.<br /><br />What else is wrong with this film? Answer....Rob Brydon. What's annoying (for us Brits, anyway) is we know Rob Brydon can act! We've seen him hold the screen for half-an-hour on his own (doing those 'Marion & Geoff' monologues), and in the first 'real world' bit of the film he is fine. However, stick him in front of a blue screen and he loses all sense of character and turns into the worst am-dram-ham I've seen in years. A real shame.<br /><br />What else is wrong? Answer... the wanky slap-bassing, sub-Courtney Pine saxing and unlistenable, too-high-in-the-mix soundtrack that never shuts up. God, the music is incessant, loud, distracting, irrelevant and, if that isn't enough, has wanky slap bass wanking all over it. It makes the dialogue very hard to hear, but that could be a blessing in disguise.<br /><br />What else is wrong with it? Answer.... The whistling mime artist. In modern society there should be no place for mime, apart from certain secret places in France. Every moment the camera lingers on the gurning, whistling, moss-juggling, yogurt-weaving idiot, I understand why the Edinburgh locals get a bit anxious and fractious when Festival time comes round again.<br /><br />My final criticism is that the film is pretty dull. Surrealism often is dull  it either requires its audience to slip into a dreamlike, Zen, accepting state, or for the audience be constantly wowed by bigger and grander surprises. A story with a bit of pace involving characters that we could believe in and care about would have gone a long way to giving this film the emotional centre that it sadly lacked, whilst stopping the eyelids from drooping.<br /><br />Finally, apologies to all those who found depth, meaning and wonder in this film. You have managed to suspend your disbelief, you have seen past the creaky CGI, ignored the crappy dialogue and the abysmal performances that resulted, and understood the maker's grand, imaginative vision. I wanted to, but I couldn't see past the real-world failings that dragged it down.<br /><br />I hope Neil Gaiman gets it right next time, if he gets (or even wants) the opportunity.\n",
      "Sentiment:\n"
     ]
    },
    {
     "name": "stderr",
     "output_type": "stream",
     "text": [
      "597it [11:39,  2.23it/s]"
     ]
    },
    {
     "name": "stdout",
     "output_type": "stream",
     "text": [
      "Prompt is too long >1024 (Max Length), prompt: I would like to make it very clear that I am not at all religious. I am an atheist but I could see that Richard Dorkins was contradicting himself over and over again. I would also like to make it known that I am not the sort of person that argues against something with philosophy all the time, but I feel that when comparing science and religion we must be philosophical and be willing to question the belief in main stream science as well as questioning religious beliefs.<br /><br />I wonder if Richard Dorkins ever spends any time to think philosophically about belief, anyone who thinks long and hard enough about science and religion will realise that science is indeed a religion in itself. Yes there is a fundamental difference between the way that scientific beliefs are held when compared with other religions, but at it's roots, it's faith in a particular human instinct.<br /><br />Throughout this series, Richard insists that science methods are the only right way of thinking and that it makes sense to believe in something only if the evidence for it is strong enough. If you dig deep enough into how science functions you'll realise that it is just as irrational as religion and that it comes down to faith in the end, faith in the evidence, faith in our sanity, faith in our senses but more than anything else faith in our instinct to follow patterns of recurrence.<br /><br />This is not easy to explain but think about how the laws of physics were decided, it was because they were and still are the most common patterns of recurrence that we are aware of. I think that human beings have an instinct that makes them believe that the longer something remains in a certain state or place of existence the more we just assume out of blind FAITH that it is more likely to stay like it. For example, we don't expect that gravity will suddenly work in reverse tomorrow, by this I mean pushing matter away as supposed to attracting it. But the only reason why we don't expect this sudden change is because we have known for so long that it has always attracted as far as we are aware. However that doesn't mean that it couldn't do exactly the reverse tomorrow or even right now. It doesn't matter how long something may stay in a certain state or change, there is no rational reason to make assumptions about it but we do out of instinct. I would ask you to consider what is a long and short amount of time? There is no such thing, I don't know exactly how long it took for these supposed wise men to decide that everything must be made out of matter, Sound, Light, etc but lets give them what they would consider to be an edge way! Lets say far longer than it really was 12,00000000000 years! Is that a long period of time? 99999999999999999 years makes 12,00000000000 years seem like an incredibly short period of time. For all we know there could be an extreme amount of change in the so called laws of science within the next trillion years. It's all about comparison, only when we compare things can we say \"that is long\" or that is short. It's the same with big and small, wide and thin, heavy and light, strong and weak and others.<br /><br />I doubt that any scientist could tell me why they think that trusting this instinct makes sense. I certainly don't see why it should, but that doesn't mean that we as humanity should necessarily stop using it. With this in mind, the most hypocritical comment that Richard Dorkins made was when he said that faith is irrational, \"a process of non thinking\" he said. If what we have in this instinct that I've been describing and this instinct that we all possess on some level isn't faith then I don't know what the hell it is. Other times when he is being hypocritical is when he talks about the religions being bronze age, \"bronze age myths\" he says. I would like to point out that no matter how much scientific methods have been changed over the years due to experience, experiments and evaluating, the pure rules of science are getting older and older all the time! They could even be described as the holy bible of science. He was going on about how he is sick of the different religions being stubborn \" I am right, he is wrong\" but looking back on how rude he was to the various interviewees, he seems to be just as stubborn him self. To be fair to him, at least he doesn't try to bomb religious communities. I appreciate his hatred for certain religious beliefs that generate war, but I don't respect his arrogance in his own beliefs.<br /><br />As far as I'm concerned, Richard has the right to believe in science if that is his way. I am scientifically minded as well, but I don't think he has the right to go up to religious leaders having unfriendly arguments, trying to force his opinion on to them and virtually describing them as stupid. Despite all his education, experience and discoveries he seems to fail to have the wisdom to properly question his very own system of belief. I have read what he says in defence of this argument that open minded atheists such as my self put forward, What he states suggests to me that he is totally missing the point.<br /><br />Finally the title of the documentary, Root Of All Evil. This states that religion is the root of all evil, it isn't true. There are causes of evil that have nothing to do with religion.<br /><br />All round the documentary series was frustrating, narrow minded, hypocritical and flat-out rubbish.\n",
      "Sentiment:\n"
     ]
    },
    {
     "name": "stderr",
     "output_type": "stream",
     "text": [
      "682it [12:17,  2.17it/s]"
     ]
    },
    {
     "name": "stdout",
     "output_type": "stream",
     "text": [
      "Prompt is too long >1024 (Max Length), prompt: \"Jefferson in Paris\" is a truly confounding film. It presents Thomas Jefferson (Nick Nolte) in the most unflattering light possible, painting him as a liar, racist and pedophile, yet offers not a shred of condemnation for those sins. This is the way he was, the film seems to say. End of sentence, end of movie, the door's behind you.<br /><br />After arriving in Paris with his daughter Patsy (Gwenyth Paltrow), Jefferson proceeds to win the heart of Maria Cosway (Greta Scacchi), the wife of a homosexual English painter (the criminally underused Simon Callow). A turn of events sends Maria to England, however, and Jefferson proceeds to forget her with astonishing speed for a man who, mere minutes of screen time before, was asking her to live with him in America.<br /><br />He's been bewitched, you see, by Sally Hemmings (Thandie Newton), one of his slaves just arrived from America. Just why he's bewitched is hard to tell--although Sally is undeniably beautiful, she acts like a simple-minded child in front of Jefferson. When she isn't telling ghost stories in exaggerated \"darky\" speech patterns, she's slinking around his bedroom, practically oozing lust for her distinguished massa.<br /><br />If her behavior is an attempt to excuse Jefferson's, it doesn't work. Jefferson damns himself further when Maria, tired of waiting for his letters, travels from England to see him. I've not changed toward you, he insists, offering weak excuses for not writing. To her credit, Maria sees through his brazen lies immediately. When Sally appears, and she and Jefferson flirt openly (and cruelly, to my mind) in Maria's very presence, the illusion falls apart completely.<br /><br />No one today believes that Jefferson, Washington and the rest were utter paragons of virtue and morality. Yet, are we supposed to believe that the learned, distinguished Jefferson would be attracted to Sally, a woman whose most intelligent conversation is about how \"massa's Frenchie friends don' unnastan' aw corn\" and who rubs herself against his front as she passes, right before Maria's eyes?<br /><br />Even if we let that slide, it's followed by the horrifying revelation that Sally was only 15 when this affair took place (Jefferson was 41). Strangely, this fact comes out only toward the very end, when Sally's brother James is understandbly furious at her blase announcement that she is carrying Jefferson's child.<br /><br />Jefferson is equally blase when told that Sally is carrying his child, and patronizingly tells her that she'd be far better off under his protection than free and living in France with her brother. But, he promises, I'll free her when I die and our children (including any more that come, Jefferson says, in a chilling declaration of Sally as *his*) when they reach 21. Oh thank you, massa, you feel like telling the screen. Big deal.<br /><br />The worst scene is still to come, however, involving Jefferson's daughter Patsy. She is already angry at him, first for breaking his vow, made to her mother on her deathbed, not to marry again. (Obviously the woman wasn't just talking about matrimony.) Jefferson has also refused to allow Patsy to become a nun as she wishes, despite earlier moralizing about freedom of religion (that seems to mean freedom to agree with him).<br /><br />Having promised Sally and her brother their freedom, Jefferson calls in Patsy to witness the bargain and promise to fulfill it should anything happen to him. Sally's brother blurts out the impending birth of the child, and Jefferson asks, \"do you swear?\" Paltrow's performance in this scene is brilliant, although she has almost nothing to say. Her face nearly contorts in agonizing pain at this revelation, yet she controls her grief and whispers yes.<br /><br />If anything, and the filmmakers could have had something if they'd emphasized this point more, \"Jefferson in Paris\" is an indication of the status of woman in the late 18th century, viewed even by men like Jefferson as attractive property, pleasing but without true intellect or souls. We see Jefferson shed a few tears over a letter from Maria, obviously telling him where to get off, but he's soon laughing away at a wild dance from Sally, complete with tossed hair and heaving bosom.<br /><br />I don't know whether this is an accurate portrait of Jefferson or not. I don't care to watch it, however, just for the sake of watching it. This Jefferson is no hero or even an anti-hero. He's a selfish, lying child-molestor--and one who gets away with it--not the kind of man I want to see a movie about.\n",
      "Sentiment:\n"
     ]
    },
    {
     "name": "stderr",
     "output_type": "stream",
     "text": [
      "784it [13:03,  2.19it/s]"
     ]
    },
    {
     "name": "stdout",
     "output_type": "stream",
     "text": [
      "Prompt is too long >1024 (Max Length), prompt: The Polar Express. Director Robert Zemeckis, I love Back to the Future, Forrest Gump, Contact, and Who Framed Roger Rabbit (NO QUESTION MARK AFTER THAT MOVIE TITLE!!). And Tom Hanks, one of my favorite actors. The reviews of this movie were almost unanimous saying that this is an instant holiday classic. Ebert & Roeper give it two ENTHUSIASTIC thumbs up! Even Ebert's written review gave it a full four stars! Wow... OK... this I gotta see! But wait... the motion capture used looks really weird. Hmm... maybe I'm NOT so interested in seeing this anymore.<br /><br />\"Well, you comin?\" says the train conductor to the boy in The Polar Express. The boy is reluctant at first, and the train begins on its course without him. The boy soon changes his mind and jumps aboard just in the nick of time. <br /><br />Now, most of you have probably decided to not jump aboard this train and wait for the TV Train or Rental Express (hee hee, I'm so witty and clever). I, on the other hand was like the boy who was skeptical at first, but jumped on to see what the fuss was all about. <br /><br />I just wasted $10 and two hours of my life. <br /><br />I can't even begin to explain the pain in my stomach. The Polar Express was so painful to sit through it's not even funny. There's no story. There's no pay off. You sit there through these series of events and you wonder \"is there any point to all this?\" It'd be one thing if the scenes were entertaining... but they're not.<br /><br />This movie is void of any emotion, any soul, any ounce of plausibility, and most of all: any fun. This movie is NOT FUN. <br /><br />And let's talk about the way these characters look for a second. Saying that it's the same technology (motion, I'm sorry, \"PERFORMANCE\" capture) used to make Gollum is a real shame because Gollum was Believable!!! Photo-realism just does not translate well in this medium. You're using animation, why not design the characters to be more expressive? Or why not just film it all with real actors? They certainly COULD have. We as people know all too well how we walk, talk, interact with things. Seeing it on the screen done unconvincingly is not impressive. Caricatures done convincingly is all the more believable, as The Incredibles has proved. The result of The Polar Express now is as if they took corpses of dead children and turned them into puppets. They're moving and talking, but where's the heart? Where's the soul? That's what we're seeing on the screen. UGH UGH UGH UGH UGH! This movie is so horrible! <br /><br />There's a scene early in the movie where the boy takes a girl's train ticket from her seat because she got up and left it. He wants to give it to her but you sit there going \"why??!\" Just leave it.. she's coming back! He of course loses the ticket and \"adventure\" ensues. And then there's a boy who's stuck in the back of the train all the time, and they bring him hot chocolate, but he can't come up and join the rest of the kids? And then there's this annoying \"know it all\" kid with the voice of a 35 year old. It's all so very disturbing. <br /><br />Oh and there's songs! One girl goes into the back of the train where the lonely kid is. He's singing a song to himself. And then she interrupts and joins in! They end the song as they're holding hands, looking into each others eyes as if they were lovers. Very awkward. I won't even go into details about the song about serving hot chocolate while waiters dance around the train. \"keep it hot keep it hot!\" The one scene where Tom Hanks slides on his knees with his arms stretched up in the air has to be one of the most memorably BAD scenes in the history of bad scenes. <br /><br />I have to stop now or I'll just kill myself. I need to watch something crappy to cleanse the palette. Yes... crappy is better than The Polar Express. <br /><br />\"The one thing about trains, it doesn't matter where you're going, what matters is deciding to get on.\"<br /><br />Don't get on this one. For the love of God, I have decided for you! This is just another film taken from a children's book stretched incredibly thin into movie form. It happened with the Grinch and The Cat in the Hat and those were horrible also. But who can blame them? I bet if I took the book, The Berenstein Bears' Too Much Junk Food, and turned that into a feature film, it'd probably be pretty dull also. But at least... there'd be a story and a point, which is what The Polar Express is so lacking of.\n",
      "Sentiment:\n"
     ]
    },
    {
     "name": "stderr",
     "output_type": "stream",
     "text": [
      "794it [13:08,  2.20it/s]"
     ]
    },
    {
     "name": "stdout",
     "output_type": "stream",
     "text": [
      "Prompt is too long >1024 (Max Length), prompt: Hearkening back to those \"Good Old Days\" of 1971, we can vividly recall when we were treated with a whole Season of Charles Chaplin at the Cinema. That's what the promotional guy called it when we saw him on somebody's old talk show. (We can't recall just whose it was; either MERV GRIFFIN or WOODY WOODBURY, one or the other!) The guest talked about Sir Charles' career and how his films had been out of circulation ever since the 1952 exclusion of the former \"Little Tramp' from Los Estados Unidos on the grounds of his being an \"undesirable Alien\". (No Schultz, he's NOT from another Planet!) <br /><br />CHARLIE had been deemed to be a 'subversive' due to his interest and open inquiry into various Political and Economic Systems. Everything from the Anarchist movement from the '20s (and before), the Technocracy craze to Socialism in its various forms were fair game for discussion at Chaplin's Hollywood parties; which of course meant the inclusion of the Soviet style, which we commonly call Communism.<br /><br />COMPOUNDING Mr. Chaplin's predicament was both confounded by one little detail. He had never become an American Citizen.<br /><br />ANYHOW, enough of this background already! <br /><br />SUFFICE it to say that he had become 'Persona Non Gratis' in the United States of America. .It was high time to get the old films out of the mothballs and back out to the Movie Houses. It'd sure be a great gesture by us easily forgiving and quickly forgetting Americanos.<br /><br />IT would be a fine gesture to the great film making artist; besides, the Academy of Motion Pictures Arts & Sciences was planning to honor Chaplin with a special tribute at the 1972 Oscar Show. This would surely be a tearful yet joyous packaging of pathos a plenty for having America invite Charlie back and have him come and receive a special Academy Lifetime Achievement Award in front of a World-wide Television Audience numbering in the Millions. <br /><br />BESIDES, that would be a natural for promoting the Chaplin Season at the Theatre! (Remember, the Little Tramp was as astute as a Bu$ine$$ Man as he was as a Film Maker!) THE program consisted of showings of MODERN TIMES, CITY LIGHTS, THE GREAT DICTATOR, MONSEUR VERDOUX, A KING IN NEW YORK and finally THE CHAPLIN REVUE. We remember being very excited in the anticipation of the multi date film fest.<br /><br />IN our fair city of Chicago, it was booked for the Carnegie Theatre on Rush Street. The festivities lead off with MODERN TIMES and all of the others would be shown one at a time, each staying for whatever period was necessary in order to satisfy the public's desire to view each picture. As we recall, the very last on the schedule was THE CHAPLIN REVUE.<br /><br />IN RETROSPECT, we look back and wish that they had begun the run with REVUE; as there were undoubtedly legions of moviegoers (much like ourselves) who knew very little about his accomplishments in motion pictures, except for those Keystone, Essanay and Mutual Silent Shorts that were being shown as regular feature on so, so many Kiddy Shows all over the country. Oh well, once again, no one consulted me!<br /><br />CONCENTRATING on today's honored guest film, THE CHAPLIN REVUE, we found that it was actually three separate pictures; carefully bound together by the use of narration by Chaplin (Himself), some lively Themes and Incidental Music (once again written by Chaplin) and some happy talk and serious narration (Ditto, by Chaplin.) He opens up the proceedings by making use of some home movie-type of film depicting the construction of the Chaplin Studio in Hollywood, as well as some film taken of some rehearsal time, showing Director Chaplin demonstrating just what he wants to a group of actors.<br /><br />THIS segment was well done and well received by the audience. Both the building humor and the rehearsal were amplified by making them seem accelerated. (The rehearsal naturally, the building by use of speeding up the camera's photographic process. The old trick makes it appear that the buildings were almost building themselves.<br /><br />THIS amalgam of shorts incorporated three of Chaplin's short comedies from his stint with First National Pictures.; roughly that being 1917 to 1923. The choice was well thought out and gave us a wide variety of subject matter and mood.<br /><br />FIRST up was SHOULDER ARMS (Charles Chaplin Productions/First National Pictures, 1918). As the title suggests, it is a tale of World War I. Released in October of 1918 with about a month to go before the Armistice Day of November 11, it was a comedy of comical Army gags and a romance between Private Chaplin and a French Girl (Miss Edna Purviance). The levity is fast, physical and in the grand old tradition of ridiculing the Enemy, the German Army.<br /><br />DISPLAYING an excellent example of the old adage about Children and Dogs bringing folks together, the next film A DOG'S LIFE (Chaplin Productions/First National, 1918) traces the parallel lives of Chaplin's Tramp and a newly adopted stray, Scraps. The movie story involves families, two of them. One Homo Sapiens, one Canine and both supplying us with some big surprises.<br /><br />AS the finale, we have THE PILGRIM (Chaplin/First National, 1923) was a good choice to have as the finale. It was bright, light and tight. It was an excursion into the area of the Western Spoof, Comedies of such type having been done since by every comedian and team. The \"Pilgrim\" in the story is not of your standard Thanksgiving Variety; but rather a \"dude\" or \"Tenderfoot\", who has ventured out West. The Tramp is not only that guy; but his character is an escaped Convict who is mistakenly thought to be the new Clergyman of a Western town's Church!<br /><br />OUR Rating (that is Schultz and Me) is ****. (That's Four Derbies)<br /><br />POODLE SCHNITZ!!\n",
      "Sentiment:\n"
     ]
    },
    {
     "name": "stderr",
     "output_type": "stream",
     "text": [
      "834it [13:25,  2.19it/s]"
     ]
    },
    {
     "name": "stdout",
     "output_type": "stream",
     "text": [
      "Prompt is too long >1024 (Max Length), prompt: When I typed Savage Intruder into the IMDb's search engine one of the options it came up with was Savage Garden: International Video Collection: The Story so Far (1999), the only reason I mention this is because I'm a huge Savage Garden fan & you should do yourself a favour & check some of their music out like Affirmation or To the Moon and Back rather than bother with this average pot-boiler, sorry I just wanted to say that. Anyway, Savage Intruder starts with a bizarre montage of what looks like MGM musical & premiere footage & a few spinning portraits which have no meaning whatsoever in the long run. It's late 60's Hollywood & amid the glitz & glamour a serial killer is at work selecting ageing actresses, killing them & dismembering their bodies. A young man named Vic Valance (David Garfield as John David Garfield) hops off a tour bus looking for employment when it stops at the house of a now retired actress, Katharine Parker (Miriam Hopkins) who was 'one of the biggest stars of the motion picture' but now lives in a big house with an elderly housekeeper named Mildred (Florence Lake), a personal secretary Leslie Blair (Gale Sondergaard) & a young maid named Geta (Virginia Wing). Katharine has recently broken her foot & needs a personal assistant & gives Vic the job. Slowly Vic charms his way into Katharine's affections & more importantly her large wallet. Vic starts to turn Katharine against the other employees, but Vic isn't what he seems. Vic is a drug addicted loon who gets Greta pregnant while still having sex with Katharine. Greta threatens to tell Katharine & spoil Vic's devious plans but she has a close encounter with an axe, no one in the house is safe as Vic brings drugs, sex, rock 'n' roll party's & gardening to the Parker mansion while his sinister plan starts to become more & more apparent...<br /><br />Written, produced & directed by Donald Wolfe I thought Savage Intruder was a bit of a mess but a mildly entertaining one at the same time. The script is all over the place & it can't really decide what it wants to be, Savage Intruder suffers from an identity crisis! The film starts with the discovery of a severed head & limbs, straight after another woman (Dorothy Kingston) is killed by a mysterious unidentified figure but then it completely ditches the slasher film elements that it has just built up never going back to them. Savage Intruder then becomes a sort of feel good film as Vic befriends Katharine & shows her how to enjoy life again & having an implied sexual relationship with her, it's actually disgusting to think about as she's old enough to be his Grandmother. Katharine stops living the life of a recluse & gives up the alcohol as Vic appears to make her happy as they go to party's together & hold banquets for Katharine's friend like she used too. This part of Savage Intruder wouldn't look out of place in a Disney film! Every so often the tedium of the feel good stuff is interrupted by Vic shooting up & having silly hallucinations about his Mother (Sybelle Guardino) & chopping her hand off with an axe, he has sex with Great at one point as well. Then, after Greta has been murdered, Savage Intruder becomes a bizarre horror film as Vic is revealed for the loony that he is. Savage Intruder just doesn't flow properly as a film in my opinion as it mixes various genres with little success. Similarly the murder mystery elements don't work & are frankly a bit of a puzzle, why go to great lengths to conceal the killers identity during the murder scenes but then make it perfectly clear who is committing them throughout the rest of the film anyway? Vic as a character didn't work for me either, one moment he's a cool, calm, clever & devious con man & then next he's a stark raving loony! Why kill all his other victims but with Katharine try to con her? What makes her so different? If it is because she has money why not go after her to start with? So many questions & so few answers... Some of the 60's dialogue is pretty funny to listen to these days like when Vic offers Greta a painkiller, in reality hard drugs, & Greta says \"what do I need a painkiller for?\", Vic helpfully replies \"because your a pain\" wow this guy knows how to charm the ladies! Or when Katharine suggests that Vic do some gardening & ask's \"do you have green fingers?\" he replies \"no, but I'm good at grass!\" There isn't much gore in Savage Intruder, some severed limbs & a couple of decapitated heads. There is also a fairly impressive shot when someone has their hand cut off with an axe which is probably why it's repeated three or four times. The silly looking drug hallucination scenes need to be seen to be believed. Technically Savage Intruder is OK, the location filming in the grandiose mansion & Hollywood hills probably give it a better look than it deserves, the acting is average as is the rest of the production. Overall I'd say Savage Intruder feels like it tries to be a murder mystery that unfortunately gives the killer away & as a result just doesn't work. It's a mildly entertaining one-time-watch at best & a complete mess of a film at worse, you decide which!\n",
      "Sentiment:\n"
     ]
    },
    {
     "name": "stderr",
     "output_type": "stream",
     "text": [
      "910it [14:00,  2.15it/s]"
     ]
    },
    {
     "name": "stdout",
     "output_type": "stream",
     "text": [
      "Prompt is too long >1024 (Max Length), prompt: Renee Zellweger is a Kansas housewife whose domineering husband is mixed up in drug trafficking. Two professional hit men -- Morgan Freeman and his son, Chris Rock, murder the husband in his dining room. Zellweger, unobserved by the killers, witnesses this and undergoes a dissociative reaction, assuming the personality of a nurse -- the eponymous Betty -- who is a character in her favorite soap opera. Believing herself to be the TV character, Zellweger takes off in her husband's car, which has a load of dope in the trunk, and travels to LA where she hopes to link up with another character in this mindless afternoon drama, \"Dr. David Ravell\", Greg Kinnear. Not realizing she is being pursued by the two hit men, she drives to LA where she manages to link up with Kinnear and is actually written into the show as a nurse named Betty. A handful of men in the know, including the local sheriff, catch on to what's happening and also seek Zellweger in LA. The ending is believable and poignant.<br /><br />If that sounds crazy, it's because it is. And it's the writer's responsibility, John C. Richards. The curious thing is that Richards and the director, Neil Labute, with considerable help from the performers, just about pull it all off. This isn't a plot that has been cast in a familiar mold. Nope. I give it bonus points for sheer originality. Somebody went out on a limb. Somebody took a chance on a movie that was NOT a copy or remake of something that had made money ten years or fifty years ago. I imagine the people involved, down on their knees every night, praying fervently. I don't know if the film was remunerative but it's mostly successful on its own aesthetic terms.<br /><br />It's what might be called an \"initial premise\" movie. You start off with a single transformative event, in this case the murder of Zellweger's husband and her adoption of a genuinely new personality, and follow the resultant logical paths realistically. \"Groundhog Day\" is another, better and more intricately plotted, example. \"Nurse Betty\" has its logical cracks, where the incidents give up their plausibility. Eg., at a party in LA, Zellweger finally runs into Kinnear, the guy who plays her ex-fiancé on TV. She's stunned (because, after all, she thinks she's Betty, who lost her fiancé long ago). She approaches Kinnear and a couple of his colleagues and introduces herself as \"Nurse Betty\", the character. She addresses Kinnear by the name of his TV character, \"David Ravell.\" The group are puzzled at first, then convince themselves that she's an aspiring actress who insists on staying \"in character\" during the conversation -- and afterward, too, after Kinnear has become fascinated by her and the others bored. Kinnear drives her home and even when she kisses him goodnight, she's still in character, leaving Kinnear wide-eyed with astonishment at the relentless way she captures the character of Betty. On the next date, Kinnear returns her love. That development, the relationship between Zellweger and Kinnear at this point, is a crack in the logic, the kind that's absent from \"Groundhog Day.\" By the end of Night One, Kinnear, like any other person, would realize that Zellweger is a few clowns short of a circus.<br /><br />The rest of the film, which includes many digressions, succeeds beyond expectations. The relationship between Morgan Freeman and his insolent, nihilistic son is marvelously spelled out. Morgan is flawless in his exasperation. He manages to fall in love with the image of Zellweger as he unearths clues to her whereabouts and activities, and at the end he can't bring himself to shoot her. She's too sweet to shoot. After her transformation into Betty, she left a note behind in Kansas. \"I want to help all life, whether it be animal, plant, or mineral.\" Who could harm the author of such a preposterous connative statement? His admiration of her comes as an epiphany, as he stands near one of the floodlights at the rim of the Grand Canyon. Zellweger, dressed as Dorothy, or maybe the Good Witch of the East -- well, characters that, like Zellweger, are from Kansas anyway -- appears to Freeman and he embraces her and kisses her tenderly. It's a scene that's at once eerie, romantic, and a little spooky. I once stood at one of those lights and threw some shredded paper into the updraft from the dark canyon and found myself surrounded by a thousand swirling bats who had misperceived the fluttering shreds as moths.<br /><br />Right. Where was I? Okay. I was trying not to run out of space. Zellweger's performance deserves plaudits. Everything she does, every movement, every utterance, is naive and tentative. She really IS a likable character -- and that despite the fact that she's no glamor girl by Hollywood standards. But -- what an actress. Compare her performance as the bumptious 19th-century hick in \"Cold Mountain.\" Just the opposite. But then everyone is up to snuff in this enjoyable film. Allyson Jannings does a fine job in a minor role. Watch her when she tells Greg Kinnear that she's considering killing off his character in the soap opera in a drowning accident. Kinnear is one of those narcissists who wears the kind of ten-thousand dollar thin black leather jackets that were popular at the time. He chuckles and says, \"Oh, one of those castaway deals, right? Okay, how do I get back?\" Jannings doesn't answer. She just smiles at him with those enormous blue eyes and tilts her head mockingly.<br /><br />Not a masterpiece of film-making but a good, original, professional job by everyone concerned.\n",
      "Sentiment:\n"
     ]
    },
    {
     "name": "stderr",
     "output_type": "stream",
     "text": [
      "1000it [14:40,  2.15it/s]"
     ]
    },
    {
     "name": "stdout",
     "output_type": "stream",
     "text": [
      "Prompt is too long >1024 (Max Length), prompt: This was one of the most dishonest, meaningless, and non-peaceful of the films I have ever seen. The representation of the other, of the Israelis, was racist, backward, and unfair. For one, the song played on E.S' car radio when pulled up alongside a very right-wing Israeli driver was \"I put a spell on you\" by Natacha Atlas. The song's style is quite Arabic, but it was released on an Israeli compilation CD, and I have even heard it on the radio in Israel. Many Israeli songs (as well as architecture, foods, and slang) are influenced by Arabic culture, and there is no reason an Israeli Jew would be offended or angered by a nearby car playing that song. The way E.S. appears so calm and collected with his sunglasses and cool glare, via a long, still shot, is meant to force the viewer into seeing the Jew as haggard and racist, and E.S. as noble and temperate.<br /><br />I have traveled all over Israel, and I have never seen an IDF recruitment poster, since service is mandatory. But in the film, not only is there a recruitment poster, but it depicts a stereotypical image of an Arab terrorist and the words \"want to shoot?\" This is an extremely inaccurate depiction of the mentality of the majority of Israelis as well as Israeli soldiers, and such an \"advertisement\" wouldn't even exist on a random Israeli highway. In including it, the director aims to convince the audience that Israel is a society of anti-Arab racists hell-bent on murder.<br /><br />The ninja scene was gratuitous and needlessly violent. A Hollywood-style action scene involving Israeli soldiers shooting Palestinians would be just as unwelcome in an Israeli-directed film as the ninja scene should have been. But for some reason, images of an unrealistic, non-comic, and violent scenario manage to elicit applause from the audience since the director has smeared the Israeli side so much beforehand, that any shot of Israeli soldiers being killed would be welcome. The director shows absolutely no attempt at building bridges, portraying the \"other\" as human, or working towards peace; violence is made to be the only solution. This is furthered by scenes of exploding tanks, falling guard towers, and other random acts of destruction. One of my best friends serves in the Israeli military, and the targets in firing ranges are never Arab women dressed in black, or any other quasi-civilian on canvas. Soldiers at checkpoints are instructed not to fire at the head of an approaching Palestinian unless it is clear that their own lives are in danger; the method, according to my friend, is to provide a warning shout, fire into the air or around the area, and then if all else fails, shoot in the leg and then interrogate and hospitalize. Arbitrarily targeting a woman in the head, as shown in the film, is not the proper procedure.<br /><br />Besides these inaccuracies, the directing style was also poor. Repetition became repetitious, and no longer captivating. Symbols, such as the balloon with Arafat drawn on it, are forced outside any plot structure or effective integration in the setting; the balloon is Palestine penetrating and regaining Jerusalem, and it is created for no reason by E.S. The ambulance being checked for permits by Israeli soldiers followed by subsequent Israeli ambulances flying past the checkpoint is an overly-overt claim of an Israeli double standard by the director. The attempt by the director to show life in Nazareth as dreary and pointless is done with overkill; showing the routines of random people over and over again, even with a slight change each time, and emphasizing that not one member of the cast ever smiles and is minimalist in dialogue almost screams out the purpose of such scenes, the dreariness of life, without allowing much room for personal interpretation. By contrasting one \"section\" of the movie, daily life in Nazareth, with the second section, the checkpoint between Ramallah and Israel, the director subtly blames this dreariness on Israel, but never provides any direct evidence as to why such blame can be properly argued.<br /><br />I spent hours trying to figure out why music ended abruptly and began abruptly, and why many modern fashion-show-like and metal-action tracks were included in the score. I still cannot come up with an answer. I felt that the music was out of place in this film; the contrast between more silent scenes and intense scenes was actually annoying and not affecting or thought-provoking. I can understand if the director intended for the music to provide some comic aspect to certain scenes, but I found that there was nothing comic to be found in Israeli soldiers shooting at targets or fighting a ninja, or a woman having to suffer another walk through a checkpoint, albeit defiantly. In fact, I was tempted to close my ears during intense scenes, and annoyed by the lack of a score during quiet scenes. Whatever the director's intent, it provided only an audial displeasure throughout the film.<br /><br />This film has no legitimate political message because it provides an inaccurate and extreme representation of the other, and neglects to actually address any issues. It is a propaganda film, because the director intends various symbols, styles, and scenes to draw sympathy for the Palestinian side, while displaying the Israeli side as cruel and inhuman without exception; the vibrant atmosphere of an action-packed Hollywood scene or of intense music is displayed in every act of violence by Palestinians against Israelis, such that the almost inevitably positive and thrilled feelings the music and cinematography elicit from the audience are directed to one side. There is no thought, reflection, or deepening of the understanding of the conflict by the audience; emotions are simply pulled to one side, and kept there, in a \"good vs bad\" cliché scenario. I believe this film lacked the depth, quality, and power of other Palestinian films, such as \"Paradise Now\" and \"Wedding in the Galilee.\"\n",
      "Sentiment:\n"
     ]
    },
    {
     "name": "stderr",
     "output_type": "stream",
     "text": [
      "1013it [14:46,  1.14it/s]\n"
     ]
    }
   ],
   "source": [
    "from tqdm import tqdm\n",
    "\n",
    "y_true = []\n",
    "y_pred = []\n",
    "for i, sample in tqdm(enumerate(test_ds_iter)):\n",
    "    parts = sample[0].numpy().decode(\"utf-8\").split(SEPARATOR.strip())\n",
    "    query = parts[0] + SEPARATOR.strip()\n",
    "\n",
    "    response_text = llm.generate(query, max_length=MAX_SEQ_LENGTH, verbose=False)\n",
    "    response_text = response_text.numpy().decode(\"utf-8\")\n",
    "    if len(response_text) > 0:\n",
    "        y_true.append(parts[1])\n",
    "        y_pred.append(response_text)\n",
    "\n",
    "    if len(y_pred) >= 1000:\n",
    "        break"
   ]
  },
  {
   "cell_type": "code",
   "execution_count": 18,
   "metadata": {},
   "outputs": [
    {
     "data": {
      "text/plain": [
       "0.942"
      ]
     },
     "execution_count": 18,
     "metadata": {},
     "output_type": "execute_result"
    }
   ],
   "source": [
    "import numpy as np\n",
    "(np.array(y_true) == np.array(y_pred)).mean()"
   ]
  },
  {
   "cell_type": "code",
   "execution_count": 24,
   "metadata": {},
   "outputs": [
    {
     "data": {
      "text/plain": [
       "0.944"
      ]
     },
     "execution_count": 24,
     "metadata": {},
     "output_type": "execute_result"
    }
   ],
   "source": [
    "(np.array([\"Positive\" in y for y in y_true]) == np.array([\"Positive\" in y for y in y_pred])).mean()"
   ]
  },
  {
   "cell_type": "code",
   "execution_count": null,
   "metadata": {},
   "outputs": [],
   "source": []
  }
 ],
 "metadata": {
  "kernelspec": {
   "display_name": "ml3.11",
   "language": "python",
   "name": "python3"
  },
  "language_info": {
   "codemirror_mode": {
    "name": "ipython",
    "version": 3
   },
   "file_extension": ".py",
   "mimetype": "text/x-python",
   "name": "python",
   "nbconvert_exporter": "python",
   "pygments_lexer": "ipython3",
   "version": "3.11.9"
  }
 },
 "nbformat": 4,
 "nbformat_minor": 2
}
